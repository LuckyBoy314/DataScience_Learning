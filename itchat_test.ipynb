{
 "cells": [
  {
   "cell_type": "code",
   "execution_count": 1,
   "metadata": {},
   "outputs": [
    {
     "name": "stdout",
     "output_type": "stream",
     "text": []
    }
   ],
   "source": [
    "import itchat"
   ]
  },
  {
   "cell_type": "code",
   "execution_count": 2,
   "metadata": {},
   "outputs": [
    {
     "name": "stderr",
     "output_type": "stream",
     "text": [
      "Getting uuid of QR code.\n",
      "Downloading QR code.\n",
      "Please scan the QR code to log in.\n",
      "Please press confirm on your phone.\n",
      "Loading the contact, this may take a little while.\n",
      "Login successfully as 能豆子\n"
     ]
    }
   ],
   "source": [
    "itchat.auto_login()"
   ]
  },
  {
   "cell_type": "code",
   "execution_count": 3,
   "metadata": {},
   "outputs": [],
   "source": [
    "r = itchat.search_friends()"
   ]
  },
  {
   "cell_type": "code",
   "execution_count": 4,
   "metadata": {},
   "outputs": [
    {
     "data": {
      "text/plain": [
       "<User: {'MemberList': <ContactList: []>, 'UserName': '@387f517cdc9760c59dd9233a658523f9d71e6ccf0727b181990629c834973453', 'City': '扬州', 'DisplayName': '', 'PYQuanPin': 'nengdouzi', 'RemarkPYInitial': '', 'Province': '江苏', 'KeyWord': '', 'RemarkName': '', 'PYInitial': 'NDZ', 'EncryChatRoomId': '', 'Alias': '', 'Signature': '', 'NickName': '能豆子', 'RemarkPYQuanPin': '', 'HeadImgUrl': '/cgi-bin/mmwebwx-bin/webwxgeticon?seq=630251382&username=@387f517cdc9760c59dd9233a658523f9d71e6ccf0727b181990629c834973453&skey=@crypt_e1867483_569811a3d29b375ac035df41cda240b8', 'UniFriend': 0, 'Sex': 1, 'AppAccountFlag': 0, 'VerifyFlag': 0, 'ChatRoomId': 0, 'HideInputBarFlag': 0, 'AttrStatus': 33558207, 'SnsFlag': 17, 'MemberCount': 0, 'OwnerUin': 0, 'ContactFlag': 1, 'Uin': 2925390822, 'StarFriend': 0, 'Statues': 0, 'WebWxPluginSwitch': 0, 'HeadImgFlag': 1, 'IsOwner': 0}>"
      ]
     },
     "execution_count": 4,
     "metadata": {},
     "output_type": "execute_result"
    }
   ],
   "source": [
    "r"
   ]
  },
  {
   "cell_type": "code",
   "execution_count": 5,
   "metadata": {},
   "outputs": [
    {
     "data": {
      "text/plain": [
       "\u001b[0;31mType:\u001b[0m            User\n",
       "\u001b[0;31mString form:\u001b[0m     {'MemberList': <ContactList: []>, 'UserName': '@387f517cdc9760c59dd9233a658523f9d71e6ccf0727b1819 <...> 925390822, 'StarFriend': 0, 'Statues': 0, 'WebWxPluginSwitch': 0, 'HeadImgFlag': 1, 'IsOwner': 0}\n",
       "\u001b[0;31mLength:\u001b[0m          33\n",
       "\u001b[0;31mFile:\u001b[0m            ~/.pyenv/versions/3.6.6/lib/python3.6/site-packages/itchat/storage/templates.py\n",
       "\u001b[0;31mDocstring:\u001b[0m       <no docstring>\n",
       "\u001b[0;31mClass docstring:\u001b[0m\n",
       "dict() -> new empty dictionary\n",
       "dict(mapping) -> new dictionary initialized from a mapping object's\n",
       "    (key, value) pairs\n",
       "dict(iterable) -> new dictionary initialized as if via:\n",
       "    d = {}\n",
       "    for k, v in iterable:\n",
       "        d[k] = v\n",
       "dict(**kwargs) -> new dictionary initialized with the name=value pairs\n",
       "    in the keyword argument list.  For example:  dict(one=1, two=2)\n"
      ]
     },
     "metadata": {},
     "output_type": "display_data"
    }
   ],
   "source": [
    "r?"
   ]
  },
  {
   "cell_type": "code",
   "execution_count": 6,
   "metadata": {},
   "outputs": [],
   "source": [
    "fs = itchat.get_contact()"
   ]
  },
  {
   "cell_type": "code",
   "execution_count": 8,
   "metadata": {},
   "outputs": [],
   "source": [
    "fs = itchat.get_friends()"
   ]
  },
  {
   "cell_type": "code",
   "execution_count": 9,
   "metadata": {},
   "outputs": [
    {
     "data": {
      "text/plain": [
       "itchat.storage.templates.ContactList"
      ]
     },
     "execution_count": 9,
     "metadata": {},
     "output_type": "execute_result"
    }
   ],
   "source": [
    "type(fs)"
   ]
  },
  {
   "cell_type": "code",
   "execution_count": 10,
   "metadata": {},
   "outputs": [
    {
     "data": {
      "text/plain": [
       "292"
      ]
     },
     "execution_count": 10,
     "metadata": {},
     "output_type": "execute_result"
    }
   ],
   "source": [
    "len(fs)"
   ]
  },
  {
   "cell_type": "code",
   "execution_count": 11,
   "metadata": {},
   "outputs": [
    {
     "data": {
      "text/plain": [
       "<User: {'MemberList': <ContactList: []>, 'UserName': '@387f517cdc9760c59dd9233a658523f9d71e6ccf0727b181990629c834973453', 'City': '扬州', 'DisplayName': '', 'PYQuanPin': 'nengdouzi', 'RemarkPYInitial': '', 'Province': '江苏', 'KeyWord': '', 'RemarkName': '', 'PYInitial': 'NDZ', 'EncryChatRoomId': '', 'Alias': '', 'Signature': '', 'NickName': '能豆子', 'RemarkPYQuanPin': '', 'HeadImgUrl': '/cgi-bin/mmwebwx-bin/webwxgeticon?seq=630251382&username=@387f517cdc9760c59dd9233a658523f9d71e6ccf0727b181990629c834973453&skey=@crypt_e1867483_569811a3d29b375ac035df41cda240b8', 'UniFriend': 0, 'Sex': 1, 'AppAccountFlag': 0, 'VerifyFlag': 0, 'ChatRoomId': 0, 'HideInputBarFlag': 0, 'AttrStatus': 33558207, 'SnsFlag': 17, 'MemberCount': 0, 'OwnerUin': 0, 'ContactFlag': 1, 'Uin': 2925390822, 'StarFriend': 0, 'Statues': 0, 'WebWxPluginSwitch': 0, 'HeadImgFlag': 1, 'IsOwner': 0}>"
      ]
     },
     "execution_count": 11,
     "metadata": {},
     "output_type": "execute_result"
    }
   ],
   "source": [
    "fs[0]"
   ]
  },
  {
   "cell_type": "code",
   "execution_count": 12,
   "metadata": {},
   "outputs": [
    {
     "data": {
      "text/plain": [
       "itchat.storage.templates.User"
      ]
     },
     "execution_count": 12,
     "metadata": {},
     "output_type": "execute_result"
    }
   ],
   "source": [
    "type(fs[0])"
   ]
  },
  {
   "cell_type": "code",
   "execution_count": 13,
   "metadata": {},
   "outputs": [
    {
     "name": "stdout",
     "output_type": "stream",
     "text": [
      "{'MemberList': <ContactList: []>, 'UserName': '@387f517cdc9760c59dd9233a658523f9d71e6ccf0727b181990629c834973453', 'City': '扬州', 'DisplayName': '', 'PYQuanPin': 'nengdouzi', 'RemarkPYInitial': '', 'Province': '江苏', 'KeyWord': '', 'RemarkName': '', 'PYInitial': 'NDZ', 'EncryChatRoomId': '', 'Alias': '', 'Signature': '', 'NickName': '能豆子', 'RemarkPYQuanPin': '', 'HeadImgUrl': '/cgi-bin/mmwebwx-bin/webwxgeticon?seq=630251382&username=@387f517cdc9760c59dd9233a658523f9d71e6ccf0727b181990629c834973453&skey=@crypt_e1867483_569811a3d29b375ac035df41cda240b8', 'UniFriend': 0, 'Sex': 1, 'AppAccountFlag': 0, 'VerifyFlag': 0, 'ChatRoomId': 0, 'HideInputBarFlag': 0, 'AttrStatus': 33558207, 'SnsFlag': 17, 'MemberCount': 0, 'OwnerUin': 0, 'ContactFlag': 1, 'Uin': 2925390822, 'StarFriend': 0, 'Statues': 0, 'WebWxPluginSwitch': 0, 'HeadImgFlag': 1, 'IsOwner': 0}\n"
     ]
    }
   ],
   "source": [
    "print(fs[0])"
   ]
  },
  {
   "cell_type": "code",
   "execution_count": 16,
   "metadata": {},
   "outputs": [
    {
     "name": "stdout",
     "output_type": "stream",
     "text": [
      "MemberList : []\n",
      "UserName : @387f517cdc9760c59dd9233a658523f9d71e6ccf0727b181990629c834973453\n",
      "City : 扬州\n",
      "DisplayName : \n",
      "PYQuanPin : nengdouzi\n",
      "RemarkPYInitial : \n",
      "Province : 江苏\n",
      "KeyWord : \n",
      "RemarkName : \n",
      "PYInitial : NDZ\n",
      "EncryChatRoomId : \n",
      "Alias : \n",
      "Signature : \n",
      "NickName : 能豆子\n",
      "RemarkPYQuanPin : \n",
      "HeadImgUrl : /cgi-bin/mmwebwx-bin/webwxgeticon?seq=630251382&username=@387f517cdc9760c59dd9233a658523f9d71e6ccf0727b181990629c834973453&skey=@crypt_e1867483_569811a3d29b375ac035df41cda240b8\n",
      "UniFriend : 0\n",
      "Sex : 1\n",
      "AppAccountFlag : 0\n",
      "VerifyFlag : 0\n",
      "ChatRoomId : 0\n",
      "HideInputBarFlag : 0\n",
      "AttrStatus : 33558207\n",
      "SnsFlag : 17\n",
      "MemberCount : 0\n",
      "OwnerUin : 0\n",
      "ContactFlag : 1\n",
      "Uin : 2925390822\n",
      "StarFriend : 0\n",
      "Statues : 0\n",
      "WebWxPluginSwitch : 0\n",
      "HeadImgFlag : 1\n",
      "IsOwner : 0\n"
     ]
    }
   ],
   "source": [
    "for i in fs[0]:\n",
    "    print(i, ':', fs[0][i])"
   ]
  },
  {
   "cell_type": "code",
   "execution_count": 17,
   "metadata": {},
   "outputs": [
    {
     "name": "stdout",
     "output_type": "stream",
     "text": [
      "MemberList : []\n",
      "Uin : 0\n",
      "UserName : @c6d16194311993e1a6ad4b91508d4b4a732c78a112837a4d2a8c44d52c970764\n",
      "NickName : Xjl\n",
      "HeadImgUrl : /cgi-bin/mmwebwx-bin/webwxgeticon?seq=624752186&username=@c6d16194311993e1a6ad4b91508d4b4a732c78a112837a4d2a8c44d52c970764&skey=@crypt_e1867483_569811a3d29b375ac035df41cda240b8\n",
      "ContactFlag : 2115\n",
      "MemberCount : 0\n",
      "RemarkName : 可人儿\n",
      "HideInputBarFlag : 0\n",
      "Sex : 2\n",
      "Signature : \n",
      "VerifyFlag : 0\n",
      "OwnerUin : 0\n",
      "PYInitial : XJL\n",
      "PYQuanPin : Xjl\n",
      "RemarkPYInitial : KRE\n",
      "RemarkPYQuanPin : kerener\n",
      "StarFriend : 1\n",
      "AppAccountFlag : 0\n",
      "Statues : 0\n",
      "AttrStatus : 135741\n",
      "Province : 河南\n",
      "City : 新乡\n",
      "Alias : \n",
      "SnsFlag : 17\n",
      "UniFriend : 0\n",
      "DisplayName : \n",
      "ChatRoomId : 0\n",
      "KeyWord : \n",
      "EncryChatRoomId : \n",
      "IsOwner : 0\n"
     ]
    }
   ],
   "source": [
    "for i in fs[1]:\n",
    "    print(i, ':', fs[1][i])"
   ]
  },
  {
   "cell_type": "code",
   "execution_count": 21,
   "metadata": {},
   "outputs": [
    {
     "name": "stdout",
     "output_type": "stream",
     "text": [
      "Help on User in module itchat.storage.templates object:\n",
      "\n",
      "class User(AbstractUserDict)\n",
      " |  dict() -> new empty dictionary\n",
      " |  dict(mapping) -> new dictionary initialized from a mapping object's\n",
      " |      (key, value) pairs\n",
      " |  dict(iterable) -> new dictionary initialized as if via:\n",
      " |      d = {}\n",
      " |      for k, v in iterable:\n",
      " |          d[k] = v\n",
      " |  dict(**kwargs) -> new dictionary initialized with the name=value pairs\n",
      " |      in the keyword argument list.  For example:  dict(one=1, two=2)\n",
      " |  \n",
      " |  Method resolution order:\n",
      " |      User\n",
      " |      AbstractUserDict\n",
      " |      AttributeDict\n",
      " |      builtins.dict\n",
      " |      builtins.object\n",
      " |  \n",
      " |  Methods defined here:\n",
      " |  \n",
      " |  __deepcopy__(self, memo)\n",
      " |  \n",
      " |  __init__(self, *args, **kwargs)\n",
      " |      Initialize self.  See help(type(self)) for accurate signature.\n",
      " |  \n",
      " |  __setstate__(self, state)\n",
      " |  \n",
      " |  set_alias(self, alias)\n",
      " |  \n",
      " |  set_pinned(self, isPinned=True)\n",
      " |  \n",
      " |  update(self)\n",
      " |      D.update([E, ]**F) -> None.  Update D from dict/iterable E and F.\n",
      " |      If E is present and has a .keys() method, then does:  for k in E: D[k] = E[k]\n",
      " |      If E is present and lacks a .keys() method, then does:  for k, v in E: D[k] = v\n",
      " |      In either case, this is followed by: for k in F:  D[k] = F[k]\n",
      " |  \n",
      " |  verify(self)\n",
      " |  \n",
      " |  ----------------------------------------------------------------------\n",
      " |  Methods inherited from AbstractUserDict:\n",
      " |  \n",
      " |  __getstate__(self)\n",
      " |  \n",
      " |  __repr__(self)\n",
      " |      Return repr(self).\n",
      " |  \n",
      " |  __str__(self)\n",
      " |      Return str(self).\n",
      " |  \n",
      " |  add_member(self, userName)\n",
      " |  \n",
      " |  delete_member(self, userName)\n",
      " |  \n",
      " |  get_head_image(self, imageDir=None)\n",
      " |  \n",
      " |  search_member(self, name=None, userName=None, remarkName=None, nickName=None, wechatAccount=None)\n",
      " |  \n",
      " |  send(self, msg, mediaId=None)\n",
      " |  \n",
      " |  send_file(self, fileDir, mediaId=None)\n",
      " |  \n",
      " |  send_image(self, fileDir, mediaId=None)\n",
      " |  \n",
      " |  send_msg(self, msg='Test Message')\n",
      " |  \n",
      " |  send_raw_msg(self, msgType, content)\n",
      " |  \n",
      " |  send_video(self, fileDir=None, mediaId=None)\n",
      " |  \n",
      " |  ----------------------------------------------------------------------\n",
      " |  Data descriptors inherited from AbstractUserDict:\n",
      " |  \n",
      " |  core\n",
      " |  \n",
      " |  ----------------------------------------------------------------------\n",
      " |  Methods inherited from AttributeDict:\n",
      " |  \n",
      " |  __getattr__(self, value)\n",
      " |  \n",
      " |  get(self, v, d=None)\n",
      " |      D.get(k[,d]) -> D[k] if k in D, else d.  d defaults to None.\n",
      " |  \n",
      " |  ----------------------------------------------------------------------\n",
      " |  Data descriptors inherited from AttributeDict:\n",
      " |  \n",
      " |  __dict__\n",
      " |      dictionary for instance variables (if defined)\n",
      " |  \n",
      " |  __weakref__\n",
      " |      list of weak references to the object (if defined)\n",
      " |  \n",
      " |  ----------------------------------------------------------------------\n",
      " |  Methods inherited from builtins.dict:\n",
      " |  \n",
      " |  __contains__(self, key, /)\n",
      " |      True if D has a key k, else False.\n",
      " |  \n",
      " |  __delitem__(self, key, /)\n",
      " |      Delete self[key].\n",
      " |  \n",
      " |  __eq__(self, value, /)\n",
      " |      Return self==value.\n",
      " |  \n",
      " |  __ge__(self, value, /)\n",
      " |      Return self>=value.\n",
      " |  \n",
      " |  __getattribute__(self, name, /)\n",
      " |      Return getattr(self, name).\n",
      " |  \n",
      " |  __getitem__(...)\n",
      " |      x.__getitem__(y) <==> x[y]\n",
      " |  \n",
      " |  __gt__(self, value, /)\n",
      " |      Return self>value.\n",
      " |  \n",
      " |  __iter__(self, /)\n",
      " |      Implement iter(self).\n",
      " |  \n",
      " |  __le__(self, value, /)\n",
      " |      Return self<=value.\n",
      " |  \n",
      " |  __len__(self, /)\n",
      " |      Return len(self).\n",
      " |  \n",
      " |  __lt__(self, value, /)\n",
      " |      Return self<value.\n",
      " |  \n",
      " |  __ne__(self, value, /)\n",
      " |      Return self!=value.\n",
      " |  \n",
      " |  __new__(*args, **kwargs) from builtins.type\n",
      " |      Create and return a new object.  See help(type) for accurate signature.\n",
      " |  \n",
      " |  __setitem__(self, key, value, /)\n",
      " |      Set self[key] to value.\n",
      " |  \n",
      " |  __sizeof__(...)\n",
      " |      D.__sizeof__() -> size of D in memory, in bytes\n",
      " |  \n",
      " |  clear(...)\n",
      " |      D.clear() -> None.  Remove all items from D.\n",
      " |  \n",
      " |  copy(...)\n",
      " |      D.copy() -> a shallow copy of D\n",
      " |  \n",
      " |  fromkeys(iterable, value=None, /) from builtins.type\n",
      " |      Returns a new dict with keys from iterable and values equal to value.\n",
      " |  \n",
      " |  items(...)\n",
      " |      D.items() -> a set-like object providing a view on D's items\n",
      " |  \n",
      " |  keys(...)\n",
      " |      D.keys() -> a set-like object providing a view on D's keys\n",
      " |  \n",
      " |  pop(...)\n",
      " |      D.pop(k[,d]) -> v, remove specified key and return the corresponding value.\n",
      " |      If key is not found, d is returned if given, otherwise KeyError is raised\n",
      " |  \n",
      " |  popitem(...)\n",
      " |      D.popitem() -> (k, v), remove and return some (key, value) pair as a\n",
      " |      2-tuple; but raise KeyError if D is empty.\n",
      " |  \n",
      " |  setdefault(...)\n",
      " |      D.setdefault(k[,d]) -> D.get(k,d), also set D[k]=d if k not in D\n",
      " |  \n",
      " |  values(...)\n",
      " |      D.values() -> an object providing a view on D's values\n",
      " |  \n",
      " |  ----------------------------------------------------------------------\n",
      " |  Data and other attributes inherited from builtins.dict:\n",
      " |  \n",
      " |  __hash__ = None\n",
      "\n"
     ]
    }
   ],
   "source": [
    "help(fs[1])"
   ]
  },
  {
   "cell_type": "code",
   "execution_count": 32,
   "metadata": {},
   "outputs": [],
   "source": [
    "room = itchat.search_chatrooms('新乡气象台')"
   ]
  },
  {
   "cell_type": "code",
   "execution_count": 33,
   "metadata": {},
   "outputs": [
    {
     "data": {
      "text/plain": [
       "[<Chatroom: {'MemberList': <ContactList: []>, 'Uin': 0, 'UserName': '@@66513065a7c667690bf976ef830b6d8a4104c2d67ec66a5ca58da4ac4c725180', 'NickName': '新乡气象台', 'HeadImgUrl': '/cgi-bin/mmwebwx-bin/webwxgetheadimg?seq=649778282&username=@@66513065a7c667690bf976ef830b6d8a4104c2d67ec66a5ca58da4ac4c725180&skey=@crypt_e1867483_569811a3d29b375ac035df41cda240b8', 'ContactFlag': 3, 'MemberCount': 0, 'RemarkName': '', 'HideInputBarFlag': 0, 'Sex': 0, 'Signature': '', 'VerifyFlag': 0, 'OwnerUin': 0, 'PYInitial': 'XXQXT', 'PYQuanPin': 'xinxiangqixiangtai', 'RemarkPYInitial': '', 'RemarkPYQuanPin': '', 'StarFriend': 0, 'AppAccountFlag': 0, 'Statues': 1, 'AttrStatus': 0, 'Province': '', 'City': '', 'Alias': '', 'SnsFlag': 0, 'UniFriend': 0, 'DisplayName': '', 'ChatRoomId': 0, 'KeyWord': '', 'EncryChatRoomId': '', 'IsOwner': 0, 'IsAdmin': None, 'Self': <User: {'MemberList': <ContactList: []>, 'UserName': '@387f517cdc9760c59dd9233a658523f9d71e6ccf0727b181990629c834973453', 'City': '', 'DisplayName': '', 'PYQuanPin': '', 'RemarkPYInitial': '', 'Province': '', 'KeyWord': '', 'RemarkName': '', 'PYInitial': '', 'EncryChatRoomId': '', 'Alias': '', 'Signature': '', 'NickName': '能豆子', 'RemarkPYQuanPin': '', 'HeadImgUrl': '/cgi-bin/mmwebwx-bin/webwxgeticon?seq=375829791&username=@387f517cdc9760c59dd9233a658523f9d71e6ccf0727b181990629c834973453&skey=@crypt_e1867483_569811a3d29b375ac035df41cda240b8', 'UniFriend': 0, 'Sex': 1, 'AppAccountFlag': 0, 'VerifyFlag': 0, 'ChatRoomId': 0, 'HideInputBarFlag': 0, 'AttrStatus': 0, 'SnsFlag': 17, 'MemberCount': 0, 'OwnerUin': 0, 'ContactFlag': 0, 'Uin': 2925390822, 'StarFriend': 0, 'Statues': 0, 'WebWxPluginSwitch': 0, 'HeadImgFlag': 1}>}>]"
      ]
     },
     "execution_count": 33,
     "metadata": {},
     "output_type": "execute_result"
    }
   ],
   "source": [
    "room"
   ]
  },
  {
   "cell_type": "code",
   "execution_count": 34,
   "metadata": {},
   "outputs": [
    {
     "data": {
      "text/plain": [
       "list"
      ]
     },
     "execution_count": 34,
     "metadata": {},
     "output_type": "execute_result"
    }
   ],
   "source": [
    "type(room)"
   ]
  },
  {
   "cell_type": "code",
   "execution_count": 36,
   "metadata": {},
   "outputs": [
    {
     "data": {
      "text/plain": [
       "1"
      ]
     },
     "execution_count": 36,
     "metadata": {},
     "output_type": "execute_result"
    }
   ],
   "source": [
    "len(room)"
   ]
  },
  {
   "cell_type": "code",
   "execution_count": 44,
   "metadata": {},
   "outputs": [],
   "source": [
    "rooms = itchat.get_chatrooms()"
   ]
  },
  {
   "cell_type": "code",
   "execution_count": 45,
   "metadata": {},
   "outputs": [
    {
     "data": {
      "text/plain": [
       "22"
      ]
     },
     "execution_count": 45,
     "metadata": {},
     "output_type": "execute_result"
    }
   ],
   "source": [
    "len(rooms)"
   ]
  },
  {
   "cell_type": "code",
   "execution_count": 46,
   "metadata": {},
   "outputs": [
    {
     "data": {
      "text/plain": [
       "itchat.storage.templates.ContactList"
      ]
     },
     "execution_count": 46,
     "metadata": {},
     "output_type": "execute_result"
    }
   ],
   "source": [
    "type(rooms)"
   ]
  },
  {
   "cell_type": "code",
   "execution_count": 47,
   "metadata": {},
   "outputs": [
    {
     "data": {
      "text/plain": [
       "itchat.storage.templates.Chatroom"
      ]
     },
     "execution_count": 47,
     "metadata": {},
     "output_type": "execute_result"
    }
   ],
   "source": [
    "type(rooms[0])"
   ]
  },
  {
   "cell_type": "code",
   "execution_count": 74,
   "metadata": {},
   "outputs": [],
   "source": [
    "itchat.get_chatrooms(update=True)\n",
    "chatrooms = itchat.search_chatrooms('新乡气象台')\n",
    "if chatrooms is not None:\n",
    "    room_username = chatrooms[0]['UserName']\n",
    "    itchat.send_msg('测试一下',room_username)"
   ]
  },
  {
   "cell_type": "code",
   "execution_count": 75,
   "metadata": {},
   "outputs": [
    {
     "data": {
      "text/plain": [
       "<ItchatReturnValue: {'BaseResponse': {'Ret': 0, 'ErrMsg': '请求成功', 'RawMsg': '请求成功'}, 'MsgID': '8677241866342920690', 'LocalID': '15649247563436'}>"
      ]
     },
     "execution_count": 75,
     "metadata": {},
     "output_type": "execute_result"
    }
   ],
   "source": [
    "itchat.send_msg('''【测试】新乡市气象台于2019年04月04日9时59分发布雷暴大风黄色预警信号：\n",
    "未来3小时内新乡市全区自北向南将出现雷暴大风天气，阵风风力达8-9级，请做好防范准备。''',room_username)"
   ]
  },
  {
   "cell_type": "code",
   "execution_count": 76,
   "metadata": {},
   "outputs": [
    {
     "data": {
      "text/plain": [
       "<ItchatReturnValue: {'BaseResponse': {'Ret': 0, 'ErrMsg': '请求成功', 'RawMsg': '请求成功'}, 'MsgID': '1459661273865675408', 'LocalID': '15649249313909'}>"
      ]
     },
     "execution_count": 76,
     "metadata": {},
     "output_type": "execute_result"
    }
   ],
   "source": [
    "itchat.send_msg('''王台长，现在基本可以实现通过程序向微信群发送信息，其实通过网页版微信实现这个功能的，\n",
    "\t现在考虑两个方法：\n",
    "\t1. 再建立一个公共微信账号： 新乡市气象台，但是需要接受消息的群都加入该账号，\n",
    "\t    可能问题： 刚刚新建的账号可能无法登入网页微信端，也就没法使用程序发送信息，\n",
    "\t           且需要一个公共手机，因为手机端和网页端必须同时在线\n",
    "\t2. 使用每个预报员的自己的微信账号单独登入\n",
    "\t    问题：每个人都要加入到各个群中''',room_username)"
   ]
  },
  {
   "cell_type": "code",
   "execution_count": 77,
   "metadata": {},
   "outputs": [],
   "source": [
    "itchat.get_chatrooms(update=True)\n",
    "chatrooms = itchat.search_chatrooms('新乡气象')"
   ]
  },
  {
   "cell_type": "code",
   "execution_count": 78,
   "metadata": {},
   "outputs": [
    {
     "data": {
      "text/plain": [
       "[<Chatroom: {'MemberList': <ContactList: []>, 'Uin': 0, 'UserName': '@@66513065a7c667690bf976ef830b6d8a4104c2d67ec66a5ca58da4ac4c725180', 'NickName': '新乡气象台', 'HeadImgUrl': '/cgi-bin/mmwebwx-bin/webwxgetheadimg?seq=649778282&username=@@66513065a7c667690bf976ef830b6d8a4104c2d67ec66a5ca58da4ac4c725180&skey=@crypt_e1867483_569811a3d29b375ac035df41cda240b8', 'ContactFlag': 3, 'MemberCount': 0, 'RemarkName': '', 'HideInputBarFlag': 0, 'Sex': 0, 'Signature': '', 'VerifyFlag': 0, 'OwnerUin': 0, 'PYInitial': 'XXQXT', 'PYQuanPin': 'xinxiangqixiangtai', 'RemarkPYInitial': '', 'RemarkPYQuanPin': '', 'StarFriend': 0, 'AppAccountFlag': 0, 'Statues': 1, 'AttrStatus': 0, 'Province': '', 'City': '', 'Alias': '', 'SnsFlag': 0, 'UniFriend': 0, 'DisplayName': '', 'ChatRoomId': 0, 'KeyWord': '', 'EncryChatRoomId': '', 'IsOwner': 0, 'IsAdmin': None, 'Self': <User: {'MemberList': <ContactList: []>, 'UserName': '@387f517cdc9760c59dd9233a658523f9d71e6ccf0727b181990629c834973453', 'City': '', 'DisplayName': '', 'PYQuanPin': '', 'RemarkPYInitial': '', 'Province': '', 'KeyWord': '', 'RemarkName': '', 'PYInitial': '', 'EncryChatRoomId': '', 'Alias': '', 'Signature': '', 'NickName': '能豆子', 'RemarkPYQuanPin': '', 'HeadImgUrl': '/cgi-bin/mmwebwx-bin/webwxgeticon?seq=375829791&username=@387f517cdc9760c59dd9233a658523f9d71e6ccf0727b181990629c834973453&skey=@crypt_e1867483_569811a3d29b375ac035df41cda240b8', 'UniFriend': 0, 'Sex': 1, 'AppAccountFlag': 0, 'VerifyFlag': 0, 'ChatRoomId': 0, 'HideInputBarFlag': 0, 'AttrStatus': 0, 'SnsFlag': 17, 'MemberCount': 0, 'OwnerUin': 0, 'ContactFlag': 0, 'Uin': 2925390822, 'StarFriend': 0, 'Statues': 0, 'WebWxPluginSwitch': 0, 'HeadImgFlag': 1}>}>,\n",
       " <Chatroom: {'MemberList': <ContactList: [<ChatroomMember: {'MemberList': <ContactList: []>, 'Uin': 0, 'UserName': '@e94258f48e4cae5b40755fc126a23fdf', 'NickName': '张益炜', 'AttrStatus': 102503, 'PYInitial': '', 'PYQuanPin': '', 'RemarkPYInitial': '', 'RemarkPYQuanPin': '', 'MemberStatus': 0, 'DisplayName': '张益炜', 'KeyWord': 'Bao'}>, <ChatroomMember: {'MemberList': <ContactList: []>, 'Uin': 0, 'UserName': '@7fd112fcb75185895ca6ce8f2814321c', 'NickName': '子夜咖啡', 'AttrStatus': 4391, 'PYInitial': '', 'PYQuanPin': '', 'RemarkPYInitial': '', 'RemarkPYQuanPin': '', 'MemberStatus': 0, 'DisplayName': '王飞', 'KeyWord': 'wfl'}>, <ChatroomMember: {'MemberList': <ContactList: []>, 'Uin': 0, 'UserName': '@b2f0dcb65c1d30c4a06f78be60c12211ba173bd662e6161b067acabb65413d7f', 'NickName': '麦田守望者', 'AttrStatus': 16783613, 'PYInitial': '', 'PYQuanPin': '', 'RemarkPYInitial': '', 'RemarkPYQuanPin': '', 'MemberStatus': 0, 'DisplayName': '李庆锋', 'KeyWord': ''}>, <ChatroomMember: {'MemberList': <ContactList: []>, 'Uin': 0, 'UserName': '@b8f9437895c04492024c0e1a60c6e5b44ed1f60cf6409fcd153997c33c1c9cdb', 'NickName': '紫砂', 'AttrStatus': 4133, 'PYInitial': '', 'PYQuanPin': '', 'RemarkPYInitial': '', 'RemarkPYQuanPin': '', 'MemberStatus': 0, 'DisplayName': '', 'KeyWord': ''}>, <ChatroomMember: {'MemberList': <ContactList: []>, 'Uin': 0, 'UserName': '@6b215cc0a0e7cda3a8404bcb2f8aa92f', 'NickName': '王兵', 'AttrStatus': 98367, 'PYInitial': '', 'PYQuanPin': '', 'RemarkPYInitial': '', 'RemarkPYQuanPin': '', 'MemberStatus': 0, 'DisplayName': '丁丁快跑王兵', 'KeyWord': 'xxw'}>, <ChatroomMember: {'MemberList': <ContactList: []>, 'Uin': 0, 'UserName': '@b51ef932e67972f5a4defd2359023c307ad8da55a2aa7d6705f8d9b5b8b961ea', 'NickName': '朱明', 'AttrStatus': 16781349, 'PYInitial': '', 'PYQuanPin': '', 'RemarkPYInitial': '', 'RemarkPYQuanPin': '', 'MemberStatus': 0, 'DisplayName': '', 'KeyWord': ''}>, <ChatroomMember: {'MemberList': <ContactList: []>, 'Uin': 0, 'UserName': '@73c539285f20a4b92e9fa05a503f18fd3aae6703e85b0676f13851119d51e91e', 'NickName': '祝新建', 'AttrStatus': 6181, 'PYInitial': '', 'PYQuanPin': '', 'RemarkPYInitial': '', 'RemarkPYQuanPin': '', 'MemberStatus': 0, 'DisplayName': '', 'KeyWord': ''}>, <ChatroomMember: {'MemberList': <ContactList: []>, 'Uin': 0, 'UserName': '@446f608c65078db09c3dc910897edf7b9655d35eb827f42dac729f6ba2f62791', 'NickName': '王新红', 'AttrStatus': 16781349, 'PYInitial': '', 'PYQuanPin': '', 'RemarkPYInitial': '', 'RemarkPYQuanPin': '', 'MemberStatus': 0, 'DisplayName': '王新红', 'KeyWord': ''}>, <ChatroomMember: {'MemberList': <ContactList: []>, 'Uin': 0, 'UserName': '@4e0df9ac20cb5a090e6b11f9d18c7e0d931016f7f520d4a73b88727b63548cd2', 'NickName': '高正庆金生', 'AttrStatus': 229477, 'PYInitial': '', 'PYQuanPin': '', 'RemarkPYInitial': '', 'RemarkPYQuanPin': '', 'MemberStatus': 0, 'DisplayName': '', 'KeyWord': ''}>, <ChatroomMember: {'MemberList': <ContactList: []>, 'Uin': 0, 'UserName': '@0942bf27fffd7dcc08674deb2eebce8d163dbee7e856b31f7dbcf30fda7ed9c2', 'NickName': '田甜', 'AttrStatus': 102949, 'PYInitial': '', 'PYQuanPin': '', 'RemarkPYInitial': '', 'RemarkPYQuanPin': '', 'MemberStatus': 0, 'DisplayName': '田春娜', 'KeyWord': ''}>, <ChatroomMember: {'MemberList': <ContactList: []>, 'Uin': 0, 'UserName': '@9cb55cd56b63cb356987fa15888aabfa6891fbe7fce5262cb6a2b2fb86883f4e', 'NickName': '将军', 'AttrStatus': 4199, 'PYInitial': '', 'PYQuanPin': '', 'RemarkPYInitial': '', 'RemarkPYQuanPin': '', 'MemberStatus': 0, 'DisplayName': '贾继军', 'KeyWord': ''}>, <ChatroomMember: {'MemberList': <ContactList: []>, 'Uin': 0, 'UserName': '@ef6ddb2bbab8b48740e065b8f55373eb', 'NickName': '米凯', 'AttrStatus': 236967, 'PYInitial': '', 'PYQuanPin': '', 'RemarkPYInitial': '', 'RemarkPYQuanPin': '', 'MemberStatus': 0, 'DisplayName': '米凯', 'KeyWord': 'met'}>, <ChatroomMember: {'MemberList': <ContactList: []>, 'Uin': 0, 'UserName': '@cf1b2432d9ee80e51a770491c0797c57eb0ca7ba9c06ceafe8f61be517b141b4', 'NickName': '古月神农', 'AttrStatus': 131261, 'PYInitial': '', 'PYQuanPin': '', 'RemarkPYInitial': '', 'RemarkPYQuanPin': '', 'MemberStatus': 0, 'DisplayName': '古月亷敏', 'KeyWord': ''}>, <ChatroomMember: {'MemberList': <ContactList: []>, 'Uin': 0, 'UserName': '@02cb6ba9192462d2f4f6bf4ef6e712aed9a58226feb9d8adff5048ab23b9583a', 'NickName': '李香颜', 'AttrStatus': 112765, 'PYInitial': '', 'PYQuanPin': '', 'RemarkPYInitial': '', 'RemarkPYQuanPin': '', 'MemberStatus': 0, 'DisplayName': '', 'KeyWord': ''}>, <ChatroomMember: {'MemberList': <ContactList: []>, 'Uin': 0, 'UserName': '@d7e1eee7454c83f21311d26e71841883', 'NickName': '陈杰', 'AttrStatus': 102951, 'PYInitial': '', 'PYQuanPin': '', 'RemarkPYInitial': '', 'RemarkPYQuanPin': '', 'MemberStatus': 0, 'DisplayName': '陈杰', 'KeyWord': 'xxj'}>, <ChatroomMember: {'MemberList': <ContactList: []>, 'Uin': 0, 'UserName': '@9ac0ec3221a0683f0549966c6b29f834ddfde0134b3fa8e656dfbe37341c984c', 'NickName': '猫', 'AttrStatus': 102949, 'PYInitial': '', 'PYQuanPin': '', 'RemarkPYInitial': '', 'RemarkPYQuanPin': '', 'MemberStatus': 0, 'DisplayName': '黄丽', 'KeyWord': ''}>, <ChatroomMember: {'MemberList': <ContactList: []>, 'Uin': 0, 'UserName': '@2f82893e58dc144df90f02379e85283d9c5dfa308b8289dc6deb86d504d7758a', 'NickName': '明月清风', 'AttrStatus': 229823, 'PYInitial': '', 'PYQuanPin': '', 'RemarkPYInitial': '', 'RemarkPYQuanPin': '', 'MemberStatus': 0, 'DisplayName': '乔雨', 'KeyWord': ''}>, <ChatroomMember: {'MemberList': <ContactList: []>, 'Uin': 0, 'UserName': '@5249c809bb704c36e3beb78960c9b3c1', 'NickName': '胡武鹏', 'AttrStatus': 98431, 'PYInitial': '', 'PYQuanPin': '', 'RemarkPYInitial': '', 'RemarkPYQuanPin': '', 'MemberStatus': 0, 'DisplayName': '胡武鹏', 'KeyWord': 'hwp'}>, <ChatroomMember: {'MemberList': <ContactList: []>, 'Uin': 0, 'UserName': '@3e9921cd8e541165618dcaee3c2d5b0bc0d21841c13576ce62f018024530efda', 'NickName': '梁晨', 'AttrStatus': 102437, 'PYInitial': '', 'PYQuanPin': '', 'RemarkPYInitial': '', 'RemarkPYQuanPin': '', 'MemberStatus': 0, 'DisplayName': '梁晨', 'KeyWord': ''}>, <ChatroomMember: {'MemberList': <ContactList: []>, 'Uin': 0, 'UserName': '@cdda7974c5d06c649bf7dea3620d2a400d9a833bddec8b51fdf3e31fde0159b6', 'NickName': '艳妮', 'AttrStatus': 135205, 'PYInitial': '', 'PYQuanPin': '', 'RemarkPYInitial': '', 'RemarkPYQuanPin': '', 'MemberStatus': 0, 'DisplayName': '', 'KeyWord': ''}>, <ChatroomMember: {'MemberList': <ContactList: []>, 'Uin': 0, 'UserName': '@4299a25d3fc40bba2fa703fb1e412456', 'NickName': '段中夏', 'AttrStatus': 100455, 'PYInitial': '', 'PYQuanPin': '', 'RemarkPYInitial': '', 'RemarkPYQuanPin': '', 'MemberStatus': 0, 'DisplayName': '段中夏', 'KeyWord': 'dua'}>, <ChatroomMember: {'MemberList': <ContactList: []>, 'Uin': 0, 'UserName': '@ef5194ab6d5956bc69262455be060c0316d9ff92136494da2b8910fce35071c3', 'NickName': '赵婧敏', 'AttrStatus': 68007, 'PYInitial': '', 'PYQuanPin': '', 'RemarkPYInitial': '', 'RemarkPYQuanPin': '', 'MemberStatus': 0, 'DisplayName': '赵婧敏', 'KeyWord': ''}>, <ChatroomMember: {'MemberList': <ContactList: []>, 'Uin': 0, 'UserName': '@0b3c03082026ebc7075ec0fc392a4e76', 'NickName': '叶东', 'AttrStatus': 50439295, 'PYInitial': '', 'PYQuanPin': '', 'RemarkPYInitial': '', 'RemarkPYQuanPin': '', 'MemberStatus': 0, 'DisplayName': '叶东', 'KeyWord': 'car'}>, <ChatroomMember: {'MemberList': <ContactList: []>, 'Uin': 0, 'UserName': '@757eb8f92c620bbe383f9849c2d863c04a6e500bd39646e54bae8a3bd0a02826', 'NickName': '马月枝', 'AttrStatus': 4133, 'PYInitial': '', 'PYQuanPin': '', 'RemarkPYInitial': '', 'RemarkPYQuanPin': '', 'MemberStatus': 0, 'DisplayName': '马月枝', 'KeyWord': ''}>, <ChatroomMember: {'MemberList': <ContactList: []>, 'Uin': 0, 'UserName': '@ecbe051f37dcc0f32c1045cf3320c2e5ef1c813f76cbdeaa24f65971b6ce88c8', 'NickName': '王金兰', 'AttrStatus': 33829, 'PYInitial': '', 'PYQuanPin': '', 'RemarkPYInitial': '', 'RemarkPYQuanPin': '', 'MemberStatus': 0, 'DisplayName': '王金兰', 'KeyWord': ''}>, <ChatroomMember: {'MemberList': <ContactList: []>, 'Uin': 0, 'UserName': '@92bc9fc329ed478f5792af08be3620769058b5c79cff4aa9ac1796e8b01eb0f7', 'NickName': '田晓璐', 'AttrStatus': 37, 'PYInitial': '', 'PYQuanPin': '', 'RemarkPYInitial': '', 'RemarkPYQuanPin': '', 'MemberStatus': 0, 'DisplayName': '田晓璐', 'KeyWord': ''}>, <ChatroomMember: {'MemberList': <ContactList: []>, 'Uin': 0, 'UserName': '@8608076d82b66daf9878c4882842ab251d4b1bd0503e453a5bf78be1de2b15dc', 'NickName': '上善若水', 'AttrStatus': 4645, 'PYInitial': '', 'PYQuanPin': '', 'RemarkPYInitial': '', 'RemarkPYQuanPin': '', 'MemberStatus': 0, 'DisplayName': '宋培玲', 'KeyWord': ''}>, <ChatroomMember: {'MemberList': <ContactList: []>, 'Uin': 0, 'UserName': '@833a6f59c2dfc005726cfd36903f367e323c95bcde3eb882d575a40d49ff52d7', 'NickName': '雪花', 'AttrStatus': 135205, 'PYInitial': '', 'PYQuanPin': '', 'RemarkPYInitial': '', 'RemarkPYQuanPin': '', 'MemberStatus': 0, 'DisplayName': '钟兴华', 'KeyWord': ''}>, <ChatroomMember: {'MemberList': <ContactList: []>, 'Uin': 0, 'UserName': '@8c657fc62a6372a86379f10ebe65b45e3a248919a9659a5da5832ecf627ad94c', 'NickName': '张金平', 'AttrStatus': 110693, 'PYInitial': '', 'PYQuanPin': '', 'RemarkPYInitial': '', 'RemarkPYQuanPin': '', 'MemberStatus': 0, 'DisplayName': '张金平', 'KeyWord': ''}>, <ChatroomMember: {'MemberList': <ContactList: []>, 'Uin': 0, 'UserName': '@24a367a30c18eb77f5136bc47c23f25f5650613589c1a4015e2bae6a23f054f8', 'NickName': '森森', 'AttrStatus': 4133, 'PYInitial': '', 'PYQuanPin': '', 'RemarkPYInitial': '', 'RemarkPYQuanPin': '', 'MemberStatus': 0, 'DisplayName': '李文石', 'KeyWord': ''}>, <ChatroomMember: {'MemberList': <ContactList: []>, 'Uin': 0, 'UserName': '@656b164d721327da876e668a85eeac94e25c13592543ef957c1229746da2ba62', 'NickName': '孟祥翼', 'AttrStatus': 233573, 'PYInitial': '', 'PYQuanPin': '', 'RemarkPYInitial': '', 'RemarkPYQuanPin': '', 'MemberStatus': 0, 'DisplayName': '小孟', 'KeyWord': ''}>, <ChatroomMember: {'MemberList': <ContactList: []>, 'Uin': 0, 'UserName': '@c64b1fe1fef9124e94974764ab99e8ec94af4d04292cf2fc9ad5d984ad129447', 'NickName': '好人', 'AttrStatus': 16783621, 'PYInitial': '', 'PYQuanPin': '', 'RemarkPYInitial': '', 'RemarkPYQuanPin': '', 'MemberStatus': 0, 'DisplayName': '郝天仁', 'KeyWord': ''}>, <ChatroomMember: {'MemberList': <ContactList: []>, 'Uin': 0, 'UserName': '@a824c8a012b3574bb236b559f7279111b69633dc8993e48b66a83e86b7b73dda', 'NickName': '张凤洲', 'AttrStatus': 701, 'PYInitial': '', 'PYQuanPin': '', 'RemarkPYInitial': '', 'RemarkPYQuanPin': '', 'MemberStatus': 0, 'DisplayName': '苍石张凤洲', 'KeyWord': ''}>, <ChatroomMember: {'MemberList': <ContactList: []>, 'Uin': 0, 'UserName': '@746a2b26d7e666c5e1f3c6f38e4bedca5eddcd58e8ed1cdd3a733e989518598a', 'NickName': '蘅芜君', 'AttrStatus': 102693, 'PYInitial': '', 'PYQuanPin': '', 'RemarkPYInitial': '', 'RemarkPYQuanPin': '', 'MemberStatus': 0, 'DisplayName': '', 'KeyWord': ''}>, <ChatroomMember: {'MemberList': <ContactList: []>, 'Uin': 0, 'UserName': '@76d4bd524bb0a499504d993b9532e1de87a7078654bfbe3634a246c04761a930', 'NickName': '张华', 'AttrStatus': 135205, 'PYInitial': '', 'PYQuanPin': '', 'RemarkPYInitial': '', 'RemarkPYQuanPin': '', 'MemberStatus': 0, 'DisplayName': '', 'KeyWord': ''}>, <ChatroomMember: {'MemberList': <ContactList: []>, 'Uin': 0, 'UserName': '@41960ac279a1d19f616a9b54a5e71381', 'NickName': '娅娅', 'AttrStatus': 102695, 'PYInitial': '', 'PYQuanPin': '', 'RemarkPYInitial': '', 'RemarkPYQuanPin': '', 'MemberStatus': 0, 'DisplayName': '', 'KeyWord': 'AI1'}>, <ChatroomMember: {'MemberList': <ContactList: []>, 'Uin': 0, 'UserName': '@72dbcf5506dba5c91a4b7aecf8596550ffa0dacb55438aab2960041e6720e36b', 'NickName': '岳正新', 'AttrStatus': 4133, 'PYInitial': '', 'PYQuanPin': '', 'RemarkPYInitial': '', 'RemarkPYQuanPin': '', 'MemberStatus': 0, 'DisplayName': '', 'KeyWord': ''}>, <ChatroomMember: {'MemberList': <ContactList: []>, 'Uin': 0, 'UserName': '@43ba2426dc4ec8fbe9b6efb7ae0c6dfc', 'NickName': 'Hank', 'AttrStatus': 231527, 'PYInitial': '', 'PYQuanPin': '', 'RemarkPYInitial': '', 'RemarkPYQuanPin': '', 'MemberStatus': 0, 'DisplayName': '高涵', 'KeyWord': 'Han'}>, <ChatroomMember: {'MemberList': <ContactList: []>, 'Uin': 0, 'UserName': '@11c50e039d1b6b075c859864264aafb6a1c074e327afd5bc18ee93d63ceedcc9', 'NickName': 'MJ', 'AttrStatus': 6757, 'PYInitial': '', 'PYQuanPin': '', 'RemarkPYInitial': '', 'RemarkPYQuanPin': '', 'MemberStatus': 0, 'DisplayName': '孟娟', 'KeyWord': ''}>, <ChatroomMember: {'MemberList': <ContactList: []>, 'Uin': 0, 'UserName': '@8902b3fa54c14abc137bacffbba43e5feddfcf1d647b1cf4a43bf5a9e3f779bf', 'NickName': '丽人行', 'AttrStatus': 135717, 'PYInitial': '', 'PYQuanPin': '', 'RemarkPYInitial': '', 'RemarkPYQuanPin': '', 'MemberStatus': 0, 'DisplayName': '董丽萍', 'KeyWord': ''}>, <ChatroomMember: {'MemberList': <ContactList: []>, 'Uin': 0, 'UserName': '@d097e066897e56ba3b21dea3d564cfe6', 'NickName': '陈敏💯53983', 'AttrStatus': 16914279, 'PYInitial': '', 'PYQuanPin': '', 'RemarkPYInitial': '', 'RemarkPYQuanPin': '', 'MemberStatus': 0, 'DisplayName': '陈敏', 'KeyWord': 'woa'}>, <ChatroomMember: {'MemberList': <ContactList: []>, 'Uin': 0, 'UserName': '@bbfeee6ed425afae434be61104b2494e28282a087a364d5ae2f0bc4d9684847e', 'NickName': '肖文雄', 'AttrStatus': 4197, 'PYInitial': '', 'PYQuanPin': '', 'RemarkPYInitial': '', 'RemarkPYQuanPin': '', 'MemberStatus': 0, 'DisplayName': '肖文雄', 'KeyWord': ''}>, <ChatroomMember: {'MemberList': <ContactList: []>, 'Uin': 0, 'UserName': '@f39f908f54de9c0032cf8cdc004e5092a2511c911c83b412a0154550a09e1d34', 'NickName': '飘渺小仙子', 'AttrStatus': 102949, 'PYInitial': '', 'PYQuanPin': '', 'RemarkPYInitial': '', 'RemarkPYQuanPin': '', 'MemberStatus': 0, 'DisplayName': '郝娜', 'KeyWord': ''}>, <ChatroomMember: {'MemberList': <ContactList: []>, 'Uin': 0, 'UserName': '@67368814dac9e2ed97cbe30938e1d7630759252b061131183ab94a48baefd42f', 'NickName': '王锦', 'AttrStatus': 2164383229, 'PYInitial': '', 'PYQuanPin': '', 'RemarkPYInitial': '', 'RemarkPYQuanPin': '', 'MemberStatus': 0, 'DisplayName': '王锦', 'KeyWord': ''}>, <ChatroomMember: {'MemberList': <ContactList: []>, 'Uin': 0, 'UserName': '@8360eb91f2b9e897b5fc69cac121d978', 'NickName': '大漠客', 'AttrStatus': 33656871, 'PYInitial': '', 'PYQuanPin': '', 'RemarkPYInitial': '', 'RemarkPYQuanPin': '', 'MemberStatus': 0, 'DisplayName': '胡军', 'KeyWord': 'dam'}>, <ChatroomMember: {'MemberList': <ContactList: []>, 'Uin': 0, 'UserName': '@c63dbcd9b5c9cf90fd1632456317859d0531b5067d419ab464b155e683e8f3b8', 'NickName': '王廷文', 'AttrStatus': 102437, 'PYInitial': '', 'PYQuanPin': '', 'RemarkPYInitial': '', 'RemarkPYQuanPin': '', 'MemberStatus': 0, 'DisplayName': '', 'KeyWord': ''}>, <ChatroomMember: {'MemberList': <ContactList: []>, 'Uin': 0, 'UserName': '@408d47c5d08ac8dbc0fbb9cf7889f5fa', 'NickName': 'yan🌼yan🌿', 'AttrStatus': 132607, 'PYInitial': '', 'PYQuanPin': '', 'RemarkPYInitial': '', 'RemarkPYQuanPin': '', 'MemberStatus': 0, 'DisplayName': '王丽华', 'KeyWord': 'yan'}>, <ChatroomMember: {'MemberList': <ContactList: []>, 'Uin': 0, 'UserName': '@21ad84f2b4dc0e4059706a8d529e11a65c6295e3d3b6040d3eecdebd44ce9f0b', 'NickName': '小白', 'AttrStatus': 231461, 'PYInitial': '', 'PYQuanPin': '', 'RemarkPYInitial': '', 'RemarkPYQuanPin': '', 'MemberStatus': 0, 'DisplayName': '董白萍', 'KeyWord': ''}>, <ChatroomMember: {'MemberList': <ContactList: []>, 'Uin': 0, 'UserName': '@e16382585909a336deb5e6994a56abc0', 'NickName': 'Jack_j', 'AttrStatus': 104487, 'PYInitial': '', 'PYQuanPin': '', 'RemarkPYInitial': '', 'RemarkPYQuanPin': '', 'MemberStatus': 0, 'DisplayName': '贾巍', 'KeyWord': 'jia'}>, <ChatroomMember: {'MemberList': <ContactList: []>, 'Uin': 0, 'UserName': '@f7f14ac4174222fdfd809971c48bb44f7d1aeef53dc16480f78f434ab539e1fd', 'NickName': '骑行者', 'AttrStatus': 135205, 'PYInitial': '', 'PYQuanPin': '', 'RemarkPYInitial': '', 'RemarkPYQuanPin': '', 'MemberStatus': 0, 'DisplayName': '刘军 骑行者', 'KeyWord': ''}>, <ChatroomMember: {'MemberList': <ContactList: []>, 'Uin': 0, 'UserName': '@9ff6d4b10fc104ce82a2033f8b929c69039fc64cce5ae1b0332195c83ebae300', 'NickName': '静静的积雨云', 'AttrStatus': 2164361277, 'PYInitial': '', 'PYQuanPin': '', 'RemarkPYInitial': '', 'RemarkPYQuanPin': '', 'MemberStatus': 0, 'DisplayName': '段磊', 'KeyWord': ''}>, <ChatroomMember: {'MemberList': <ContactList: []>, 'Uin': 0, 'UserName': '@5cab3c8cd47178c066f26f4407294212387480971a5c90d1decb148f1899400f', 'NickName': '老李', 'AttrStatus': 135205, 'PYInitial': '', 'PYQuanPin': '', 'RemarkPYInitial': '', 'RemarkPYQuanPin': '', 'MemberStatus': 0, 'DisplayName': '', 'KeyWord': ''}>, <ChatroomMember: {'MemberList': <ContactList: []>, 'Uin': 0, 'UserName': '@04fc7f9045db2fd9a5a8b80cae1f1c0a627decf02486e299f7314c4ffa496d39', 'NickName': '藕玉', 'AttrStatus': 100861, 'PYInitial': '', 'PYQuanPin': '', 'RemarkPYInitial': '', 'RemarkPYQuanPin': '', 'MemberStatus': 0, 'DisplayName': '王军', 'KeyWord': ''}>, <ChatroomMember: {'MemberList': <ContactList: []>, 'Uin': 0, 'UserName': '@09ea420ef72ad652d24efe184ded200c6d12d8df430305c1f04a5b29c671997a', 'NickName': '冀蔚征人', 'AttrStatus': 135269, 'PYInitial': '', 'PYQuanPin': '', 'RemarkPYInitial': '', 'RemarkPYQuanPin': '', 'MemberStatus': 0, 'DisplayName': '王润清', 'KeyWord': ''}>, <ChatroomMember: {'MemberList': <ContactList: []>, 'Uin': 0, 'UserName': '@6ba191b7a92834551db50835f574ed0062facd7794e775e8279e23c0077f7e67', 'NickName': '洪宾', 'AttrStatus': 6181, 'PYInitial': '', 'PYQuanPin': '', 'RemarkPYInitial': '', 'RemarkPYQuanPin': '', 'MemberStatus': 0, 'DisplayName': '', 'KeyWord': ''}>, <ChatroomMember: {'MemberList': <ContactList: []>, 'Uin': 0, 'UserName': '@ec7157b6bd952807c0d3f14f08eb4c0f9eb4ae146049b9ff2f5302427ded8281', 'NickName': '路宏伟', 'AttrStatus': 102437, 'PYInitial': '', 'PYQuanPin': '', 'RemarkPYInitial': '', 'RemarkPYQuanPin': '', 'MemberStatus': 0, 'DisplayName': '', 'KeyWord': ''}>, <ChatroomMember: {'MemberList': <ContactList: []>, 'Uin': 0, 'UserName': '@387f517cdc9760c59dd9233a658523f9d71e6ccf0727b181990629c834973453', 'NickName': '能豆子', 'AttrStatus': 33558207, 'PYInitial': '', 'PYQuanPin': '', 'RemarkPYInitial': '', 'RemarkPYQuanPin': '', 'MemberStatus': 0, 'DisplayName': '朱枫', 'KeyWord': ''}>, <ChatroomMember: {'MemberList': <ContactList: []>, 'Uin': 0, 'UserName': '@48314bbb1da7bb233bfe35512e74055b46e09894a91a253454947f109931f027', 'NickName': '刘朝亮', 'AttrStatus': 4421, 'PYInitial': '', 'PYQuanPin': '', 'RemarkPYInitial': '', 'RemarkPYQuanPin': '', 'MemberStatus': 0, 'DisplayName': '', 'KeyWord': ''}>, <ChatroomMember: {'MemberList': <ContactList: []>, 'Uin': 0, 'UserName': '@ac9db9c1eee51f570271563f7a5e523c', 'NickName': '李多多', 'AttrStatus': 98663, 'PYInitial': '', 'PYQuanPin': '', 'RemarkPYInitial': '', 'RemarkPYQuanPin': '', 'MemberStatus': 0, 'DisplayName': '李多多', 'KeyWord': 'w21'}>, <ChatroomMember: {'MemberList': <ContactList: []>, 'Uin': 0, 'UserName': '@47b0928c9f5058844c641fb941e90ffa26c398382647cc54e9901a4b47733444', 'NickName': '福群', 'AttrStatus': 135205, 'PYInitial': '', 'PYQuanPin': '', 'RemarkPYInitial': '', 'RemarkPYQuanPin': '', 'MemberStatus': 0, 'DisplayName': '', 'KeyWord': ''}>, <ChatroomMember: {'MemberList': <ContactList: []>, 'Uin': 0, 'UserName': '@7afb36316711a3ae628ce9df171cdefb1fb5d2866cb7041cc862022f85b525b3', 'NickName': '马卫华', 'AttrStatus': 33689637, 'PYInitial': '', 'PYQuanPin': '', 'RemarkPYInitial': '', 'RemarkPYQuanPin': '', 'MemberStatus': 0, 'DisplayName': '马卫华', 'KeyWord': ''}>, <ChatroomMember: {'MemberList': <ContactList: []>, 'Uin': 0, 'UserName': '@c54d904b1a2a7a086547f51d6a7353ae9b0a7bc282218f65fa0d33f533671f33', 'NickName': '京红', 'AttrStatus': 102437, 'PYInitial': '', 'PYQuanPin': '', 'RemarkPYInitial': '', 'RemarkPYQuanPin': '', 'MemberStatus': 0, 'DisplayName': '', 'KeyWord': ''}>, <ChatroomMember: {'MemberList': <ContactList: []>, 'Uin': 0, 'UserName': '@50c81715d255a2177e4d7b096d553456161b3d66d372d973d846ccbe8bb3c529', 'NickName': '魏新中', 'AttrStatus': 102437, 'PYInitial': '', 'PYQuanPin': '', 'RemarkPYInitial': '', 'RemarkPYQuanPin': '', 'MemberStatus': 0, 'DisplayName': '', 'KeyWord': ''}>, <ChatroomMember: {'MemberList': <ContactList: []>, 'Uin': 0, 'UserName': '@6e4322abbbf194a45790e9ef94bd65d6dffb1816314ccbec6991ca51e2fb8d68', 'NickName': '顽强向前', 'AttrStatus': 4157, 'PYInitial': '', 'PYQuanPin': '', 'RemarkPYInitial': '', 'RemarkPYQuanPin': '', 'MemberStatus': 0, 'DisplayName': '胜利', 'KeyWord': ''}>, <ChatroomMember: {'MemberList': <ContactList: []>, 'Uin': 0, 'UserName': '@351786e91c371eec982d85f6da6c7ca7740f842f5d82bf24f1337a9692a3e4c5', 'NickName': '宁静祥和', 'AttrStatus': 5821, 'PYInitial': '', 'PYQuanPin': '', 'RemarkPYInitial': '', 'RemarkPYQuanPin': '', 'MemberStatus': 0, 'DisplayName': 'LV', 'KeyWord': ''}>, <ChatroomMember: {'MemberList': <ContactList: []>, 'Uin': 0, 'UserName': '@83948c442da6e8df03cb1d8da164dbfeaf0713b4cbe4017494a8e897e733e285', 'NickName': '王丽', 'AttrStatus': 4133, 'PYInitial': '', 'PYQuanPin': '', 'RemarkPYInitial': '', 'RemarkPYQuanPin': '', 'MemberStatus': 0, 'DisplayName': '', 'KeyWord': ''}>, <ChatroomMember: {'MemberList': <ContactList: []>, 'Uin': 0, 'UserName': '@5fc38fa7aa432f631c3e23273c5663fc6cfdc951cd41799f39be1b07a637626c', 'NickName': '美', 'AttrStatus': 135461, 'PYInitial': '', 'PYQuanPin': '', 'RemarkPYInitial': '', 'RemarkPYQuanPin': '', 'MemberStatus': 0, 'DisplayName': '宋燕军', 'KeyWord': ''}>, <ChatroomMember: {'MemberList': <ContactList: []>, 'Uin': 0, 'UserName': '@907c332edbb83dd165f58f1dd5ba60731cd84d67d9dd0112f7d275be632be55a', 'NickName': '申安喜', 'AttrStatus': 102437, 'PYInitial': '', 'PYQuanPin': '', 'RemarkPYInitial': '', 'RemarkPYQuanPin': '', 'MemberStatus': 0, 'DisplayName': '', 'KeyWord': ''}>, <ChatroomMember: {'MemberList': <ContactList: []>, 'Uin': 0, 'UserName': '@d34b020663f3bffbb898189c87243ec1a215c7611f2ed5e4debbad9b7264cc78', 'NickName': '张西婷', 'AttrStatus': 16912893, 'PYInitial': '', 'PYQuanPin': '', 'RemarkPYInitial': '', 'RemarkPYQuanPin': '', 'MemberStatus': 0, 'DisplayName': '张西婷', 'KeyWord': ''}>, <ChatroomMember: {'MemberList': <ContactList: []>, 'Uin': 0, 'UserName': '@299cbe35c58a2adbb97e6d26aef185776611708fa4f0e6cec6ad28f6a9eef066', 'NickName': '佳燕', 'AttrStatus': 102433, 'PYInitial': '', 'PYQuanPin': '', 'RemarkPYInitial': '', 'RemarkPYQuanPin': '', 'MemberStatus': 0, 'DisplayName': '葛红梅', 'KeyWord': ''}>, <ChatroomMember: {'MemberList': <ContactList: []>, 'Uin': 0, 'UserName': '@6e72c090504e4c1c14c4af9771a3c5bfb1ad8b1f5c566963fd5ac99b5ef96694', 'NickName': '于海敬', 'AttrStatus': 235557, 'PYInitial': '', 'PYQuanPin': '', 'RemarkPYInitial': '', 'RemarkPYQuanPin': '', 'MemberStatus': 0, 'DisplayName': '于海敬', 'KeyWord': ''}>, <ChatroomMember: {'MemberList': <ContactList: []>, 'Uin': 0, 'UserName': '@607643b1ca2106e99357615493ca5176', 'NickName': '陈冠宇', 'AttrStatus': 33624101, 'PYInitial': '', 'PYQuanPin': '', 'RemarkPYInitial': '', 'RemarkPYQuanPin': '', 'MemberStatus': 0, 'DisplayName': '陈冠宇', 'KeyWord': 'cgy'}>, <ChatroomMember: {'MemberList': <ContactList: []>, 'Uin': 0, 'UserName': '@ce45d2f396e9da82ad57eeecb56c7810e14812975578937ed6a8270bbbf26f04', 'NickName': '王一婧', 'AttrStatus': 73151, 'PYInitial': '', 'PYQuanPin': '', 'RemarkPYInitial': '', 'RemarkPYQuanPin': '', 'MemberStatus': 0, 'DisplayName': '王一婧', 'KeyWord': 'wan'}>, <ChatroomMember: {'MemberList': <ContactList: []>, 'Uin': 0, 'UserName': '@f598de3fd5d4921de25a05a35515f70d450e0601ea4d4a0aeba9dc2b2b1cb717', 'NickName': '徐萍', 'AttrStatus': 4133, 'PYInitial': '', 'PYQuanPin': '', 'RemarkPYInitial': '', 'RemarkPYQuanPin': '', 'MemberStatus': 0, 'DisplayName': '', 'KeyWord': ''}>, <ChatroomMember: {'MemberList': <ContactList: []>, 'Uin': 0, 'UserName': '@f6d2366f14212dea66700af5afbd2f805466f43eab8fd796ee66c16217a08b20', 'NickName': '端木子', 'AttrStatus': 135269, 'PYInitial': '', 'PYQuanPin': '', 'RemarkPYInitial': '', 'RemarkPYQuanPin': '', 'MemberStatus': 0, 'DisplayName': '段世萍', 'KeyWord': ''}>, <ChatroomMember: {'MemberList': <ContactList: []>, 'Uin': 0, 'UserName': '@41dad991cc0cd59577b4782378457dd56b16401d3845ec18edf6ffdf905cd4be', 'NickName': '陈兴周', 'AttrStatus': 98749, 'PYInitial': '', 'PYQuanPin': '', 'RemarkPYInitial': '', 'RemarkPYQuanPin': '', 'MemberStatus': 0, 'DisplayName': '', 'KeyWord': ''}>, <ChatroomMember: {'MemberList': <ContactList: []>, 'Uin': 0, 'UserName': '@ff39d85cf7c921a1327d904fe77905b1ac47b631d6ab304b0fc4d6ae19972d0e', 'NickName': '王豫燕', 'AttrStatus': 69669, 'PYInitial': '', 'PYQuanPin': '', 'RemarkPYInitial': '', 'RemarkPYQuanPin': '', 'MemberStatus': 0, 'DisplayName': '王豫燕', 'KeyWord': ''}>, <ChatroomMember: {'MemberList': <ContactList: []>, 'Uin': 0, 'UserName': '@e6b8c48786aef2f7e3dbd2b25157e809e79ad618ae63f1c4c21d72b09131d20d', 'NickName': '胡亮帆', 'AttrStatus': 136295, 'PYInitial': '', 'PYQuanPin': '', 'RemarkPYInitial': '', 'RemarkPYQuanPin': '', 'MemberStatus': 0, 'DisplayName': '', 'KeyWord': 'ruo'}>]>, 'Uin': 0, 'UserName': '@@f3039f61672978c4cda5b96c012447660f37194652142bf1b1fefec9bc58008d', 'NickName': '新乡气象', 'HeadImgUrl': '/cgi-bin/mmwebwx-bin/webwxgetheadimg?seq=677639969&username=@@f3039f61672978c4cda5b96c012447660f37194652142bf1b1fefec9bc58008d&skey=', 'ContactFlag': 2, 'MemberCount': 78, 'RemarkName': '', 'HideInputBarFlag': 0, 'Sex': 0, 'Signature': '', 'VerifyFlag': 0, 'OwnerUin': 0, 'PYInitial': 'XXQX', 'PYQuanPin': 'xinxiangqixiang', 'RemarkPYInitial': '', 'RemarkPYQuanPin': '', 'StarFriend': 0, 'AppAccountFlag': 0, 'Statues': 0, 'AttrStatus': 0, 'Province': '', 'City': '', 'Alias': '', 'SnsFlag': 0, 'UniFriend': 0, 'DisplayName': '', 'ChatRoomId': 0, 'KeyWord': '', 'EncryChatRoomId': '@40415d2702edc6a091a578a4fe407b26', 'IsOwner': 0, 'IsAdmin': None, 'Self': <ChatroomMember: {'MemberList': <ContactList: []>, 'Uin': 0, 'UserName': '@387f517cdc9760c59dd9233a658523f9d71e6ccf0727b181990629c834973453', 'NickName': '能豆子', 'AttrStatus': 33558207, 'PYInitial': '', 'PYQuanPin': '', 'RemarkPYInitial': '', 'RemarkPYQuanPin': '', 'MemberStatus': 0, 'DisplayName': '朱枫', 'KeyWord': ''}>}>]"
      ]
     },
     "execution_count": 78,
     "metadata": {},
     "output_type": "execute_result"
    }
   ],
   "source": [
    "chatrooms"
   ]
  },
  {
   "cell_type": "code",
   "execution_count": 79,
   "metadata": {},
   "outputs": [
    {
     "name": "stderr",
     "output_type": "stream",
     "text": [
      "LOG OUT!\n"
     ]
    },
    {
     "data": {
      "text/plain": [
       "<ItchatReturnValue: {'BaseResponse': {'ErrMsg': '请求成功', 'Ret': 0, 'RawMsg': 'logout successfully.'}}>"
      ]
     },
     "execution_count": 79,
     "metadata": {},
     "output_type": "execute_result"
    }
   ],
   "source": [
    "itchat.logout()"
   ]
  },
  {
   "cell_type": "code",
   "execution_count": null,
   "metadata": {},
   "outputs": [],
   "source": []
  }
 ],
 "metadata": {
  "kernelspec": {
   "display_name": "Python 3",
   "language": "python",
   "name": "python3"
  },
  "language_info": {
   "codemirror_mode": {
    "name": "ipython",
    "version": 3
   },
   "file_extension": ".py",
   "mimetype": "text/x-python",
   "name": "python",
   "nbconvert_exporter": "python",
   "pygments_lexer": "ipython3",
   "version": "3.6.6"
  }
 },
 "nbformat": 4,
 "nbformat_minor": 2
}
