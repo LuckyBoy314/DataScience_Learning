{
 "cells": [
  {
   "cell_type": "markdown",
   "metadata": {},
   "source": [
    "# 10 Heatmaps 10 Libraries\n",
    "\n",
    "I recently watched Jake VanderPlas' amazing PyCon2017 talk on the landscape of [Python Data Visualization](https://youtu.be/FytuB8nFHPQ). That presentation inspired this post. In programming, we often see the same ['Hello World'](https://en.wikipedia.org/wiki/%22Hello,_World!%22_program) or Fibonacci style program implemented in multiple programming languages as a comparison. In Jake's presentation, he shows the same scatter plot in several of the libraries he featured. Below, I am following the same formula. I am recreating the same chart, a heatmap about airline flights, in ten different python visualization libraries. \n",
    "\n",
    "I am also launching a public github repo [Python-Viz-Compared](https://github.com/AlgorexHealth/python-viz-compared) for these comparison notebooks. Each Jupyter notebook will contain one chart (bar, scatter etc) and then up to 10 different ways of implementing them. But for this post, we are going to start with HeatMaps. \n",
    "\n",
    "### the challenge\n",
    "How easy is it to take a matrix or 2d array and convert it to a heatmap with custom color scaling? \n",
    "\n",
    "Jake gave us a good chart sorting out the various approaches of these libraries:\n",
    "\n",
    "<script async class=\"speakerdeck-embed\" data-slide=\"35\" data-id=\"a2d86983ff634ac3871ad4e5a308a67b\" data-ratio=\"1.33333333333333\" src=\"//speakerdeck.com/assets/embed.js\"></script>\n",
    "\n",
    "Taking Jake's lead , let's summarize the various quadrants shown here: \n",
    "\n",
    "* **Upper Right Purple: Matplotlib Family** These libraries keep matplotlib as a versatile battle-tested back end but provide streamlined domain specific APIs. \n",
    "* **Upper Left Turquoise: Browser JS** Build a new API that results in a javascript serialization of a plot for display in a browser. \n",
    "* **Lower Right Red: Declarative Visualization** Following a open, cross-platform specification language the data, and visualization can be rendered in any back end by any language. \n",
    "* **Everything Else:** This includes a lot of other stuff from platforms that support server-side rendering of streaming data to libraries that leverage GPU platforms specifically. \n",
    "\n",
    "I'm going to refer to this system as the VanderPlas taxonomy. So with that overview, let dive in to our challenge. \n",
    "\n",
    "\n",
    "*Update: Just after posting I cam across this amazingly written post [A Dramatic Tour through Python’s Data Visualization Landscape](https://dsaber.com/2016/10/02/a-dramatic-tour-through-pythons-data-visualization-landscape-including-ggplot-and-altair/) and I am sorry I didn't have the creativity to equal it*\n"
   ]
  },
  {
   "cell_type": "code",
   "execution_count": 1,
   "metadata": {},
   "outputs": [],
   "source": [
    "from IPython.core.display import HTML\n",
    "import pandas as pd\n",
    "import numpy as np\n"
   ]
  },
  {
   "cell_type": "markdown",
   "metadata": {},
   "source": [
    "## Data for our Heatmap\n",
    "\n",
    "The heatmap will be making is actually one of the [examples in the Seaborn documentation](https://seaborn.pydata.org/generated/seaborn.heatmap.html). It comprises monthly totals for airline passengers from 1949 to 1960 on a specific route. It is adapted from the R package `airpassengers`.  \n",
    "\n",
    "We will read it into pandas and use it for all charts going forward."
   ]
  },
  {
   "cell_type": "code",
   "execution_count": 2,
   "metadata": {},
   "outputs": [
    {
     "data": {
      "text/html": [
       "<div>\n",
       "<style scoped>\n",
       "    .dataframe tbody tr th:only-of-type {\n",
       "        vertical-align: middle;\n",
       "    }\n",
       "\n",
       "    .dataframe tbody tr th {\n",
       "        vertical-align: top;\n",
       "    }\n",
       "\n",
       "    .dataframe thead th {\n",
       "        text-align: right;\n",
       "    }\n",
       "</style>\n",
       "<table border=\"1\" class=\"dataframe\">\n",
       "  <thead>\n",
       "    <tr style=\"text-align: right;\">\n",
       "      <th></th>\n",
       "      <th>year</th>\n",
       "      <th>month</th>\n",
       "      <th>passengers</th>\n",
       "    </tr>\n",
       "  </thead>\n",
       "  <tbody>\n",
       "    <tr>\n",
       "      <td>0</td>\n",
       "      <td>1949</td>\n",
       "      <td>January</td>\n",
       "      <td>112</td>\n",
       "    </tr>\n",
       "    <tr>\n",
       "      <td>1</td>\n",
       "      <td>1949</td>\n",
       "      <td>February</td>\n",
       "      <td>118</td>\n",
       "    </tr>\n",
       "    <tr>\n",
       "      <td>2</td>\n",
       "      <td>1949</td>\n",
       "      <td>March</td>\n",
       "      <td>132</td>\n",
       "    </tr>\n",
       "    <tr>\n",
       "      <td>3</td>\n",
       "      <td>1949</td>\n",
       "      <td>April</td>\n",
       "      <td>129</td>\n",
       "    </tr>\n",
       "    <tr>\n",
       "      <td>4</td>\n",
       "      <td>1949</td>\n",
       "      <td>May</td>\n",
       "      <td>121</td>\n",
       "    </tr>\n",
       "  </tbody>\n",
       "</table>\n",
       "</div>"
      ],
      "text/plain": [
       "   year     month  passengers\n",
       "0  1949   January         112\n",
       "1  1949  February         118\n",
       "2  1949     March         132\n",
       "3  1949     April         129\n",
       "4  1949       May         121"
      ]
     },
     "execution_count": 2,
     "metadata": {},
     "output_type": "execute_result"
    }
   ],
   "source": [
    "flights_raw = pd.read_csv('data/flights.csv')\n",
    "flights_raw[\"month\"] = pd.Categorical(flights_raw[\"month\"], flights_raw.month.unique())\n",
    "flights_raw.head()"
   ]
  },
  {
   "cell_type": "markdown",
   "metadata": {},
   "source": [
    "To support the heatmap, we will pivot the dataset to put years on the x axis and months on Y axis. This will create a matrix (called `flight_matrix` below) that absent any coloring represents our heatmap. About half of the libraries listed here ask for a matrix input when processing the data for a heatmap.  "
   ]
  },
  {
   "cell_type": "code",
   "execution_count": 3,
   "metadata": {},
   "outputs": [
    {
     "data": {
      "text/html": [
       "<div>\n",
       "<style scoped>\n",
       "    .dataframe tbody tr th:only-of-type {\n",
       "        vertical-align: middle;\n",
       "    }\n",
       "\n",
       "    .dataframe tbody tr th {\n",
       "        vertical-align: top;\n",
       "    }\n",
       "\n",
       "    .dataframe thead th {\n",
       "        text-align: right;\n",
       "    }\n",
       "</style>\n",
       "<table border=\"1\" class=\"dataframe\">\n",
       "  <thead>\n",
       "    <tr style=\"text-align: right;\">\n",
       "      <th>year</th>\n",
       "      <th>1949</th>\n",
       "      <th>1950</th>\n",
       "      <th>1951</th>\n",
       "      <th>1952</th>\n",
       "      <th>1953</th>\n",
       "      <th>1954</th>\n",
       "      <th>1955</th>\n",
       "      <th>1956</th>\n",
       "      <th>1957</th>\n",
       "      <th>1958</th>\n",
       "      <th>1959</th>\n",
       "      <th>1960</th>\n",
       "    </tr>\n",
       "    <tr>\n",
       "      <th>month</th>\n",
       "      <th></th>\n",
       "      <th></th>\n",
       "      <th></th>\n",
       "      <th></th>\n",
       "      <th></th>\n",
       "      <th></th>\n",
       "      <th></th>\n",
       "      <th></th>\n",
       "      <th></th>\n",
       "      <th></th>\n",
       "      <th></th>\n",
       "      <th></th>\n",
       "    </tr>\n",
       "  </thead>\n",
       "  <tbody>\n",
       "    <tr>\n",
       "      <td>January</td>\n",
       "      <td>112</td>\n",
       "      <td>115</td>\n",
       "      <td>145</td>\n",
       "      <td>171</td>\n",
       "      <td>196</td>\n",
       "      <td>204</td>\n",
       "      <td>242</td>\n",
       "      <td>284</td>\n",
       "      <td>315</td>\n",
       "      <td>340</td>\n",
       "      <td>360</td>\n",
       "      <td>417</td>\n",
       "    </tr>\n",
       "    <tr>\n",
       "      <td>February</td>\n",
       "      <td>118</td>\n",
       "      <td>126</td>\n",
       "      <td>150</td>\n",
       "      <td>180</td>\n",
       "      <td>196</td>\n",
       "      <td>188</td>\n",
       "      <td>233</td>\n",
       "      <td>277</td>\n",
       "      <td>301</td>\n",
       "      <td>318</td>\n",
       "      <td>342</td>\n",
       "      <td>391</td>\n",
       "    </tr>\n",
       "    <tr>\n",
       "      <td>March</td>\n",
       "      <td>132</td>\n",
       "      <td>141</td>\n",
       "      <td>178</td>\n",
       "      <td>193</td>\n",
       "      <td>236</td>\n",
       "      <td>235</td>\n",
       "      <td>267</td>\n",
       "      <td>317</td>\n",
       "      <td>356</td>\n",
       "      <td>362</td>\n",
       "      <td>406</td>\n",
       "      <td>419</td>\n",
       "    </tr>\n",
       "    <tr>\n",
       "      <td>April</td>\n",
       "      <td>129</td>\n",
       "      <td>135</td>\n",
       "      <td>163</td>\n",
       "      <td>181</td>\n",
       "      <td>235</td>\n",
       "      <td>227</td>\n",
       "      <td>269</td>\n",
       "      <td>313</td>\n",
       "      <td>348</td>\n",
       "      <td>348</td>\n",
       "      <td>396</td>\n",
       "      <td>461</td>\n",
       "    </tr>\n",
       "    <tr>\n",
       "      <td>May</td>\n",
       "      <td>121</td>\n",
       "      <td>125</td>\n",
       "      <td>172</td>\n",
       "      <td>183</td>\n",
       "      <td>229</td>\n",
       "      <td>234</td>\n",
       "      <td>270</td>\n",
       "      <td>318</td>\n",
       "      <td>355</td>\n",
       "      <td>363</td>\n",
       "      <td>420</td>\n",
       "      <td>472</td>\n",
       "    </tr>\n",
       "    <tr>\n",
       "      <td>June</td>\n",
       "      <td>135</td>\n",
       "      <td>149</td>\n",
       "      <td>178</td>\n",
       "      <td>218</td>\n",
       "      <td>243</td>\n",
       "      <td>264</td>\n",
       "      <td>315</td>\n",
       "      <td>374</td>\n",
       "      <td>422</td>\n",
       "      <td>435</td>\n",
       "      <td>472</td>\n",
       "      <td>535</td>\n",
       "    </tr>\n",
       "    <tr>\n",
       "      <td>July</td>\n",
       "      <td>148</td>\n",
       "      <td>170</td>\n",
       "      <td>199</td>\n",
       "      <td>230</td>\n",
       "      <td>264</td>\n",
       "      <td>302</td>\n",
       "      <td>364</td>\n",
       "      <td>413</td>\n",
       "      <td>465</td>\n",
       "      <td>491</td>\n",
       "      <td>548</td>\n",
       "      <td>622</td>\n",
       "    </tr>\n",
       "    <tr>\n",
       "      <td>August</td>\n",
       "      <td>148</td>\n",
       "      <td>170</td>\n",
       "      <td>199</td>\n",
       "      <td>242</td>\n",
       "      <td>272</td>\n",
       "      <td>293</td>\n",
       "      <td>347</td>\n",
       "      <td>405</td>\n",
       "      <td>467</td>\n",
       "      <td>505</td>\n",
       "      <td>559</td>\n",
       "      <td>606</td>\n",
       "    </tr>\n",
       "    <tr>\n",
       "      <td>September</td>\n",
       "      <td>136</td>\n",
       "      <td>158</td>\n",
       "      <td>184</td>\n",
       "      <td>209</td>\n",
       "      <td>237</td>\n",
       "      <td>259</td>\n",
       "      <td>312</td>\n",
       "      <td>355</td>\n",
       "      <td>404</td>\n",
       "      <td>404</td>\n",
       "      <td>463</td>\n",
       "      <td>508</td>\n",
       "    </tr>\n",
       "    <tr>\n",
       "      <td>October</td>\n",
       "      <td>119</td>\n",
       "      <td>133</td>\n",
       "      <td>162</td>\n",
       "      <td>191</td>\n",
       "      <td>211</td>\n",
       "      <td>229</td>\n",
       "      <td>274</td>\n",
       "      <td>306</td>\n",
       "      <td>347</td>\n",
       "      <td>359</td>\n",
       "      <td>407</td>\n",
       "      <td>461</td>\n",
       "    </tr>\n",
       "    <tr>\n",
       "      <td>November</td>\n",
       "      <td>104</td>\n",
       "      <td>114</td>\n",
       "      <td>146</td>\n",
       "      <td>172</td>\n",
       "      <td>180</td>\n",
       "      <td>203</td>\n",
       "      <td>237</td>\n",
       "      <td>271</td>\n",
       "      <td>305</td>\n",
       "      <td>310</td>\n",
       "      <td>362</td>\n",
       "      <td>390</td>\n",
       "    </tr>\n",
       "    <tr>\n",
       "      <td>December</td>\n",
       "      <td>118</td>\n",
       "      <td>140</td>\n",
       "      <td>166</td>\n",
       "      <td>194</td>\n",
       "      <td>201</td>\n",
       "      <td>229</td>\n",
       "      <td>278</td>\n",
       "      <td>306</td>\n",
       "      <td>336</td>\n",
       "      <td>337</td>\n",
       "      <td>405</td>\n",
       "      <td>432</td>\n",
       "    </tr>\n",
       "  </tbody>\n",
       "</table>\n",
       "</div>"
      ],
      "text/plain": [
       "year       1949  1950  1951  1952  1953  1954  1955  1956  1957  1958  1959  \\\n",
       "month                                                                         \n",
       "January     112   115   145   171   196   204   242   284   315   340   360   \n",
       "February    118   126   150   180   196   188   233   277   301   318   342   \n",
       "March       132   141   178   193   236   235   267   317   356   362   406   \n",
       "April       129   135   163   181   235   227   269   313   348   348   396   \n",
       "May         121   125   172   183   229   234   270   318   355   363   420   \n",
       "June        135   149   178   218   243   264   315   374   422   435   472   \n",
       "July        148   170   199   230   264   302   364   413   465   491   548   \n",
       "August      148   170   199   242   272   293   347   405   467   505   559   \n",
       "September   136   158   184   209   237   259   312   355   404   404   463   \n",
       "October     119   133   162   191   211   229   274   306   347   359   407   \n",
       "November    104   114   146   172   180   203   237   271   305   310   362   \n",
       "December    118   140   166   194   201   229   278   306   336   337   405   \n",
       "\n",
       "year       1960  \n",
       "month            \n",
       "January     417  \n",
       "February    391  \n",
       "March       419  \n",
       "April       461  \n",
       "May         472  \n",
       "June        535  \n",
       "July        622  \n",
       "August      606  \n",
       "September   508  \n",
       "October     461  \n",
       "November    390  \n",
       "December    432  "
      ]
     },
     "execution_count": 3,
     "metadata": {},
     "output_type": "execute_result"
    }
   ],
   "source": [
    "flight_matrix = flights_raw.pivot(\"month\", \"year\", \"passengers\")\n",
    "flight_matrix"
   ]
  },
  {
   "cell_type": "markdown",
   "metadata": {},
   "source": [
    "The other half want something closer to our original array. We will refer to that as `flight_rows`. "
   ]
  },
  {
   "cell_type": "code",
   "execution_count": 4,
   "metadata": {},
   "outputs": [],
   "source": [
    "flight_rows = flights_raw"
   ]
  },
  {
   "cell_type": "markdown",
   "metadata": {},
   "source": [
    "## Heatmap 1: MatplotLib\n",
    "\n",
    "First up [matplotlib](https://matplotlib.org), the most venerable python visualization library with support to export and use many many rendering types (png, pdf, svg etc).\n",
    "\n"
   ]
  },
  {
   "cell_type": "code",
   "execution_count": 5,
   "metadata": {},
   "outputs": [
    {
     "data": {
      "text/plain": [
       "Text(0,0.5,'Month')"
      ]
     },
     "execution_count": 5,
     "metadata": {},
     "output_type": "execute_result"
    },
    {
     "data": {
      "text/plain": [
       "<Figure size 432x288 with 0 Axes>"
      ]
     },
     "metadata": {},
     "output_type": "display_data"
    },
    {
     "data": {
      "image/png": "[encoded data removed]",
      "text/plain": [
       "<Figure size 864x864 with 1 Axes>"
      ]
     },
     "metadata": {
      "needs_background": "light"
     },
     "output_type": "display_data"
    }
   ],
   "source": [
    "import matplotlib.ticker as ticker\n",
    "import matplotlib.cm as cm\n",
    "import matplotlib as mpl\n",
    "\n",
    "import matplotlib.pyplot as plt\n",
    "%matplotlib inline\n",
    "\n",
    "\n",
    "fig = plt.figure()\n",
    "fig, ax = plt.subplots(1,1, figsize=(12,12))\n",
    "heatplot = ax.imshow(flight_matrix, cmap='BuPu')\n",
    "ax.set_xticklabels(flight_matrix.columns)\n",
    "ax.set_yticklabels(flight_matrix.index)\n",
    "\n",
    "tick_spacing = 1\n",
    "ax.xaxis.set_major_locator(ticker.MultipleLocator(tick_spacing))\n",
    "ax.yaxis.set_major_locator(ticker.MultipleLocator(tick_spacing))\n",
    "ax.set_title(\"Heatmap of Flight Density from 1949 to 1961\")\n",
    "ax.set_xlabel('Year')\n",
    "ax.set_ylabel('Month')\n"
   ]
  },
  {
   "cell_type": "markdown",
   "metadata": {},
   "source": [
    "While matplotlib makes heat maps really easy with `imshow`, I find it tricky to have a mental model of the figure, subplot, and axes. The subplot is critical here in order ensure you can rename the axes labels. Then a whole new module needs to be imported to set the ticker correctly. \n",
    "\n",
    "But at the end, every element is here and it will be the standard we measure against. Clean color scale mapped to the passenger volume, titles, axis labels all consistently shown.\n",
    "\n",
    "credit: *https://stackoverflow.com/questions/32236046/add-a-legend-to-my-heatmap-plot*\n",
    "\n",
    "## Heatmap 2 Seaborn\n",
    "\n",
    "[Seaborn](https://seaborn.pydata.org/introduction.html) is a streamlining of matplotlib's API to make it more applicable to statistical applications. Seaborn's API makes you think about the best way to compare univariate or bivariate data sets and then has clear and concise syntax to get the charts needed to immediately compare your variables. "
   ]
  },
  {
   "cell_type": "code",
   "execution_count": 6,
   "metadata": {},
   "outputs": [
    {
     "data": {
      "text/plain": [
       "Text(0.5,1,'Heatmap of Flight Density from 1949 to 1961')"
      ]
     },
     "execution_count": 6,
     "metadata": {},
     "output_type": "execute_result"
    },
    {
     "data": {
      "image/png": "[encoded data removed]",
      "text/plain": [
       "<Figure size 864x864 with 2 Axes>"
      ]
     },
     "metadata": {
      "needs_background": "light"
     },
     "output_type": "display_data"
    }
   ],
   "source": [
    "import seaborn as sns\n",
    "fig = plt.figure(figsize=(12,12))\n",
    "r = sns.heatmap(flight_matrix, cmap='BuPu')\n",
    "r.set_title(\"Heatmap of Flight Density from 1949 to 1961\")\n"
   ]
  },
  {
   "cell_type": "markdown",
   "metadata": {},
   "source": [
    "Remember, seaborn is implemented on top of matplotlib. So, you can use the same conventions in matplotlib to manipulate the chart. So, I used matplotlib's figure to define the size of the chart I wanted and then Seaborn took care of the rest. Giving us a perfect heatmap with the added color bar to show the scaling. \n",
    "\n",
    "## Heatmap 3 PlotNine (ggplot2):\n",
    "\n",
    "[plotnine](https://github.com/has2k1/plotnine) is the python implementation of R's most dominant visualization library [ggplot2](http://had.co.nz/ggplot2/). Like matplotlib in python, ggplot2 is the default visualization for R with support for all types of outputs. \n",
    "\n",
    "Plotnine is a bit of magic especially if you are really good at ggplot (I am not) and you are willing to import the entire namespace with `import *` so that you don't have to prefix every element. Then it faithfully recreates the ggplot2 syntax. "
   ]
  },
  {
   "cell_type": "code",
   "execution_count": 7,
   "metadata": {},
   "outputs": [
    {
     "ename": "ModuleNotFoundError",
     "evalue": "No module named 'plotnine'",
     "output_type": "error",
     "traceback": [
      "\u001b[0;31m---------------------------------------------------------------------------\u001b[0m",
      "\u001b[0;31mModuleNotFoundError\u001b[0m                       Traceback (most recent call last)",
      "\u001b[0;32m<ipython-input-7-f1a81935e328>\u001b[0m in \u001b[0;36m<module>\u001b[0;34m\u001b[0m\n\u001b[0;32m----> 1\u001b[0;31m \u001b[0;32mfrom\u001b[0m \u001b[0mplotnine\u001b[0m \u001b[0;32mimport\u001b[0m \u001b[0;34m*\u001b[0m\u001b[0;34m\u001b[0m\u001b[0;34m\u001b[0m\u001b[0m\n\u001b[0m\u001b[1;32m      2\u001b[0m \u001b[0;34m\u001b[0m\u001b[0m\n\u001b[1;32m      3\u001b[0m \u001b[0mfig\u001b[0m \u001b[0;34m=\u001b[0m \u001b[0mplt\u001b[0m\u001b[0;34m.\u001b[0m\u001b[0mfigure\u001b[0m\u001b[0;34m(\u001b[0m\u001b[0;34m)\u001b[0m\u001b[0;34m\u001b[0m\u001b[0;34m\u001b[0m\u001b[0m\n\u001b[1;32m      4\u001b[0m \u001b[0;34m\u001b[0m\u001b[0m\n\u001b[1;32m      5\u001b[0m \u001b[0;34m\u001b[0m\u001b[0m\n",
      "\u001b[0;31mModuleNotFoundError\u001b[0m: No module named 'plotnine'"
     ]
    }
   ],
   "source": [
    "from plotnine import * \n",
    "\n",
    "fig = plt.figure()\n",
    "\n",
    "\n",
    "ggplot(flight_rows, aes('year', 'month')) + geom_tile(aes(fill='passengers'))\\\n",
    "    + scale_fill_gradientn(colors=['#9ebcda','#8c6bb1','#88419d','#6e016b']) \\\n",
    "    + ggtitle(\"Heatmap of Flight Density from 1949 to 1961\")"
   ]
  },
  {
   "cell_type": "markdown",
   "metadata": {},
   "source": [
    "As I said above, if you are coming from R to python, you will love this library which faithfully recreates the ggplot syntax. The team at Plotnine has said they are looking to implement the entire [\"Grammar of Graphics\"](ttp://dx.doi.org/10.1198/jcgs.2009.07098) using matplotlib as the backend to render the images. \n",
    "\n",
    "credit: *https://www.r-bloggers.com/how-to-make-a-simple-heatmap-in-ggplot2/* \n",
    "\n",
    "## Heatmap 4: BqPlot\n",
    "\n",
    "Based on the VanderPlas taxonomy, the next four libraries are from a different core set of assumptions. These all use a python API to customize a javascript client-side framework that renders the data and figure in the browser. The advantages to this approach are that the figures have a modern look and can include rich browser interactions such as zooming, selection, and filtering. \n",
    "\n",
    "I had not used bqplot prior to this exercise and like ggplot, plotnine, it has a syntax inspired by grammar of graphics. Frankly, the heatmap example was so easy, I can't claim to have learned very much "
   ]
  },
  {
   "cell_type": "code",
   "execution_count": null,
   "metadata": {},
   "outputs": [],
   "source": [
    "import bqplot\n",
    "from ipywidgets import Layout\n",
    "from ipywidgets import widgets\n",
    "from IPython.display import display\n",
    "#Make sure you enable the jupyter extension\n",
    "\n",
    "\n",
    "x = flight_matrix.index\n",
    "y = flight_matrix.columns\n",
    "\n",
    "\n",
    "x_sc, y_sc, col_sc = bqplot.OrdinalScale(), bqplot.OrdinalScale(), bqplot.ColorScale(scheme='BuPu')\n",
    "ax_x = bqplot.Axis(scale=x_sc, label='Years')\n",
    "ax_y = bqplot.Axis(scale=y_sc, orientation='vertical', label='Months')\n",
    "ax_c = bqplot.ColorAxis(scale=col_sc)\n",
    "\n",
    "heat = bqplot.GridHeatMap(color=flight_matrix,\n",
    "               scales={'row': x_sc, 'column': y_sc, 'color': col_sc}, stroke='white', row=y.tolist(), column=x.tolist())\n",
    "\n",
    "fig = bqplot.Figure(marks=[heat], axes=[ax_x, ax_y, ax_c],\n",
    "             title=\"Heatmap of Flight Density from 1949 to 1961\", layout=Layout(width='650px', height='650px'))\n",
    "fig\n"
   ]
  },
  {
   "cell_type": "markdown",
   "metadata": {},
   "source": [
    "<s>Where are my tick marks? I have no idea. I think because i am using a linear scaler here, it is dismissing the names of the years and months that should appear on the Y and X axes. I looked at the raw code for the Axes class and it appears to only support numerical and date axes. Someone can speak up on this issue if they want to correct me. Also, is it just me or are the colors wrong? </s>\n",
    "\n",
    "Got a great comment from [Sylvain Corlay](https://twitter.com/SylvainCorlay/status/967458628373483520), the author of bqplot on how to add the tick and label names. It was really obvious and clearly shown in the example. Basically, there are column and row arguments that allow you pass the label names so that they appear. \n",
    "\n",
    "## Heatmap 5: plotly\n",
    "\n",
    "[plotly](https://plot.ly) is fantastic plotting library that combines a free, open-source version and also a paid version that offers some server assisted features. Plotly has amazing cross-platform support for python, R, and Javascript. It has also has great documentation and example library. \n",
    "\n",
    "You will need to register for a free plotly account to use this one. You will register it  from the command line by running the following:\n",
    "\n",
    "```\n",
    "import plotly\n",
    "plotly.tools.set_credentials_file(username='DemoAccount', api_key='i8i8i8i8i8')\n",
    "``\n",
    "\n"
   ]
  },
  {
   "cell_type": "code",
   "execution_count": null,
   "metadata": {},
   "outputs": [],
   "source": [
    "import plotly.plotly as py\n",
    "import plotly.graph_objs as go\n",
    "\n",
    "\n",
    "\n",
    "colorscale = [[0, '#edf8fb'], [.3, '#b3cde3'],  [.6, '#8856a7'],  [1, '#810f7c']]\n",
    "\n",
    "heatmap = go.Heatmap(z=flight_matrix.as_matrix(), x=flight_matrix.columns, y=flight_matrix.index, colorscale=colorscale)\n",
    "data = [heatmap]\n",
    "py.iplot(data, filename='basic-heatmap')\n",
    "\n"
   ]
  },
  {
   "cell_type": "markdown",
   "metadata": {},
   "source": [
    "Plotly as you can see was very succinct and they added interactivity automatically. The online support also is really great. By visiting the links at plotly, you can can edit the chart in a sort of gui on their website and even regenerate the code used to create the plot. This built up a great community of chart visualizations. \n",
    "\n",
    "## Heatmap 6: cufflinks\n",
    "\n",
    "This is sort of a trick. Cufflinks is plotly just with a different api designed to be run directly from a pandas dataframe. This makes the data inputs easier set-up and use in the charts. \n",
    "\n"
   ]
  },
  {
   "cell_type": "code",
   "execution_count": null,
   "metadata": {},
   "outputs": [],
   "source": [
    "import cufflinks as cf\n",
    "\n",
    "# Correct datatypes cufflinks does not support CategoryType so we make them strings and rebuild the dataframe. \n",
    "df_flights = pd.DataFrame(data=flight_matrix.as_matrix(), index=flight_matrix.index.astype('str'), columns=flight_matrix.columns)\n",
    "\n",
    "df_flights.iplot(kind='heatmap', colorscale='bupu' )"
   ]
  },
  {
   "cell_type": "markdown",
   "metadata": {},
   "source": [
    "Yea that was easy, perhaps too easy since the plot was arranged vertically instead of left to right. This is the sixth heatmap of our group and the only one out of ten to derive the aspect of the chart in this way. Still, I love the combination of plotly and cufflinks. The embedded tools to save, as PNG, zoom and select are really powerful. If you can accept having a reliance on plotly's servers, this library is an extremely concise and easy.\n",
    "\n",
    "## Heatmap 7: Bokeh\n",
    "\n",
    "[Bokeh](https://bokeh.pydata.org/en/latest/) is another combination javascript client library and python API. Developed and maintained by Anaconda (formerly Continuum Analytics). Bokeh has a rich grammar elements not only the chart elements but also for interactions and dashboarding. Bokeh has two aspects that make it unique: First, Bokeh has shared data structures that sync with the server and can then update multiple linked plots in rich dashboards. Second, bokeh is being developed as a backend for newer libraries such as holoviews (coming up in plot 8). \n",
    "\n"
   ]
  },
  {
   "cell_type": "code",
   "execution_count": null,
   "metadata": {},
   "outputs": [],
   "source": [
    "from bokeh.io import show, output_notebook\n",
    "from bokeh.models import (\n",
    "    ColumnDataSource,\n",
    "    HoverTool,\n",
    "    LinearColorMapper,\n",
    "    BasicTicker,\n",
    "    PrintfTickFormatter,\n",
    "    ColorBar,\n",
    "    FactorRange\n",
    ")\n",
    "from bokeh.plotting import figure\n",
    "from bokeh.palettes import BuPu\n",
    "#import holoviews as hv #There is a reason we have to do this here but its not important. Holoviews is the next library\n",
    "#hv.extension('bokeh')\n",
    "\n",
    "\n",
    "output_notebook()\n",
    "\n",
    "# Bokeh doesn't have its own gradient color maps supported but you can easily use on from matplotlib.\n",
    "colormap =cm.get_cmap(\"BuPu\")\n",
    "bokehpalette = [mpl.colors.rgb2hex(m) for m in colormap(np.arange(colormap.N))]\n",
    "\n",
    "\n",
    "#this mapper is what transposes a numerical value to a color. \n",
    "mapper = LinearColorMapper(palette=bokehpalette, low=flight_matrix.min().min(), high=flight_matrix.max().max())\n",
    "x_range = FactorRange(factors=flight_matrix.columns.astype('str'))\n",
    "\n",
    "\n",
    "years = list(flight_matrix.columns.astype('str'))\n",
    "months = list(flight_matrix.index)\n",
    "\n",
    "flight_rows['year'] = flight_rows.year.astype('str')\n",
    "\n",
    "#ColumnDataSource is bokeh fancy shared datasource. Not applicable here but it would generally allow the sharing of one data source\n",
    "#with multiple charts. \n",
    "source = ColumnDataSource(flight_rows)\n",
    "\n",
    "z = figure(title=\"Heatmap of Flight Density from 1949 to 1961\", x_range=years, y_range=months\n",
    "           , toolbar_location='below', toolbar_sticky=False)\n",
    "\n",
    "z.rect(x='year', y='month', width=1, height=1, source=source\n",
    "       , fill_color={'field': 'passengers', 'transform': mapper}, line_color=None)\n",
    "\n",
    "color_bar = ColorBar(color_mapper=mapper, major_label_text_font_size=\"5pt\",\n",
    "                     ticker=BasicTicker(desired_num_ticks=8),\n",
    "                     formatter=PrintfTickFormatter(format=\"%d%%\"),\n",
    "                     label_standoff=6, border_line_color=None, location=(0, 0))\n",
    "z.add_layout(color_bar, 'right')\n",
    "z.xaxis.axis_label = 'Years'\n",
    "z.yaxis.axis_label = 'Months'\n",
    "\n",
    "\n",
    "show(z)\n"
   ]
  },
  {
   "cell_type": "markdown",
   "metadata": {},
   "source": [
    "As you can see, Bokeh is one of the more verbose implementations of this chart so far. But, I will admit I am homer for Bokeh. That verbosity reveals an underlying complexity where you can literally map everything. What makes it verbose is the manipulation of the properties (labels, colors, dataranges) but those properties follow a logical grammar and  are easy to find. The label to identify the x-axis is simply the `xaxis.axis_label`. Likewise, the font size of the title is simply `title.text_font_size`.\n",
    "\n",
    "The second major advantage of Bokeh is it's unique way of linking the data between plots. Notice the `ColumnDataSource`above. Say if we wanted to add a table or line graph from the same underlying dataframe, Bokeh would automatically recognize that the graphs shared the same data source and update them together. The charts could be updated from a widget like a dropdown box or radio button. In this way, Bokeh is works like [Shiny](https://shiny.rstudio.com) from the R ecosystem. Some simple jinja templates and Bokeh server functionality allow the construction of rich visualizations and web apps. \n",
    "\n",
    "## Heatmap 9: Holoviews \n",
    "\n",
    "So if Bokeh is too verbose with too many attributes to manage, take heart that there is a new project from the same team at Anaconda that uses bokeh as a backend but gives the advantage of a cleaner API that infers the correct chart based on the input data. [Holoviews](http://holoviews.org) has the very ambitious goal of \"letting data visualize itself.\" So for holoviews, the aim of the designers is to have you state what you want to learn and pass in the data and then the library will infer the various variables and create the chart. In fact, bokeh is not even the only backend supported. The team has a backend interface to matplotlib and also to plotly, though these do not have feature parity with the bokeh backend yet. \n",
    "\n",
    "If you thought bokeh was too verbose, Holoviews is why. Anaconda is positioning bokeh as a backend for visualization while the ease of use for the analyst/data scientist gets developed in holoviews. "
   ]
  },
  {
   "cell_type": "code",
   "execution_count": null,
   "metadata": {},
   "outputs": [],
   "source": [
    "import holoviews as hv\n",
    "hv.extension('bokeh')"
   ]
  },
  {
   "cell_type": "code",
   "execution_count": null,
   "metadata": {},
   "outputs": [],
   "source": [
    "%%opts HeatMap (cmap='BuPu')\n",
    "%%output size=250\n",
    "\n",
    "\n",
    "\n",
    "hv.HeatMap(flight_rows, label=\"Heatmap of Flight Density from 1949 to 1961\", )"
   ]
  },
  {
   "cell_type": "markdown",
   "metadata": {},
   "source": [
    "One line of code is all that took. Very cool! Let me explain a little bit about what happened. Holoviews seperates the style from the substance. When plotting with holoviews, the various plot types HeatMap, Scatter etc look for a combination of value dimensions (*vdims*) and key dimensions (*kdims*). So our data contained in `flight_rows`, has two *kdims* (month, year) and one *vdim* (passengers). So when we invoke `hv.Heatmap` it can immediatly infer the correct display. The style is all handled seperatly through declared options which can be invoked globally through cell or line magics in Jupyter Notebooks. \n",
    "\n",
    "\n",
    "\n",
    "## Heatmap 9: Altair\n",
    "\n",
    "Altair is one of the newer libraries on the block. It was started by a team incluing Jake VanderPlas and is being supported by the [Interactive Data Lab @ the University of Washington](https://idl.cs.washington.edu). Altair is part of an ecosystem surronding [Vega](https://vega.github.io) a JSON specification format that renders using the D3 visualization library. Given the power and amazing influence of [D3](https://github.com/d3/d3/wiki/Gallery), Vega, and Altair (they are both stars in the summer triangle) promise a much easier interface and implementation of visualizations. \n",
    "\n",
    "As I mentioned in Heatmap 4 sometimes the [tutorials](https://altair-viz.github.io/recipes.html#heatmaps) are so simple, it can be ahr judge the library. That is absolutly true of Altair, which was really easy to figure out. \n",
    "\n",
    "\n"
   ]
  },
  {
   "cell_type": "code",
   "execution_count": null,
   "metadata": {},
   "outputs": [],
   "source": [
    "from altair import Row, Column, Chart, Text, Scale, Color\n",
    "\n",
    "Chart(flight_rows).mark_text(\n",
    "               applyColorToBackground=True\n",
    "           ).encode(\n",
    "               row=Row('month', sort='none'),\n",
    "               column='year',\n",
    "               text=Text(value=' '),\n",
    "               color=Color('passengers', scale=Scale(type='linear', range=['#bfd3e6', '#6e016b']))\n",
    "           ).configure_scale(\n",
    "               textBandWidth=55,\n",
    "               bandSize=60\n",
    "           )\n",
    "\n",
    "#\"scale\": {\"scheme\": \"bluepurple\"} doesn't work"
   ]
  },
  {
   "cell_type": "markdown",
   "metadata": {},
   "source": [
    "It's very important to know that the specification being written is converted immediatly to JSON. You can view that JSON using the \"view source\" or Open In vega Editor button which automatically links to a nice online tool imperatively change ths JSON and view result. \n",
    "\n",
    "Becasue this will end up as JSON, an attribute getting a single value can be set directly, such as `column='year'`, but when more arguments are needed, you have to call it like a class method. Thus, `color=Color('passengers', color=Color('passengers', scale=Scale(type='linear', range=['#bfd3e6', '#6e016b']))` gets transformed into the following JSON. \n",
    "\n",
    "```\n",
    "\"color\": {\n",
    "      \"field\": \"passengers\",\n",
    "      \"scale\": {\n",
    "        \"range\": [\n",
    "          \"#bfd3e6\",\n",
    "          \"#6e016b\"\n",
    "        ],\n",
    "        \"type\": \"linear\"\n",
    "      }\n",
    "```\n",
    "\n",
    "So the basic Altair/Vega-Lite syntax is as follows:\n",
    "\n",
    "1. Create a chart that invokes the data\n",
    "2. As for \"text\" marks to be drawn on the chart. We then ask that text be drawn with background color. \n",
    "3. Encode the data (from #1) onto the text marks. Encodnings accept expressions so rather than encoding 'passengers' onto the text property, we instead encode the value '  ' to ensure the actual counts do not appear. \n",
    "\n",
    "The only problem with this chart is that the color scale is not the full `BuPu` brewer scale rather it is simply a scale between the two colors as written. It should be possible to have a Scale written against vega's coniuous \"bluepurple\" color scheme which matches `BuPu` palette we have used so far. However, it [does not appear](https://github.com/altair-viz/altair/blob/master/altair/notebooks/10-Heatmaps.ipynb) that altair does not support passing those colormaps to scales yet. (I believe that will come when upgraded to vega-lite 2.0). \n",
    "\n",
    "## Heatmap 10: Lightning Viz\n",
    "\n",
    "Referring back to the VanderPlas taxonomy, [Lightnig Viz](http://lightning-viz.org) is in the everything else category. Like plotly, it is cross-platform with a javascript client api for R, Scala, and javascript. Also, it relies on communication with a server that handles much of the difficult rendering. However, it is released under MIT license so its completly free to use and improve. When you develop in a notebook environment like this post, you can choose to use a public lightning server maintained by the development team or you can one click deploy a server via heroku, docker or other service. "
   ]
  },
  {
   "cell_type": "code",
   "execution_count": null,
   "metadata": {},
   "outputs": [],
   "source": [
    "from lightning import Lightning\n",
    "lgn = Lightning(ipython=True, host='http://public.lightning-viz.org') #this is the server we are going to use. "
   ]
  },
  {
   "cell_type": "code",
   "execution_count": null,
   "metadata": {},
   "outputs": [],
   "source": [
    "lgn.matrix(flight_matrix, colormap='BuPu', row_labels=list(flight_matrix.index.values), column_labels=list(flight_matrix.columns.values), width=1000, description=\"Heatmap of Flight Density from 1949 to 1961\")"
   ]
  },
  {
   "cell_type": "markdown",
   "metadata": {},
   "source": [
    "And we have a new winner for the easiest implementation of our chart. Lightning really did perform this task in one line of code. We could nitpick that there is no way to add a title but really this was impressive. The server also adds a bunch of functionality that would otherwise not be availble (unles you are using plotly). Each chart gets its own unique URL so they can be shared and passed through an organization. The server even includes a mini-wizard for users to build their own visualizations [without code](http://lightning-viz.org/usage/#client). The server also makes these visualizations really fast because it does some magic to customize the javascript and cache results. This is especially helpful if you are going to stream in data requiring constant updates. \n",
    "\n",
    "\n",
    "## Wrapping Up\n",
    "\n",
    "Did you make it this far hopinh I would reccomend one of these libraries for all your use cases? I can't do that unfortunatly. But I can give you a little guide for how to pick.\n",
    "\n",
    "* Do you need publication worthy images for a journal or PDF? Pick matplotlib, seaborn or any of the libraries that use an matplotlib backend. This is because matplotlib has the most numerous outputs to render the chart as an image and is natively supported by nbconvert for jupyter notebooks. I should say that altair and bokeh are making strides in this area. But they rely on massive external libraries (often written in Node) to consistently generate the outputs. \n",
    "\n",
    "* Do you plan on building a large set of dashboards or custom web-application with these charts? Then I would consider any of bokeh, plot.ly, lightning, or altair. They are built for browsers and and support adding interactivity through signaling and widgets. Lightning especially will help speed up the delivery of these charts and the caching/sharing of the results will ease your client-side loads. \n",
    "\n",
    "* Are you a statistician data scientist who just wants to explore data? I'd consider holoviews or seaborn whose APIs focus on bivariate, univariate tests based on inbound data. The styling may be dense and tricky to navigate but styling isn't your chief concern. \n",
    "\n",
    "Feel free to leave comments below or reach out to any of us at [Algorex Health](mailto:info@algorexhealth.com).\n"
   ]
  },
  {
   "cell_type": "code",
   "execution_count": null,
   "metadata": {},
   "outputs": [],
   "source": []
  }
 ],
 "metadata": {
  "celltoolbar": "Edit Metadata",
  "hide_input": false,
  "kernelspec": {
   "display_name": "py3.6_XXLocalPlatform_env",
   "language": "python",
   "name": "py3.6_xxlocalplatform_env"
  },
  "language_info": {
   "codemirror_mode": {
    "name": "ipython",
    "version": 3
   },
   "file_extension": ".py",
   "mimetype": "text/x-python",
   "name": "python",
   "nbconvert_exporter": "python",
   "pygments_lexer": "ipython3",
   "version": "3.6.9"
  }
 },
 "nbformat": 4,
 "nbformat_minor": 2
}
