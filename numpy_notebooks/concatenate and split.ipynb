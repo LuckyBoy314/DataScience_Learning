{
 "cells": [
  {
   "cell_type": "code",
   "execution_count": null,
   "metadata": {},
   "outputs": [],
   "source": []
  },
  {
   "cell_type": "markdown",
   "metadata": {
    "toc-hr-collapsed": true
   },
   "source": [
    "## 拼接和分割"
   ]
  },
  {
   "cell_type": "code",
   "execution_count": 34,
   "metadata": {},
   "outputs": [
    {
     "data": {
      "text/plain": [
       "array([0., 1., 2., 3., 4., 0., 0., 0., 0., 0.])"
      ]
     },
     "execution_count": 34,
     "metadata": {},
     "output_type": "execute_result"
    }
   ],
   "source": [
    "# concatenate\n",
    "a = np.arange(5)\n",
    "b = np.zeros(5)\n",
    "# np.concatenate(a,b) # 错\n",
    "np.concatenate((a,b))"
   ]
  },
  {
   "cell_type": "markdown",
   "metadata": {},
   "source": [
    "### 拼接"
   ]
  },
  {
   "cell_type": "raw",
   "metadata": {},
   "source": [
    "水平拼接，hstack，concatenate(axis=1),colomn_stack,对于二维数组的效果是一样的\n",
    "垂直拼接，vstack，concatenate(axis=0),row_stack,对于二维数组效果一样\n",
    "深度拼接, dstack, 相当于将几个单波段的图像拼接成一个多波段图像\n",
    "拼接的时候要注意维度个数的匹配\n",
    "hstack和vstack比concatenate的容错性更好，concatenate只能拼接相同维度的数组（矩阵）"
   ]
  },
  {
   "cell_type": "markdown",
   "metadata": {},
   "source": [
    "### 分割"
   ]
  },
  {
   "cell_type": "code",
   "execution_count": 35,
   "metadata": {},
   "outputs": [
    {
     "data": {
      "text/plain": [
       "array([[0, 1, 2],\n",
       "       [3, 4, 5],\n",
       "       [6, 7, 8]])"
      ]
     },
     "execution_count": 35,
     "metadata": {},
     "output_type": "execute_result"
    }
   ],
   "source": [
    "a = np.arange(9).reshape(3,3)\n",
    "a"
   ]
  },
  {
   "cell_type": "markdown",
   "metadata": {},
   "source": [
    "平均分割，有一个标量数字表示"
   ]
  },
  {
   "cell_type": "code",
   "execution_count": 36,
   "metadata": {},
   "outputs": [
    {
     "data": {
      "text/plain": [
       "[array([[0],\n",
       "        [3],\n",
       "        [6]]), array([[1],\n",
       "        [4],\n",
       "        [7]]), array([[2],\n",
       "        [5],\n",
       "        [8]])]"
      ]
     },
     "execution_count": 36,
     "metadata": {},
     "output_type": "execute_result"
    }
   ],
   "source": [
    "np.hsplit(a,3)"
   ]
  },
  {
   "cell_type": "markdown",
   "metadata": {},
   "source": [
    "指定分割，用元组(a,b)表示在序号为a、b上分别切一刀"
   ]
  },
  {
   "cell_type": "raw",
   "metadata": {},
   "source": [
    "切分后的中间部分包括a，但不包括b，这与python切片语法是一致的"
   ]
  },
  {
   "cell_type": "code",
   "execution_count": 37,
   "metadata": {},
   "outputs": [
    {
     "data": {
      "text/plain": [
       "array([[ 0,  1,  2,  3,  4],\n",
       "       [ 5,  6,  7,  8,  9],\n",
       "       [10, 11, 12, 13, 14]])"
      ]
     },
     "execution_count": 37,
     "metadata": {},
     "output_type": "execute_result"
    }
   ],
   "source": [
    "a = np.arange(15).reshape(3,5)\n",
    "a"
   ]
  },
  {
   "cell_type": "code",
   "execution_count": 38,
   "metadata": {},
   "outputs": [
    {
     "data": {
      "text/plain": [
       "[array([[ 0],\n",
       "        [ 5],\n",
       "        [10]]), array([[ 1,  2],\n",
       "        [ 6,  7],\n",
       "        [11, 12]]), array([[ 3,  4],\n",
       "        [ 8,  9],\n",
       "        [13, 14]])]"
      ]
     },
     "execution_count": 38,
     "metadata": {},
     "output_type": "execute_result"
    }
   ],
   "source": [
    "np.hsplit(a, (1,3))"
   ]
  },
  {
   "cell_type": "raw",
   "metadata": {},
   "source": [
    "split和sum等函数关于沿着轴的计算问题仍然适用于三维立方体模型\n",
    "即沿着哪个轴计算，哪个轴上的数量将发生变化\n",
    "不同的是，sum等聚集函数产生的效果会抹掉这一维度，split不抹"
   ]
  }
 ],
 "metadata": {
  "kernelspec": {
   "display_name": "DataSci_py3.7.4",
   "language": "python",
   "name": "datasci_py3.7.4"
  },
  "language_info": {
   "codemirror_mode": {
    "name": "ipython",
    "version": 3
   },
   "file_extension": ".py",
   "mimetype": "text/x-python",
   "name": "python",
   "nbconvert_exporter": "python",
   "pygments_lexer": "ipython3",
   "version": "3.7.4"
  }
 },
 "nbformat": 4,
 "nbformat_minor": 4
}
