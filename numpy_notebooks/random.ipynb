{
 "cells": [
  {
   "cell_type": "code",
   "execution_count": 1,
   "metadata": {},
   "outputs": [],
   "source": [
    "import numpy as np\n",
    "import numpy.random as rd"
   ]
  },
  {
   "cell_type": "markdown",
   "metadata": {},
   "source": [
    "在数据分析中，数据的获取是第一步，numpy.random 模块提供了非常全的自动产生数据API，是学习数据分析的第一步。 \n",
    "总体来说，numpy.random模块分为四个部分，对应四种功能： \n",
    "- 简单随机数： 产生简单的随机数据，可以是任何维度 \n",
    "- 排列：将所给对象随机排列 \n",
    "- 分布：产生指定分布的数据，如高斯分布等 \n",
    "- 生成器：种随机数种子，根据同一种子产生的随机数是相同的 "
   ]
  },
  {
   "cell_type": "markdown",
   "metadata": {},
   "source": [
    "## 生成器\n",
    "电脑产生随机数需要明白以下几点： \n",
    "- 随机数是由随机种子根据一定的计算方法计算出来的数值。所以，只要计算方法一定，随机种子一定，那么产生的随机数就不会变。 \n",
    "- 只要用户不设置随机种子，那么在默认情况下随机种子来自系统时钟（即定时/计数器的值） \n",
    "- 随机数产生的算法与系统有关，Windows和Linux是不同的，也就是说，即便是随机种子一样，不同系统产生的随机数也不一样。 \n",
    "\n",
    "numpy.random 设置种子的方法有：\n",
    "\n",
    "函数名称\t| 函数功能 |\t参数说明\n",
    "-----------|----------|-----------\n",
    "RandomState\t|定义种子类\t|RandomState是一个种子类，提供了各种种子方法，最常用seed\n",
    "seed([seed])|\t定义全局种子|\t参数为整数或者矩阵"
   ]
  },
  {
   "cell_type": "markdown",
   "metadata": {},
   "source": [
    "## 简单随机数"
   ]
  },
  {
   "cell_type": "markdown",
   "metadata": {},
   "source": [
    "函数名称\t| 函数功能 |\t参数说明\n",
    "-----------|---------|---------\n",
    "rand(d0, d1, …, dn)\t| 均匀分布，[0.0 ,1.0)\t| dn为第n维数据的维度 *\n",
    "randn(d0, d1, …, dn) | 标准正态分布\t| dn为第n维数据的维度 **\n",
    "randint(low[, high, size, dtype])\t|均匀分布随机整数，[low,high), 当high不给出[0,low)\t|low：最小值；high：最大值；size：数据个数 \n",
    "random_sample([size])\t| 均为分布 [0.0, 1.0)\t| size：随机数的shape，可以为元祖或者列表，[2,3]表示2维随机数，维度为（2,3） ***\n",
    "choice(a[, size, replace, p])\t| 从a中随机选择指定数据\t| a：1维数组 size：返回数据形状\n",
    "bytes(length)\t| 返回随机位\t | length：位的长度\n",
    "\n",
    "\n",
    "*rand是random_sample的便捷函数\n",
    "\n",
    "**randn是standar_normal的便捷函数，For random samples from $N(\\mu, \\sigma^2)$, use: $\\sigma$ * np.random.randn(...) + $\\mu$\n",
    "\n",
    "***random_sample的同名函数有：random, ranf, sample"
   ]
  },
  {
   "cell_type": "markdown",
   "metadata": {},
   "source": [
    "random_sample,random,ranf,sample都是同名函数，都是[0,1) 的均匀分布，它只能接受元组型的形状作为参数\n",
    "rand是以上四个函数的便捷函数，它不需要以元组的形式给出形状，直接给出形状参数即可。"
   ]
  },
  {
   "cell_type": "code",
   "execution_count": 2,
   "metadata": {},
   "outputs": [
    {
     "data": {
      "text/plain": [
       "array([[0.70043712, 0.84418664, 0.67651434],\n",
       "       [0.72785806, 0.95145796, 0.0127032 ]])"
      ]
     },
     "execution_count": 2,
     "metadata": {},
     "output_type": "execute_result"
    }
   ],
   "source": [
    "rd.seed(666)\n",
    "rd.rand(2,3)"
   ]
  },
  {
   "cell_type": "code",
   "execution_count": 3,
   "metadata": {},
   "outputs": [
    {
     "data": {
      "text/plain": [
       "array([[0.70043712, 0.84418664, 0.67651434],\n",
       "       [0.72785806, 0.95145796, 0.0127032 ]])"
      ]
     },
     "execution_count": 3,
     "metadata": {},
     "output_type": "execute_result"
    }
   ],
   "source": [
    "rd.seed(666)\n",
    "rd.random([2,3])"
   ]
  },
  {
   "cell_type": "code",
   "execution_count": 4,
   "metadata": {},
   "outputs": [
    {
     "data": {
      "text/plain": [
       "array([[0.70043712, 0.84418664, 0.67651434],\n",
       "       [0.72785806, 0.95145796, 0.0127032 ]])"
      ]
     },
     "execution_count": 4,
     "metadata": {},
     "output_type": "execute_result"
    }
   ],
   "source": [
    "rd.seed(666)\n",
    "rd.random_sample([2,3])"
   ]
  },
  {
   "cell_type": "markdown",
   "metadata": {},
   "source": [
    "## 分布"
   ]
  },
  {
   "cell_type": "markdown",
   "metadata": {},
   "source": [
    "函数名称\t| 函数功能\t| 参数说明\n",
    "---------|----------|--------\n",
    "beta(a, b[, size])\t| 贝塔分布样本，在 [0, 1]内。|\t \n",
    "binomial(n, p[, size])\t| 卡方分布样本。\t |\n",
    "dirichlet(alpha[, size])\t| 狄利克雷分布样本。\t |\n",
    "exponential([scale, size])\t| 指数分布\t |\n",
    "f(dfnum, dfden[, size])\t| F分布样本。\t |\n",
    "gamma(shape[, scale, size])\t| 伽马分布\t |\n",
    "geometric(p[, size])\t| 几何分布\t |\n",
    "gumbel([loc, scale, size])\t| 耿贝尔分布。\t| \n",
    "hypergeometric(ngood, nbad, nsample[, size])\t| 超几何分布样本。\t| \n",
    "laplace([loc, scale, size])\t| 拉普拉斯或双指数分布样本\t|  \n",
    "logistic([loc, scale, size])\t| Logistic分布样本\t|  \n",
    "lognormal([mean, sigma, size])\t| 对数正态分布\t| \n",
    "logseries(p[, size])\t| 对数级数分布。\t | \n",
    "multinomial(n, pvals[, size])\t| 多项分布\t | \n",
    "multivariate_normal(mean, cov[, size])\t| 多元正态分布。|\t \n",
    "negative_binomial(n, p[, size])\t| 负二项分布\t | \n",
    "noncentral_chisquare(df, nonc[, size])\t| 非中心卡方分布 |\t \n",
    "noncentral_f(dfnum, dfden, nonc[, size])\t| 非中心F分布 |\t \n",
    "normal([loc, scale, size])\t| 正态(高斯)分布\t |\n",
    "pareto(a[, size])\t| 帕累托（Lomax）分布\t| \n",
    "poisson([lam, size])\t| 泊松分布\t |\n",
    "power(a[, size])\t| Draws samples in [0, 1] from a power distribution with positive exponent a - 1.\t |\n",
    "rayleigh([scale, size])\t| Rayleigh 分布\t |\n",
    "standard_cauchy([size])\t| 标准柯西分布\t |\n",
    "standard_exponential([size])\t| 标准的指数分布\t |\n",
    "standard_gamma(shape[, size])\t| 标准伽马分布\t |\n",
    "standard_normal([size])\t| 标准正态分布 (mean=0, stdev=1).\t |\n",
    "standard_t(df[, size])\t| Standard Student’s t distribution with df degrees of freedom.\t |\n",
    "triangular(left, mode, right[, size])\t| 三角形分布\t | \n",
    "uniform([low, high, size])\t| 均匀分布\t |\n",
    "vonmises(mu, kappa[, size])\t| von Mises分布\t | \n",
    "wald(mean, scale[, size])\t| 瓦尔德（逆高斯）分布\t|  \n",
    "weibull(a[, size])\t| Weibull 分布\t| \n",
    "zipf(a[, size])\t| 齐普夫分布 | \t "
   ]
  },
  {
   "cell_type": "markdown",
   "metadata": {},
   "source": [
    "## 排列"
   ]
  },
  {
   "cell_type": "markdown",
   "metadata": {},
   "source": [
    "函数名称\t| 函数功能\t| 参数说明\n",
    "-----------|---------|------------------------------\n",
    "shuffle(x)\t| 对数组x进行随机打乱，改变原数组（多维矩阵按照第一维打乱）|\t矩阵或者列表\n",
    "permutation(x)\t|功能同shuffle, 但新分配内存，不改变原数组（多维矩阵按照第一维打乱）\t| 整数或者数组"
   ]
  },
  {
   "cell_type": "code",
   "execution_count": 5,
   "metadata": {},
   "outputs": [
    {
     "data": {
      "text/plain": [
       "array([9, 4, 8, 5, 2, 6, 0, 7, 1, 3])"
      ]
     },
     "execution_count": 5,
     "metadata": {},
     "output_type": "execute_result"
    }
   ],
   "source": [
    "# permutation 不同的地方\n",
    "# 1. shuffle是就地修改\n",
    "# 2. permutation可以接受整数作为参数，permutation(n)相当于permutation(np.arange(n))\n",
    "rd.permutation(10)"
   ]
  },
  {
   "cell_type": "code",
   "execution_count": 6,
   "metadata": {},
   "outputs": [
    {
     "data": {
      "text/plain": [
       "array([[ 0,  1],\n",
       "       [ 2,  3],\n",
       "       [ 4,  5],\n",
       "       [ 6,  7],\n",
       "       [ 8,  9],\n",
       "       [10, 11]])"
      ]
     },
     "execution_count": 6,
     "metadata": {},
     "output_type": "execute_result"
    }
   ],
   "source": [
    "x = np.arange(12).reshape(6,2)\n",
    "x"
   ]
  },
  {
   "cell_type": "code",
   "execution_count": 7,
   "metadata": {},
   "outputs": [
    {
     "data": {
      "text/plain": [
       "array([[ 2,  3],\n",
       "       [ 4,  5],\n",
       "       [ 0,  1],\n",
       "       [ 6,  7],\n",
       "       [ 8,  9],\n",
       "       [10, 11]])"
      ]
     },
     "execution_count": 7,
     "metadata": {},
     "output_type": "execute_result"
    }
   ],
   "source": [
    "rd.permutation(x)"
   ]
  },
  {
   "cell_type": "code",
   "execution_count": 8,
   "metadata": {},
   "outputs": [
    {
     "data": {
      "text/plain": [
       "array([[ 0,  1],\n",
       "       [ 2,  3],\n",
       "       [ 4,  5],\n",
       "       [ 6,  7],\n",
       "       [ 8,  9],\n",
       "       [10, 11]])"
      ]
     },
     "execution_count": 8,
     "metadata": {},
     "output_type": "execute_result"
    }
   ],
   "source": [
    "x"
   ]
  },
  {
   "cell_type": "code",
   "execution_count": 9,
   "metadata": {},
   "outputs": [],
   "source": [
    "rd.shuffle(x)"
   ]
  },
  {
   "cell_type": "code",
   "execution_count": 10,
   "metadata": {},
   "outputs": [
    {
     "data": {
      "text/plain": [
       "array([[ 2,  3],\n",
       "       [ 4,  5],\n",
       "       [ 6,  7],\n",
       "       [10, 11],\n",
       "       [ 0,  1],\n",
       "       [ 8,  9]])"
      ]
     },
     "execution_count": 10,
     "metadata": {},
     "output_type": "execute_result"
    }
   ],
   "source": [
    "x"
   ]
  },
  {
   "cell_type": "code",
   "execution_count": 11,
   "metadata": {},
   "outputs": [
    {
     "data": {
      "text/plain": [
       "\u001b[1;31mDocstring:\u001b[0m\n",
       "randn(d0, d1, ..., dn)\n",
       "\n",
       "Return a sample (or samples) from the \"standard normal\" distribution.\n",
       "\n",
       ".. note::\n",
       "    This is a convenience function for users porting code from Matlab,\n",
       "    and wraps `numpy.random.standard_normal`. That function takes a\n",
       "    tuple to specify the size of the output, which is consistent with\n",
       "    other NumPy functions like `numpy.zeros` and `numpy.ones`.\n",
       "\n",
       "If positive int_like arguments are provided, `randn` generates an array\n",
       "of shape ``(d0, d1, ..., dn)``, filled\n",
       "with random floats sampled from a univariate \"normal\" (Gaussian)\n",
       "distribution of mean 0 and variance 1. A single float randomly sampled\n",
       "from the distribution is returned if no argument is provided.\n",
       "\n",
       "Parameters\n",
       "----------\n",
       "d0, d1, ..., dn : int, optional\n",
       "    The dimensions of the returned array, must be non-negative.\n",
       "    If no argument is given a single Python float is returned.\n",
       "\n",
       "Returns\n",
       "-------\n",
       "Z : ndarray or float\n",
       "    A ``(d0, d1, ..., dn)``-shaped array of floating-point samples from\n",
       "    the standard normal distribution, or a single such float if\n",
       "    no parameters were supplied.\n",
       "\n",
       "See Also\n",
       "--------\n",
       "standard_normal : Similar, but takes a tuple as its argument.\n",
       "normal : Also accepts mu and sigma arguments.\n",
       "\n",
       "Notes\n",
       "-----\n",
       "For random samples from :math:`N(\\mu, \\sigma^2)`, use:\n",
       "\n",
       "``sigma * np.random.randn(...) + mu``\n",
       "\n",
       "Examples\n",
       "--------\n",
       ">>> np.random.randn()\n",
       "2.1923875335537315  # random\n",
       "\n",
       "Two-by-four array of samples from N(3, 6.25):\n",
       "\n",
       ">>> 3 + 2.5 * np.random.randn(2, 4)\n",
       "array([[-4.49401501,  4.00950034, -1.81814867,  7.29718677],   # random\n",
       "       [ 0.39924804,  4.68456316,  4.99394529,  4.84057254]])  # random\n",
       "\u001b[1;31mType:\u001b[0m      builtin_function_or_method\n"
      ]
     },
     "metadata": {},
     "output_type": "display_data"
    }
   ],
   "source": [
    "rd.randn?"
   ]
  },
  {
   "cell_type": "code",
   "execution_count": 12,
   "metadata": {},
   "outputs": [
    {
     "data": {
      "text/plain": [
       "array([[5.06047021, 4.19991501, 5.93367003],\n",
       "       [5.27262017, 1.57069637, 2.72625683]])"
      ]
     },
     "execution_count": 12,
     "metadata": {},
     "output_type": "execute_result"
    }
   ],
   "source": [
    "rd.seed(666)\n",
    "2.5*rd.randn(2,3)+3"
   ]
  },
  {
   "cell_type": "code",
   "execution_count": 13,
   "metadata": {},
   "outputs": [
    {
     "data": {
      "text/plain": [
       "array([[5.06047021, 4.19991501, 5.93367003],\n",
       "       [5.27262017, 1.57069637, 2.72625683]])"
      ]
     },
     "execution_count": 13,
     "metadata": {},
     "output_type": "execute_result"
    }
   ],
   "source": [
    "rd.seed(666)\n",
    "2.5*rd.standard_normal((2,3)) + 3"
   ]
  },
  {
   "cell_type": "code",
   "execution_count": 14,
   "metadata": {},
   "outputs": [
    {
     "data": {
      "text/plain": [
       "array([[5.06047021, 4.19991501, 5.93367003],\n",
       "       [5.27262017, 1.57069637, 2.72625683]])"
      ]
     },
     "execution_count": 14,
     "metadata": {},
     "output_type": "execute_result"
    }
   ],
   "source": [
    "rd.seed(666)\n",
    "rd.normal(3, 2.5, (2,3))"
   ]
  },
  {
   "cell_type": "code",
   "execution_count": 16,
   "metadata": {},
   "outputs": [
    {
     "data": {
      "text/plain": [
       "[<matplotlib.lines.Line2D at 0x1fbb84fae48>]"
      ]
     },
     "execution_count": 16,
     "metadata": {},
     "output_type": "execute_result"
    },
    {
     "data": {
      "image/png": "[encoded data removed]",
      "text/plain": [
       "<Figure size 432x288 with 1 Axes>"
      ]
     },
     "metadata": {
      "needs_background": "light"
     },
     "output_type": "display_data"
    }
   ],
   "source": [
    "import matplotlib.pyplot as plt\n",
    "mu, sigma = 0, 0.1 # mean and standard deviation\n",
    "s = np.random.normal(mu, sigma, 1000)\n",
    "\n",
    "count, bins, ignored = plt.hist(s, 30, density=True)\n",
    "plt.plot(bins, 1/(sigma * np.sqrt(2 * np.pi)) * np.exp( - (bins - mu)**2 / (2 * sigma**2) ),linewidth=2, color='r')"
   ]
  },
  {
   "cell_type": "code",
   "execution_count": null,
   "metadata": {},
   "outputs": [],
   "source": []
  }
 ],
 "metadata": {
  "kernelspec": {
   "display_name": "DataSci_py3.7.4",
   "language": "python",
   "name": "datasci_py3.7.4"
  },
  "language_info": {
   "codemirror_mode": {
    "name": "ipython",
    "version": 3
   },
   "file_extension": ".py",
   "mimetype": "text/x-python",
   "name": "python",
   "nbconvert_exporter": "python",
   "pygments_lexer": "ipython3",
   "version": "3.7.4"
  },
  "toc-autonumbering": false
 },
 "nbformat": 4,
 "nbformat_minor": 4
}
