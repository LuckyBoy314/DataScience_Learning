{
 "cells": [
  {
   "cell_type": "code",
   "execution_count": 1,
   "metadata": {},
   "outputs": [
    {
     "data": {
      "text/plain": [
       "'1.16.2'"
      ]
     },
     "execution_count": 1,
     "metadata": {},
     "output_type": "execute_result"
    }
   ],
   "source": [
    "import numpy as np\n",
    "np.__version__"
   ]
  },
  {
   "cell_type": "markdown",
   "metadata": {},
   "source": [
    "# 文本文件\n",
    "___"
   ]
  },
  {
   "cell_type": "markdown",
   "metadata": {},
   "source": [
    "* loadtxt(fname[, dtype,comments,delimiter, …]) 从文本文件导入数据\n",
    "* savetxt(fname,X[, fmt, delimiter, newline, …]) 将一个数组保存到文本文件\n",
    "* genfromtxt(fname[, dtype, comments, …]) 从文本文件中导入数据，同时处理指定的缺失值\n",
    "* ndarray.tofile(fid[, sep, format]) 将数组写入到文本或二进制（默认)文件"
   ]
  },
  {
   "cell_type": "markdown",
   "metadata": {},
   "source": [
    "# Numpy二进制文件\n",
    "___"
   ]
  },
  {
   "cell_type": "markdown",
   "metadata": {},
   "source": [
    "* load(file, mmap_mode, allow_pickle, …])  从.npy, .npz或pickled文件中载入（多个）数组\n",
    "* save(file, arr[, allow_pickle, fix_imports])  将一个数组保存为Numpy .npy格式的二进制文件\n",
    "* savez(file, *args, **kwds) 将多个数组保存到单独一个未压缩的.npz格式的文件中\n",
    "* savez_compressed(file, *args, **kwds) 将多个数组保存到单独一个压缩了的.npz格式的文件中"
   ]
  },
  {
   "cell_type": "markdown",
   "metadata": {},
   "source": [
    "##   Numpy二进制格式.npy .npz\n",
    "___"
   ]
  },
  {
   "cell_type": "markdown",
   "metadata": {},
   "source": [
    "* .npy是numpy序列化_单一数组_的标准二进制格式，.npy只能保存一个数组\n",
    "* .npz是numpy序列化_多个数组_的标准二进制格式，一个.npz文件是多个.npy文件的zip包，其中一个.npy文件对应一个数组"
   ]
  },
  {
   "cell_type": "markdown",
   "metadata": {},
   "source": [
    "# 原始二进制文件\n",
    "___"
   ]
  },
  {
   "cell_type": "markdown",
   "metadata": {},
   "source": [
    "* fromfile(file[, dtype, count, sep])  从一个二进制或文本文件中创建一个数组\n",
    "* ndarray.tofile(fid[, sep, format])   将（一个）数组以二进制（默认）或者文本格式写到文件中"
   ]
  },
  {
   "cell_type": "raw",
   "metadata": {},
   "source": [
    "np.loadtxt和np.savetxt \n",
    "好处：都是文本格式，直观，数据容易交流\n",
    "不足：只能较好的处理一维或二维数组\n",
    "\n",
    "np.tofile和np.fromfile\n",
    "好处：可以是文本，也可以是二进制\n",
    "不足：维度和形状信息丢失，需要事先知晓这些信息，或者再写一个文件保留这些元信息\n",
    "\n",
    "np.save(或则np.savez)和np.load\n",
    "好处：二进制，可压缩，占用空间小；保留了维度和形状信息, 平台无关\n",
    "不足：不易交流"
   ]
  },
  {
   "cell_type": "code",
   "execution_count": null,
   "metadata": {},
   "outputs": [],
   "source": []
  }
 ],
 "metadata": {
  "kernelspec": {
   "display_name": "Python 3",
   "language": "python",
   "name": "python3"
  },
  "language_info": {
   "codemirror_mode": {
    "name": "ipython",
    "version": 3
   },
   "file_extension": ".py",
   "mimetype": "text/x-python",
   "name": "python",
   "nbconvert_exporter": "python",
   "pygments_lexer": "ipython3",
   "version": "3.7.3"
  },
  "toc-autonumbering": true,
  "toc-showmarkdowntxt": false
 },
 "nbformat": 4,
 "nbformat_minor": 2
}
