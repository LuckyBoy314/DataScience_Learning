{
 "cells": [
  {
   "cell_type": "markdown",
   "metadata": {},
   "source": [
    "<table style=\"float:left; border:none\">\n",
    "   <tr style=\"border:none; background-color: #ffffff\">\n",
    "       <td style=\"border:none\">\n",
    "           <a href=\"http://bokeh.org/\">     \n",
    "           <img \n",
    "               src=\"assets/bokeh-transparent.png\" \n",
    "               style=\"width:50px\"\n",
    "           >\n",
    "           </a>    \n",
    "       </td>\n",
    "       <td style=\"border:none\">\n",
    "           <h1>Bokeh Tutorial</h1>\n",
    "       </td>\n",
    "   </tr>\n",
    "</table>\n",
    "\n",
    "<div style=\"float:right;\"><h2>06. Linking and Interactions</h2></div>"
   ]
  },
  {
   "cell_type": "code",
   "execution_count": 1,
   "metadata": {},
   "outputs": [
    {
     "name": "stderr",
     "output_type": "stream",
     "text": [
      "/home/zhuf/.pyenv/versions/data_sci_env_py3.6.10/lib/python3.6/site-packages/pandas/compat/__init__.py:85: UserWarning: Could not import the lzma module. Your installed Python is incomplete. Attempting to use lzma compression will result in a RuntimeError.\n",
      "  warnings.warn(msg)\n",
      "/home/zhuf/.pyenv/versions/data_sci_env_py3.6.10/lib/python3.6/site-packages/pandas/compat/__init__.py:85: UserWarning: Could not import the lzma module. Your installed Python is incomplete. Attempting to use lzma compression will result in a RuntimeError.\n",
      "  warnings.warn(msg)\n"
     ]
    },
    {
     "data": {
      "text/html": [
       "\n",
       "    <div class=\"bk-root\">\n",
       "        <a href=\"https://bokeh.org\" target=\"_blank\" class=\"bk-logo bk-logo-small bk-logo-notebook\"></a>\n",
       "        <span id=\"1001\">Loading BokehJS ...</span>\n",
       "    </div>"
      ]
     },
     "metadata": {},
     "output_type": "display_data"
    },
    {
     "data": {
      "application/javascript": [
       "\n",
       "(function(root) {\n",
       "  function now() {\n",
       "    return new Date();\n",
       "  }\n",
       "\n",
       "  var force = true;\n",
       "\n",
       "  if (typeof root._bokeh_onload_callbacks === \"undefined\" || force === true) {\n",
       "    root._bokeh_onload_callbacks = [];\n",
       "    root._bokeh_is_loading = undefined;\n",
       "  }\n",
       "\n",
       "  var JS_MIME_TYPE = 'application/javascript';\n",
       "  var HTML_MIME_TYPE = 'text/html';\n",
       "  var EXEC_MIME_TYPE = 'application/vnd.bokehjs_exec.v0+json';\n",
       "  var CLASS_NAME = 'output_bokeh rendered_html';\n",
       "\n",
       "  /**\n",
       "   * Render data to the DOM node\n",
       "   */\n",
       "  function render(props, node) {\n",
       "    var script = document.createElement(\"script\");\n",
       "    node.appendChild(script);\n",
       "  }\n",
       "\n",
       "  /**\n",
       "   * Handle when an output is cleared or removed\n",
       "   */\n",
       "  function handleClearOutput(event, handle) {\n",
       "    var cell = handle.cell;\n",
       "\n",
       "    var id = cell.output_area._bokeh_element_id;\n",
       "    var server_id = cell.output_area._bokeh_server_id;\n",
       "    // Clean up Bokeh references\n",
       "    if (id != null && id in Bokeh.index) {\n",
       "      Bokeh.index[id].model.document.clear();\n",
       "      delete Bokeh.index[id];\n",
       "    }\n",
       "\n",
       "    if (server_id !== undefined) {\n",
       "      // Clean up Bokeh references\n",
       "      var cmd = \"from bokeh.io.state import curstate; print(curstate().uuid_to_server['\" + server_id + \"'].get_sessions()[0].document.roots[0]._id)\";\n",
       "      cell.notebook.kernel.execute(cmd, {\n",
       "        iopub: {\n",
       "          output: function(msg) {\n",
       "            var id = msg.content.text.trim();\n",
       "            if (id in Bokeh.index) {\n",
       "              Bokeh.index[id].model.document.clear();\n",
       "              delete Bokeh.index[id];\n",
       "            }\n",
       "          }\n",
       "        }\n",
       "      });\n",
       "      // Destroy server and session\n",
       "      var cmd = \"import bokeh.io.notebook as ion; ion.destroy_server('\" + server_id + \"')\";\n",
       "      cell.notebook.kernel.execute(cmd);\n",
       "    }\n",
       "  }\n",
       "\n",
       "  /**\n",
       "   * Handle when a new output is added\n",
       "   */\n",
       "  function handleAddOutput(event, handle) {\n",
       "    var output_area = handle.output_area;\n",
       "    var output = handle.output;\n",
       "\n",
       "    // limit handleAddOutput to display_data with EXEC_MIME_TYPE content only\n",
       "    if ((output.output_type != \"display_data\") || (!output.data.hasOwnProperty(EXEC_MIME_TYPE))) {\n",
       "      return\n",
       "    }\n",
       "\n",
       "    var toinsert = output_area.element.find(\".\" + CLASS_NAME.split(' ')[0]);\n",
       "\n",
       "    if (output.metadata[EXEC_MIME_TYPE][\"id\"] !== undefined) {\n",
       "      toinsert[toinsert.length - 1].firstChild.textContent = output.data[JS_MIME_TYPE];\n",
       "      // store reference to embed id on output_area\n",
       "      output_area._bokeh_element_id = output.metadata[EXEC_MIME_TYPE][\"id\"];\n",
       "    }\n",
       "    if (output.metadata[EXEC_MIME_TYPE][\"server_id\"] !== undefined) {\n",
       "      var bk_div = document.createElement(\"div\");\n",
       "      bk_div.innerHTML = output.data[HTML_MIME_TYPE];\n",
       "      var script_attrs = bk_div.children[0].attributes;\n",
       "      for (var i = 0; i < script_attrs.length; i++) {\n",
       "        toinsert[toinsert.length - 1].firstChild.setAttribute(script_attrs[i].name, script_attrs[i].value);\n",
       "      }\n",
       "      // store reference to server id on output_area\n",
       "      output_area._bokeh_server_id = output.metadata[EXEC_MIME_TYPE][\"server_id\"];\n",
       "    }\n",
       "  }\n",
       "\n",
       "  function register_renderer(events, OutputArea) {\n",
       "\n",
       "    function append_mime(data, metadata, element) {\n",
       "      // create a DOM node to render to\n",
       "      var toinsert = this.create_output_subarea(\n",
       "        metadata,\n",
       "        CLASS_NAME,\n",
       "        EXEC_MIME_TYPE\n",
       "      );\n",
       "      this.keyboard_manager.register_events(toinsert);\n",
       "      // Render to node\n",
       "      var props = {data: data, metadata: metadata[EXEC_MIME_TYPE]};\n",
       "      render(props, toinsert[toinsert.length - 1]);\n",
       "      element.append(toinsert);\n",
       "      return toinsert\n",
       "    }\n",
       "\n",
       "    /* Handle when an output is cleared or removed */\n",
       "    events.on('clear_output.CodeCell', handleClearOutput);\n",
       "    events.on('delete.Cell', handleClearOutput);\n",
       "\n",
       "    /* Handle when a new output is added */\n",
       "    events.on('output_added.OutputArea', handleAddOutput);\n",
       "\n",
       "    /**\n",
       "     * Register the mime type and append_mime function with output_area\n",
       "     */\n",
       "    OutputArea.prototype.register_mime_type(EXEC_MIME_TYPE, append_mime, {\n",
       "      /* Is output safe? */\n",
       "      safe: true,\n",
       "      /* Index of renderer in `output_area.display_order` */\n",
       "      index: 0\n",
       "    });\n",
       "  }\n",
       "\n",
       "  // register the mime type if in Jupyter Notebook environment and previously unregistered\n",
       "  if (root.Jupyter !== undefined) {\n",
       "    var events = require('base/js/events');\n",
       "    var OutputArea = require('notebook/js/outputarea').OutputArea;\n",
       "\n",
       "    if (OutputArea.prototype.mime_types().indexOf(EXEC_MIME_TYPE) == -1) {\n",
       "      register_renderer(events, OutputArea);\n",
       "    }\n",
       "  }\n",
       "\n",
       "  \n",
       "  if (typeof (root._bokeh_timeout) === \"undefined\" || force === true) {\n",
       "    root._bokeh_timeout = Date.now() + 5000;\n",
       "    root._bokeh_failed_load = false;\n",
       "  }\n",
       "\n",
       "  var NB_LOAD_WARNING = {'data': {'text/html':\n",
       "     \"<div style='background-color: #fdd'>\\n\"+\n",
       "     \"<p>\\n\"+\n",
       "     \"BokehJS does not appear to have successfully loaded. If loading BokehJS from CDN, this \\n\"+\n",
       "     \"may be due to a slow or bad network connection. Possible fixes:\\n\"+\n",
       "     \"</p>\\n\"+\n",
       "     \"<ul>\\n\"+\n",
       "     \"<li>re-rerun `output_notebook()` to attempt to load from CDN again, or</li>\\n\"+\n",
       "     \"<li>use INLINE resources instead, as so:</li>\\n\"+\n",
       "     \"</ul>\\n\"+\n",
       "     \"<code>\\n\"+\n",
       "     \"from bokeh.resources import INLINE\\n\"+\n",
       "     \"output_notebook(resources=INLINE)\\n\"+\n",
       "     \"</code>\\n\"+\n",
       "     \"</div>\"}};\n",
       "\n",
       "  function display_loaded() {\n",
       "    var el = document.getElementById(\"1001\");\n",
       "    if (el != null) {\n",
       "      el.textContent = \"BokehJS is loading...\";\n",
       "    }\n",
       "    if (root.Bokeh !== undefined) {\n",
       "      if (el != null) {\n",
       "        el.textContent = \"BokehJS \" + root.Bokeh.version + \" successfully loaded.\";\n",
       "      }\n",
       "    } else if (Date.now() < root._bokeh_timeout) {\n",
       "      setTimeout(display_loaded, 100)\n",
       "    }\n",
       "  }\n",
       "\n",
       "\n",
       "  function run_callbacks() {\n",
       "    try {\n",
       "      root._bokeh_onload_callbacks.forEach(function(callback) {\n",
       "        if (callback != null)\n",
       "          callback();\n",
       "      });\n",
       "    } finally {\n",
       "      delete root._bokeh_onload_callbacks\n",
       "    }\n",
       "    console.debug(\"Bokeh: all callbacks have finished\");\n",
       "  }\n",
       "\n",
       "  function load_libs(css_urls, js_urls, callback) {\n",
       "    if (css_urls == null) css_urls = [];\n",
       "    if (js_urls == null) js_urls = [];\n",
       "\n",
       "    root._bokeh_onload_callbacks.push(callback);\n",
       "    if (root._bokeh_is_loading > 0) {\n",
       "      console.debug(\"Bokeh: BokehJS is being loaded, scheduling callback at\", now());\n",
       "      return null;\n",
       "    }\n",
       "    if (js_urls == null || js_urls.length === 0) {\n",
       "      run_callbacks();\n",
       "      return null;\n",
       "    }\n",
       "    console.debug(\"Bokeh: BokehJS not loaded, scheduling load and callback at\", now());\n",
       "    root._bokeh_is_loading = css_urls.length + js_urls.length;\n",
       "\n",
       "    function on_load() {\n",
       "      root._bokeh_is_loading--;\n",
       "      if (root._bokeh_is_loading === 0) {\n",
       "        console.debug(\"Bokeh: all BokehJS libraries/stylesheets loaded\");\n",
       "        run_callbacks()\n",
       "      }\n",
       "    }\n",
       "\n",
       "    function on_error() {\n",
       "      console.error(\"failed to load \" + url);\n",
       "    }\n",
       "\n",
       "    for (var i = 0; i < css_urls.length; i++) {\n",
       "      var url = css_urls[i];\n",
       "      const element = document.createElement(\"link\");\n",
       "      element.onload = on_load;\n",
       "      element.onerror = on_error;\n",
       "      element.rel = \"stylesheet\";\n",
       "      element.type = \"text/css\";\n",
       "      element.href = url;\n",
       "      console.debug(\"Bokeh: injecting link tag for BokehJS stylesheet: \", url);\n",
       "      document.body.appendChild(element);\n",
       "    }\n",
       "\n",
       "    for (var i = 0; i < js_urls.length; i++) {\n",
       "      var url = js_urls[i];\n",
       "      var element = document.createElement('script');\n",
       "      element.onload = on_load;\n",
       "      element.onerror = on_error;\n",
       "      element.async = false;\n",
       "      element.src = url;\n",
       "      console.debug(\"Bokeh: injecting script tag for BokehJS library: \", url);\n",
       "      document.head.appendChild(element);\n",
       "    }\n",
       "  };var element = document.getElementById(\"1001\");\n",
       "  if (element == null) {\n",
       "    console.error(\"Bokeh: ERROR: autoload.js configured with elementid '1001' but no matching script tag was found. \")\n",
       "    return false;\n",
       "  }\n",
       "\n",
       "  function inject_raw_css(css) {\n",
       "    const element = document.createElement(\"style\");\n",
       "    element.appendChild(document.createTextNode(css));\n",
       "    document.body.appendChild(element);\n",
       "  }\n",
       "\n",
       "  \n",
       "  var js_urls = [\"https://cdn.pydata.org/bokeh/release/bokeh-1.4.0.min.js\", \"https://cdn.pydata.org/bokeh/release/bokeh-widgets-1.4.0.min.js\", \"https://cdn.pydata.org/bokeh/release/bokeh-tables-1.4.0.min.js\", \"https://cdn.pydata.org/bokeh/release/bokeh-gl-1.4.0.min.js\"];\n",
       "  var css_urls = [];\n",
       "  \n",
       "\n",
       "  var inline_js = [\n",
       "    function(Bokeh) {\n",
       "      Bokeh.set_log_level(\"info\");\n",
       "    },\n",
       "    function(Bokeh) {\n",
       "    \n",
       "    \n",
       "    }\n",
       "  ];\n",
       "\n",
       "  function run_inline_js() {\n",
       "    \n",
       "    if (root.Bokeh !== undefined || force === true) {\n",
       "      \n",
       "    for (var i = 0; i < inline_js.length; i++) {\n",
       "      inline_js[i].call(root, root.Bokeh);\n",
       "    }\n",
       "    if (force === true) {\n",
       "        display_loaded();\n",
       "      }} else if (Date.now() < root._bokeh_timeout) {\n",
       "      setTimeout(run_inline_js, 100);\n",
       "    } else if (!root._bokeh_failed_load) {\n",
       "      console.log(\"Bokeh: BokehJS failed to load within specified timeout.\");\n",
       "      root._bokeh_failed_load = true;\n",
       "    } else if (force !== true) {\n",
       "      var cell = $(document.getElementById(\"1001\")).parents('.cell').data().cell;\n",
       "      cell.output_area.append_execute_result(NB_LOAD_WARNING)\n",
       "    }\n",
       "\n",
       "  }\n",
       "\n",
       "  if (root._bokeh_is_loading === 0) {\n",
       "    console.debug(\"Bokeh: BokehJS loaded, going straight to plotting\");\n",
       "    run_inline_js();\n",
       "  } else {\n",
       "    load_libs(css_urls, js_urls, function() {\n",
       "      console.debug(\"Bokeh: BokehJS plotting callback run at\", now());\n",
       "      run_inline_js();\n",
       "    });\n",
       "  }\n",
       "}(window));"
      ],
      "application/vnd.bokehjs_load.v0+json": "\n(function(root) {\n  function now() {\n    return new Date();\n  }\n\n  var force = true;\n\n  if (typeof root._bokeh_onload_callbacks === \"undefined\" || force === true) {\n    root._bokeh_onload_callbacks = [];\n    root._bokeh_is_loading = undefined;\n  }\n\n  \n\n  \n  if (typeof (root._bokeh_timeout) === \"undefined\" || force === true) {\n    root._bokeh_timeout = Date.now() + 5000;\n    root._bokeh_failed_load = false;\n  }\n\n  var NB_LOAD_WARNING = {'data': {'text/html':\n     \"<div style='background-color: #fdd'>\\n\"+\n     \"<p>\\n\"+\n     \"BokehJS does not appear to have successfully loaded. If loading BokehJS from CDN, this \\n\"+\n     \"may be due to a slow or bad network connection. Possible fixes:\\n\"+\n     \"</p>\\n\"+\n     \"<ul>\\n\"+\n     \"<li>re-rerun `output_notebook()` to attempt to load from CDN again, or</li>\\n\"+\n     \"<li>use INLINE resources instead, as so:</li>\\n\"+\n     \"</ul>\\n\"+\n     \"<code>\\n\"+\n     \"from bokeh.resources import INLINE\\n\"+\n     \"output_notebook(resources=INLINE)\\n\"+\n     \"</code>\\n\"+\n     \"</div>\"}};\n\n  function display_loaded() {\n    var el = document.getElementById(\"1001\");\n    if (el != null) {\n      el.textContent = \"BokehJS is loading...\";\n    }\n    if (root.Bokeh !== undefined) {\n      if (el != null) {\n        el.textContent = \"BokehJS \" + root.Bokeh.version + \" successfully loaded.\";\n      }\n    } else if (Date.now() < root._bokeh_timeout) {\n      setTimeout(display_loaded, 100)\n    }\n  }\n\n\n  function run_callbacks() {\n    try {\n      root._bokeh_onload_callbacks.forEach(function(callback) {\n        if (callback != null)\n          callback();\n      });\n    } finally {\n      delete root._bokeh_onload_callbacks\n    }\n    console.debug(\"Bokeh: all callbacks have finished\");\n  }\n\n  function load_libs(css_urls, js_urls, callback) {\n    if (css_urls == null) css_urls = [];\n    if (js_urls == null) js_urls = [];\n\n    root._bokeh_onload_callbacks.push(callback);\n    if (root._bokeh_is_loading > 0) {\n      console.debug(\"Bokeh: BokehJS is being loaded, scheduling callback at\", now());\n      return null;\n    }\n    if (js_urls == null || js_urls.length === 0) {\n      run_callbacks();\n      return null;\n    }\n    console.debug(\"Bokeh: BokehJS not loaded, scheduling load and callback at\", now());\n    root._bokeh_is_loading = css_urls.length + js_urls.length;\n\n    function on_load() {\n      root._bokeh_is_loading--;\n      if (root._bokeh_is_loading === 0) {\n        console.debug(\"Bokeh: all BokehJS libraries/stylesheets loaded\");\n        run_callbacks()\n      }\n    }\n\n    function on_error() {\n      console.error(\"failed to load \" + url);\n    }\n\n    for (var i = 0; i < css_urls.length; i++) {\n      var url = css_urls[i];\n      const element = document.createElement(\"link\");\n      element.onload = on_load;\n      element.onerror = on_error;\n      element.rel = \"stylesheet\";\n      element.type = \"text/css\";\n      element.href = url;\n      console.debug(\"Bokeh: injecting link tag for BokehJS stylesheet: \", url);\n      document.body.appendChild(element);\n    }\n\n    for (var i = 0; i < js_urls.length; i++) {\n      var url = js_urls[i];\n      var element = document.createElement('script');\n      element.onload = on_load;\n      element.onerror = on_error;\n      element.async = false;\n      element.src = url;\n      console.debug(\"Bokeh: injecting script tag for BokehJS library: \", url);\n      document.head.appendChild(element);\n    }\n  };var element = document.getElementById(\"1001\");\n  if (element == null) {\n    console.error(\"Bokeh: ERROR: autoload.js configured with elementid '1001' but no matching script tag was found. \")\n    return false;\n  }\n\n  function inject_raw_css(css) {\n    const element = document.createElement(\"style\");\n    element.appendChild(document.createTextNode(css));\n    document.body.appendChild(element);\n  }\n\n  \n  var js_urls = [\"https://cdn.pydata.org/bokeh/release/bokeh-1.4.0.min.js\", \"https://cdn.pydata.org/bokeh/release/bokeh-widgets-1.4.0.min.js\", \"https://cdn.pydata.org/bokeh/release/bokeh-tables-1.4.0.min.js\", \"https://cdn.pydata.org/bokeh/release/bokeh-gl-1.4.0.min.js\"];\n  var css_urls = [];\n  \n\n  var inline_js = [\n    function(Bokeh) {\n      Bokeh.set_log_level(\"info\");\n    },\n    function(Bokeh) {\n    \n    \n    }\n  ];\n\n  function run_inline_js() {\n    \n    if (root.Bokeh !== undefined || force === true) {\n      \n    for (var i = 0; i < inline_js.length; i++) {\n      inline_js[i].call(root, root.Bokeh);\n    }\n    if (force === true) {\n        display_loaded();\n      }} else if (Date.now() < root._bokeh_timeout) {\n      setTimeout(run_inline_js, 100);\n    } else if (!root._bokeh_failed_load) {\n      console.log(\"Bokeh: BokehJS failed to load within specified timeout.\");\n      root._bokeh_failed_load = true;\n    } else if (force !== true) {\n      var cell = $(document.getElementById(\"1001\")).parents('.cell').data().cell;\n      cell.output_area.append_execute_result(NB_LOAD_WARNING)\n    }\n\n  }\n\n  if (root._bokeh_is_loading === 0) {\n    console.debug(\"Bokeh: BokehJS loaded, going straight to plotting\");\n    run_inline_js();\n  } else {\n    load_libs(css_urls, js_urls, function() {\n      console.debug(\"Bokeh: BokehJS plotting callback run at\", now());\n      run_inline_js();\n    });\n  }\n}(window));"
     },
     "metadata": {},
     "output_type": "display_data"
    }
   ],
   "source": [
    "from bokeh.io import output_notebook, show\n",
    "from bokeh.plotting import figure\n",
    "output_notebook()"
   ]
  },
  {
   "cell_type": "markdown",
   "metadata": {},
   "source": [
    "Now that we know from the previous chapter how multiple plots can be placed together in a layout, we can start to look at how different plots can be linked togeher, or how plots can be linked to widgets. "
   ]
  },
  {
   "cell_type": "markdown",
   "metadata": {},
   "source": [
    "# Linked Interactions\n",
    "\n",
    "It is possible to link various interactions between different Bokeh plots. For instance, the ranges of two (or more) plots can be linked, so that when one of the plots is panned (or zoomed, or otherwise has its range changed) the other plots will update in unison. It is also possible to link selections between two plots, so that when items are selected on one plot, the corresponding items on the second plot also become selected. "
   ]
  },
  {
   "cell_type": "markdown",
   "metadata": {},
   "source": [
    "## Linked panning\n",
    "\n",
    "Linked panning (when multiple plots have ranges that stay in sync) is simple to spell with Bokeh. You simply share the appropriate range objects between two (or more) plots. The example below shows how to accomplish this by linking the ranges of three plots in various ways:"
   ]
  },
  {
   "cell_type": "code",
   "execution_count": 2,
   "metadata": {},
   "outputs": [
    {
     "data": {
      "text/html": [
       "\n",
       "\n",
       "\n",
       "\n",
       "\n",
       "\n",
       "  <div class=\"bk-root\" id=\"e70a976e-c8c7-4d72-bf18-8736325c07ca\" data-root-id=\"1116\"></div>\n"
      ]
     },
     "metadata": {},
     "output_type": "display_data"
    },
    {
     "data": {
      "application/javascript": [
       "(function(root) {\n",
       "  function embed_document(root) {\n",
       "    \n",
       "  var docs_json = {\"3ed5cbae-9d0b-427a-8532-0347d07bfc0a\":{\"roots\":{\"references\":[{\"attributes\":{\"children\":[{\"id\":\"1115\",\"type\":\"ToolbarBox\"},{\"id\":\"1113\",\"type\":\"GridBox\"}]},\"id\":\"1116\",\"type\":\"Column\"},{\"attributes\":{\"callback\":null},\"id\":\"1003\",\"type\":\"DataRange1d\"},{\"attributes\":{\"text\":\"\"},\"id\":\"1087\",\"type\":\"Title\"},{\"attributes\":{\"source\":{\"id\":\"1026\",\"type\":\"ColumnDataSource\"}},\"id\":\"1030\",\"type\":\"CDSView\"},{\"attributes\":{\"callback\":null,\"data\":{\"x\":[0,1,2,3,4,5,6,7,8,9,10],\"y\":[5,4,3,2,1,0,1,2,3,4,5]},\"selected\":{\"id\":\"1110\",\"type\":\"Selection\"},\"selection_policy\":{\"id\":\"1111\",\"type\":\"UnionRenderers\"}},\"id\":\"1081\",\"type\":\"ColumnDataSource\"},{\"attributes\":{\"callback\":null},\"id\":\"1060\",\"type\":\"DataRange1d\"},{\"attributes\":{\"callback\":null,\"data\":{\"x\":[0,1,2,3,4,5,6,7,8,9,10],\"y\":[10,9,8,7,6,5,4,3,2,1,0]},\"selected\":{\"id\":\"1101\",\"type\":\"Selection\"},\"selection_policy\":{\"id\":\"1102\",\"type\":\"UnionRenderers\"}},\"id\":\"1053\",\"type\":\"ColumnDataSource\"},{\"attributes\":{},\"id\":\"1089\",\"type\":\"BasicTickFormatter\"},{\"attributes\":{},\"id\":\"1007\",\"type\":\"LinearScale\"},{\"attributes\":{},\"id\":\"1062\",\"type\":\"LinearScale\"},{\"attributes\":{},\"id\":\"1034\",\"type\":\"LinearScale\"},{\"attributes\":{},\"id\":\"1091\",\"type\":\"BasicTickFormatter\"},{\"attributes\":{},\"id\":\"1009\",\"type\":\"LinearScale\"},{\"attributes\":{},\"id\":\"1064\",\"type\":\"LinearScale\"},{\"attributes\":{},\"id\":\"1036\",\"type\":\"LinearScale\"},{\"attributes\":{\"data_source\":{\"id\":\"1026\",\"type\":\"ColumnDataSource\"},\"glyph\":{\"id\":\"1027\",\"type\":\"Circle\"},\"hover_glyph\":null,\"muted_glyph\":null,\"nonselection_glyph\":{\"id\":\"1028\",\"type\":\"Circle\"},\"selection_glyph\":null,\"view\":{\"id\":\"1030\",\"type\":\"CDSView\"}},\"id\":\"1029\",\"type\":\"GlyphRenderer\"},{\"attributes\":{\"formatter\":{\"id\":\"1089\",\"type\":\"BasicTickFormatter\"},\"ticker\":{\"id\":\"1012\",\"type\":\"BasicTicker\"}},\"id\":\"1011\",\"type\":\"LinearAxis\"},{\"attributes\":{\"formatter\":{\"id\":\"1107\",\"type\":\"BasicTickFormatter\"},\"ticker\":{\"id\":\"1067\",\"type\":\"BasicTicker\"}},\"id\":\"1066\",\"type\":\"LinearAxis\"},{\"attributes\":{\"formatter\":{\"id\":\"1098\",\"type\":\"BasicTickFormatter\"},\"ticker\":{\"id\":\"1039\",\"type\":\"BasicTicker\"}},\"id\":\"1038\",\"type\":\"LinearAxis\"},{\"attributes\":{},\"id\":\"1092\",\"type\":\"Selection\"},{\"attributes\":{},\"id\":\"1093\",\"type\":\"UnionRenderers\"},{\"attributes\":{},\"id\":\"1012\",\"type\":\"BasicTicker\"},{\"attributes\":{},\"id\":\"1067\",\"type\":\"BasicTicker\"},{\"attributes\":{},\"id\":\"1039\",\"type\":\"BasicTicker\"},{\"attributes\":{\"below\":[{\"id\":\"1038\",\"type\":\"LinearAxis\"}],\"center\":[{\"id\":\"1042\",\"type\":\"Grid\"},{\"id\":\"1047\",\"type\":\"Grid\"}],\"left\":[{\"id\":\"1043\",\"type\":\"LinearAxis\"}],\"plot_height\":250,\"plot_width\":250,\"renderers\":[{\"id\":\"1056\",\"type\":\"GlyphRenderer\"}],\"title\":{\"id\":\"1096\",\"type\":\"Title\"},\"toolbar\":{\"id\":\"1050\",\"type\":\"Toolbar\"},\"toolbar_location\":null,\"x_range\":{\"id\":\"1003\",\"type\":\"DataRange1d\"},\"x_scale\":{\"id\":\"1034\",\"type\":\"LinearScale\"},\"y_range\":{\"id\":\"1005\",\"type\":\"DataRange1d\"},\"y_scale\":{\"id\":\"1036\",\"type\":\"LinearScale\"}},\"id\":\"1031\",\"subtype\":\"Figure\",\"type\":\"Plot\"},{\"attributes\":{\"ticker\":{\"id\":\"1012\",\"type\":\"BasicTicker\"}},\"id\":\"1015\",\"type\":\"Grid\"},{\"attributes\":{\"text\":\"\"},\"id\":\"1096\",\"type\":\"Title\"},{\"attributes\":{\"ticker\":{\"id\":\"1039\",\"type\":\"BasicTicker\"}},\"id\":\"1042\",\"type\":\"Grid\"},{\"attributes\":{\"ticker\":{\"id\":\"1067\",\"type\":\"BasicTicker\"}},\"id\":\"1070\",\"type\":\"Grid\"},{\"attributes\":{},\"id\":\"1098\",\"type\":\"BasicTickFormatter\"},{\"attributes\":{\"formatter\":{\"id\":\"1091\",\"type\":\"BasicTickFormatter\"},\"ticker\":{\"id\":\"1017\",\"type\":\"BasicTicker\"}},\"id\":\"1016\",\"type\":\"LinearAxis\"},{\"attributes\":{\"formatter\":{\"id\":\"1109\",\"type\":\"BasicTickFormatter\"},\"ticker\":{\"id\":\"1072\",\"type\":\"BasicTicker\"}},\"id\":\"1071\",\"type\":\"LinearAxis\"},{\"attributes\":{\"formatter\":{\"id\":\"1100\",\"type\":\"BasicTickFormatter\"},\"ticker\":{\"id\":\"1044\",\"type\":\"BasicTicker\"}},\"id\":\"1043\",\"type\":\"LinearAxis\"},{\"attributes\":{},\"id\":\"1100\",\"type\":\"BasicTickFormatter\"},{\"attributes\":{},\"id\":\"1017\",\"type\":\"BasicTicker\"},{\"attributes\":{},\"id\":\"1072\",\"type\":\"BasicTicker\"},{\"attributes\":{},\"id\":\"1044\",\"type\":\"BasicTicker\"},{\"attributes\":{},\"id\":\"1101\",\"type\":\"Selection\"},{\"attributes\":{\"dimension\":1,\"ticker\":{\"id\":\"1017\",\"type\":\"BasicTicker\"}},\"id\":\"1020\",\"type\":\"Grid\"},{\"attributes\":{\"dimension\":1,\"ticker\":{\"id\":\"1072\",\"type\":\"BasicTicker\"}},\"id\":\"1075\",\"type\":\"Grid\"},{\"attributes\":{\"dimension\":1,\"ticker\":{\"id\":\"1044\",\"type\":\"BasicTicker\"}},\"id\":\"1047\",\"type\":\"Grid\"},{\"attributes\":{},\"id\":\"1102\",\"type\":\"UnionRenderers\"},{\"attributes\":{},\"id\":\"1022\",\"type\":\"WheelZoomTool\"},{\"attributes\":{\"active_drag\":\"auto\",\"active_inspect\":\"auto\",\"active_multi\":null,\"active_scroll\":\"auto\",\"active_tap\":\"auto\",\"tools\":[{\"id\":\"1076\",\"type\":\"PanTool\"},{\"id\":\"1077\",\"type\":\"WheelZoomTool\"}]},\"id\":\"1078\",\"type\":\"Toolbar\"},{\"attributes\":{\"below\":[{\"id\":\"1066\",\"type\":\"LinearAxis\"}],\"center\":[{\"id\":\"1070\",\"type\":\"Grid\"},{\"id\":\"1075\",\"type\":\"Grid\"}],\"left\":[{\"id\":\"1071\",\"type\":\"LinearAxis\"}],\"plot_height\":250,\"plot_width\":250,\"renderers\":[{\"id\":\"1084\",\"type\":\"GlyphRenderer\"}],\"title\":{\"id\":\"1105\",\"type\":\"Title\"},\"toolbar\":{\"id\":\"1078\",\"type\":\"Toolbar\"},\"toolbar_location\":null,\"x_range\":{\"id\":\"1003\",\"type\":\"DataRange1d\"},\"x_scale\":{\"id\":\"1062\",\"type\":\"LinearScale\"},\"y_range\":{\"id\":\"1060\",\"type\":\"DataRange1d\"},\"y_scale\":{\"id\":\"1064\",\"type\":\"LinearScale\"}},\"id\":\"1058\",\"subtype\":\"Figure\",\"type\":\"Plot\"},{\"attributes\":{},\"id\":\"1076\",\"type\":\"PanTool\"},{\"attributes\":{\"active_drag\":\"auto\",\"active_inspect\":\"auto\",\"active_multi\":null,\"active_scroll\":\"auto\",\"active_tap\":\"auto\",\"tools\":[{\"id\":\"1048\",\"type\":\"PanTool\"},{\"id\":\"1049\",\"type\":\"WheelZoomTool\"}]},\"id\":\"1050\",\"type\":\"Toolbar\"},{\"attributes\":{},\"id\":\"1021\",\"type\":\"PanTool\"},{\"attributes\":{\"text\":\"\"},\"id\":\"1105\",\"type\":\"Title\"},{\"attributes\":{},\"id\":\"1048\",\"type\":\"PanTool\"},{\"attributes\":{\"fill_color\":{\"value\":\"navy\"},\"line_color\":{\"value\":\"navy\"},\"size\":{\"units\":\"screen\",\"value\":10},\"x\":{\"field\":\"x\"},\"y\":{\"field\":\"y\"}},\"id\":\"1027\",\"type\":\"Circle\"},{\"attributes\":{},\"id\":\"1077\",\"type\":\"WheelZoomTool\"},{\"attributes\":{},\"id\":\"1049\",\"type\":\"WheelZoomTool\"},{\"attributes\":{\"fill_alpha\":{\"value\":0.1},\"fill_color\":{\"value\":\"#1f77b4\"},\"line_alpha\":{\"value\":0.1},\"line_color\":{\"value\":\"#1f77b4\"},\"size\":{\"units\":\"screen\",\"value\":10},\"x\":{\"field\":\"x\"},\"y\":{\"field\":\"y\"}},\"id\":\"1028\",\"type\":\"Circle\"},{\"attributes\":{},\"id\":\"1107\",\"type\":\"BasicTickFormatter\"},{\"attributes\":{\"active_drag\":\"auto\",\"active_inspect\":\"auto\",\"active_multi\":null,\"active_scroll\":\"auto\",\"active_tap\":\"auto\",\"tools\":[{\"id\":\"1021\",\"type\":\"PanTool\"},{\"id\":\"1022\",\"type\":\"WheelZoomTool\"}]},\"id\":\"1023\",\"type\":\"Toolbar\"},{\"attributes\":{\"fill_color\":{\"value\":\"olive\"},\"line_color\":{\"value\":\"olive\"},\"size\":{\"units\":\"screen\",\"value\":10},\"x\":{\"field\":\"x\"},\"y\":{\"field\":\"y\"}},\"id\":\"1082\",\"type\":\"Square\"},{\"attributes\":{},\"id\":\"1109\",\"type\":\"BasicTickFormatter\"},{\"attributes\":{\"fill_color\":{\"value\":\"firebrick\"},\"line_color\":{\"value\":\"firebrick\"},\"size\":{\"units\":\"screen\",\"value\":10},\"x\":{\"field\":\"x\"},\"y\":{\"field\":\"y\"}},\"id\":\"1054\",\"type\":\"Triangle\"},{\"attributes\":{},\"id\":\"1110\",\"type\":\"Selection\"},{\"attributes\":{\"fill_alpha\":{\"value\":0.1},\"fill_color\":{\"value\":\"#1f77b4\"},\"line_alpha\":{\"value\":0.1},\"line_color\":{\"value\":\"#1f77b4\"},\"size\":{\"units\":\"screen\",\"value\":10},\"x\":{\"field\":\"x\"},\"y\":{\"field\":\"y\"}},\"id\":\"1083\",\"type\":\"Square\"},{\"attributes\":{\"source\":{\"id\":\"1053\",\"type\":\"ColumnDataSource\"}},\"id\":\"1057\",\"type\":\"CDSView\"},{\"attributes\":{\"fill_alpha\":{\"value\":0.1},\"fill_color\":{\"value\":\"#1f77b4\"},\"line_alpha\":{\"value\":0.1},\"line_color\":{\"value\":\"#1f77b4\"},\"size\":{\"units\":\"screen\",\"value\":10},\"x\":{\"field\":\"x\"},\"y\":{\"field\":\"y\"}},\"id\":\"1055\",\"type\":\"Triangle\"},{\"attributes\":{},\"id\":\"1111\",\"type\":\"UnionRenderers\"},{\"attributes\":{\"data_source\":{\"id\":\"1081\",\"type\":\"ColumnDataSource\"},\"glyph\":{\"id\":\"1082\",\"type\":\"Square\"},\"hover_glyph\":null,\"muted_glyph\":null,\"nonselection_glyph\":{\"id\":\"1083\",\"type\":\"Square\"},\"selection_glyph\":null,\"view\":{\"id\":\"1085\",\"type\":\"CDSView\"}},\"id\":\"1084\",\"type\":\"GlyphRenderer\"},{\"attributes\":{\"tools\":[{\"id\":\"1021\",\"type\":\"PanTool\"},{\"id\":\"1022\",\"type\":\"WheelZoomTool\"},{\"id\":\"1048\",\"type\":\"PanTool\"},{\"id\":\"1049\",\"type\":\"WheelZoomTool\"},{\"id\":\"1076\",\"type\":\"PanTool\"},{\"id\":\"1077\",\"type\":\"WheelZoomTool\"}]},\"id\":\"1114\",\"type\":\"ProxyToolbar\"},{\"attributes\":{\"children\":[[{\"id\":\"1002\",\"subtype\":\"Figure\",\"type\":\"Plot\"},0,0],[{\"id\":\"1031\",\"subtype\":\"Figure\",\"type\":\"Plot\"},0,1],[{\"id\":\"1058\",\"subtype\":\"Figure\",\"type\":\"Plot\"},0,2]]},\"id\":\"1113\",\"type\":\"GridBox\"},{\"attributes\":{\"data_source\":{\"id\":\"1053\",\"type\":\"ColumnDataSource\"},\"glyph\":{\"id\":\"1054\",\"type\":\"Triangle\"},\"hover_glyph\":null,\"muted_glyph\":null,\"nonselection_glyph\":{\"id\":\"1055\",\"type\":\"Triangle\"},\"selection_glyph\":null,\"view\":{\"id\":\"1057\",\"type\":\"CDSView\"}},\"id\":\"1056\",\"type\":\"GlyphRenderer\"},{\"attributes\":{\"callback\":null,\"data\":{\"x\":[0,1,2,3,4,5,6,7,8,9,10],\"y\":[0,1,2,3,4,5,6,7,8,9,10]},\"selected\":{\"id\":\"1092\",\"type\":\"Selection\"},\"selection_policy\":{\"id\":\"1093\",\"type\":\"UnionRenderers\"}},\"id\":\"1026\",\"type\":\"ColumnDataSource\"},{\"attributes\":{\"below\":[{\"id\":\"1011\",\"type\":\"LinearAxis\"}],\"center\":[{\"id\":\"1015\",\"type\":\"Grid\"},{\"id\":\"1020\",\"type\":\"Grid\"}],\"left\":[{\"id\":\"1016\",\"type\":\"LinearAxis\"}],\"plot_height\":250,\"plot_width\":250,\"renderers\":[{\"id\":\"1029\",\"type\":\"GlyphRenderer\"}],\"title\":{\"id\":\"1087\",\"type\":\"Title\"},\"toolbar\":{\"id\":\"1023\",\"type\":\"Toolbar\"},\"toolbar_location\":null,\"x_range\":{\"id\":\"1003\",\"type\":\"DataRange1d\"},\"x_scale\":{\"id\":\"1007\",\"type\":\"LinearScale\"},\"y_range\":{\"id\":\"1005\",\"type\":\"DataRange1d\"},\"y_scale\":{\"id\":\"1009\",\"type\":\"LinearScale\"}},\"id\":\"1002\",\"subtype\":\"Figure\",\"type\":\"Plot\"},{\"attributes\":{\"source\":{\"id\":\"1081\",\"type\":\"ColumnDataSource\"}},\"id\":\"1085\",\"type\":\"CDSView\"},{\"attributes\":{\"toolbar\":{\"id\":\"1114\",\"type\":\"ProxyToolbar\"},\"toolbar_location\":\"above\"},\"id\":\"1115\",\"type\":\"ToolbarBox\"},{\"attributes\":{\"callback\":null},\"id\":\"1005\",\"type\":\"DataRange1d\"}],\"root_ids\":[\"1116\"]},\"title\":\"Bokeh Application\",\"version\":\"1.4.0\"}};\n",
       "  var render_items = [{\"docid\":\"3ed5cbae-9d0b-427a-8532-0347d07bfc0a\",\"roots\":{\"1116\":\"e70a976e-c8c7-4d72-bf18-8736325c07ca\"}}];\n",
       "  root.Bokeh.embed.embed_items_notebook(docs_json, render_items);\n",
       "\n",
       "  }\n",
       "  if (root.Bokeh !== undefined) {\n",
       "    embed_document(root);\n",
       "  } else {\n",
       "    var attempts = 0;\n",
       "    var timer = setInterval(function(root) {\n",
       "      if (root.Bokeh !== undefined) {\n",
       "        clearInterval(timer);\n",
       "        embed_document(root);\n",
       "      } else {\n",
       "        attempts++;\n",
       "        if (attempts > 100) {\n",
       "          clearInterval(timer);\n",
       "          console.log(\"Bokeh: ERROR: Unable to run BokehJS code because BokehJS library is missing\");\n",
       "        }\n",
       "      }\n",
       "    }, 10, root)\n",
       "  }\n",
       "})(window);"
      ],
      "application/vnd.bokehjs_exec.v0+json": ""
     },
     "metadata": {
      "application/vnd.bokehjs_exec.v0+json": {
       "id": "1116"
      }
     },
     "output_type": "display_data"
    }
   ],
   "source": [
    "from bokeh.layouts import gridplot\n",
    "\n",
    "x = list(range(11))\n",
    "y0, y1, y2 = x, [10-i for i in x], [abs(i-5) for i in x]\n",
    "\n",
    "plot_options = dict(width=250, plot_height=250, tools='pan,wheel_zoom')\n",
    "\n",
    "# create a new plot\n",
    "s1 = figure(**plot_options)\n",
    "s1.circle(x, y0, size=10, color=\"navy\")\n",
    "\n",
    "# create a new plot and share both ranges\n",
    "s2 = figure(x_range=s1.x_range, y_range=s1.y_range, **plot_options)\n",
    "s2.triangle(x, y1, size=10, color=\"firebrick\")\n",
    "\n",
    "# create a new plot and share only one range\n",
    "s3 = figure(x_range=s1.x_range, **plot_options)\n",
    "s3.square(x, y2, size=10, color=\"olive\")\n",
    "\n",
    "p = gridplot([[s1, s2, s3]])\n",
    "\n",
    "# show the results\n",
    "show(p)"
   ]
  },
  {
   "cell_type": "code",
   "execution_count": 3,
   "metadata": {},
   "outputs": [],
   "source": [
    "# EXERCISE: create two plots in a gridplot, and link their ranges\n"
   ]
  },
  {
   "cell_type": "markdown",
   "metadata": {},
   "source": [
    "## Linked brushing\n",
    "\n",
    "Linking selections is accomplished in a similar way, by sharing data sources between plots. Note that normally with ``bokeh.plotting`` and ``bokeh.charts`` creating a default data source for simple plots is handled automatically. However to share a data source, we must create them by hand and pass them explicitly. This is illustrated in the example below:"
   ]
  },
  {
   "cell_type": "code",
   "execution_count": 4,
   "metadata": {},
   "outputs": [
    {
     "data": {
      "text/html": [
       "\n",
       "\n",
       "\n",
       "\n",
       "\n",
       "\n",
       "  <div class=\"bk-root\" id=\"7f9cc102-f895-42bd-93b8-bb94ae35316c\" data-root-id=\"1373\"></div>\n"
      ]
     },
     "metadata": {},
     "output_type": "display_data"
    },
    {
     "data": {
      "application/javascript": [
       "(function(root) {\n",
       "  function embed_document(root) {\n",
       "    \n",
       "  var docs_json = {\"37d87a62-430f-4bba-97b2-87cd7c632465\":{\"roots\":{\"references\":[{\"attributes\":{\"children\":[{\"id\":\"1372\",\"type\":\"ToolbarBox\"},{\"id\":\"1370\",\"type\":\"GridBox\"}]},\"id\":\"1373\",\"type\":\"Column\"},{\"attributes\":{},\"id\":\"1296\",\"type\":\"BasicTicker\"},{\"attributes\":{\"fill_alpha\":{\"value\":0.5},\"fill_color\":{\"value\":\"lightgrey\"},\"level\":\"overlay\",\"line_alpha\":{\"value\":1.0},\"line_color\":{\"value\":\"black\"},\"line_dash\":[4,4],\"line_width\":{\"value\":2},\"xs_units\":\"screen\",\"ys_units\":\"screen\"},\"id\":\"1366\",\"type\":\"PolyAnnotation\"},{\"attributes\":{\"source\":{\"id\":\"1285\",\"type\":\"ColumnDataSource\"}},\"id\":\"1316\",\"type\":\"CDSView\"},{\"attributes\":{},\"id\":\"1364\",\"type\":\"BasicTickFormatter\"},{\"attributes\":{\"tools\":[{\"id\":\"1305\",\"type\":\"BoxSelectTool\"},{\"id\":\"1306\",\"type\":\"LassoSelectTool\"},{\"id\":\"1307\",\"type\":\"HelpTool\"},{\"id\":\"1336\",\"type\":\"BoxSelectTool\"},{\"id\":\"1337\",\"type\":\"LassoSelectTool\"},{\"id\":\"1338\",\"type\":\"HelpTool\"}]},\"id\":\"1371\",\"type\":\"ProxyToolbar\"},{\"attributes\":{\"data_source\":{\"id\":\"1285\",\"type\":\"ColumnDataSource\"},\"glyph\":{\"id\":\"1313\",\"type\":\"Circle\"},\"hover_glyph\":null,\"muted_glyph\":null,\"nonselection_glyph\":{\"id\":\"1314\",\"type\":\"Circle\"},\"selection_glyph\":null,\"view\":{\"id\":\"1316\",\"type\":\"CDSView\"}},\"id\":\"1315\",\"type\":\"GlyphRenderer\"},{\"attributes\":{\"toolbar\":{\"id\":\"1371\",\"type\":\"ProxyToolbar\"},\"toolbar_location\":\"above\"},\"id\":\"1372\",\"type\":\"ToolbarBox\"},{\"attributes\":{\"fill_color\":{\"value\":\"#1f77b4\"},\"line_color\":{\"value\":\"#1f77b4\"},\"x\":{\"field\":\"x\"},\"y\":{\"field\":\"y1\"}},\"id\":\"1344\",\"type\":\"Circle\"},{\"attributes\":{\"callback\":null,\"overlay\":{\"id\":\"1354\",\"type\":\"BoxAnnotation\"}},\"id\":\"1305\",\"type\":\"BoxSelectTool\"},{\"attributes\":{\"ticker\":{\"id\":\"1327\",\"type\":\"BasicTicker\"}},\"id\":\"1330\",\"type\":\"Grid\"},{\"attributes\":{\"source\":{\"id\":\"1285\",\"type\":\"ColumnDataSource\"}},\"id\":\"1347\",\"type\":\"CDSView\"},{\"attributes\":{\"active_drag\":\"auto\",\"active_inspect\":\"auto\",\"active_multi\":null,\"active_scroll\":\"auto\",\"active_tap\":\"auto\",\"tools\":[{\"id\":\"1336\",\"type\":\"BoxSelectTool\"},{\"id\":\"1337\",\"type\":\"LassoSelectTool\"},{\"id\":\"1338\",\"type\":\"HelpTool\"}]},\"id\":\"1339\",\"type\":\"Toolbar\"},{\"attributes\":{},\"id\":\"1353\",\"type\":\"BasicTickFormatter\"},{\"attributes\":{},\"id\":\"1332\",\"type\":\"BasicTicker\"},{\"attributes\":{\"below\":[{\"id\":\"1326\",\"type\":\"LinearAxis\"}],\"center\":[{\"id\":\"1330\",\"type\":\"Grid\"},{\"id\":\"1335\",\"type\":\"Grid\"}],\"left\":[{\"id\":\"1331\",\"type\":\"LinearAxis\"}],\"plot_height\":300,\"plot_width\":300,\"renderers\":[{\"id\":\"1346\",\"type\":\"GlyphRenderer\"}],\"title\":{\"id\":\"1360\",\"type\":\"Title\"},\"toolbar\":{\"id\":\"1339\",\"type\":\"Toolbar\"},\"toolbar_location\":null,\"x_range\":{\"id\":\"1318\",\"type\":\"DataRange1d\"},\"x_scale\":{\"id\":\"1322\",\"type\":\"LinearScale\"},\"y_range\":{\"id\":\"1320\",\"type\":\"DataRange1d\"},\"y_scale\":{\"id\":\"1324\",\"type\":\"LinearScale\"}},\"id\":\"1317\",\"subtype\":\"Figure\",\"type\":\"Plot\"},{\"attributes\":{\"children\":[[{\"id\":\"1286\",\"subtype\":\"Figure\",\"type\":\"Plot\"},0,0],[{\"id\":\"1317\",\"subtype\":\"Figure\",\"type\":\"Plot\"},0,1]]},\"id\":\"1370\",\"type\":\"GridBox\"},{\"attributes\":{\"text\":\"\"},\"id\":\"1349\",\"type\":\"Title\"},{\"attributes\":{\"dimension\":1,\"ticker\":{\"id\":\"1301\",\"type\":\"BasicTicker\"}},\"id\":\"1304\",\"type\":\"Grid\"},{\"attributes\":{\"formatter\":{\"id\":\"1364\",\"type\":\"BasicTickFormatter\"},\"ticker\":{\"id\":\"1332\",\"type\":\"BasicTicker\"}},\"id\":\"1331\",\"type\":\"LinearAxis\"},{\"attributes\":{\"fill_color\":{\"value\":\"#1f77b4\"},\"line_color\":{\"value\":\"#1f77b4\"},\"x\":{\"field\":\"x\"},\"y\":{\"field\":\"y0\"}},\"id\":\"1313\",\"type\":\"Circle\"},{\"attributes\":{},\"id\":\"1362\",\"type\":\"BasicTickFormatter\"},{\"attributes\":{},\"id\":\"1327\",\"type\":\"BasicTicker\"},{\"attributes\":{\"formatter\":{\"id\":\"1353\",\"type\":\"BasicTickFormatter\"},\"ticker\":{\"id\":\"1301\",\"type\":\"BasicTicker\"}},\"id\":\"1300\",\"type\":\"LinearAxis\"},{\"attributes\":{\"formatter\":{\"id\":\"1362\",\"type\":\"BasicTickFormatter\"},\"ticker\":{\"id\":\"1327\",\"type\":\"BasicTicker\"}},\"id\":\"1326\",\"type\":\"LinearAxis\"},{\"attributes\":{\"dimension\":1,\"ticker\":{\"id\":\"1332\",\"type\":\"BasicTicker\"}},\"id\":\"1335\",\"type\":\"Grid\"},{\"attributes\":{},\"id\":\"1301\",\"type\":\"BasicTicker\"},{\"attributes\":{},\"id\":\"1351\",\"type\":\"BasicTickFormatter\"},{\"attributes\":{\"callback\":null,\"data\":{\"x\":[-20,-19,-18,-17,-16,-15,-14,-13,-12,-11,-10,-9,-8,-7,-6,-5,-4,-3,-2,-1,0,1,2,3,4,5,6,7,8,9,10,11,12,13,14,15,16,17,18,19,20],\"y0\":[20,19,18,17,16,15,14,13,12,11,10,9,8,7,6,5,4,3,2,1,0,1,2,3,4,5,6,7,8,9,10,11,12,13,14,15,16,17,18,19,20],\"y1\":[400,361,324,289,256,225,196,169,144,121,100,81,64,49,36,25,16,9,4,1,0,1,4,9,16,25,36,49,64,81,100,121,144,169,196,225,256,289,324,361,400]},\"selected\":{\"id\":\"1356\",\"type\":\"Selection\"},\"selection_policy\":{\"id\":\"1357\",\"type\":\"UnionRenderers\"}},\"id\":\"1285\",\"type\":\"ColumnDataSource\"},{\"attributes\":{},\"id\":\"1324\",\"type\":\"LinearScale\"},{\"attributes\":{\"ticker\":{\"id\":\"1296\",\"type\":\"BasicTicker\"}},\"id\":\"1299\",\"type\":\"Grid\"},{\"attributes\":{\"callback\":null},\"id\":\"1320\",\"type\":\"DataRange1d\"},{\"attributes\":{\"fill_alpha\":{\"value\":0.1},\"fill_color\":{\"value\":\"#1f77b4\"},\"line_alpha\":{\"value\":0.1},\"line_color\":{\"value\":\"#1f77b4\"},\"x\":{\"field\":\"x\"},\"y\":{\"field\":\"y1\"}},\"id\":\"1345\",\"type\":\"Circle\"},{\"attributes\":{},\"id\":\"1307\",\"type\":\"HelpTool\"},{\"attributes\":{\"callback\":null},\"id\":\"1318\",\"type\":\"DataRange1d\"},{\"attributes\":{\"callback\":null},\"id\":\"1287\",\"type\":\"DataRange1d\"},{\"attributes\":{\"callback\":null,\"overlay\":{\"id\":\"1366\",\"type\":\"PolyAnnotation\"}},\"id\":\"1337\",\"type\":\"LassoSelectTool\"},{\"attributes\":{\"callback\":null},\"id\":\"1289\",\"type\":\"DataRange1d\"},{\"attributes\":{\"below\":[{\"id\":\"1295\",\"type\":\"LinearAxis\"}],\"center\":[{\"id\":\"1299\",\"type\":\"Grid\"},{\"id\":\"1304\",\"type\":\"Grid\"}],\"left\":[{\"id\":\"1300\",\"type\":\"LinearAxis\"}],\"plot_height\":300,\"plot_width\":300,\"renderers\":[{\"id\":\"1315\",\"type\":\"GlyphRenderer\"}],\"title\":{\"id\":\"1349\",\"type\":\"Title\"},\"toolbar\":{\"id\":\"1308\",\"type\":\"Toolbar\"},\"toolbar_location\":null,\"x_range\":{\"id\":\"1287\",\"type\":\"DataRange1d\"},\"x_scale\":{\"id\":\"1291\",\"type\":\"LinearScale\"},\"y_range\":{\"id\":\"1289\",\"type\":\"DataRange1d\"},\"y_scale\":{\"id\":\"1293\",\"type\":\"LinearScale\"}},\"id\":\"1286\",\"subtype\":\"Figure\",\"type\":\"Plot\"},{\"attributes\":{},\"id\":\"1322\",\"type\":\"LinearScale\"},{\"attributes\":{\"callback\":null,\"overlay\":{\"id\":\"1365\",\"type\":\"BoxAnnotation\"}},\"id\":\"1336\",\"type\":\"BoxSelectTool\"},{\"attributes\":{\"bottom_units\":\"screen\",\"fill_alpha\":{\"value\":0.5},\"fill_color\":{\"value\":\"lightgrey\"},\"left_units\":\"screen\",\"level\":\"overlay\",\"line_alpha\":{\"value\":1.0},\"line_color\":{\"value\":\"black\"},\"line_dash\":[4,4],\"line_width\":{\"value\":2},\"render_mode\":\"css\",\"right_units\":\"screen\",\"top_units\":\"screen\"},\"id\":\"1354\",\"type\":\"BoxAnnotation\"},{\"attributes\":{\"fill_alpha\":{\"value\":0.5},\"fill_color\":{\"value\":\"lightgrey\"},\"level\":\"overlay\",\"line_alpha\":{\"value\":1.0},\"line_color\":{\"value\":\"black\"},\"line_dash\":[4,4],\"line_width\":{\"value\":2},\"xs_units\":\"screen\",\"ys_units\":\"screen\"},\"id\":\"1355\",\"type\":\"PolyAnnotation\"},{\"attributes\":{\"data_source\":{\"id\":\"1285\",\"type\":\"ColumnDataSource\"},\"glyph\":{\"id\":\"1344\",\"type\":\"Circle\"},\"hover_glyph\":null,\"muted_glyph\":null,\"nonselection_glyph\":{\"id\":\"1345\",\"type\":\"Circle\"},\"selection_glyph\":null,\"view\":{\"id\":\"1347\",\"type\":\"CDSView\"}},\"id\":\"1346\",\"type\":\"GlyphRenderer\"},{\"attributes\":{\"callback\":null,\"overlay\":{\"id\":\"1355\",\"type\":\"PolyAnnotation\"}},\"id\":\"1306\",\"type\":\"LassoSelectTool\"},{\"attributes\":{\"formatter\":{\"id\":\"1351\",\"type\":\"BasicTickFormatter\"},\"ticker\":{\"id\":\"1296\",\"type\":\"BasicTicker\"}},\"id\":\"1295\",\"type\":\"LinearAxis\"},{\"attributes\":{\"active_drag\":\"auto\",\"active_inspect\":\"auto\",\"active_multi\":null,\"active_scroll\":\"auto\",\"active_tap\":\"auto\",\"tools\":[{\"id\":\"1305\",\"type\":\"BoxSelectTool\"},{\"id\":\"1306\",\"type\":\"LassoSelectTool\"},{\"id\":\"1307\",\"type\":\"HelpTool\"}]},\"id\":\"1308\",\"type\":\"Toolbar\"},{\"attributes\":{},\"id\":\"1291\",\"type\":\"LinearScale\"},{\"attributes\":{},\"id\":\"1357\",\"type\":\"UnionRenderers\"},{\"attributes\":{},\"id\":\"1338\",\"type\":\"HelpTool\"},{\"attributes\":{},\"id\":\"1356\",\"type\":\"Selection\"},{\"attributes\":{},\"id\":\"1293\",\"type\":\"LinearScale\"},{\"attributes\":{\"bottom_units\":\"screen\",\"fill_alpha\":{\"value\":0.5},\"fill_color\":{\"value\":\"lightgrey\"},\"left_units\":\"screen\",\"level\":\"overlay\",\"line_alpha\":{\"value\":1.0},\"line_color\":{\"value\":\"black\"},\"line_dash\":[4,4],\"line_width\":{\"value\":2},\"render_mode\":\"css\",\"right_units\":\"screen\",\"top_units\":\"screen\"},\"id\":\"1365\",\"type\":\"BoxAnnotation\"},{\"attributes\":{\"text\":\"\"},\"id\":\"1360\",\"type\":\"Title\"},{\"attributes\":{\"fill_alpha\":{\"value\":0.1},\"fill_color\":{\"value\":\"#1f77b4\"},\"line_alpha\":{\"value\":0.1},\"line_color\":{\"value\":\"#1f77b4\"},\"x\":{\"field\":\"x\"},\"y\":{\"field\":\"y0\"}},\"id\":\"1314\",\"type\":\"Circle\"}],\"root_ids\":[\"1373\"]},\"title\":\"Bokeh Application\",\"version\":\"1.4.0\"}};\n",
       "  var render_items = [{\"docid\":\"37d87a62-430f-4bba-97b2-87cd7c632465\",\"roots\":{\"1373\":\"7f9cc102-f895-42bd-93b8-bb94ae35316c\"}}];\n",
       "  root.Bokeh.embed.embed_items_notebook(docs_json, render_items);\n",
       "\n",
       "  }\n",
       "  if (root.Bokeh !== undefined) {\n",
       "    embed_document(root);\n",
       "  } else {\n",
       "    var attempts = 0;\n",
       "    var timer = setInterval(function(root) {\n",
       "      if (root.Bokeh !== undefined) {\n",
       "        clearInterval(timer);\n",
       "        embed_document(root);\n",
       "      } else {\n",
       "        attempts++;\n",
       "        if (attempts > 100) {\n",
       "          clearInterval(timer);\n",
       "          console.log(\"Bokeh: ERROR: Unable to run BokehJS code because BokehJS library is missing\");\n",
       "        }\n",
       "      }\n",
       "    }, 10, root)\n",
       "  }\n",
       "})(window);"
      ],
      "application/vnd.bokehjs_exec.v0+json": ""
     },
     "metadata": {
      "application/vnd.bokehjs_exec.v0+json": {
       "id": "1373"
      }
     },
     "output_type": "display_data"
    }
   ],
   "source": [
    "from bokeh.models import ColumnDataSource\n",
    "\n",
    "x = list(range(-20, 21))\n",
    "y0, y1 = [abs(xx) for xx in x], [xx**2 for xx in x]\n",
    "\n",
    "# create a column data source for the plots to share\n",
    "source = ColumnDataSource(data=dict(x=x, y0=y0, y1=y1))\n",
    "\n",
    "TOOLS = \"box_select,lasso_select,help\"\n",
    "\n",
    "# create a new plot and add a renderer\n",
    "left = figure(tools=TOOLS, width=300, height=300)\n",
    "left.circle('x', 'y0', source=source)\n",
    "\n",
    "# create another new plot and add a renderer\n",
    "right = figure(tools=TOOLS, width=300, height=300)\n",
    "right.circle('x', 'y1', source=source)\n",
    "\n",
    "p = gridplot([[left, right]])\n",
    "\n",
    "show(p)"
   ]
  },
  {
   "cell_type": "code",
   "execution_count": 5,
   "metadata": {},
   "outputs": [],
   "source": [
    "# EXERCISE: create two plots in a gridplot, and link their data sources\n",
    "\n"
   ]
  },
  {
   "cell_type": "markdown",
   "metadata": {},
   "source": [
    "# Hover Tools\n",
    "\n",
    "Bokeh has a Hover Tool that allows additional information to be displayed in a popup whenever the user hovers over a specific glyph. Basic hover tool configuration amounts to providing a list of ``(name, format)`` tuples. The full details can be found in the User's Guide [here](http://bokeh.pydata.org/en/latest/docs/user_guide/tools.html#hovertool).\n",
    "\n",
    "The example below shows some basic usage of the Hover tool with a circle glyph, using hover information defined in utils.py:"
   ]
  },
  {
   "cell_type": "code",
   "execution_count": 6,
   "metadata": {},
   "outputs": [
    {
     "data": {
      "text/html": [
       "\n",
       "\n",
       "\n",
       "\n",
       "\n",
       "\n",
       "  <div class=\"bk-root\" id=\"5c4267c7-3e2b-402e-8e48-a936b7e0d541\" data-root-id=\"1528\"></div>\n"
      ]
     },
     "metadata": {},
     "output_type": "display_data"
    },
    {
     "data": {
      "application/javascript": [
       "(function(root) {\n",
       "  function embed_document(root) {\n",
       "    \n",
       "  var docs_json = {\"1367e929-84bd-4bb8-8f5c-864aa27c6476\":{\"roots\":{\"references\":[{\"attributes\":{\"below\":[{\"id\":\"1539\",\"type\":\"LinearAxis\"}],\"center\":[{\"id\":\"1543\",\"type\":\"Grid\"},{\"id\":\"1548\",\"type\":\"Grid\"}],\"left\":[{\"id\":\"1544\",\"type\":\"LinearAxis\"}],\"plot_height\":300,\"plot_width\":300,\"renderers\":[{\"id\":\"1554\",\"type\":\"GlyphRenderer\"}],\"title\":{\"id\":\"1529\",\"type\":\"Title\"},\"toolbar\":{\"id\":\"1549\",\"type\":\"Toolbar\"},\"x_range\":{\"id\":\"1531\",\"type\":\"DataRange1d\"},\"x_scale\":{\"id\":\"1535\",\"type\":\"LinearScale\"},\"y_range\":{\"id\":\"1533\",\"type\":\"DataRange1d\"},\"y_scale\":{\"id\":\"1537\",\"type\":\"LinearScale\"}},\"id\":\"1528\",\"subtype\":\"Figure\",\"type\":\"Plot\"},{\"attributes\":{\"formatter\":{\"id\":\"1602\",\"type\":\"BasicTickFormatter\"},\"ticker\":{\"id\":\"1545\",\"type\":\"BasicTicker\"}},\"id\":\"1544\",\"type\":\"LinearAxis\"},{\"attributes\":{\"fill_alpha\":{\"value\":0.1},\"fill_color\":{\"value\":\"#1f77b4\"},\"line_alpha\":{\"value\":0.1},\"line_color\":{\"value\":\"#1f77b4\"},\"size\":{\"units\":\"screen\",\"value\":20},\"x\":{\"field\":\"x\"},\"y\":{\"field\":\"y\"}},\"id\":\"1553\",\"type\":\"Circle\"},{\"attributes\":{\"data_source\":{\"id\":\"1526\",\"type\":\"ColumnDataSource\"},\"glyph\":{\"id\":\"1552\",\"type\":\"Circle\"},\"hover_glyph\":null,\"muted_glyph\":null,\"nonselection_glyph\":{\"id\":\"1553\",\"type\":\"Circle\"},\"selection_glyph\":null,\"view\":{\"id\":\"1555\",\"type\":\"CDSView\"}},\"id\":\"1554\",\"type\":\"GlyphRenderer\"},{\"attributes\":{\"callback\":null,\"data\":{\"desc\":[\"A\",\"b\",\"C\",\"d\",\"E\"],\"x\":[1,2,3,4,5],\"y\":[2,5,8,2,7]},\"selected\":{\"id\":\"1603\",\"type\":\"Selection\"},\"selection_policy\":{\"id\":\"1604\",\"type\":\"UnionRenderers\"}},\"id\":\"1526\",\"type\":\"ColumnDataSource\"},{\"attributes\":{},\"id\":\"1600\",\"type\":\"BasicTickFormatter\"},{\"attributes\":{\"callback\":null,\"tooltips\":[[\"index\",\"$index\"],[\"(x,y)\",\"($x, $y)\"],[\"desc\",\"@desc\"]]},\"id\":\"1527\",\"type\":\"HoverTool\"},{\"attributes\":{\"fill_color\":{\"value\":\"#1f77b4\"},\"line_color\":{\"value\":\"#1f77b4\"},\"size\":{\"units\":\"screen\",\"value\":20},\"x\":{\"field\":\"x\"},\"y\":{\"field\":\"y\"}},\"id\":\"1552\",\"type\":\"Circle\"},{\"attributes\":{\"active_drag\":\"auto\",\"active_inspect\":\"auto\",\"active_multi\":null,\"active_scroll\":\"auto\",\"active_tap\":\"auto\",\"tools\":[{\"id\":\"1527\",\"type\":\"HoverTool\"}]},\"id\":\"1549\",\"type\":\"Toolbar\"},{\"attributes\":{\"source\":{\"id\":\"1526\",\"type\":\"ColumnDataSource\"}},\"id\":\"1555\",\"type\":\"CDSView\"},{\"attributes\":{\"text\":\"Mouse over the dots\"},\"id\":\"1529\",\"type\":\"Title\"},{\"attributes\":{\"callback\":null},\"id\":\"1533\",\"type\":\"DataRange1d\"},{\"attributes\":{},\"id\":\"1603\",\"type\":\"Selection\"},{\"attributes\":{},\"id\":\"1535\",\"type\":\"LinearScale\"},{\"attributes\":{},\"id\":\"1602\",\"type\":\"BasicTickFormatter\"},{\"attributes\":{\"callback\":null},\"id\":\"1531\",\"type\":\"DataRange1d\"},{\"attributes\":{},\"id\":\"1604\",\"type\":\"UnionRenderers\"},{\"attributes\":{\"dimension\":1,\"ticker\":{\"id\":\"1545\",\"type\":\"BasicTicker\"}},\"id\":\"1548\",\"type\":\"Grid\"},{\"attributes\":{\"formatter\":{\"id\":\"1600\",\"type\":\"BasicTickFormatter\"},\"ticker\":{\"id\":\"1540\",\"type\":\"BasicTicker\"}},\"id\":\"1539\",\"type\":\"LinearAxis\"},{\"attributes\":{},\"id\":\"1537\",\"type\":\"LinearScale\"},{\"attributes\":{},\"id\":\"1540\",\"type\":\"BasicTicker\"},{\"attributes\":{\"ticker\":{\"id\":\"1540\",\"type\":\"BasicTicker\"}},\"id\":\"1543\",\"type\":\"Grid\"},{\"attributes\":{},\"id\":\"1545\",\"type\":\"BasicTicker\"}],\"root_ids\":[\"1528\"]},\"title\":\"Bokeh Application\",\"version\":\"1.4.0\"}};\n",
       "  var render_items = [{\"docid\":\"1367e929-84bd-4bb8-8f5c-864aa27c6476\",\"roots\":{\"1528\":\"5c4267c7-3e2b-402e-8e48-a936b7e0d541\"}}];\n",
       "  root.Bokeh.embed.embed_items_notebook(docs_json, render_items);\n",
       "\n",
       "  }\n",
       "  if (root.Bokeh !== undefined) {\n",
       "    embed_document(root);\n",
       "  } else {\n",
       "    var attempts = 0;\n",
       "    var timer = setInterval(function(root) {\n",
       "      if (root.Bokeh !== undefined) {\n",
       "        clearInterval(timer);\n",
       "        embed_document(root);\n",
       "      } else {\n",
       "        attempts++;\n",
       "        if (attempts > 100) {\n",
       "          clearInterval(timer);\n",
       "          console.log(\"Bokeh: ERROR: Unable to run BokehJS code because BokehJS library is missing\");\n",
       "        }\n",
       "      }\n",
       "    }, 10, root)\n",
       "  }\n",
       "})(window);"
      ],
      "application/vnd.bokehjs_exec.v0+json": ""
     },
     "metadata": {
      "application/vnd.bokehjs_exec.v0+json": {
       "id": "1528"
      }
     },
     "output_type": "display_data"
    }
   ],
   "source": [
    "from bokeh.models import HoverTool\n",
    "\n",
    "source = ColumnDataSource(\n",
    "        data=dict(\n",
    "            x=[1, 2, 3, 4, 5],\n",
    "            y=[2, 5, 8, 2, 7],\n",
    "            desc=['A', 'b', 'C', 'd', 'E'],\n",
    "        )\n",
    "    )\n",
    "\n",
    "hover = HoverTool(\n",
    "        tooltips=[\n",
    "            (\"index\", \"$index\"),\n",
    "            (\"(x,y)\", \"($x, $y)\"),\n",
    "            (\"desc\", \"@desc\"),\n",
    "        ]\n",
    "    )\n",
    "\n",
    "p = figure(plot_width=300, plot_height=300, tools=[hover], title=\"Mouse over the dots\")\n",
    "\n",
    "p.circle('x', 'y', size=20, source=source)\n",
    "\n",
    "show(p)"
   ]
  },
  {
   "cell_type": "markdown",
   "metadata": {},
   "source": [
    "# Widgets"
   ]
  },
  {
   "cell_type": "markdown",
   "metadata": {},
   "source": [
    "Bokeh supports direct integration with a small basic widget set. Thse can be used in conjunction with a Bokeh Server, or with ``CustomJS`` models to add more interactive capability to your documents. You can see a complete list, with example code in the [Adding Widgets](http://bokeh.pydata.org/en/latest/docs/user_guide/interaction.html#adding-widgets) section of the User's Guide. \n",
    "\n",
    "\n",
    "\n",
    "*NOTE: In this Tutorial chapter, we will focus on using widgets with JavaScript callbacks. The Tutorial chapter on Bokeh server applications covers using Bokeh widgets with real Python callbacks*\n",
    "\n",
    "\n",
    "\n",
    "\n",
    "To use the widgets, include them in a layout like you would a plot object:"
   ]
  },
  {
   "cell_type": "code",
   "execution_count": 7,
   "metadata": {},
   "outputs": [
    {
     "data": {
      "text/html": [
       "\n",
       "\n",
       "\n",
       "\n",
       "\n",
       "\n",
       "  <div class=\"bk-root\" id=\"dec19bea-8e72-47b5-b956-23f0271b63cc\" data-root-id=\"1648\"></div>\n"
      ]
     },
     "metadata": {},
     "output_type": "display_data"
    },
    {
     "data": {
      "application/javascript": [
       "(function(root) {\n",
       "  function embed_document(root) {\n",
       "    \n",
       "  var docs_json = {\"51d66c9a-bf4c-42ec-8e49-e49cb6dde51e\":{\"roots\":{\"references\":[{\"attributes\":{\"children\":[{\"id\":\"1647\",\"type\":\"Slider\"}]},\"id\":\"1648\",\"type\":\"WidgetBox\"},{\"attributes\":{\"callback\":null,\"end\":10,\"start\":0,\"step\":0.1,\"title\":\"foo\",\"value\":1},\"id\":\"1647\",\"type\":\"Slider\"}],\"root_ids\":[\"1648\"]},\"title\":\"Bokeh Application\",\"version\":\"1.4.0\"}};\n",
       "  var render_items = [{\"docid\":\"51d66c9a-bf4c-42ec-8e49-e49cb6dde51e\",\"roots\":{\"1648\":\"dec19bea-8e72-47b5-b956-23f0271b63cc\"}}];\n",
       "  root.Bokeh.embed.embed_items_notebook(docs_json, render_items);\n",
       "\n",
       "  }\n",
       "  if (root.Bokeh !== undefined) {\n",
       "    embed_document(root);\n",
       "  } else {\n",
       "    var attempts = 0;\n",
       "    var timer = setInterval(function(root) {\n",
       "      if (root.Bokeh !== undefined) {\n",
       "        clearInterval(timer);\n",
       "        embed_document(root);\n",
       "      } else {\n",
       "        attempts++;\n",
       "        if (attempts > 100) {\n",
       "          clearInterval(timer);\n",
       "          console.log(\"Bokeh: ERROR: Unable to run BokehJS code because BokehJS library is missing\");\n",
       "        }\n",
       "      }\n",
       "    }, 10, root)\n",
       "  }\n",
       "})(window);"
      ],
      "application/vnd.bokehjs_exec.v0+json": ""
     },
     "metadata": {
      "application/vnd.bokehjs_exec.v0+json": {
       "id": "1648"
      }
     },
     "output_type": "display_data"
    }
   ],
   "source": [
    "from bokeh.layouts import widgetbox\n",
    "from bokeh.models.widgets import Slider\n",
    "\n",
    "\n",
    "slider = Slider(start=0, end=10, value=1, step=.1, title=\"foo\")\n",
    "\n",
    "show(widgetbox(slider))"
   ]
  },
  {
   "cell_type": "code",
   "execution_count": 8,
   "metadata": {},
   "outputs": [],
   "source": [
    "# EXERCISE: create and show a Select widget \n"
   ]
  },
  {
   "cell_type": "markdown",
   "metadata": {},
   "source": [
    "# CustomJS Callbacks\n",
    "\n",
    "In order for a widget to be useful, it needs to be able to perform some action. Using the Bokeh server, it is possible to have widgets trigger real Python code. That possibuility will be explored in the Bokeh server chapter of the turorial. Here, we look at how widgets can be configured with `CustomJS` callbacks that execute snippets of JavaScript code. "
   ]
  },
  {
   "cell_type": "code",
   "execution_count": 9,
   "metadata": {},
   "outputs": [
    {
     "data": {
      "text/html": [
       "\n",
       "\n",
       "\n",
       "\n",
       "\n",
       "\n",
       "  <div class=\"bk-root\" id=\"89c605ee-2589-4681-aa4f-8cac2ec09a22\" data-root-id=\"1700\"></div>\n"
      ]
     },
     "metadata": {},
     "output_type": "display_data"
    },
    {
     "data": {
      "application/javascript": [
       "(function(root) {\n",
       "  function embed_document(root) {\n",
       "    \n",
       "  var docs_json = {\"08742798-edb2-4b81-8a77-b87d68ce5ac9\":{\"roots\":{\"references\":[{\"attributes\":{\"below\":[{\"id\":\"1709\",\"type\":\"LinearAxis\"}],\"center\":[{\"id\":\"1713\",\"type\":\"Grid\"},{\"id\":\"1718\",\"type\":\"Grid\"}],\"left\":[{\"id\":\"1714\",\"type\":\"LinearAxis\"}],\"plot_height\":300,\"renderers\":[{\"id\":\"1724\",\"type\":\"GlyphRenderer\"}],\"title\":{\"id\":\"1776\",\"type\":\"Title\"},\"toolbar\":{\"id\":\"1719\",\"type\":\"Toolbar\"},\"x_range\":{\"id\":\"1701\",\"type\":\"DataRange1d\"},\"x_scale\":{\"id\":\"1705\",\"type\":\"LinearScale\"},\"y_range\":{\"id\":\"1703\",\"type\":\"DataRange1d\"},\"y_scale\":{\"id\":\"1707\",\"type\":\"LinearScale\"}},\"id\":\"1700\",\"subtype\":\"Figure\",\"type\":\"Plot\"},{\"attributes\":{\"formatter\":{\"id\":\"1780\",\"type\":\"BasicTickFormatter\"},\"ticker\":{\"id\":\"1715\",\"type\":\"BasicTicker\"}},\"id\":\"1714\",\"type\":\"LinearAxis\"},{\"attributes\":{},\"id\":\"1715\",\"type\":\"BasicTicker\"},{\"attributes\":{\"callback\":{\"id\":\"1698\",\"type\":\"CustomJS\"}},\"id\":\"1699\",\"type\":\"TapTool\"},{\"attributes\":{\"dimension\":1,\"ticker\":{\"id\":\"1715\",\"type\":\"BasicTicker\"}},\"id\":\"1718\",\"type\":\"Grid\"},{\"attributes\":{\"active_drag\":\"auto\",\"active_inspect\":\"auto\",\"active_multi\":null,\"active_scroll\":\"auto\",\"active_tap\":\"auto\",\"tools\":[{\"id\":\"1699\",\"type\":\"TapTool\"}]},\"id\":\"1719\",\"type\":\"Toolbar\"},{\"attributes\":{\"callback\":null,\"data\":{\"x\":[1,2,3,4,5],\"y\":[2,5,8,2,7]},\"selected\":{\"id\":\"1781\",\"type\":\"Selection\"},\"selection_policy\":{\"id\":\"1782\",\"type\":\"UnionRenderers\"}},\"id\":\"1721\",\"type\":\"ColumnDataSource\"},{\"attributes\":{\"fill_color\":{\"value\":\"#1f77b4\"},\"line_color\":{\"value\":\"#1f77b4\"},\"size\":{\"units\":\"screen\",\"value\":20},\"x\":{\"field\":\"x\"},\"y\":{\"field\":\"y\"}},\"id\":\"1722\",\"type\":\"Circle\"},{\"attributes\":{\"fill_alpha\":{\"value\":0.1},\"fill_color\":{\"value\":\"#1f77b4\"},\"line_alpha\":{\"value\":0.1},\"line_color\":{\"value\":\"#1f77b4\"},\"size\":{\"units\":\"screen\",\"value\":20},\"x\":{\"field\":\"x\"},\"y\":{\"field\":\"y\"}},\"id\":\"1723\",\"type\":\"Circle\"},{\"attributes\":{},\"id\":\"1710\",\"type\":\"BasicTicker\"},{\"attributes\":{\"data_source\":{\"id\":\"1721\",\"type\":\"ColumnDataSource\"},\"glyph\":{\"id\":\"1722\",\"type\":\"Circle\"},\"hover_glyph\":null,\"muted_glyph\":null,\"nonselection_glyph\":{\"id\":\"1723\",\"type\":\"Circle\"},\"selection_glyph\":null,\"view\":{\"id\":\"1725\",\"type\":\"CDSView\"}},\"id\":\"1724\",\"type\":\"GlyphRenderer\"},{\"attributes\":{\"callback\":null},\"id\":\"1703\",\"type\":\"DataRange1d\"},{\"attributes\":{\"source\":{\"id\":\"1721\",\"type\":\"ColumnDataSource\"}},\"id\":\"1725\",\"type\":\"CDSView\"},{\"attributes\":{\"code\":\"alert('you tapped a circle!')\"},\"id\":\"1698\",\"type\":\"CustomJS\"},{\"attributes\":{\"callback\":null},\"id\":\"1701\",\"type\":\"DataRange1d\"},{\"attributes\":{\"ticker\":{\"id\":\"1710\",\"type\":\"BasicTicker\"}},\"id\":\"1713\",\"type\":\"Grid\"},{\"attributes\":{\"text\":\"\"},\"id\":\"1776\",\"type\":\"Title\"},{\"attributes\":{},\"id\":\"1778\",\"type\":\"BasicTickFormatter\"},{\"attributes\":{},\"id\":\"1780\",\"type\":\"BasicTickFormatter\"},{\"attributes\":{},\"id\":\"1781\",\"type\":\"Selection\"},{\"attributes\":{},\"id\":\"1782\",\"type\":\"UnionRenderers\"},{\"attributes\":{},\"id\":\"1705\",\"type\":\"LinearScale\"},{\"attributes\":{\"formatter\":{\"id\":\"1778\",\"type\":\"BasicTickFormatter\"},\"ticker\":{\"id\":\"1710\",\"type\":\"BasicTicker\"}},\"id\":\"1709\",\"type\":\"LinearAxis\"},{\"attributes\":{},\"id\":\"1707\",\"type\":\"LinearScale\"}],\"root_ids\":[\"1700\"]},\"title\":\"Bokeh Application\",\"version\":\"1.4.0\"}};\n",
       "  var render_items = [{\"docid\":\"08742798-edb2-4b81-8a77-b87d68ce5ac9\",\"roots\":{\"1700\":\"89c605ee-2589-4681-aa4f-8cac2ec09a22\"}}];\n",
       "  root.Bokeh.embed.embed_items_notebook(docs_json, render_items);\n",
       "\n",
       "  }\n",
       "  if (root.Bokeh !== undefined) {\n",
       "    embed_document(root);\n",
       "  } else {\n",
       "    var attempts = 0;\n",
       "    var timer = setInterval(function(root) {\n",
       "      if (root.Bokeh !== undefined) {\n",
       "        clearInterval(timer);\n",
       "        embed_document(root);\n",
       "      } else {\n",
       "        attempts++;\n",
       "        if (attempts > 100) {\n",
       "          clearInterval(timer);\n",
       "          console.log(\"Bokeh: ERROR: Unable to run BokehJS code because BokehJS library is missing\");\n",
       "        }\n",
       "      }\n",
       "    }, 10, root)\n",
       "  }\n",
       "})(window);"
      ],
      "application/vnd.bokehjs_exec.v0+json": ""
     },
     "metadata": {
      "application/vnd.bokehjs_exec.v0+json": {
       "id": "1700"
      }
     },
     "output_type": "display_data"
    }
   ],
   "source": [
    "from bokeh.models import TapTool, CustomJS, ColumnDataSource\n",
    "\n",
    "callback = CustomJS(code=\"alert('you tapped a circle!')\")\n",
    "tap = TapTool(callback=callback)\n",
    "\n",
    "p = figure(plot_width=600, plot_height=300, tools=[tap])\n",
    "\n",
    "p.circle(x=[1, 2, 3, 4, 5], y=[2, 5, 8, 2, 7], size=20)\n",
    "\n",
    "show(p)"
   ]
  },
  {
   "cell_type": "markdown",
   "metadata": {},
   "source": [
    "## CustomJS for Property changes\n",
    "\n",
    "Bokeh objects that have values associated can have small JavaScript actions attached to them using the `js_on_change` method. These actions (also referred to as \"callbacks\") are executed whenever the widget's value is changed. In order to make it easier to refer to specific Bokeh models (e.g., a data source, or a glyhph) from JavaScript, the ``CustomJS`` obejct also accepts a dictionary of \"args\" that map names to Python Bokeh models. The corresponding JavaScript models are made available automaticaly to the ``CustomJS`` code:\n",
    "\n",
    "```python\n",
    "CustomJS(args=dict(source=source, slider=slider), code=\"\"\"\n",
    "    // easily refer to BokehJS source and slider objects in this JS code\n",
    "    var data = source.data;\n",
    "    var f = slider.value;\n",
    "\"\"\")\n",
    "```"
   ]
  },
  {
   "cell_type": "markdown",
   "metadata": {},
   "source": [
    "### Slider widget example\n",
    "\n",
    "The example below shows an action attached to a slider that updates a data source whenever the slider is moved.  "
   ]
  },
  {
   "cell_type": "code",
   "execution_count": 10,
   "metadata": {},
   "outputs": [
    {
     "data": {
      "text/html": [
       "\n",
       "\n",
       "\n",
       "\n",
       "\n",
       "\n",
       "  <div class=\"bk-root\" id=\"1c1acf5e-ba2d-4b76-8209-412155893af0\" data-root-id=\"1871\"></div>\n"
      ]
     },
     "metadata": {},
     "output_type": "display_data"
    },
    {
     "data": {
      "application/javascript": [
       "(function(root) {\n",
       "  function embed_document(root) {\n",
       "    \n",
       "  var docs_json = {\"3674e0bc-d958-4d96-a2b1-b0564bc0af48\":{\"roots\":{\"references\":[{\"attributes\":{\"children\":[{\"id\":\"1869\",\"type\":\"Slider\"},{\"id\":\"1832\",\"subtype\":\"Figure\",\"type\":\"Plot\"}]},\"id\":\"1871\",\"type\":\"Column\"},{\"attributes\":{},\"id\":\"1854\",\"type\":\"SaveTool\"},{\"attributes\":{\"callback\":null,\"data\":{\"x\":[0.0,0.005,0.01,0.015,0.02,0.025,0.03,0.035,0.04,0.045,0.05,0.055,0.06,0.065,0.07,0.075,0.08,0.085,0.09,0.095,0.1,0.105,0.11,0.115,0.12,0.125,0.13,0.135,0.14,0.145,0.15,0.155,0.16,0.165,0.17,0.17500000000000002,0.18,0.185,0.19,0.195,0.2,0.20500000000000002,0.21,0.215,0.22,0.225,0.23,0.23500000000000001,0.24,0.245,0.25,0.255,0.26,0.265,0.27,0.275,0.28,0.28500000000000003,0.29,0.295,0.3,0.305,0.31,0.315,0.32,0.325,0.33,0.335,0.34,0.34500000000000003,0.35000000000000003,0.355,0.36,0.365,0.37,0.375,0.38,0.385,0.39,0.395,0.4,0.405,0.41000000000000003,0.41500000000000004,0.42,0.425,0.43,0.435,0.44,0.445,0.45,0.455,0.46,0.465,0.47000000000000003,0.47500000000000003,0.48,0.485,0.49,0.495,0.5,0.505,0.51,0.515,0.52,0.525,0.53,0.535,0.54,0.545,0.55,0.555,0.56,0.5650000000000001,0.5700000000000001,0.5750000000000001,0.58,0.585,0.59,0.595,0.6,0.605,0.61,0.615,0.62,0.625,0.63,0.635,0.64,0.645,0.65,0.655,0.66,0.665,0.67,0.675,0.68,0.685,0.6900000000000001,0.6950000000000001,0.7000000000000001,0.705,0.71,0.715,0.72,0.725,0.73,0.735,0.74,0.745,0.75,0.755,0.76,0.765,0.77,0.775,0.78,0.785,0.79,0.795,0.8,0.805,0.81,0.8150000000000001,0.8200000000000001,0.8250000000000001,0.8300000000000001,0.835,0.84,0.845,0.85,0.855,0.86,0.865,0.87,0.875,0.88,0.885,0.89,0.895,0.9,0.905,0.91,0.915,0.92,0.925,0.93,0.935,0.9400000000000001,0.9450000000000001,0.9500000000000001,0.9550000000000001,0.96,0.965,0.97,0.975,0.98,0.985,0.99,0.995,1.0],\"y\":[0.0,0.005,0.01,0.015,0.02,0.025,0.03,0.035,0.04,0.045,0.05,0.055,0.06,0.065,0.07,0.075,0.08,0.085,0.09,0.095,0.1,0.105,0.11,0.115,0.12,0.125,0.13,0.135,0.14,0.145,0.15,0.155,0.16,0.165,0.17,0.17500000000000002,0.18,0.185,0.19,0.195,0.2,0.20500000000000002,0.21,0.215,0.22,0.225,0.23,0.23500000000000001,0.24,0.245,0.25,0.255,0.26,0.265,0.27,0.275,0.28,0.28500000000000003,0.29,0.295,0.3,0.305,0.31,0.315,0.32,0.325,0.33,0.335,0.34,0.34500000000000003,0.35000000000000003,0.355,0.36,0.365,0.37,0.375,0.38,0.385,0.39,0.395,0.4,0.405,0.41000000000000003,0.41500000000000004,0.42,0.425,0.43,0.435,0.44,0.445,0.45,0.455,0.46,0.465,0.47000000000000003,0.47500000000000003,0.48,0.485,0.49,0.495,0.5,0.505,0.51,0.515,0.52,0.525,0.53,0.535,0.54,0.545,0.55,0.555,0.56,0.5650000000000001,0.5700000000000001,0.5750000000000001,0.58,0.585,0.59,0.595,0.6,0.605,0.61,0.615,0.62,0.625,0.63,0.635,0.64,0.645,0.65,0.655,0.66,0.665,0.67,0.675,0.68,0.685,0.6900000000000001,0.6950000000000001,0.7000000000000001,0.705,0.71,0.715,0.72,0.725,0.73,0.735,0.74,0.745,0.75,0.755,0.76,0.765,0.77,0.775,0.78,0.785,0.79,0.795,0.8,0.805,0.81,0.8150000000000001,0.8200000000000001,0.8250000000000001,0.8300000000000001,0.835,0.84,0.845,0.85,0.855,0.86,0.865,0.87,0.875,0.88,0.885,0.89,0.895,0.9,0.905,0.91,0.915,0.92,0.925,0.93,0.935,0.9400000000000001,0.9450000000000001,0.9500000000000001,0.9550000000000001,0.96,0.965,0.97,0.975,0.98,0.985,0.99,0.995,1.0]},\"selected\":{\"id\":\"1935\",\"type\":\"Selection\"},\"selection_policy\":{\"id\":\"1936\",\"type\":\"UnionRenderers\"}},\"id\":\"1831\",\"type\":\"ColumnDataSource\"},{\"attributes\":{},\"id\":\"1855\",\"type\":\"ResetTool\"},{\"attributes\":{},\"id\":\"1856\",\"type\":\"HelpTool\"},{\"attributes\":{},\"id\":\"1936\",\"type\":\"UnionRenderers\"},{\"attributes\":{\"callback\":null},\"id\":\"1833\",\"type\":\"DataRange1d\"},{\"attributes\":{\"line_alpha\":0.1,\"line_color\":\"#1f77b4\",\"line_width\":3,\"x\":{\"field\":\"x\"},\"y\":{\"field\":\"y\"}},\"id\":\"1866\",\"type\":\"Line\"},{\"attributes\":{\"callback\":null},\"id\":\"1835\",\"type\":\"DataRange1d\"},{\"attributes\":{\"data_source\":{\"id\":\"1831\",\"type\":\"ColumnDataSource\"},\"glyph\":{\"id\":\"1865\",\"type\":\"Line\"},\"hover_glyph\":null,\"muted_glyph\":null,\"nonselection_glyph\":{\"id\":\"1866\",\"type\":\"Line\"},\"selection_glyph\":null,\"view\":{\"id\":\"1868\",\"type\":\"CDSView\"}},\"id\":\"1867\",\"type\":\"GlyphRenderer\"},{\"attributes\":{},\"id\":\"1837\",\"type\":\"LinearScale\"},{\"attributes\":{\"source\":{\"id\":\"1831\",\"type\":\"ColumnDataSource\"}},\"id\":\"1868\",\"type\":\"CDSView\"},{\"attributes\":{},\"id\":\"1839\",\"type\":\"LinearScale\"},{\"attributes\":{\"below\":[{\"id\":\"1841\",\"type\":\"LinearAxis\"}],\"center\":[{\"id\":\"1845\",\"type\":\"Grid\"},{\"id\":\"1850\",\"type\":\"Grid\"}],\"left\":[{\"id\":\"1846\",\"type\":\"LinearAxis\"}],\"plot_height\":400,\"plot_width\":400,\"renderers\":[{\"id\":\"1867\",\"type\":\"GlyphRenderer\"}],\"title\":{\"id\":\"1930\",\"type\":\"Title\"},\"toolbar\":{\"id\":\"1857\",\"type\":\"Toolbar\"},\"x_range\":{\"id\":\"1833\",\"type\":\"DataRange1d\"},\"x_scale\":{\"id\":\"1837\",\"type\":\"LinearScale\"},\"y_range\":{\"id\":\"1835\",\"type\":\"DataRange1d\"},\"y_scale\":{\"id\":\"1839\",\"type\":\"LinearScale\"}},\"id\":\"1832\",\"subtype\":\"Figure\",\"type\":\"Plot\"},{\"attributes\":{\"args\":{\"slider\":{\"id\":\"1869\",\"type\":\"Slider\"},\"source\":{\"id\":\"1831\",\"type\":\"ColumnDataSource\"}},\"code\":\"\\n    var data = source.data;\\n    var f = slider.value;\\n    x = data['x']\\n    y = data['y']\\n    for (i = 0; i < x.length; i++) {\\n        y[i] = Math.pow(x[i], f)\\n    }\\n    \\n    // necessary becasue we mutated source.data in-place\\n    source.change.emit();\\n\"},\"id\":\"1870\",\"type\":\"CustomJS\"},{\"attributes\":{\"formatter\":{\"id\":\"1932\",\"type\":\"BasicTickFormatter\"},\"ticker\":{\"id\":\"1842\",\"type\":\"BasicTicker\"}},\"id\":\"1841\",\"type\":\"LinearAxis\"},{\"attributes\":{},\"id\":\"1842\",\"type\":\"BasicTicker\"},{\"attributes\":{\"text\":\"\"},\"id\":\"1930\",\"type\":\"Title\"},{\"attributes\":{\"ticker\":{\"id\":\"1842\",\"type\":\"BasicTicker\"}},\"id\":\"1845\",\"type\":\"Grid\"},{\"attributes\":{\"formatter\":{\"id\":\"1934\",\"type\":\"BasicTickFormatter\"},\"ticker\":{\"id\":\"1847\",\"type\":\"BasicTicker\"}},\"id\":\"1846\",\"type\":\"LinearAxis\"},{\"attributes\":{},\"id\":\"1934\",\"type\":\"BasicTickFormatter\"},{\"attributes\":{},\"id\":\"1847\",\"type\":\"BasicTicker\"},{\"attributes\":{},\"id\":\"1935\",\"type\":\"Selection\"},{\"attributes\":{\"dimension\":1,\"ticker\":{\"id\":\"1847\",\"type\":\"BasicTicker\"}},\"id\":\"1850\",\"type\":\"Grid\"},{\"attributes\":{\"bottom_units\":\"screen\",\"fill_alpha\":{\"value\":0.5},\"fill_color\":{\"value\":\"lightgrey\"},\"left_units\":\"screen\",\"level\":\"overlay\",\"line_alpha\":{\"value\":1.0},\"line_color\":{\"value\":\"black\"},\"line_dash\":[4,4],\"line_width\":{\"value\":2},\"render_mode\":\"css\",\"right_units\":\"screen\",\"top_units\":\"screen\"},\"id\":\"1937\",\"type\":\"BoxAnnotation\"},{\"attributes\":{},\"id\":\"1932\",\"type\":\"BasicTickFormatter\"},{\"attributes\":{\"line_alpha\":0.6,\"line_color\":\"#1f77b4\",\"line_width\":3,\"x\":{\"field\":\"x\"},\"y\":{\"field\":\"y\"}},\"id\":\"1865\",\"type\":\"Line\"},{\"attributes\":{\"callback\":null,\"end\":6,\"js_property_callbacks\":{\"change:value\":[{\"id\":\"1870\",\"type\":\"CustomJS\"}]},\"start\":0.1,\"step\":0.1,\"title\":\"power\",\"value\":1},\"id\":\"1869\",\"type\":\"Slider\"},{\"attributes\":{\"active_drag\":\"auto\",\"active_inspect\":\"auto\",\"active_multi\":null,\"active_scroll\":\"auto\",\"active_tap\":\"auto\",\"tools\":[{\"id\":\"1851\",\"type\":\"PanTool\"},{\"id\":\"1852\",\"type\":\"WheelZoomTool\"},{\"id\":\"1853\",\"type\":\"BoxZoomTool\"},{\"id\":\"1854\",\"type\":\"SaveTool\"},{\"id\":\"1855\",\"type\":\"ResetTool\"},{\"id\":\"1856\",\"type\":\"HelpTool\"}]},\"id\":\"1857\",\"type\":\"Toolbar\"},{\"attributes\":{},\"id\":\"1851\",\"type\":\"PanTool\"},{\"attributes\":{},\"id\":\"1852\",\"type\":\"WheelZoomTool\"},{\"attributes\":{\"overlay\":{\"id\":\"1937\",\"type\":\"BoxAnnotation\"}},\"id\":\"1853\",\"type\":\"BoxZoomTool\"}],\"root_ids\":[\"1871\"]},\"title\":\"Bokeh Application\",\"version\":\"1.4.0\"}};\n",
       "  var render_items = [{\"docid\":\"3674e0bc-d958-4d96-a2b1-b0564bc0af48\",\"roots\":{\"1871\":\"1c1acf5e-ba2d-4b76-8209-412155893af0\"}}];\n",
       "  root.Bokeh.embed.embed_items_notebook(docs_json, render_items);\n",
       "\n",
       "  }\n",
       "  if (root.Bokeh !== undefined) {\n",
       "    embed_document(root);\n",
       "  } else {\n",
       "    var attempts = 0;\n",
       "    var timer = setInterval(function(root) {\n",
       "      if (root.Bokeh !== undefined) {\n",
       "        clearInterval(timer);\n",
       "        embed_document(root);\n",
       "      } else {\n",
       "        attempts++;\n",
       "        if (attempts > 100) {\n",
       "          clearInterval(timer);\n",
       "          console.log(\"Bokeh: ERROR: Unable to run BokehJS code because BokehJS library is missing\");\n",
       "        }\n",
       "      }\n",
       "    }, 10, root)\n",
       "  }\n",
       "})(window);"
      ],
      "application/vnd.bokehjs_exec.v0+json": ""
     },
     "metadata": {
      "application/vnd.bokehjs_exec.v0+json": {
       "id": "1871"
      }
     },
     "output_type": "display_data"
    }
   ],
   "source": [
    "from bokeh.layouts import column\n",
    "from bokeh.models import CustomJS, ColumnDataSource, Slider\n",
    "\n",
    "x = [x*0.005 for x in range(0, 201)]\n",
    "\n",
    "source = ColumnDataSource(data=dict(x=x, y=x))\n",
    "\n",
    "plot = figure(plot_width=400, plot_height=400)\n",
    "plot.line('x', 'y', source=source, line_width=3, line_alpha=0.6)\n",
    "\n",
    "slider = Slider(start=0.1, end=6, value=1, step=.1, title=\"power\")\n",
    "\n",
    "update_curve = CustomJS(args=dict(source=source, slider=slider), code=\"\"\"\n",
    "    var data = source.data;\n",
    "    var f = slider.value;\n",
    "    x = data['x']\n",
    "    y = data['y']\n",
    "    for (i = 0; i < x.length; i++) {\n",
    "        y[i] = Math.pow(x[i], f)\n",
    "    }\n",
    "    \n",
    "    // necessary becasue we mutated source.data in-place\n",
    "    source.change.emit();\n",
    "\"\"\")\n",
    "slider.js_on_change('value', update_curve)\n",
    "\n",
    "\n",
    "show(column(slider, plot))"
   ]
  },
  {
   "cell_type": "code",
   "execution_count": 11,
   "metadata": {},
   "outputs": [],
   "source": [
    "# Exercise: Create a plot that updates based on a Select widget\n",
    "\n"
   ]
  },
  {
   "cell_type": "markdown",
   "metadata": {},
   "source": [
    "### Data selection example\n",
    "\n",
    "It's also possible to make JavaScript actions that execute whenever a user selection (e.g., box, point, lasso) changes. This is done by attaching the same kind of CustomJS object to whatever data source the selection is made on.\n",
    "\n",
    "The example below is a bit more sophisticated, and demonstrates updating one glyph's data source in response to another glyph's selection: "
   ]
  },
  {
   "cell_type": "code",
   "execution_count": 12,
   "metadata": {},
   "outputs": [
    {
     "data": {
      "text/html": [
       "\n",
       "\n",
       "\n",
       "\n",
       "\n",
       "\n",
       "  <div class=\"bk-root\" id=\"b26458e1-a0ac-4c9b-bf49-65091e3e654a\" data-root-id=\"1993\"></div>\n"
      ]
     },
     "metadata": {},
     "output_type": "display_data"
    },
    {
     "data": {
      "application/javascript": [
       "(function(root) {\n",
       "  function embed_document(root) {\n",
       "    \n",
       "  var docs_json = {\"2ff1142f-a81c-418a-a18d-ddbe921adc61\":{\"roots\":{\"references\":[{\"attributes\":{\"below\":[{\"id\":\"2004\",\"type\":\"LinearAxis\"}],\"center\":[{\"id\":\"2008\",\"type\":\"Grid\"},{\"id\":\"2013\",\"type\":\"Grid\"}],\"left\":[{\"id\":\"2009\",\"type\":\"LinearAxis\"}],\"plot_height\":400,\"plot_width\":400,\"renderers\":[{\"id\":\"2021\",\"type\":\"GlyphRenderer\"},{\"id\":\"2027\",\"type\":\"GlyphRenderer\"}],\"title\":{\"id\":\"1994\",\"type\":\"Title\"},\"toolbar\":{\"id\":\"2015\",\"type\":\"Toolbar\"},\"x_range\":{\"id\":\"1996\",\"type\":\"DataRange1d\"},\"x_scale\":{\"id\":\"2000\",\"type\":\"LinearScale\"},\"y_range\":{\"id\":\"1998\",\"type\":\"DataRange1d\"},\"y_scale\":{\"id\":\"2002\",\"type\":\"LinearScale\"}},\"id\":\"1993\",\"subtype\":\"Figure\",\"type\":\"Plot\"},{\"attributes\":{\"fill_alpha\":{\"value\":0.1},\"fill_color\":{\"value\":\"#1f77b4\"},\"line_alpha\":{\"value\":0.1},\"line_color\":{\"value\":\"#1f77b4\"},\"size\":{\"units\":\"screen\",\"value\":8},\"x\":{\"field\":\"x\"},\"y\":{\"field\":\"y\"}},\"id\":\"2019\",\"type\":\"Circle\"},{\"attributes\":{\"callback\":{\"id\":\"2029\",\"type\":\"CustomJS\"},\"data\":{\"color\":[\"navy\",\"navy\",\"navy\",\"navy\",\"navy\",\"navy\",\"navy\",\"navy\",\"navy\",\"navy\",\"navy\",\"navy\",\"navy\",\"navy\",\"navy\",\"navy\",\"navy\",\"navy\",\"navy\",\"navy\",\"navy\",\"navy\",\"navy\",\"navy\",\"navy\",\"navy\",\"navy\",\"navy\",\"navy\",\"navy\",\"navy\",\"navy\",\"navy\",\"navy\",\"navy\",\"navy\",\"navy\",\"navy\",\"navy\",\"navy\",\"navy\",\"navy\",\"navy\",\"navy\",\"navy\",\"navy\",\"navy\",\"navy\",\"navy\",\"navy\",\"navy\",\"navy\",\"navy\",\"navy\",\"navy\",\"navy\",\"navy\",\"navy\",\"navy\",\"navy\",\"navy\",\"navy\",\"navy\",\"navy\",\"navy\",\"navy\",\"navy\",\"navy\",\"navy\",\"navy\",\"navy\",\"navy\",\"navy\",\"navy\",\"navy\",\"navy\",\"navy\",\"navy\",\"navy\",\"navy\",\"navy\",\"navy\",\"navy\",\"navy\",\"navy\",\"navy\",\"navy\",\"navy\",\"navy\",\"navy\",\"navy\",\"navy\",\"navy\",\"navy\",\"navy\",\"navy\",\"navy\",\"navy\",\"navy\",\"navy\",\"navy\",\"navy\",\"navy\",\"navy\",\"navy\",\"navy\",\"navy\",\"navy\",\"navy\",\"navy\",\"navy\",\"navy\",\"navy\",\"navy\",\"navy\",\"navy\",\"navy\",\"navy\",\"navy\",\"navy\",\"navy\",\"navy\",\"navy\",\"navy\",\"navy\",\"navy\",\"navy\",\"navy\",\"navy\",\"navy\",\"navy\",\"navy\",\"navy\",\"navy\",\"navy\",\"navy\",\"navy\",\"navy\",\"navy\",\"navy\",\"navy\",\"navy\",\"navy\",\"navy\",\"navy\",\"navy\",\"navy\",\"navy\",\"navy\",\"navy\",\"navy\",\"navy\",\"navy\",\"navy\",\"navy\",\"navy\",\"navy\",\"navy\",\"navy\",\"navy\",\"navy\",\"navy\",\"navy\",\"navy\",\"navy\",\"navy\",\"navy\",\"navy\",\"navy\",\"navy\",\"navy\",\"navy\",\"navy\",\"navy\",\"navy\",\"navy\",\"navy\",\"navy\",\"navy\",\"navy\",\"navy\",\"navy\",\"navy\",\"navy\",\"navy\",\"navy\",\"navy\",\"navy\",\"navy\",\"navy\",\"navy\",\"navy\",\"navy\",\"navy\",\"navy\",\"navy\",\"navy\",\"navy\",\"navy\",\"navy\",\"navy\",\"navy\",\"navy\",\"navy\",\"navy\",\"navy\",\"navy\",\"navy\",\"navy\",\"navy\",\"navy\",\"navy\",\"navy\",\"navy\",\"navy\",\"navy\",\"navy\",\"navy\",\"navy\",\"navy\",\"navy\",\"navy\",\"navy\",\"navy\",\"navy\",\"navy\",\"navy\",\"navy\",\"navy\",\"navy\",\"navy\",\"navy\",\"navy\",\"navy\",\"navy\",\"navy\",\"navy\",\"navy\",\"navy\",\"navy\",\"navy\",\"navy\",\"navy\",\"navy\",\"navy\",\"navy\",\"navy\",\"navy\",\"navy\",\"navy\",\"navy\",\"navy\",\"navy\",\"navy\",\"navy\",\"navy\",\"navy\",\"navy\",\"navy\",\"navy\",\"navy\",\"navy\",\"navy\",\"navy\",\"navy\",\"navy\",\"navy\",\"navy\",\"navy\",\"navy\",\"navy\",\"navy\",\"navy\",\"navy\",\"navy\",\"navy\",\"navy\",\"navy\",\"navy\",\"navy\",\"navy\",\"navy\",\"navy\",\"navy\",\"navy\",\"navy\",\"navy\",\"navy\",\"navy\",\"navy\",\"navy\",\"navy\",\"navy\",\"navy\",\"navy\",\"navy\",\"navy\",\"navy\",\"navy\",\"navy\",\"navy\",\"navy\",\"navy\",\"navy\",\"navy\",\"navy\",\"navy\",\"navy\",\"navy\",\"navy\",\"navy\",\"navy\",\"navy\",\"navy\",\"navy\",\"navy\",\"navy\",\"navy\",\"navy\",\"navy\",\"navy\",\"navy\",\"navy\",\"navy\",\"navy\",\"navy\",\"navy\",\"navy\",\"navy\",\"navy\",\"navy\",\"navy\",\"navy\",\"navy\",\"navy\",\"navy\",\"navy\",\"navy\",\"navy\",\"navy\",\"navy\",\"navy\",\"navy\",\"navy\",\"navy\",\"navy\",\"navy\",\"navy\",\"navy\",\"navy\",\"navy\",\"navy\",\"navy\",\"navy\",\"navy\",\"navy\",\"navy\",\"navy\",\"navy\",\"navy\",\"navy\",\"navy\",\"navy\",\"navy\",\"navy\",\"navy\",\"navy\",\"navy\",\"navy\",\"navy\",\"navy\",\"navy\",\"navy\",\"navy\",\"navy\",\"navy\",\"navy\",\"navy\",\"navy\",\"navy\",\"navy\",\"navy\",\"navy\",\"navy\",\"navy\",\"navy\",\"navy\",\"navy\",\"navy\",\"navy\",\"navy\",\"navy\",\"navy\",\"navy\",\"navy\",\"navy\",\"navy\",\"navy\",\"navy\",\"navy\",\"navy\",\"navy\",\"navy\",\"navy\",\"navy\",\"navy\",\"navy\",\"navy\",\"navy\",\"navy\",\"navy\",\"navy\",\"navy\",\"navy\",\"navy\",\"navy\",\"navy\",\"navy\",\"navy\",\"navy\",\"navy\",\"navy\",\"navy\",\"navy\",\"navy\",\"navy\",\"navy\",\"navy\",\"navy\",\"navy\",\"navy\",\"navy\",\"navy\",\"navy\",\"navy\",\"navy\",\"navy\",\"navy\",\"navy\",\"navy\",\"navy\",\"navy\",\"navy\",\"navy\",\"navy\",\"navy\",\"navy\",\"navy\",\"navy\",\"navy\",\"navy\",\"navy\",\"navy\",\"navy\",\"navy\",\"navy\",\"navy\",\"navy\",\"navy\",\"navy\",\"navy\",\"navy\",\"navy\",\"navy\",\"navy\",\"navy\",\"navy\",\"navy\",\"navy\",\"navy\",\"navy\",\"navy\",\"navy\",\"navy\",\"navy\",\"navy\",\"navy\",\"navy\",\"navy\",\"navy\",\"navy\",\"navy\",\"navy\",\"navy\",\"navy\",\"navy\",\"navy\",\"navy\",\"navy\",\"navy\",\"navy\",\"navy\",\"navy\",\"navy\",\"navy\",\"navy\",\"navy\",\"navy\",\"navy\",\"navy\"],\"x\":[0.7658292940417466,0.6987504637741343,0.2990798027271454,0.20402706195027565,0.4475929931180347,0.9073336251154881,0.9038947610341723,0.6378018073746998,0.45928412592840984,0.27911187588484543,0.4641359946261461,0.8759024992462368,0.7790998665237102,0.7549970449800905,0.47203365293137745,0.25904908325940657,0.7147118077146496,0.5840280954226269,0.6797568483338952,0.6957505080419695,0.3069224151011207,0.438227890421242,0.7989262447637223,0.6111759979943855,0.16206190689216826,0.8624797467823676,0.011115533639871611,0.4591104369520387,0.8416063714661385,0.9357706033588952,0.5702529917919663,0.11661618720580258,0.3412984892585992,0.3100784691379598,0.9277304037688081,0.5564959524019492,0.6944480318468258,0.24661182626409506,0.4646535633292497,0.47250195697966446,0.4931123091002697,0.617771639967037,0.1842667609966694,0.9965044047633667,0.8399519245644846,0.9600546599659643,0.68746624186229,0.1823197109469038,0.6067354396896495,0.2181050453833624,0.43598969048090985,0.2056076365735856,0.4133614128581943,0.22154197480178695,0.8171258611769859,0.3386235233152586,0.6740411437426248,0.7107969709331733,0.3160467144206064,0.5758132698077091,0.9981647918088211,0.5396552352573394,0.03463164480631242,0.02202924937629136,0.05446116669041201,0.5859711761447759,0.8787971113096685,0.07589276222976782,0.5952008741609738,0.5538381036248953,0.8645774011223413,0.17392154297845286,0.9350326454678154,0.2264086351816329,0.0959344302999573,0.2755107840824429,0.648728445093175,0.6777315337833223,0.4483056674835165,0.7653686776330003,0.22081396214257665,0.828491327083975,0.03806927792908521,0.48738048588948724,0.06439787965791355,0.4877185494458518,0.39647743684328784,0.30150127796371884,0.05194837863076707,0.10725444419385732,0.6491830384886286,0.7242024630381779,0.00513924582088332,0.7231788032097017,0.5236148058966573,0.6956529221424684,0.8921547509293412,0.7470115638269789,0.2084704588940538,0.5541723475983183,0.9245956948108222,0.16812138142374922,0.4601929065738456,0.7663638109275396,0.8121277918658282,0.06203974699531811,0.3168683913351076,0.011898608439910419,0.05845152953179855,0.2125846570272043,0.5869986154778126,0.8607941287922413,0.546174469259243,0.3541880559211198,0.20846919308031975,0.2822812968952275,0.5615836844175792,0.2556684273732386,0.6566157771287888,0.011678685413259449,0.8111708852704588,0.9494189998163827,0.7380897900369718,0.5741002555804373,0.2938615359512934,0.8388410079902764,0.49803200766653233,0.004027039320271486,0.7545592336130242,0.4127223240964081,0.5796514191093415,0.5566390934113256,0.25233250628404047,0.8360598163633897,0.04897464255875861,0.7795340992613512,0.5117650601899199,0.0056061024041503815,0.9191530268530954,0.34647992002226746,0.18378320176443186,0.49762309219980505,0.22878872484978596,0.9445446739933739,0.4522865052638919,0.6897224352824834,0.47235535136823614,0.0650506979090909,0.012324227412195521,0.10251242544678074,0.06317639932245389,0.020726735260018447,0.5249633525654173,0.7174978718895876,0.23891691194525821,0.9299375420859897,0.22642162867831328,0.6589694392338759,0.5026756315298782,0.28338896400620306,0.23195066562797462,0.14016847468358695,0.7884136171711221,0.2491321556762497,0.2944461376814457,0.0018654269018322234,0.49813820375061446,0.3476642620860222,0.6676798310521329,0.16817869532286278,0.8811375572074772,0.35283421974328766,0.41828805694235527,0.017211060665415445,0.5782352886312732,0.8020596969937882,0.00963533729941346,0.34471392400035616,0.09815849478508376,0.03276568682414149,0.6712775482813018,0.5219939105637911,0.6693795898114835,0.02776136032463139,0.6608815013634765,0.2562810904380043,0.4052025805032916,0.9127955608782056,0.7067657786382906,0.06691737142325138,0.7282056646761315,0.9646203560981325,0.7293493650862278,0.46169368031784763,0.7912596102067719,0.9443659932256069,0.5659655547879655,0.14579781881541398,0.8549467467232745,0.5278791638402945,0.7175151221654859,0.6641307879491248,0.3914061645129334,0.7599222659089385,0.07920558053958782,0.9017827742336824,0.21865521251044162,0.2693662990919403,0.9276135786397999,0.9551632727323588,0.37590362986754133,0.9108287320832501,0.4827322953062274,0.8410321308662742,0.03743084377474126,0.19895152562858154,0.6901987169863465,0.264228399867267,0.3353353507129654,0.20791933972480003,0.6996941507987826,0.6708809176926983,0.2690190395488389,0.9648546640417884,0.9467436947999177,0.3823970865114452,0.38167185237619394,0.970016103965521,0.8598734831161009,0.02916135634871586,0.33493451970377985,0.4204044780873022,0.277653464138506,0.2501301881057494,0.1539611154545557,0.24562706003715007,0.8184980868585355,0.3058323421320224,0.10166146627397332,0.22425702411277615,0.36542322330453236,0.886118855624424,0.7331554851197539,0.6676021655120692,0.633463530476686,0.4582143738660378,0.6212694631169133,0.04586437780786268,0.007136932474518742,0.3355819509912874,0.5953884447614352,0.1696669394999213,0.14446218166076863,0.14569831998243565,0.0017274670621674204,0.9006004826115621,0.9936358480900883,0.4308362081041739,0.6310506935438124,0.11602387253261326,0.6001704227839831,0.618801480025706,0.8634081765684253,0.80244085093606,0.8086248276938125,0.2198219263311234,0.40661214429819603,0.5944070360150666,0.5603705366827723,0.8661670208874419,0.4563767583739906,0.8658381132898813,0.9364547910040162,0.21756716019707512,0.5720816928347524,0.5500329367321637,0.2505491404217518,0.3616413348848,0.7528609151741301,0.9260812731788353,0.34213036146534503,0.7432038966074355,0.26587424893219413,0.6579682807523227,0.6998342299257476,0.252243288436402,0.22831847851668952,0.034431758052951955,0.702938892624421,0.6171327027934134,0.6604097097139228,0.07612852191682429,0.3174046407426846,0.7022078808871562,0.7231484470150147,0.3037642675282687,0.860369423006762,0.8591089594937419,0.18630604407315232,0.6286005489830091,0.42404497510649575,0.5742161411206509,0.11316608621305724,0.3919988652376778,0.4061219983550226,0.1511557215026217,0.7576174672021178,0.2695665261581921,0.5840743717250626,0.1630078286370802,0.567415860771723,0.8160862428199703,0.26011145063180263,0.8288441718071528,0.4230512945669881,0.9513678075267662,0.689418145038426,0.7472639884471362,0.13802247659957323,0.5684348323750706,0.8518844911031255,0.2936947257091873,0.9585683321645817,0.6669671998056149,0.9146040374165879,0.86999772071786,0.0216906257788384,0.9106073647722104,0.4711701238247652,0.6959500402720901,0.7467826521050008,0.7903766626629438,0.13526840342641833,0.05049533879655521,0.2764197749049543,0.8873677950960813,0.760369916415928,0.8066402275575749,0.2360311595337714,0.2816681084433359,0.6060679445065149,0.9003356792516368,0.6059273773594374,0.8503315432741018,0.15608695044877197,0.7429826713802525,0.017952587158860833,0.8978480088382781,0.26128978665251457,0.6103448593910528,0.8786863802601628,0.7298089554670965,0.7876247065759565,0.9016512159715432,0.4123808888664582,0.31813089732792155,0.4303052975672619,0.8707650140044644,0.015556838794412942,0.0026291076775926125,0.19948382393410002,0.9346926206829063,0.15560395877161304,0.5647430195150436,0.5048048543803437,0.5173022682704992,0.14342500287800786,0.43002069846194324,0.23282161970915227,0.36879392799520405,0.9594947308038527,0.6231156302900588,0.5227302211548176,0.08546545244611148,0.8234759042637665,0.44572173094835343,0.20955603508418807,0.6456889850870388,0.5383085953040639,0.07712737684838411,0.02701684393126258,0.4568851965906223,0.133034070829682,0.5637791164101255,0.7885821270132866,0.40829795407013936,0.8110851511838024,0.26945467752378494,0.8794850927018087,0.19618787010306016,0.013910796470271714,0.7390070819706503,0.9969992364130488,0.6400588904486553,0.3213172678292837,0.45811091449717267,0.990777384941811,0.2125737483446105,0.09459583813614125,0.9852119573999867,0.8611055885472687,0.6805701605691218,0.7730834809730464,0.9233287228424651,0.5790394573054702,0.4002628250080932,0.666871838575579,0.2201734895246379,0.5329338937992911,0.027114467196470926,0.5945401487699047,0.8873918013948834,0.8199339173718239,0.059828772086180204,0.30392132036445363,0.5253613390167717,0.6158168437583916,0.14254113088826537,0.5108418062332722,0.375469743679509,0.6037820630737942,0.836161100248163,0.3411412098145482,0.0011312064705556457,0.66076845380955,0.785202845989506,0.25062380683662555,0.1861093040073759,0.08943975449500952,0.4743562649799108,0.8113531903473319,0.928735895368867,0.25103384222914116,0.9202198695303878,0.6082190127011904,0.2818652968188774,0.3424706307535016,0.978528215902614,0.22258051963558756,0.7356514570848824,0.601974106020314,0.7569244125891915,0.684484285953393,0.3017099642862122,0.658668509669416,0.9296083506007509,0.2042446873917363,0.00987734132886342,0.21009787735964502,0.6661520997293703,0.4492926061300607,0.4923318383688178,0.33732916925086975,0.36357945618536014,0.025860147628888108,0.8964643247749928,0.8673326805166749,0.43899536407113904,0.9628552761444003,0.8909706075537233,0.2877425144018988,0.689983366898663,0.30159040778746193,0.8738042983599605,0.19463248498307706,0.2224516581688316,0.8828036547854025,0.9925282696857833,0.30905084993069787,0.055296899797290355,0.4803592632913376,0.6693095706498163,0.5943392345322516,0.5926200927289873,0.5184351717972893,0.36520550633360793,0.2214409726590446,0.7749726781294594,0.8050635294147591,0.01902499741154151,0.7280067485221235,0.38024025666715133,0.8201219338310821,0.2988384729964493,0.7150687686441414,0.7221161079809935,0.985181749241254,0.7026632097365368,0.12806742129644266,0.4394562478221504,0.5746318341759633,0.8133688008797464,0.0852958374190056,0.16773254275508587,0.6322309603516194,0.5309053065224285,0.577788041234784,8.162080544349415e-05,0.1661271455341512,0.31054802923977576],\"y\":[0.36742332963740365,0.06028252608423801,0.2340927835511326,0.0677632889754397,0.6390913677043765,0.7357622548514599,0.9818228363457057,0.8500843404606817,0.46460761918327176,0.9858063735616203,0.30251058463090874,0.12348582266262498,0.15879689615094672,0.7714507674204594,0.9231381809349246,0.30327198613366224,0.12177885288289303,0.4378624743673033,0.4324918021661184,0.5312418174952498,0.3055293299701318,0.8448815347275062,0.558549631247485,0.7028342733605935,0.6050725243805029,0.3206012011190762,0.3757561378779345,0.7740229474224366,0.46907976643364646,0.0033878089096404107,0.5300615479167831,0.17845941704153234,0.7047994290436761,0.6365079229364256,0.7384390069963892,0.7147109631241944,0.4559519192164877,0.5907883455719106,0.688567999639175,0.26439519360469765,0.41118788865411293,0.4843909543646935,0.24333734768439885,0.22382172175531267,0.8994952573766353,0.43533515378222254,0.7345776274465365,0.30757608871419184,0.8128937920399996,0.7096343216545781,0.04717288129013353,0.600110173718179,0.7293583572219835,0.26717297674129226,0.44067528992666993,0.7250601731985694,0.03221177119236329,0.9844000295551686,0.9478934877147326,0.16541011185257481,0.31830149909755845,0.6283499567833403,0.8148738646991063,0.8303138925617038,0.9853326823042465,0.6131208144066997,0.9768621519464462,0.349347590802806,0.1440961312169673,0.3345090129750482,0.029958531810967526,0.8700514923313263,0.18627595768876337,0.6122043991039743,0.07048221023271195,0.09260112837419254,0.41157074387353854,0.381425569295859,0.9169694493451285,0.2308755950223893,0.1668199966388808,0.5198010759889135,0.07874548894550537,0.5067554336476691,0.5504153412463267,0.9318100587283294,0.16148135145244358,0.8623335540410655,0.018536852410634297,0.6108955680648666,0.7568727792789457,0.09031586773110156,0.653964493558779,0.7184672941334117,0.1909119518233784,0.9909472711521696,0.9752373129964743,0.10833024679821301,0.9538516590984876,0.4998307991098292,0.9917644167706179,0.4672358429418988,0.6016770606136471,0.8931944535848508,0.7026640659913079,0.771450263175828,0.2811314185420919,0.25607469457788534,0.1919786353947499,0.5956377534987946,0.202253957854722,0.9035331379294639,0.42001130361268957,0.04321601965394517,0.015261053884807141,0.8615370686104679,0.857900662471064,0.7587324352662541,0.7561458453040057,0.13104608438906185,0.733472990367204,0.44557256742913853,0.2820392821733022,0.6772926017659515,0.625245305888182,0.6576043613137993,0.8896424725097725,0.4936843980116674,0.6394059012031291,0.14381902481095266,0.09961406252183014,0.92612901050032,0.1837194823834749,0.6346803117435577,0.1778468777133685,0.3482658793242056,0.07616364692241406,0.5794883744322686,0.16977524514859088,0.0008251963369086956,0.9857787671473374,0.6184514323495228,0.5990819701389123,0.8506111632719973,0.9192088184605617,0.9144571617988004,0.12820934776083015,0.4073636814359416,0.3606121835069148,0.15606377208530897,0.9377639034067476,0.1547023663596766,0.3424499556694036,0.4700992946664392,0.35799256879305663,0.1649179226662273,0.4309040755059814,0.44427240225885667,0.14825024433780098,0.34424603244986796,0.0667780555375419,0.7316035841434263,0.9085543455249919,0.36886244076116914,0.7688806998881619,0.39484545814096983,0.5416422387544221,0.368416029714859,0.4409088078944011,0.9417760990919332,0.9598711837487881,0.042813459595205994,0.6128380728985683,0.563820636097141,0.9889463989922639,0.9294178043128155,0.49501995031945645,0.7110921835300492,0.5096755831316278,0.4169351057648114,0.6798752644960687,0.9666174191433455,0.1134456610757254,0.903041476233771,0.9368936165866102,0.7157761862946515,0.27229666419810794,0.5474184591862529,0.8744195246288999,0.2837324573309542,0.6052835758603802,0.6026896527141586,0.6509508184771501,0.5061699116901854,0.24921302513625077,0.07955094636590043,0.74147292121114,0.8950422008099446,0.4940605813112121,0.6068469477316567,0.46247416691570087,0.47301120019733667,0.35336423511787995,0.39834694058143283,0.3670610761227262,0.31999866122661325,0.12049419891537771,0.3520170791447167,0.2317760047604842,0.8769568431487664,0.29465845141270064,0.9059063229080151,0.2952639820237549,0.4811341364415358,0.2534030524746763,0.2697102714869173,0.3042745995523175,0.6985582102928654,0.23680160466249578,0.5951017937074411,0.39391349017827215,0.08458083732256305,0.5035878902457551,0.6627153311175407,0.06971035949093285,0.9035372068239265,0.847259161760054,0.07322705634946369,0.3667349150014563,0.5237149241766546,0.5449399834518647,0.08439573130161271,0.5100333938911988,0.46144375403519466,0.0016457037462386248,0.5533010083216748,0.8175861670704443,0.8367675584989749,0.5640109547739199,0.6579352621807899,0.9997444937964818,0.3444720035136649,0.9903386251594141,0.869365193754495,0.3990097417668508,0.2813010366955182,0.8019787143440101,0.8887328636866901,0.29596445106825053,0.06214885442983065,0.7899139194013861,0.9384556257100096,0.26925245736868775,0.5888125924862257,0.3655359886087788,0.9034435552646127,0.5927006523135628,0.9588163533089848,0.9062203921614161,0.29624365410143505,0.22043021915772787,0.9790032651026044,0.7743830362587161,0.9720106049945428,0.13335508313792355,0.590202554150826,0.17438211850695085,0.12441741120065619,0.4125973694842946,0.7343274703031564,0.20398970813437212,0.10682082658331105,0.5870086774664823,0.1536313944251274,0.25452180601344054,0.09059701551448773,0.5386311381898874,0.06174741154412322,0.6776892611072027,0.21677312686684058,0.44219784021324926,0.09916874952584442,0.6402489854951326,0.8846760822405182,0.40657574882051595,0.3450437160006996,0.5155822563538405,0.843733108141691,0.38364331166921406,0.4528734572912103,0.5507476378200858,0.8133709362185068,0.2916624098493248,0.9801969010846482,0.16917941116623103,0.16428863140898242,0.8690826717534565,0.19550028589468849,0.7968260268563513,0.037163902822109685,0.8311143968810967,0.3558674135269412,0.5489595981781823,0.6253609295037529,0.09350350175295008,0.6021776640260391,0.27052133270184586,0.3367856756092942,0.8478332007758311,0.03767261687368373,0.6067933118409401,0.7760799067162812,0.14156308486425617,0.5435681192429865,0.4876419743612411,0.11127386063539668,0.21997295077616807,0.9576111150636828,0.36711310123860763,0.10444006178006437,0.4422160106657492,0.7674484800636753,0.7866665457728186,0.5945726259271557,0.14781366177728028,0.8629122895869898,0.06000807469669878,0.3710989213903725,0.9673339464838002,0.8661724937739612,0.32277455851505654,0.48586511552474354,0.3755966041491646,0.6374401528201956,0.4971175742693317,0.9529946815957586,0.6928911508442143,0.07038475116950715,0.21759572686842477,0.9085938497926249,0.32814735751175184,0.3189285830532447,0.6088056024017979,0.6321753138050001,0.6509354754957594,0.9652075340995947,0.3696602354317725,0.9814073217295863,0.20670654325827575,0.3412278831465685,0.8084208879841499,0.9056532585885844,0.006471768030094971,0.7753154955758085,0.109708993239785,0.15975138706768544,0.35256564784999966,0.24011431597411814,0.6537034100326169,0.24974349378402294,0.295411734396441,0.2766814277939179,0.010473235912095702,0.51685453822225,0.9842450849223163,0.9870233051111225,0.5315947433796144,0.161814707212091,0.3032885695739662,0.9199004825052488,0.6365017288459758,0.009794138140979292,0.8321179848324504,0.8859927093482396,0.4355191334375669,0.4406864745328066,0.8034727566191211,0.7324227142662568,0.8093694054891155,0.5017638436027279,0.784677158858922,0.9372618188363121,0.2260576069097615,0.37121972857263663,0.8437235947864975,0.051001039193947606,0.71187255925326,0.9558586846446365,0.7565124337529072,0.22522374015611046,0.5774757417798722,0.953083537532176,0.10512249352623004,0.46242100058825697,0.9614762832866119,0.4537055249827955,0.3838403541584262,0.011071523533204952,0.4953639722552369,0.46628544977943875,0.24174281255791386,0.11820077676515273,0.9286868628651729,0.5304942316797818,0.7404225436113436,0.15132464021574055,0.6376804418504072,0.20426770280853235,0.7059008984204449,0.7042265114734088,0.5190863416415803,0.2248091543507309,0.2113639057179687,0.011902531725495824,0.3865922013800024,0.23611093238499437,0.6926230522638691,0.9224512429228255,0.5776297897671872,0.4179314359542454,0.3517435441960701,0.7205722082484474,0.7499080325207264,0.8604229098141271,0.5117951174994716,0.06396914943193077,0.6174013291325309,0.8841652743722846,0.14629089675599982,0.9255962702645386,0.898722379044089,0.7037962415904825,0.6222712690173033,0.5334667852351469,0.38338520443695767,0.9029651853594025,0.3513768405210128,0.7715038264193117,0.27576365707511785,0.4092831083487881,0.273161970474607,0.3660666734299496,0.9050279906666274,0.42003866183954797,0.12418613722010685,0.20742258168883498,0.017435834566542185,0.9691753991715829,0.0651745956531572,0.4345391321782045,0.7268457012569874,0.8568167033066025,0.6778574458434202,0.05209126394258767,0.7693205104221624,0.6958163778954104,0.1487655673563133,0.7277204155754846,0.2726720516315816,0.6025868024321142,0.44685011089680793,0.7537744352104846,0.6850659651115348,0.17851068506021228,0.095977811294502,0.887910721632423,0.5912422254157751,0.5650684882145464,0.7338591406754075,0.8201591655900817,0.18153930582089095,0.9754536186001801,0.33134362579286636,0.31144240406371304,0.30974524100772527,0.10371336545961252,0.31190983901001024,0.9868617692895998,0.02762387807367883,0.08529868559399356,0.1587114574759756,0.7464617820877408,0.36515258576769793,0.39798090529975194,0.23516965467232842,0.17459611296746103,0.8100031212948449,0.9303642474941822,0.0447117539565729,0.616485767637747,0.7881289681885016,0.7732004146096898,0.6241699564763635,0.689088847781292,0.09697159275124823,0.6880932425020391,0.6969793626581059,0.8772205834201181,0.6444970710582197,0.29985557480113767]},\"selected\":{\"id\":\"2102\",\"type\":\"Selection\"},\"selection_policy\":{\"id\":\"2103\",\"type\":\"UnionRenderers\"}},\"id\":\"1992\",\"type\":\"ColumnDataSource\"},{\"attributes\":{\"fill_alpha\":{\"value\":0.4},\"fill_color\":{\"value\":\"firebrick\"},\"line_alpha\":{\"value\":0.4},\"line_color\":{\"value\":\"firebrick\"},\"size\":{\"units\":\"screen\",\"value\":8},\"x\":{\"field\":\"x\"},\"y\":{\"field\":\"y\"}},\"id\":\"2020\",\"type\":\"Circle\"},{\"attributes\":{\"text\":\"Select Here\"},\"id\":\"1994\",\"type\":\"Title\"},{\"attributes\":{\"fill_alpha\":{\"value\":0.4},\"fill_color\":{\"field\":\"color\"},\"line_alpha\":{\"value\":0.4},\"line_color\":{\"field\":\"color\"},\"size\":{\"units\":\"screen\",\"value\":8},\"x\":{\"field\":\"x\"},\"y\":{\"field\":\"y\"}},\"id\":\"2018\",\"type\":\"Circle\"},{\"attributes\":{\"data_source\":{\"id\":\"1992\",\"type\":\"ColumnDataSource\"},\"glyph\":{\"id\":\"2018\",\"type\":\"Circle\"},\"hover_glyph\":null,\"muted_glyph\":null,\"nonselection_glyph\":{\"id\":\"2019\",\"type\":\"Circle\"},\"selection_glyph\":{\"id\":\"2020\",\"type\":\"Circle\"},\"view\":{\"id\":\"2022\",\"type\":\"CDSView\"}},\"id\":\"2021\",\"type\":\"GlyphRenderer\"},{\"attributes\":{\"source\":{\"id\":\"1992\",\"type\":\"ColumnDataSource\"}},\"id\":\"2022\",\"type\":\"CDSView\"},{\"attributes\":{\"callback\":null},\"id\":\"1996\",\"type\":\"DataRange1d\"},{\"attributes\":{\"args\":{\"s1\":{\"id\":\"1992\",\"type\":\"ColumnDataSource\"},\"s2\":{\"id\":\"2023\",\"type\":\"ColumnDataSource\"}},\"code\":\"\\n    var inds = s1.selected.indices;\\n    if (inds.length == 0)\\n        return;\\n\\n    var ym = 0\\n    for (var i = 0; i < inds.length; i++) {\\n        ym += s1.data.y[inds[i]]\\n    }\\n    \\n    ym /= inds.length\\n    s2.data.ym = [ym, ym]\\n\\n    // necessary becasue we mutated source.data in-place\\n    s2.change.emit();  \\n\"},\"id\":\"2029\",\"type\":\"CustomJS\"},{\"attributes\":{\"callback\":null},\"id\":\"1998\",\"type\":\"DataRange1d\"},{\"attributes\":{\"line_alpha\":0.6,\"line_color\":\"orange\",\"line_width\":5,\"x\":{\"field\":\"xm\"},\"y\":{\"field\":\"ym\"}},\"id\":\"2025\",\"type\":\"Line\"},{\"attributes\":{},\"id\":\"2000\",\"type\":\"LinearScale\"},{\"attributes\":{\"line_alpha\":0.1,\"line_color\":\"#1f77b4\",\"line_width\":5,\"x\":{\"field\":\"xm\"},\"y\":{\"field\":\"ym\"}},\"id\":\"2026\",\"type\":\"Line\"},{\"attributes\":{},\"id\":\"2002\",\"type\":\"LinearScale\"},{\"attributes\":{\"data_source\":{\"id\":\"2023\",\"type\":\"ColumnDataSource\"},\"glyph\":{\"id\":\"2025\",\"type\":\"Line\"},\"hover_glyph\":null,\"muted_glyph\":null,\"nonselection_glyph\":{\"id\":\"2026\",\"type\":\"Line\"},\"selection_glyph\":null,\"view\":{\"id\":\"2028\",\"type\":\"CDSView\"}},\"id\":\"2027\",\"type\":\"GlyphRenderer\"},{\"attributes\":{\"formatter\":{\"id\":\"2098\",\"type\":\"BasicTickFormatter\"},\"ticker\":{\"id\":\"2005\",\"type\":\"BasicTicker\"}},\"id\":\"2004\",\"type\":\"LinearAxis\"},{\"attributes\":{\"source\":{\"id\":\"2023\",\"type\":\"ColumnDataSource\"}},\"id\":\"2028\",\"type\":\"CDSView\"},{\"attributes\":{},\"id\":\"2005\",\"type\":\"BasicTicker\"},{\"attributes\":{\"ticker\":{\"id\":\"2005\",\"type\":\"BasicTicker\"}},\"id\":\"2008\",\"type\":\"Grid\"},{\"attributes\":{},\"id\":\"2100\",\"type\":\"BasicTickFormatter\"},{\"attributes\":{\"formatter\":{\"id\":\"2100\",\"type\":\"BasicTickFormatter\"},\"ticker\":{\"id\":\"2010\",\"type\":\"BasicTicker\"}},\"id\":\"2009\",\"type\":\"LinearAxis\"},{\"attributes\":{\"fill_alpha\":{\"value\":0.5},\"fill_color\":{\"value\":\"lightgrey\"},\"level\":\"overlay\",\"line_alpha\":{\"value\":1.0},\"line_color\":{\"value\":\"black\"},\"line_dash\":[4,4],\"line_width\":{\"value\":2},\"xs_units\":\"screen\",\"ys_units\":\"screen\"},\"id\":\"2101\",\"type\":\"PolyAnnotation\"},{\"attributes\":{},\"id\":\"2010\",\"type\":\"BasicTicker\"},{\"attributes\":{\"callback\":null,\"data\":{\"xm\":[0,1],\"ym\":[0.5,0.5]},\"selected\":{\"id\":\"2104\",\"type\":\"Selection\"},\"selection_policy\":{\"id\":\"2105\",\"type\":\"UnionRenderers\"}},\"id\":\"2023\",\"type\":\"ColumnDataSource\"},{\"attributes\":{},\"id\":\"2102\",\"type\":\"Selection\"},{\"attributes\":{\"dimension\":1,\"ticker\":{\"id\":\"2010\",\"type\":\"BasicTicker\"}},\"id\":\"2013\",\"type\":\"Grid\"},{\"attributes\":{},\"id\":\"2098\",\"type\":\"BasicTickFormatter\"},{\"attributes\":{},\"id\":\"2103\",\"type\":\"UnionRenderers\"},{\"attributes\":{\"active_drag\":\"auto\",\"active_inspect\":\"auto\",\"active_multi\":null,\"active_scroll\":\"auto\",\"active_tap\":\"auto\",\"tools\":[{\"id\":\"2014\",\"type\":\"LassoSelectTool\"}]},\"id\":\"2015\",\"type\":\"Toolbar\"},{\"attributes\":{\"callback\":null,\"overlay\":{\"id\":\"2101\",\"type\":\"PolyAnnotation\"}},\"id\":\"2014\",\"type\":\"LassoSelectTool\"},{\"attributes\":{},\"id\":\"2104\",\"type\":\"Selection\"},{\"attributes\":{},\"id\":\"2105\",\"type\":\"UnionRenderers\"}],\"root_ids\":[\"1993\"]},\"title\":\"Bokeh Application\",\"version\":\"1.4.0\"}};\n",
       "  var render_items = [{\"docid\":\"2ff1142f-a81c-418a-a18d-ddbe921adc61\",\"roots\":{\"1993\":\"b26458e1-a0ac-4c9b-bf49-65091e3e654a\"}}];\n",
       "  root.Bokeh.embed.embed_items_notebook(docs_json, render_items);\n",
       "\n",
       "  }\n",
       "  if (root.Bokeh !== undefined) {\n",
       "    embed_document(root);\n",
       "  } else {\n",
       "    var attempts = 0;\n",
       "    var timer = setInterval(function(root) {\n",
       "      if (root.Bokeh !== undefined) {\n",
       "        clearInterval(timer);\n",
       "        embed_document(root);\n",
       "      } else {\n",
       "        attempts++;\n",
       "        if (attempts > 100) {\n",
       "          clearInterval(timer);\n",
       "          console.log(\"Bokeh: ERROR: Unable to run BokehJS code because BokehJS library is missing\");\n",
       "        }\n",
       "      }\n",
       "    }, 10, root)\n",
       "  }\n",
       "})(window);"
      ],
      "application/vnd.bokehjs_exec.v0+json": ""
     },
     "metadata": {
      "application/vnd.bokehjs_exec.v0+json": {
       "id": "1993"
      }
     },
     "output_type": "display_data"
    }
   ],
   "source": [
    "from random import random\n",
    "\n",
    "x = [random() for x in range(500)]\n",
    "y = [random() for y in range(500)]\n",
    "color = [\"navy\"] * len(x)\n",
    "\n",
    "s1 = ColumnDataSource(data=dict(x=x, y=y, color=color))\n",
    "p = figure(plot_width=400, plot_height=400, tools=\"lasso_select\", title=\"Select Here\")\n",
    "p.circle('x', 'y', color='color', size=8, alpha=0.4, source=s1, \n",
    "         selection_color=\"firebrick\", selection_alpha=0.4)\n",
    "\n",
    "s2 = ColumnDataSource(data=dict(xm=[0,1],ym=[0.5, 0.5]))\n",
    "p.line(x='xm', y='ym', color=\"orange\", line_width=5, alpha=0.6, source=s2)\n",
    "\n",
    "s1.callback = CustomJS(args=dict(s1=s1, s2=s2), code=\"\"\"\n",
    "    var inds = s1.selected.indices;\n",
    "    if (inds.length == 0)\n",
    "        return;\n",
    "\n",
    "    var ym = 0\n",
    "    for (var i = 0; i < inds.length; i++) {\n",
    "        ym += s1.data.y[inds[i]]\n",
    "    }\n",
    "    \n",
    "    ym /= inds.length\n",
    "    s2.data.ym = [ym, ym]\n",
    "\n",
    "    // necessary becasue we mutated source.data in-place\n",
    "    s2.change.emit();  \n",
    "\"\"\")\n",
    "\n",
    "show(p)"
   ]
  },
  {
   "cell_type": "code",
   "execution_count": 13,
   "metadata": {},
   "outputs": [],
   "source": [
    "# Exercise: Experiment with selection callbacks\n",
    "\n"
   ]
  },
  {
   "cell_type": "markdown",
   "metadata": {},
   "source": [
    "## CustomJS for UI Events\n",
    "\n",
    "Bokeh also has a general events system\n",
    "\n",
    "All of the available UI events, and their properties, are listed in the Reference Guide section for [bokeh.events](https://bokeh.pydata.org/en/latest/docs/reference/events.html)"
   ]
  },
  {
   "cell_type": "code",
   "execution_count": 14,
   "metadata": {},
   "outputs": [
    {
     "data": {
      "text/html": [
       "\n",
       "\n",
       "\n",
       "\n",
       "\n",
       "\n",
       "  <div class=\"bk-root\" id=\"cc7136b8-3467-4e28-ba86-6390ae6c940f\" data-root-id=\"2196\"></div>\n"
      ]
     },
     "metadata": {},
     "output_type": "display_data"
    },
    {
     "data": {
      "application/javascript": [
       "(function(root) {\n",
       "  function embed_document(root) {\n",
       "    \n",
       "  var docs_json = {\"d9f4d305-9966-4c7d-a178-5144e67b41b8\":{\"roots\":{\"references\":[{\"attributes\":{\"children\":[{\"id\":\"2194\",\"type\":\"Button\"},{\"id\":\"2195\",\"type\":\"Row\"}]},\"id\":\"2196\",\"type\":\"Column\"},{\"attributes\":{\"source\":{\"id\":\"2188\",\"type\":\"ColumnDataSource\"}},\"id\":\"2192\",\"type\":\"CDSView\"},{\"attributes\":{},\"id\":\"2278\",\"type\":\"BasicTickFormatter\"},{\"attributes\":{\"fill_alpha\":{\"value\":0.6},\"fill_color\":{\"value\":\"#1f77b4\"},\"line_color\":{\"value\":null},\"radius\":{\"units\":\"data\",\"value\":1},\"x\":{\"field\":\"x\"},\"y\":{\"field\":\"y\"}},\"id\":\"2189\",\"type\":\"Circle\"},{\"attributes\":{\"data_source\":{\"id\":\"2188\",\"type\":\"ColumnDataSource\"},\"glyph\":{\"id\":\"2189\",\"type\":\"Circle\"},\"hover_glyph\":null,\"muted_glyph\":null,\"nonselection_glyph\":{\"id\":\"2190\",\"type\":\"Circle\"},\"selection_glyph\":null,\"view\":{\"id\":\"2192\",\"type\":\"CDSView\"}},\"id\":\"2191\",\"type\":\"GlyphRenderer\"},{\"attributes\":{\"fill_alpha\":{\"value\":0.1},\"fill_color\":{\"value\":\"#1f77b4\"},\"line_alpha\":{\"value\":0.1},\"line_color\":{\"value\":\"#1f77b4\"},\"radius\":{\"units\":\"data\",\"value\":1},\"x\":{\"field\":\"x\"},\"y\":{\"field\":\"y\"}},\"id\":\"2190\",\"type\":\"Circle\"},{\"attributes\":{},\"id\":\"2280\",\"type\":\"BasicTickFormatter\"},{\"attributes\":{\"bottom_units\":\"screen\",\"fill_alpha\":{\"value\":0.5},\"fill_color\":{\"value\":\"lightgrey\"},\"left_units\":\"screen\",\"level\":\"overlay\",\"line_alpha\":{\"value\":1.0},\"line_color\":{\"value\":\"black\"},\"line_dash\":[4,4],\"line_width\":{\"value\":2},\"render_mode\":\"css\",\"right_units\":\"screen\",\"top_units\":\"screen\"},\"id\":\"2281\",\"type\":\"BoxAnnotation\"},{\"attributes\":{\"callback\":null},\"id\":\"2167\",\"type\":\"DataRange1d\"},{\"attributes\":{},\"id\":\"2282\",\"type\":\"Selection\"},{\"attributes\":{\"children\":[{\"id\":\"2166\",\"subtype\":\"Figure\",\"type\":\"Plot\"},{\"id\":\"2193\",\"type\":\"Div\"}]},\"id\":\"2195\",\"type\":\"Row\"},{\"attributes\":{\"callback\":null,\"data\":{\"x\":{\"__ndarray__\":\"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\",\"dtype\":\"float64\",\"shape\":[2000]},\"y\":{\"__ndarray__\":\"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\",\"dtype\":\"float64\",\"shape\":[2000]}},\"selected\":{\"id\":\"2282\",\"type\":\"Selection\"},\"selection_policy\":{\"id\":\"2283\",\"type\":\"UnionRenderers\"}},\"id\":\"2188\",\"type\":\"ColumnDataSource\"},{\"attributes\":{\"text\":\"\"},\"id\":\"2276\",\"type\":\"Title\"},{\"attributes\":{},\"id\":\"2283\",\"type\":\"UnionRenderers\"},{\"attributes\":{\"callback\":null,\"icon\":null,\"js_event_callbacks\":{\"button_click\":[{\"id\":\"2197\",\"type\":\"CustomJS\"}]},\"width\":300},\"id\":\"2194\",\"type\":\"Button\"},{\"attributes\":{\"dimension\":1,\"ticker\":{\"id\":\"2181\",\"type\":\"BasicTicker\"}},\"id\":\"2184\",\"type\":\"Grid\"},{\"attributes\":{\"callback\":null,\"overlay\":{\"id\":\"2281\",\"type\":\"BoxAnnotation\"}},\"id\":\"2185\",\"type\":\"BoxSelectTool\"},{\"attributes\":{\"active_drag\":\"auto\",\"active_inspect\":\"auto\",\"active_multi\":null,\"active_scroll\":\"auto\",\"active_tap\":\"auto\",\"tools\":[{\"id\":\"2185\",\"type\":\"BoxSelectTool\"}]},\"id\":\"2186\",\"type\":\"Toolbar\"},{\"attributes\":{},\"id\":\"2181\",\"type\":\"BasicTicker\"},{\"attributes\":{\"formatter\":{\"id\":\"2280\",\"type\":\"BasicTickFormatter\"},\"ticker\":{\"id\":\"2181\",\"type\":\"BasicTicker\"}},\"id\":\"2180\",\"type\":\"LinearAxis\"},{\"attributes\":{\"args\":{\"div\":{\"id\":\"2193\",\"type\":\"Div\"}},\"code\":\"\\ndiv.text = \\\"Button!\\\";\\n\"},\"id\":\"2197\",\"type\":\"CustomJS\"},{\"attributes\":{},\"id\":\"2176\",\"type\":\"BasicTicker\"},{\"attributes\":{\"ticker\":{\"id\":\"2176\",\"type\":\"BasicTicker\"}},\"id\":\"2179\",\"type\":\"Grid\"},{\"attributes\":{\"callback\":null},\"id\":\"2169\",\"type\":\"DataRange1d\"},{\"attributes\":{\"formatter\":{\"id\":\"2278\",\"type\":\"BasicTickFormatter\"},\"ticker\":{\"id\":\"2176\",\"type\":\"BasicTicker\"}},\"id\":\"2175\",\"type\":\"LinearAxis\"},{\"attributes\":{},\"id\":\"2173\",\"type\":\"LinearScale\"},{\"attributes\":{},\"id\":\"2171\",\"type\":\"LinearScale\"},{\"attributes\":{\"below\":[{\"id\":\"2175\",\"type\":\"LinearAxis\"}],\"center\":[{\"id\":\"2179\",\"type\":\"Grid\"},{\"id\":\"2184\",\"type\":\"Grid\"}],\"js_event_callbacks\":{\"selectiongeometry\":[{\"id\":\"2198\",\"type\":\"CustomJS\"}]},\"left\":[{\"id\":\"2180\",\"type\":\"LinearAxis\"}],\"renderers\":[{\"id\":\"2191\",\"type\":\"GlyphRenderer\"}],\"title\":{\"id\":\"2276\",\"type\":\"Title\"},\"toolbar\":{\"id\":\"2186\",\"type\":\"Toolbar\"},\"x_range\":{\"id\":\"2167\",\"type\":\"DataRange1d\"},\"x_scale\":{\"id\":\"2171\",\"type\":\"LinearScale\"},\"y_range\":{\"id\":\"2169\",\"type\":\"DataRange1d\"},\"y_scale\":{\"id\":\"2173\",\"type\":\"LinearScale\"}},\"id\":\"2166\",\"subtype\":\"Figure\",\"type\":\"Plot\"},{\"attributes\":{\"width\":400},\"id\":\"2193\",\"type\":\"Div\"},{\"attributes\":{\"args\":{\"div\":{\"id\":\"2193\",\"type\":\"Div\"}},\"code\":\"\\ndiv.text = \\\"Selection! <p> <p>\\\" + JSON.stringify(cb_obj.geometry, undefined, 2);\\n\"},\"id\":\"2198\",\"type\":\"CustomJS\"}],\"root_ids\":[\"2196\"]},\"title\":\"Bokeh Application\",\"version\":\"1.4.0\"}};\n",
       "  var render_items = [{\"docid\":\"d9f4d305-9966-4c7d-a178-5144e67b41b8\",\"roots\":{\"2196\":\"cc7136b8-3467-4e28-ba86-6390ae6c940f\"}}];\n",
       "  root.Bokeh.embed.embed_items_notebook(docs_json, render_items);\n",
       "\n",
       "  }\n",
       "  if (root.Bokeh !== undefined) {\n",
       "    embed_document(root);\n",
       "  } else {\n",
       "    var attempts = 0;\n",
       "    var timer = setInterval(function(root) {\n",
       "      if (root.Bokeh !== undefined) {\n",
       "        clearInterval(timer);\n",
       "        embed_document(root);\n",
       "      } else {\n",
       "        attempts++;\n",
       "        if (attempts > 100) {\n",
       "          clearInterval(timer);\n",
       "          console.log(\"Bokeh: ERROR: Unable to run BokehJS code because BokehJS library is missing\");\n",
       "        }\n",
       "      }\n",
       "    }, 10, root)\n",
       "  }\n",
       "})(window);"
      ],
      "application/vnd.bokehjs_exec.v0+json": ""
     },
     "metadata": {
      "application/vnd.bokehjs_exec.v0+json": {
       "id": "2196"
      }
     },
     "output_type": "display_data"
    }
   ],
   "source": [
    "from bokeh.plotting import figure\n",
    "from bokeh import events\n",
    "from bokeh.models import CustomJS, Div, Button\n",
    "from bokeh.layouts import column, row\n",
    "\n",
    "import numpy as np\n",
    "x = np.random.random(size=2000) * 100\n",
    "y = np.random.random(size=2000) * 100\n",
    "\n",
    "p = figure(tools=\"box_select\")\n",
    "p.scatter(x, y, radius=1, fill_alpha=0.6, line_color=None)\n",
    "\n",
    "div = Div(width=400)\n",
    "button = Button(label=\"Button\", width=300)\n",
    "layout = column(button, row(p, div))\n",
    "\n",
    "# Events with no attributes\n",
    "button.js_on_event(events.ButtonClick,  CustomJS(args=dict(div=div), code=\"\"\"\n",
    "div.text = \"Button!\";\n",
    "\"\"\")) \n",
    "\n",
    "p.js_on_event(events.SelectionGeometry, CustomJS(args=dict(div=div), code=\"\"\"\n",
    "div.text = \"Selection! <p> <p>\" + JSON.stringify(cb_obj.geometry, undefined, 2);\n",
    "\"\"\"))\n",
    "\n",
    "show(layout)"
   ]
  },
  {
   "cell_type": "code",
   "execution_count": 15,
   "metadata": {},
   "outputs": [],
   "source": [
    "# Exercise: Create a plot that responds to different events from bokeh.events\n",
    "\n"
   ]
  },
  {
   "cell_type": "markdown",
   "metadata": {},
   "source": [
    "## Additional Information\n",
    "\n",
    "There are many kinds of interactions and events that can be connected to `CustomJS` callbacks. \n",
    "\n",
    "\n",
    "* Widgets - Button, Toggle, Dropdown, TextInput, AutocompleteInput, Select, Multiselect, Slider, (DateRangeSlider), DatePicker,\n",
    "* Tools - TapTool, BoxSelectTool, HoverTool,\n",
    "* Selection - ColumnDataSource, AjaxDataSource, BlazeDataSource, ServerDataSource\n",
    "* Ranges - Range1d, DataRange1d, FactorRange\n",
    "\n",
    "\n",
    "For more complete examples the User Guide section on [JavaScript Interactions](http://bokeh.pydata.org/en/latest/docs/user_guide/interaction.html)"
   ]
  },
  {
   "cell_type": "code",
   "execution_count": null,
   "metadata": {},
   "outputs": [],
   "source": []
  }
 ],
 "metadata": {
  "anaconda-cloud": {},
  "kernelspec": {
   "display_name": "data_sci_env_py3.6.10",
   "language": "python",
   "name": "data_sci_env_py3.6.10"
  },
  "language_info": {
   "codemirror_mode": {
    "name": "ipython",
    "version": 3
   },
   "file_extension": ".py",
   "mimetype": "text/x-python",
   "name": "python",
   "nbconvert_exporter": "python",
   "pygments_lexer": "ipython3",
   "version": "3.6.10"
  }
 },
 "nbformat": 4,
 "nbformat_minor": 4
}
