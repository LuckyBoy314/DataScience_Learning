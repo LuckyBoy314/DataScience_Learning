{
 "cells": [
  {
   "cell_type": "markdown",
   "metadata": {},
   "source": [
    "<table style=\"float:left; border:none\">\n",
    "   <tr style=\"border:none; background-color: #ffffff\">\n",
    "       <td style=\"border:none\">\n",
    "           <a href=\"http://bokeh.org/\">     \n",
    "           <img \n",
    "               src=\"assets/bokeh-transparent.png\" \n",
    "               style=\"width:50px\"\n",
    "           >\n",
    "           </a>    \n",
    "       </td>\n",
    "       <td style=\"border:none\">\n",
    "           <h1>Bokeh Tutorial</h1>\n",
    "       </td>\n",
    "   </tr>\n",
    "</table>\n",
    "\n",
    "<div style=\"float:right;\"><h2>06. Linking and Interactions</h2></div>"
   ]
  },
  {
   "cell_type": "code",
   "execution_count": 2,
   "metadata": {},
   "outputs": [
    {
     "data": {
      "text/html": [
       "\n",
       "    <div class=\"bk-root\">\n",
       "        <a href=\"https://bokeh.pydata.org\" target=\"_blank\" class=\"bk-logo bk-logo-small bk-logo-notebook\"></a>\n",
       "        <span id=\"1002\">Loading BokehJS ...</span>\n",
       "    </div>"
      ]
     },
     "metadata": {},
     "output_type": "display_data"
    },
    {
     "data": {
      "application/javascript": [
       "\n",
       "(function(root) {\n",
       "  function now() {\n",
       "    return new Date();\n",
       "  }\n",
       "\n",
       "  var force = true;\n",
       "\n",
       "  if (typeof root._bokeh_onload_callbacks === \"undefined\" || force === true) {\n",
       "    root._bokeh_onload_callbacks = [];\n",
       "    root._bokeh_is_loading = undefined;\n",
       "  }\n",
       "\n",
       "  var JS_MIME_TYPE = 'application/javascript';\n",
       "  var HTML_MIME_TYPE = 'text/html';\n",
       "  var EXEC_MIME_TYPE = 'application/vnd.bokehjs_exec.v0+json';\n",
       "  var CLASS_NAME = 'output_bokeh rendered_html';\n",
       "\n",
       "  /**\n",
       "   * Render data to the DOM node\n",
       "   */\n",
       "  function render(props, node) {\n",
       "    var script = document.createElement(\"script\");\n",
       "    node.appendChild(script);\n",
       "  }\n",
       "\n",
       "  /**\n",
       "   * Handle when an output is cleared or removed\n",
       "   */\n",
       "  function handleClearOutput(event, handle) {\n",
       "    var cell = handle.cell;\n",
       "\n",
       "    var id = cell.output_area._bokeh_element_id;\n",
       "    var server_id = cell.output_area._bokeh_server_id;\n",
       "    // Clean up Bokeh references\n",
       "    if (id != null && id in Bokeh.index) {\n",
       "      Bokeh.index[id].model.document.clear();\n",
       "      delete Bokeh.index[id];\n",
       "    }\n",
       "\n",
       "    if (server_id !== undefined) {\n",
       "      // Clean up Bokeh references\n",
       "      var cmd = \"from bokeh.io.state import curstate; print(curstate().uuid_to_server['\" + server_id + \"'].get_sessions()[0].document.roots[0]._id)\";\n",
       "      cell.notebook.kernel.execute(cmd, {\n",
       "        iopub: {\n",
       "          output: function(msg) {\n",
       "            var id = msg.content.text.trim();\n",
       "            if (id in Bokeh.index) {\n",
       "              Bokeh.index[id].model.document.clear();\n",
       "              delete Bokeh.index[id];\n",
       "            }\n",
       "          }\n",
       "        }\n",
       "      });\n",
       "      // Destroy server and session\n",
       "      var cmd = \"import bokeh.io.notebook as ion; ion.destroy_server('\" + server_id + \"')\";\n",
       "      cell.notebook.kernel.execute(cmd);\n",
       "    }\n",
       "  }\n",
       "\n",
       "  /**\n",
       "   * Handle when a new output is added\n",
       "   */\n",
       "  function handleAddOutput(event, handle) {\n",
       "    var output_area = handle.output_area;\n",
       "    var output = handle.output;\n",
       "\n",
       "    // limit handleAddOutput to display_data with EXEC_MIME_TYPE content only\n",
       "    if ((output.output_type != \"display_data\") || (!output.data.hasOwnProperty(EXEC_MIME_TYPE))) {\n",
       "      return\n",
       "    }\n",
       "\n",
       "    var toinsert = output_area.element.find(\".\" + CLASS_NAME.split(' ')[0]);\n",
       "\n",
       "    if (output.metadata[EXEC_MIME_TYPE][\"id\"] !== undefined) {\n",
       "      toinsert[toinsert.length - 1].firstChild.textContent = output.data[JS_MIME_TYPE];\n",
       "      // store reference to embed id on output_area\n",
       "      output_area._bokeh_element_id = output.metadata[EXEC_MIME_TYPE][\"id\"];\n",
       "    }\n",
       "    if (output.metadata[EXEC_MIME_TYPE][\"server_id\"] !== undefined) {\n",
       "      var bk_div = document.createElement(\"div\");\n",
       "      bk_div.innerHTML = output.data[HTML_MIME_TYPE];\n",
       "      var script_attrs = bk_div.children[0].attributes;\n",
       "      for (var i = 0; i < script_attrs.length; i++) {\n",
       "        toinsert[toinsert.length - 1].firstChild.setAttribute(script_attrs[i].name, script_attrs[i].value);\n",
       "      }\n",
       "      // store reference to server id on output_area\n",
       "      output_area._bokeh_server_id = output.metadata[EXEC_MIME_TYPE][\"server_id\"];\n",
       "    }\n",
       "  }\n",
       "\n",
       "  function register_renderer(events, OutputArea) {\n",
       "\n",
       "    function append_mime(data, metadata, element) {\n",
       "      // create a DOM node to render to\n",
       "      var toinsert = this.create_output_subarea(\n",
       "        metadata,\n",
       "        CLASS_NAME,\n",
       "        EXEC_MIME_TYPE\n",
       "      );\n",
       "      this.keyboard_manager.register_events(toinsert);\n",
       "      // Render to node\n",
       "      var props = {data: data, metadata: metadata[EXEC_MIME_TYPE]};\n",
       "      render(props, toinsert[toinsert.length - 1]);\n",
       "      element.append(toinsert);\n",
       "      return toinsert\n",
       "    }\n",
       "\n",
       "    /* Handle when an output is cleared or removed */\n",
       "    events.on('clear_output.CodeCell', handleClearOutput);\n",
       "    events.on('delete.Cell', handleClearOutput);\n",
       "\n",
       "    /* Handle when a new output is added */\n",
       "    events.on('output_added.OutputArea', handleAddOutput);\n",
       "\n",
       "    /**\n",
       "     * Register the mime type and append_mime function with output_area\n",
       "     */\n",
       "    OutputArea.prototype.register_mime_type(EXEC_MIME_TYPE, append_mime, {\n",
       "      /* Is output safe? */\n",
       "      safe: true,\n",
       "      /* Index of renderer in `output_area.display_order` */\n",
       "      index: 0\n",
       "    });\n",
       "  }\n",
       "\n",
       "  // register the mime type if in Jupyter Notebook environment and previously unregistered\n",
       "  if (root.Jupyter !== undefined) {\n",
       "    var events = require('base/js/events');\n",
       "    var OutputArea = require('notebook/js/outputarea').OutputArea;\n",
       "\n",
       "    if (OutputArea.prototype.mime_types().indexOf(EXEC_MIME_TYPE) == -1) {\n",
       "      register_renderer(events, OutputArea);\n",
       "    }\n",
       "  }\n",
       "\n",
       "  \n",
       "  if (typeof (root._bokeh_timeout) === \"undefined\" || force === true) {\n",
       "    root._bokeh_timeout = Date.now() + 5000;\n",
       "    root._bokeh_failed_load = false;\n",
       "  }\n",
       "\n",
       "  var NB_LOAD_WARNING = {'data': {'text/html':\n",
       "     \"<div style='background-color: #fdd'>\\n\"+\n",
       "     \"<p>\\n\"+\n",
       "     \"BokehJS does not appear to have successfully loaded. If loading BokehJS from CDN, this \\n\"+\n",
       "     \"may be due to a slow or bad network connection. Possible fixes:\\n\"+\n",
       "     \"</p>\\n\"+\n",
       "     \"<ul>\\n\"+\n",
       "     \"<li>re-rerun `output_notebook()` to attempt to load from CDN again, or</li>\\n\"+\n",
       "     \"<li>use INLINE resources instead, as so:</li>\\n\"+\n",
       "     \"</ul>\\n\"+\n",
       "     \"<code>\\n\"+\n",
       "     \"from bokeh.resources import INLINE\\n\"+\n",
       "     \"output_notebook(resources=INLINE)\\n\"+\n",
       "     \"</code>\\n\"+\n",
       "     \"</div>\"}};\n",
       "\n",
       "  function display_loaded() {\n",
       "    var el = document.getElementById(\"1002\");\n",
       "    if (el != null) {\n",
       "      el.textContent = \"BokehJS is loading...\";\n",
       "    }\n",
       "    if (root.Bokeh !== undefined) {\n",
       "      if (el != null) {\n",
       "        el.textContent = \"BokehJS \" + root.Bokeh.version + \" successfully loaded.\";\n",
       "      }\n",
       "    } else if (Date.now() < root._bokeh_timeout) {\n",
       "      setTimeout(display_loaded, 100)\n",
       "    }\n",
       "  }\n",
       "\n",
       "\n",
       "  function run_callbacks() {\n",
       "    try {\n",
       "      root._bokeh_onload_callbacks.forEach(function(callback) {\n",
       "        if (callback != null)\n",
       "          callback();\n",
       "      });\n",
       "    } finally {\n",
       "      delete root._bokeh_onload_callbacks\n",
       "    }\n",
       "    console.debug(\"Bokeh: all callbacks have finished\");\n",
       "  }\n",
       "\n",
       "  function load_libs(css_urls, js_urls, callback) {\n",
       "    if (css_urls == null) css_urls = [];\n",
       "    if (js_urls == null) js_urls = [];\n",
       "\n",
       "    root._bokeh_onload_callbacks.push(callback);\n",
       "    if (root._bokeh_is_loading > 0) {\n",
       "      console.debug(\"Bokeh: BokehJS is being loaded, scheduling callback at\", now());\n",
       "      return null;\n",
       "    }\n",
       "    if (js_urls == null || js_urls.length === 0) {\n",
       "      run_callbacks();\n",
       "      return null;\n",
       "    }\n",
       "    console.debug(\"Bokeh: BokehJS not loaded, scheduling load and callback at\", now());\n",
       "    root._bokeh_is_loading = css_urls.length + js_urls.length;\n",
       "\n",
       "    function on_load() {\n",
       "      root._bokeh_is_loading--;\n",
       "      if (root._bokeh_is_loading === 0) {\n",
       "        console.debug(\"Bokeh: all BokehJS libraries/stylesheets loaded\");\n",
       "        run_callbacks()\n",
       "      }\n",
       "    }\n",
       "\n",
       "    function on_error() {\n",
       "      console.error(\"failed to load \" + url);\n",
       "    }\n",
       "\n",
       "    for (var i = 0; i < css_urls.length; i++) {\n",
       "      var url = css_urls[i];\n",
       "      const element = document.createElement(\"link\");\n",
       "      element.onload = on_load;\n",
       "      element.onerror = on_error;\n",
       "      element.rel = \"stylesheet\";\n",
       "      element.type = \"text/css\";\n",
       "      element.href = url;\n",
       "      console.debug(\"Bokeh: injecting link tag for BokehJS stylesheet: \", url);\n",
       "      document.body.appendChild(element);\n",
       "    }\n",
       "\n",
       "    for (var i = 0; i < js_urls.length; i++) {\n",
       "      var url = js_urls[i];\n",
       "      var element = document.createElement('script');\n",
       "      element.onload = on_load;\n",
       "      element.onerror = on_error;\n",
       "      element.async = false;\n",
       "      element.src = url;\n",
       "      console.debug(\"Bokeh: injecting script tag for BokehJS library: \", url);\n",
       "      document.head.appendChild(element);\n",
       "    }\n",
       "  };var element = document.getElementById(\"1002\");\n",
       "  if (element == null) {\n",
       "    console.error(\"Bokeh: ERROR: autoload.js configured with elementid '1002' but no matching script tag was found. \")\n",
       "    return false;\n",
       "  }\n",
       "\n",
       "  function inject_raw_css(css) {\n",
       "    const element = document.createElement(\"style\");\n",
       "    element.appendChild(document.createTextNode(css));\n",
       "    document.body.appendChild(element);\n",
       "  }\n",
       "\n",
       "  var js_urls = [\"https://cdn.pydata.org/bokeh/release/bokeh-1.3.4.min.js\", \"https://cdn.pydata.org/bokeh/release/bokeh-widgets-1.3.4.min.js\", \"https://cdn.pydata.org/bokeh/release/bokeh-tables-1.3.4.min.js\", \"https://cdn.pydata.org/bokeh/release/bokeh-gl-1.3.4.min.js\"];\n",
       "  var css_urls = [];\n",
       "\n",
       "  var inline_js = [\n",
       "    function(Bokeh) {\n",
       "      Bokeh.set_log_level(\"info\");\n",
       "    },\n",
       "    \n",
       "    function(Bokeh) {\n",
       "      \n",
       "    },\n",
       "    function(Bokeh) {} // ensure no trailing comma for IE\n",
       "  ];\n",
       "\n",
       "  function run_inline_js() {\n",
       "    \n",
       "    if ((root.Bokeh !== undefined) || (force === true)) {\n",
       "      for (var i = 0; i < inline_js.length; i++) {\n",
       "        inline_js[i].call(root, root.Bokeh);\n",
       "      }if (force === true) {\n",
       "        display_loaded();\n",
       "      }} else if (Date.now() < root._bokeh_timeout) {\n",
       "      setTimeout(run_inline_js, 100);\n",
       "    } else if (!root._bokeh_failed_load) {\n",
       "      console.log(\"Bokeh: BokehJS failed to load within specified timeout.\");\n",
       "      root._bokeh_failed_load = true;\n",
       "    } else if (force !== true) {\n",
       "      var cell = $(document.getElementById(\"1002\")).parents('.cell').data().cell;\n",
       "      cell.output_area.append_execute_result(NB_LOAD_WARNING)\n",
       "    }\n",
       "\n",
       "  }\n",
       "\n",
       "  if (root._bokeh_is_loading === 0) {\n",
       "    console.debug(\"Bokeh: BokehJS loaded, going straight to plotting\");\n",
       "    run_inline_js();\n",
       "  } else {\n",
       "    load_libs(css_urls, js_urls, function() {\n",
       "      console.debug(\"Bokeh: BokehJS plotting callback run at\", now());\n",
       "      run_inline_js();\n",
       "    });\n",
       "  }\n",
       "}(window));"
      ],
      "application/vnd.bokehjs_load.v0+json": "\n(function(root) {\n  function now() {\n    return new Date();\n  }\n\n  var force = true;\n\n  if (typeof root._bokeh_onload_callbacks === \"undefined\" || force === true) {\n    root._bokeh_onload_callbacks = [];\n    root._bokeh_is_loading = undefined;\n  }\n\n  \n\n  \n  if (typeof (root._bokeh_timeout) === \"undefined\" || force === true) {\n    root._bokeh_timeout = Date.now() + 5000;\n    root._bokeh_failed_load = false;\n  }\n\n  var NB_LOAD_WARNING = {'data': {'text/html':\n     \"<div style='background-color: #fdd'>\\n\"+\n     \"<p>\\n\"+\n     \"BokehJS does not appear to have successfully loaded. If loading BokehJS from CDN, this \\n\"+\n     \"may be due to a slow or bad network connection. Possible fixes:\\n\"+\n     \"</p>\\n\"+\n     \"<ul>\\n\"+\n     \"<li>re-rerun `output_notebook()` to attempt to load from CDN again, or</li>\\n\"+\n     \"<li>use INLINE resources instead, as so:</li>\\n\"+\n     \"</ul>\\n\"+\n     \"<code>\\n\"+\n     \"from bokeh.resources import INLINE\\n\"+\n     \"output_notebook(resources=INLINE)\\n\"+\n     \"</code>\\n\"+\n     \"</div>\"}};\n\n  function display_loaded() {\n    var el = document.getElementById(\"1002\");\n    if (el != null) {\n      el.textContent = \"BokehJS is loading...\";\n    }\n    if (root.Bokeh !== undefined) {\n      if (el != null) {\n        el.textContent = \"BokehJS \" + root.Bokeh.version + \" successfully loaded.\";\n      }\n    } else if (Date.now() < root._bokeh_timeout) {\n      setTimeout(display_loaded, 100)\n    }\n  }\n\n\n  function run_callbacks() {\n    try {\n      root._bokeh_onload_callbacks.forEach(function(callback) {\n        if (callback != null)\n          callback();\n      });\n    } finally {\n      delete root._bokeh_onload_callbacks\n    }\n    console.debug(\"Bokeh: all callbacks have finished\");\n  }\n\n  function load_libs(css_urls, js_urls, callback) {\n    if (css_urls == null) css_urls = [];\n    if (js_urls == null) js_urls = [];\n\n    root._bokeh_onload_callbacks.push(callback);\n    if (root._bokeh_is_loading > 0) {\n      console.debug(\"Bokeh: BokehJS is being loaded, scheduling callback at\", now());\n      return null;\n    }\n    if (js_urls == null || js_urls.length === 0) {\n      run_callbacks();\n      return null;\n    }\n    console.debug(\"Bokeh: BokehJS not loaded, scheduling load and callback at\", now());\n    root._bokeh_is_loading = css_urls.length + js_urls.length;\n\n    function on_load() {\n      root._bokeh_is_loading--;\n      if (root._bokeh_is_loading === 0) {\n        console.debug(\"Bokeh: all BokehJS libraries/stylesheets loaded\");\n        run_callbacks()\n      }\n    }\n\n    function on_error() {\n      console.error(\"failed to load \" + url);\n    }\n\n    for (var i = 0; i < css_urls.length; i++) {\n      var url = css_urls[i];\n      const element = document.createElement(\"link\");\n      element.onload = on_load;\n      element.onerror = on_error;\n      element.rel = \"stylesheet\";\n      element.type = \"text/css\";\n      element.href = url;\n      console.debug(\"Bokeh: injecting link tag for BokehJS stylesheet: \", url);\n      document.body.appendChild(element);\n    }\n\n    for (var i = 0; i < js_urls.length; i++) {\n      var url = js_urls[i];\n      var element = document.createElement('script');\n      element.onload = on_load;\n      element.onerror = on_error;\n      element.async = false;\n      element.src = url;\n      console.debug(\"Bokeh: injecting script tag for BokehJS library: \", url);\n      document.head.appendChild(element);\n    }\n  };var element = document.getElementById(\"1002\");\n  if (element == null) {\n    console.error(\"Bokeh: ERROR: autoload.js configured with elementid '1002' but no matching script tag was found. \")\n    return false;\n  }\n\n  function inject_raw_css(css) {\n    const element = document.createElement(\"style\");\n    element.appendChild(document.createTextNode(css));\n    document.body.appendChild(element);\n  }\n\n  var js_urls = [\"https://cdn.pydata.org/bokeh/release/bokeh-1.3.4.min.js\", \"https://cdn.pydata.org/bokeh/release/bokeh-widgets-1.3.4.min.js\", \"https://cdn.pydata.org/bokeh/release/bokeh-tables-1.3.4.min.js\", \"https://cdn.pydata.org/bokeh/release/bokeh-gl-1.3.4.min.js\"];\n  var css_urls = [];\n\n  var inline_js = [\n    function(Bokeh) {\n      Bokeh.set_log_level(\"info\");\n    },\n    \n    function(Bokeh) {\n      \n    },\n    function(Bokeh) {} // ensure no trailing comma for IE\n  ];\n\n  function run_inline_js() {\n    \n    if ((root.Bokeh !== undefined) || (force === true)) {\n      for (var i = 0; i < inline_js.length; i++) {\n        inline_js[i].call(root, root.Bokeh);\n      }if (force === true) {\n        display_loaded();\n      }} else if (Date.now() < root._bokeh_timeout) {\n      setTimeout(run_inline_js, 100);\n    } else if (!root._bokeh_failed_load) {\n      console.log(\"Bokeh: BokehJS failed to load within specified timeout.\");\n      root._bokeh_failed_load = true;\n    } else if (force !== true) {\n      var cell = $(document.getElementById(\"1002\")).parents('.cell').data().cell;\n      cell.output_area.append_execute_result(NB_LOAD_WARNING)\n    }\n\n  }\n\n  if (root._bokeh_is_loading === 0) {\n    console.debug(\"Bokeh: BokehJS loaded, going straight to plotting\");\n    run_inline_js();\n  } else {\n    load_libs(css_urls, js_urls, function() {\n      console.debug(\"Bokeh: BokehJS plotting callback run at\", now());\n      run_inline_js();\n    });\n  }\n}(window));"
     },
     "metadata": {},
     "output_type": "display_data"
    }
   ],
   "source": [
    "from bokeh.io import output_notebook, show\n",
    "from bokeh.plotting import figure\n",
    "output_notebook()"
   ]
  },
  {
   "cell_type": "markdown",
   "metadata": {},
   "source": [
    "Now that we know from the previous chapter how multiple plots can be placed together in a layout, we can start to look at how different plots can be linked togeher, or how plots can be linked to widgets. "
   ]
  },
  {
   "cell_type": "markdown",
   "metadata": {},
   "source": [
    "# Linked Interactions\n",
    "\n",
    "It is possible to link various interactions between different Bokeh plots. For instance, the ranges of two (or more) plots can be linked, so that when one of the plots is panned (or zoomed, or otherwise has its range changed) the other plots will update in unison. It is also possible to link selections between two plots, so that when items are selected on one plot, the corresponding items on the second plot also become selected. "
   ]
  },
  {
   "cell_type": "markdown",
   "metadata": {},
   "source": [
    "## Linked panning\n",
    "\n",
    "Linked panning (when multiple plots have ranges that stay in sync) is simple to spell with Bokeh. You simply share the appropriate range objects between two (or more) plots. The example below shows how to accomplish this by linking the ranges of three plots in various ways:"
   ]
  },
  {
   "cell_type": "code",
   "execution_count": 3,
   "metadata": {},
   "outputs": [
    {
     "data": {
      "text/html": [
       "\n",
       "\n",
       "\n",
       "\n",
       "\n",
       "\n",
       "  <div class=\"bk-root\" id=\"1fac413e-27b2-486f-b5b2-1926cf2910f0\" data-root-id=\"1117\"></div>\n"
      ]
     },
     "metadata": {},
     "output_type": "display_data"
    },
    {
     "data": {
      "application/javascript": [
       "(function(root) {\n",
       "  function embed_document(root) {\n",
       "    \n",
       "  var docs_json = {\"ddc95611-a002-4728-bac0-431ee8480c87\":{\"roots\":{\"references\":[{\"attributes\":{\"children\":[{\"id\":\"1116\",\"type\":\"ToolbarBox\"},{\"id\":\"1114\",\"type\":\"GridBox\"}]},\"id\":\"1117\",\"type\":\"Column\"},{\"attributes\":{\"source\":{\"id\":\"1027\",\"type\":\"ColumnDataSource\"}},\"id\":\"1031\",\"type\":\"CDSView\"},{\"attributes\":{\"fill_alpha\":{\"value\":0.1},\"fill_color\":{\"value\":\"#1f77b4\"},\"line_alpha\":{\"value\":0.1},\"line_color\":{\"value\":\"#1f77b4\"},\"size\":{\"units\":\"screen\",\"value\":10},\"x\":{\"field\":\"x\"},\"y\":{\"field\":\"y\"}},\"id\":\"1084\",\"type\":\"Square\"},{\"attributes\":{\"fill_alpha\":{\"value\":0.1},\"fill_color\":{\"value\":\"#1f77b4\"},\"line_alpha\":{\"value\":0.1},\"line_color\":{\"value\":\"#1f77b4\"},\"size\":{\"units\":\"screen\",\"value\":10},\"x\":{\"field\":\"x\"},\"y\":{\"field\":\"y\"}},\"id\":\"1056\",\"type\":\"Triangle\"},{\"attributes\":{},\"id\":\"1112\",\"type\":\"UnionRenderers\"},{\"attributes\":{\"data_source\":{\"id\":\"1027\",\"type\":\"ColumnDataSource\"},\"glyph\":{\"id\":\"1028\",\"type\":\"Circle\"},\"hover_glyph\":null,\"muted_glyph\":null,\"nonselection_glyph\":{\"id\":\"1029\",\"type\":\"Circle\"},\"selection_glyph\":null,\"view\":{\"id\":\"1031\",\"type\":\"CDSView\"}},\"id\":\"1030\",\"type\":\"GlyphRenderer\"},{\"attributes\":{\"data_source\":{\"id\":\"1082\",\"type\":\"ColumnDataSource\"},\"glyph\":{\"id\":\"1083\",\"type\":\"Square\"},\"hover_glyph\":null,\"muted_glyph\":null,\"nonselection_glyph\":{\"id\":\"1084\",\"type\":\"Square\"},\"selection_glyph\":null,\"view\":{\"id\":\"1086\",\"type\":\"CDSView\"}},\"id\":\"1085\",\"type\":\"GlyphRenderer\"},{\"attributes\":{\"tools\":[{\"id\":\"1022\",\"type\":\"PanTool\"},{\"id\":\"1023\",\"type\":\"WheelZoomTool\"},{\"id\":\"1049\",\"type\":\"PanTool\"},{\"id\":\"1050\",\"type\":\"WheelZoomTool\"},{\"id\":\"1077\",\"type\":\"PanTool\"},{\"id\":\"1078\",\"type\":\"WheelZoomTool\"}]},\"id\":\"1115\",\"type\":\"ProxyToolbar\"},{\"attributes\":{\"data_source\":{\"id\":\"1054\",\"type\":\"ColumnDataSource\"},\"glyph\":{\"id\":\"1055\",\"type\":\"Triangle\"},\"hover_glyph\":null,\"muted_glyph\":null,\"nonselection_glyph\":{\"id\":\"1056\",\"type\":\"Triangle\"},\"selection_glyph\":null,\"view\":{\"id\":\"1058\",\"type\":\"CDSView\"}},\"id\":\"1057\",\"type\":\"GlyphRenderer\"},{\"attributes\":{\"fill_color\":{\"value\":\"navy\"},\"line_color\":{\"value\":\"navy\"},\"size\":{\"units\":\"screen\",\"value\":10},\"x\":{\"field\":\"x\"},\"y\":{\"field\":\"y\"}},\"id\":\"1028\",\"type\":\"Circle\"},{\"attributes\":{\"source\":{\"id\":\"1082\",\"type\":\"ColumnDataSource\"}},\"id\":\"1086\",\"type\":\"CDSView\"},{\"attributes\":{\"toolbar\":{\"id\":\"1115\",\"type\":\"ProxyToolbar\"},\"toolbar_location\":\"above\"},\"id\":\"1116\",\"type\":\"ToolbarBox\"},{\"attributes\":{\"below\":[{\"id\":\"1012\",\"type\":\"LinearAxis\"}],\"center\":[{\"id\":\"1016\",\"type\":\"Grid\"},{\"id\":\"1021\",\"type\":\"Grid\"}],\"left\":[{\"id\":\"1017\",\"type\":\"LinearAxis\"}],\"plot_height\":250,\"plot_width\":250,\"renderers\":[{\"id\":\"1030\",\"type\":\"GlyphRenderer\"}],\"title\":{\"id\":\"1088\",\"type\":\"Title\"},\"toolbar\":{\"id\":\"1024\",\"type\":\"Toolbar\"},\"toolbar_location\":null,\"x_range\":{\"id\":\"1004\",\"type\":\"DataRange1d\"},\"x_scale\":{\"id\":\"1008\",\"type\":\"LinearScale\"},\"y_range\":{\"id\":\"1006\",\"type\":\"DataRange1d\"},\"y_scale\":{\"id\":\"1010\",\"type\":\"LinearScale\"}},\"id\":\"1003\",\"subtype\":\"Figure\",\"type\":\"Plot\"},{\"attributes\":{\"source\":{\"id\":\"1054\",\"type\":\"ColumnDataSource\"}},\"id\":\"1058\",\"type\":\"CDSView\"},{\"attributes\":{\"fill_alpha\":{\"value\":0.1},\"fill_color\":{\"value\":\"#1f77b4\"},\"line_alpha\":{\"value\":0.1},\"line_color\":{\"value\":\"#1f77b4\"},\"size\":{\"units\":\"screen\",\"value\":10},\"x\":{\"field\":\"x\"},\"y\":{\"field\":\"y\"}},\"id\":\"1029\",\"type\":\"Circle\"},{\"attributes\":{\"callback\":null,\"data\":{\"x\":[0,1,2,3,4,5,6,7,8,9,10],\"y\":[5,4,3,2,1,0,1,2,3,4,5]},\"selected\":{\"id\":\"1111\",\"type\":\"Selection\"},\"selection_policy\":{\"id\":\"1112\",\"type\":\"UnionRenderers\"}},\"id\":\"1082\",\"type\":\"ColumnDataSource\"},{\"attributes\":{\"text\":\"\"},\"id\":\"1088\",\"type\":\"Title\"},{\"attributes\":{\"callback\":null,\"data\":{\"x\":[0,1,2,3,4,5,6,7,8,9,10],\"y\":[10,9,8,7,6,5,4,3,2,1,0]},\"selected\":{\"id\":\"1102\",\"type\":\"Selection\"},\"selection_policy\":{\"id\":\"1103\",\"type\":\"UnionRenderers\"}},\"id\":\"1054\",\"type\":\"ColumnDataSource\"},{\"attributes\":{\"callback\":null},\"id\":\"1004\",\"type\":\"DataRange1d\"},{\"attributes\":{\"callback\":null},\"id\":\"1061\",\"type\":\"DataRange1d\"},{\"attributes\":{\"callback\":null},\"id\":\"1006\",\"type\":\"DataRange1d\"},{\"attributes\":{},\"id\":\"1035\",\"type\":\"LinearScale\"},{\"attributes\":{},\"id\":\"1090\",\"type\":\"BasicTickFormatter\"},{\"attributes\":{},\"id\":\"1063\",\"type\":\"LinearScale\"},{\"attributes\":{\"callback\":null,\"data\":{\"x\":[0,1,2,3,4,5,6,7,8,9,10],\"y\":[0,1,2,3,4,5,6,7,8,9,10]},\"selected\":{\"id\":\"1093\",\"type\":\"Selection\"},\"selection_policy\":{\"id\":\"1094\",\"type\":\"UnionRenderers\"}},\"id\":\"1027\",\"type\":\"ColumnDataSource\"},{\"attributes\":{},\"id\":\"1037\",\"type\":\"LinearScale\"},{\"attributes\":{},\"id\":\"1092\",\"type\":\"BasicTickFormatter\"},{\"attributes\":{},\"id\":\"1008\",\"type\":\"LinearScale\"},{\"attributes\":{},\"id\":\"1065\",\"type\":\"LinearScale\"},{\"attributes\":{\"formatter\":{\"id\":\"1099\",\"type\":\"BasicTickFormatter\"},\"ticker\":{\"id\":\"1040\",\"type\":\"BasicTicker\"}},\"id\":\"1039\",\"type\":\"LinearAxis\"},{\"attributes\":{},\"id\":\"1093\",\"type\":\"Selection\"},{\"attributes\":{},\"id\":\"1010\",\"type\":\"LinearScale\"},{\"attributes\":{\"formatter\":{\"id\":\"1108\",\"type\":\"BasicTickFormatter\"},\"ticker\":{\"id\":\"1068\",\"type\":\"BasicTicker\"}},\"id\":\"1067\",\"type\":\"LinearAxis\"},{\"attributes\":{},\"id\":\"1040\",\"type\":\"BasicTicker\"},{\"attributes\":{},\"id\":\"1094\",\"type\":\"UnionRenderers\"},{\"attributes\":{\"formatter\":{\"id\":\"1090\",\"type\":\"BasicTickFormatter\"},\"ticker\":{\"id\":\"1013\",\"type\":\"BasicTicker\"}},\"id\":\"1012\",\"type\":\"LinearAxis\"},{\"attributes\":{},\"id\":\"1068\",\"type\":\"BasicTicker\"},{\"attributes\":{\"ticker\":{\"id\":\"1040\",\"type\":\"BasicTicker\"}},\"id\":\"1043\",\"type\":\"Grid\"},{\"attributes\":{\"text\":\"\"},\"id\":\"1097\",\"type\":\"Title\"},{\"attributes\":{\"ticker\":{\"id\":\"1068\",\"type\":\"BasicTicker\"}},\"id\":\"1071\",\"type\":\"Grid\"},{\"attributes\":{},\"id\":\"1013\",\"type\":\"BasicTicker\"},{\"attributes\":{\"formatter\":{\"id\":\"1101\",\"type\":\"BasicTickFormatter\"},\"ticker\":{\"id\":\"1045\",\"type\":\"BasicTicker\"}},\"id\":\"1044\",\"type\":\"LinearAxis\"},{\"attributes\":{},\"id\":\"1099\",\"type\":\"BasicTickFormatter\"},{\"attributes\":{\"ticker\":{\"id\":\"1013\",\"type\":\"BasicTicker\"}},\"id\":\"1016\",\"type\":\"Grid\"},{\"attributes\":{\"formatter\":{\"id\":\"1110\",\"type\":\"BasicTickFormatter\"},\"ticker\":{\"id\":\"1073\",\"type\":\"BasicTicker\"}},\"id\":\"1072\",\"type\":\"LinearAxis\"},{\"attributes\":{},\"id\":\"1045\",\"type\":\"BasicTicker\"},{\"attributes\":{},\"id\":\"1101\",\"type\":\"BasicTickFormatter\"},{\"attributes\":{\"formatter\":{\"id\":\"1092\",\"type\":\"BasicTickFormatter\"},\"ticker\":{\"id\":\"1018\",\"type\":\"BasicTicker\"}},\"id\":\"1017\",\"type\":\"LinearAxis\"},{\"attributes\":{},\"id\":\"1073\",\"type\":\"BasicTicker\"},{\"attributes\":{\"dimension\":1,\"ticker\":{\"id\":\"1045\",\"type\":\"BasicTicker\"}},\"id\":\"1048\",\"type\":\"Grid\"},{\"attributes\":{},\"id\":\"1102\",\"type\":\"Selection\"},{\"attributes\":{\"dimension\":1,\"ticker\":{\"id\":\"1073\",\"type\":\"BasicTicker\"}},\"id\":\"1076\",\"type\":\"Grid\"},{\"attributes\":{},\"id\":\"1018\",\"type\":\"BasicTicker\"},{\"attributes\":{},\"id\":\"1103\",\"type\":\"UnionRenderers\"},{\"attributes\":{\"dimension\":1,\"ticker\":{\"id\":\"1018\",\"type\":\"BasicTicker\"}},\"id\":\"1021\",\"type\":\"Grid\"},{\"attributes\":{\"active_drag\":\"auto\",\"active_inspect\":\"auto\",\"active_multi\":null,\"active_scroll\":\"auto\",\"active_tap\":\"auto\",\"tools\":[{\"id\":\"1049\",\"type\":\"PanTool\"},{\"id\":\"1050\",\"type\":\"WheelZoomTool\"}]},\"id\":\"1051\",\"type\":\"Toolbar\"},{\"attributes\":{\"active_drag\":\"auto\",\"active_inspect\":\"auto\",\"active_multi\":null,\"active_scroll\":\"auto\",\"active_tap\":\"auto\",\"tools\":[{\"id\":\"1077\",\"type\":\"PanTool\"},{\"id\":\"1078\",\"type\":\"WheelZoomTool\"}]},\"id\":\"1079\",\"type\":\"Toolbar\"},{\"attributes\":{},\"id\":\"1049\",\"type\":\"PanTool\"},{\"attributes\":{\"text\":\"\"},\"id\":\"1106\",\"type\":\"Title\"},{\"attributes\":{},\"id\":\"1023\",\"type\":\"WheelZoomTool\"},{\"attributes\":{},\"id\":\"1077\",\"type\":\"PanTool\"},{\"attributes\":{\"active_drag\":\"auto\",\"active_inspect\":\"auto\",\"active_multi\":null,\"active_scroll\":\"auto\",\"active_tap\":\"auto\",\"tools\":[{\"id\":\"1022\",\"type\":\"PanTool\"},{\"id\":\"1023\",\"type\":\"WheelZoomTool\"}]},\"id\":\"1024\",\"type\":\"Toolbar\"},{\"attributes\":{},\"id\":\"1050\",\"type\":\"WheelZoomTool\"},{\"attributes\":{},\"id\":\"1108\",\"type\":\"BasicTickFormatter\"},{\"attributes\":{},\"id\":\"1022\",\"type\":\"PanTool\"},{\"attributes\":{},\"id\":\"1078\",\"type\":\"WheelZoomTool\"},{\"attributes\":{},\"id\":\"1111\",\"type\":\"Selection\"},{\"attributes\":{},\"id\":\"1110\",\"type\":\"BasicTickFormatter\"},{\"attributes\":{\"below\":[{\"id\":\"1067\",\"type\":\"LinearAxis\"}],\"center\":[{\"id\":\"1071\",\"type\":\"Grid\"},{\"id\":\"1076\",\"type\":\"Grid\"}],\"left\":[{\"id\":\"1072\",\"type\":\"LinearAxis\"}],\"plot_height\":250,\"plot_width\":250,\"renderers\":[{\"id\":\"1085\",\"type\":\"GlyphRenderer\"}],\"title\":{\"id\":\"1106\",\"type\":\"Title\"},\"toolbar\":{\"id\":\"1079\",\"type\":\"Toolbar\"},\"toolbar_location\":null,\"x_range\":{\"id\":\"1004\",\"type\":\"DataRange1d\"},\"x_scale\":{\"id\":\"1063\",\"type\":\"LinearScale\"},\"y_range\":{\"id\":\"1061\",\"type\":\"DataRange1d\"},\"y_scale\":{\"id\":\"1065\",\"type\":\"LinearScale\"}},\"id\":\"1059\",\"subtype\":\"Figure\",\"type\":\"Plot\"},{\"attributes\":{\"children\":[[{\"id\":\"1003\",\"subtype\":\"Figure\",\"type\":\"Plot\"},0,0],[{\"id\":\"1032\",\"subtype\":\"Figure\",\"type\":\"Plot\"},0,1],[{\"id\":\"1059\",\"subtype\":\"Figure\",\"type\":\"Plot\"},0,2]]},\"id\":\"1114\",\"type\":\"GridBox\"},{\"attributes\":{\"fill_color\":{\"value\":\"firebrick\"},\"line_color\":{\"value\":\"firebrick\"},\"size\":{\"units\":\"screen\",\"value\":10},\"x\":{\"field\":\"x\"},\"y\":{\"field\":\"y\"}},\"id\":\"1055\",\"type\":\"Triangle\"},{\"attributes\":{\"fill_color\":{\"value\":\"olive\"},\"line_color\":{\"value\":\"olive\"},\"size\":{\"units\":\"screen\",\"value\":10},\"x\":{\"field\":\"x\"},\"y\":{\"field\":\"y\"}},\"id\":\"1083\",\"type\":\"Square\"},{\"attributes\":{\"below\":[{\"id\":\"1039\",\"type\":\"LinearAxis\"}],\"center\":[{\"id\":\"1043\",\"type\":\"Grid\"},{\"id\":\"1048\",\"type\":\"Grid\"}],\"left\":[{\"id\":\"1044\",\"type\":\"LinearAxis\"}],\"plot_height\":250,\"plot_width\":250,\"renderers\":[{\"id\":\"1057\",\"type\":\"GlyphRenderer\"}],\"title\":{\"id\":\"1097\",\"type\":\"Title\"},\"toolbar\":{\"id\":\"1051\",\"type\":\"Toolbar\"},\"toolbar_location\":null,\"x_range\":{\"id\":\"1004\",\"type\":\"DataRange1d\"},\"x_scale\":{\"id\":\"1035\",\"type\":\"LinearScale\"},\"y_range\":{\"id\":\"1006\",\"type\":\"DataRange1d\"},\"y_scale\":{\"id\":\"1037\",\"type\":\"LinearScale\"}},\"id\":\"1032\",\"subtype\":\"Figure\",\"type\":\"Plot\"}],\"root_ids\":[\"1117\"]},\"title\":\"Bokeh Application\",\"version\":\"1.3.4\"}};\n",
       "  var render_items = [{\"docid\":\"ddc95611-a002-4728-bac0-431ee8480c87\",\"roots\":{\"1117\":\"1fac413e-27b2-486f-b5b2-1926cf2910f0\"}}];\n",
       "  root.Bokeh.embed.embed_items_notebook(docs_json, render_items);\n",
       "\n",
       "  }\n",
       "  if (root.Bokeh !== undefined) {\n",
       "    embed_document(root);\n",
       "  } else {\n",
       "    var attempts = 0;\n",
       "    var timer = setInterval(function(root) {\n",
       "      if (root.Bokeh !== undefined) {\n",
       "        embed_document(root);\n",
       "        clearInterval(timer);\n",
       "      }\n",
       "      attempts++;\n",
       "      if (attempts > 100) {\n",
       "        console.log(\"Bokeh: ERROR: Unable to run BokehJS code because BokehJS library is missing\");\n",
       "        clearInterval(timer);\n",
       "      }\n",
       "    }, 10, root)\n",
       "  }\n",
       "})(window);"
      ],
      "application/vnd.bokehjs_exec.v0+json": ""
     },
     "metadata": {
      "application/vnd.bokehjs_exec.v0+json": {
       "id": "1117"
      }
     },
     "output_type": "display_data"
    }
   ],
   "source": [
    "from bokeh.layouts import gridplot\n",
    "\n",
    "x = list(range(11))\n",
    "y0, y1, y2 = x, [10-i for i in x], [abs(i-5) for i in x]\n",
    "\n",
    "plot_options = dict(width=250, plot_height=250, tools='pan,wheel_zoom')\n",
    "\n",
    "# create a new plot\n",
    "s1 = figure(**plot_options)\n",
    "s1.circle(x, y0, size=10, color=\"navy\")\n",
    "\n",
    "# create a new plot and share both ranges\n",
    "s2 = figure(x_range=s1.x_range, y_range=s1.y_range, **plot_options)\n",
    "s2.triangle(x, y1, size=10, color=\"firebrick\")\n",
    "\n",
    "# create a new plot and share only one range\n",
    "s3 = figure(x_range=s1.x_range, **plot_options)\n",
    "s3.square(x, y2, size=10, color=\"olive\")\n",
    "\n",
    "p = gridplot([[s1, s2, s3]])\n",
    "\n",
    "# show the results\n",
    "show(p)"
   ]
  },
  {
   "cell_type": "code",
   "execution_count": 3,
   "metadata": {},
   "outputs": [],
   "source": [
    "# EXERCISE: create two plots in a gridplot, and link their ranges\n"
   ]
  },
  {
   "cell_type": "markdown",
   "metadata": {},
   "source": [
    "## Linked brushing\n",
    "\n",
    "Linking selections is accomplished in a similar way, by sharing data sources between plots. Note that normally with ``bokeh.plotting`` and ``bokeh.charts`` creating a default data source for simple plots is handled automatically. However to share a data source, we must create them by hand and pass them explicitly. This is illustrated in the example below:"
   ]
  },
  {
   "cell_type": "code",
   "execution_count": 4,
   "metadata": {},
   "outputs": [
    {
     "data": {
      "text/html": [
       "\n",
       "\n",
       "\n",
       "\n",
       "\n",
       "\n",
       "  <div class=\"bk-root\" id=\"8829e05a-f618-4c0b-b9ba-b3595a45ea55\" data-root-id=\"1374\"></div>\n"
      ]
     },
     "metadata": {},
     "output_type": "display_data"
    },
    {
     "data": {
      "application/javascript": [
       "(function(root) {\n",
       "  function embed_document(root) {\n",
       "    \n",
       "  var docs_json = {\"0fb1ecb8-470c-473a-950d-91bad36740b8\":{\"roots\":{\"references\":[{\"attributes\":{\"children\":[{\"id\":\"1373\",\"type\":\"ToolbarBox\"},{\"id\":\"1371\",\"type\":\"GridBox\"}]},\"id\":\"1374\",\"type\":\"Column\"},{\"attributes\":{\"fill_alpha\":{\"value\":0.5},\"fill_color\":{\"value\":\"lightgrey\"},\"level\":\"overlay\",\"line_alpha\":{\"value\":1.0},\"line_color\":{\"value\":\"black\"},\"line_dash\":[4,4],\"line_width\":{\"value\":2},\"xs_units\":\"screen\",\"ys_units\":\"screen\"},\"id\":\"1367\",\"type\":\"PolyAnnotation\"},{\"attributes\":{\"callback\":null},\"id\":\"1290\",\"type\":\"DataRange1d\"},{\"attributes\":{\"fill_alpha\":{\"value\":0.1},\"fill_color\":{\"value\":\"#1f77b4\"},\"line_alpha\":{\"value\":0.1},\"line_color\":{\"value\":\"#1f77b4\"},\"x\":{\"field\":\"x\"},\"y\":{\"field\":\"y1\"}},\"id\":\"1346\",\"type\":\"Circle\"},{\"attributes\":{\"ticker\":{\"id\":\"1297\",\"type\":\"BasicTicker\"}},\"id\":\"1300\",\"type\":\"Grid\"},{\"attributes\":{\"callback\":null,\"overlay\":{\"id\":\"1366\",\"type\":\"BoxAnnotation\"}},\"id\":\"1337\",\"type\":\"BoxSelectTool\"},{\"attributes\":{\"tools\":[{\"id\":\"1306\",\"type\":\"BoxSelectTool\"},{\"id\":\"1307\",\"type\":\"LassoSelectTool\"},{\"id\":\"1308\",\"type\":\"HelpTool\"},{\"id\":\"1337\",\"type\":\"BoxSelectTool\"},{\"id\":\"1338\",\"type\":\"LassoSelectTool\"},{\"id\":\"1339\",\"type\":\"HelpTool\"}]},\"id\":\"1372\",\"type\":\"ProxyToolbar\"},{\"attributes\":{\"active_drag\":\"auto\",\"active_inspect\":\"auto\",\"active_multi\":null,\"active_scroll\":\"auto\",\"active_tap\":\"auto\",\"tools\":[{\"id\":\"1337\",\"type\":\"BoxSelectTool\"},{\"id\":\"1338\",\"type\":\"LassoSelectTool\"},{\"id\":\"1339\",\"type\":\"HelpTool\"}]},\"id\":\"1340\",\"type\":\"Toolbar\"},{\"attributes\":{\"active_drag\":\"auto\",\"active_inspect\":\"auto\",\"active_multi\":null,\"active_scroll\":\"auto\",\"active_tap\":\"auto\",\"tools\":[{\"id\":\"1306\",\"type\":\"BoxSelectTool\"},{\"id\":\"1307\",\"type\":\"LassoSelectTool\"},{\"id\":\"1308\",\"type\":\"HelpTool\"}]},\"id\":\"1309\",\"type\":\"Toolbar\"},{\"attributes\":{\"below\":[{\"id\":\"1296\",\"type\":\"LinearAxis\"}],\"center\":[{\"id\":\"1300\",\"type\":\"Grid\"},{\"id\":\"1305\",\"type\":\"Grid\"}],\"left\":[{\"id\":\"1301\",\"type\":\"LinearAxis\"}],\"plot_height\":300,\"plot_width\":300,\"renderers\":[{\"id\":\"1316\",\"type\":\"GlyphRenderer\"}],\"title\":{\"id\":\"1350\",\"type\":\"Title\"},\"toolbar\":{\"id\":\"1309\",\"type\":\"Toolbar\"},\"toolbar_location\":null,\"x_range\":{\"id\":\"1288\",\"type\":\"DataRange1d\"},\"x_scale\":{\"id\":\"1292\",\"type\":\"LinearScale\"},\"y_range\":{\"id\":\"1290\",\"type\":\"DataRange1d\"},\"y_scale\":{\"id\":\"1294\",\"type\":\"LinearScale\"}},\"id\":\"1287\",\"subtype\":\"Figure\",\"type\":\"Plot\"},{\"attributes\":{\"toolbar\":{\"id\":\"1372\",\"type\":\"ProxyToolbar\"},\"toolbar_location\":\"above\"},\"id\":\"1373\",\"type\":\"ToolbarBox\"},{\"attributes\":{\"callback\":null,\"overlay\":{\"id\":\"1367\",\"type\":\"PolyAnnotation\"}},\"id\":\"1338\",\"type\":\"LassoSelectTool\"},{\"attributes\":{\"data_source\":{\"id\":\"1286\",\"type\":\"ColumnDataSource\"},\"glyph\":{\"id\":\"1314\",\"type\":\"Circle\"},\"hover_glyph\":null,\"muted_glyph\":null,\"nonselection_glyph\":{\"id\":\"1315\",\"type\":\"Circle\"},\"selection_glyph\":null,\"view\":{\"id\":\"1317\",\"type\":\"CDSView\"}},\"id\":\"1316\",\"type\":\"GlyphRenderer\"},{\"attributes\":{\"callback\":null,\"overlay\":{\"id\":\"1355\",\"type\":\"BoxAnnotation\"}},\"id\":\"1306\",\"type\":\"BoxSelectTool\"},{\"attributes\":{},\"id\":\"1339\",\"type\":\"HelpTool\"},{\"attributes\":{\"children\":[[{\"id\":\"1287\",\"subtype\":\"Figure\",\"type\":\"Plot\"},0,0],[{\"id\":\"1318\",\"subtype\":\"Figure\",\"type\":\"Plot\"},0,1]]},\"id\":\"1371\",\"type\":\"GridBox\"},{\"attributes\":{\"callback\":null},\"id\":\"1288\",\"type\":\"DataRange1d\"},{\"attributes\":{\"dimension\":1,\"ticker\":{\"id\":\"1333\",\"type\":\"BasicTicker\"}},\"id\":\"1336\",\"type\":\"Grid\"},{\"attributes\":{\"fill_color\":{\"value\":\"#1f77b4\"},\"line_color\":{\"value\":\"#1f77b4\"},\"x\":{\"field\":\"x\"},\"y\":{\"field\":\"y0\"}},\"id\":\"1314\",\"type\":\"Circle\"},{\"attributes\":{\"data_source\":{\"id\":\"1286\",\"type\":\"ColumnDataSource\"},\"glyph\":{\"id\":\"1345\",\"type\":\"Circle\"},\"hover_glyph\":null,\"muted_glyph\":null,\"nonselection_glyph\":{\"id\":\"1346\",\"type\":\"Circle\"},\"selection_glyph\":null,\"view\":{\"id\":\"1348\",\"type\":\"CDSView\"}},\"id\":\"1347\",\"type\":\"GlyphRenderer\"},{\"attributes\":{},\"id\":\"1308\",\"type\":\"HelpTool\"},{\"attributes\":{\"source\":{\"id\":\"1286\",\"type\":\"ColumnDataSource\"}},\"id\":\"1348\",\"type\":\"CDSView\"},{\"attributes\":{\"below\":[{\"id\":\"1327\",\"type\":\"LinearAxis\"}],\"center\":[{\"id\":\"1331\",\"type\":\"Grid\"},{\"id\":\"1336\",\"type\":\"Grid\"}],\"left\":[{\"id\":\"1332\",\"type\":\"LinearAxis\"}],\"plot_height\":300,\"plot_width\":300,\"renderers\":[{\"id\":\"1347\",\"type\":\"GlyphRenderer\"}],\"title\":{\"id\":\"1361\",\"type\":\"Title\"},\"toolbar\":{\"id\":\"1340\",\"type\":\"Toolbar\"},\"toolbar_location\":null,\"x_range\":{\"id\":\"1319\",\"type\":\"DataRange1d\"},\"x_scale\":{\"id\":\"1323\",\"type\":\"LinearScale\"},\"y_range\":{\"id\":\"1321\",\"type\":\"DataRange1d\"},\"y_scale\":{\"id\":\"1325\",\"type\":\"LinearScale\"}},\"id\":\"1318\",\"subtype\":\"Figure\",\"type\":\"Plot\"},{\"attributes\":{},\"id\":\"1328\",\"type\":\"BasicTicker\"},{\"attributes\":{\"text\":\"\"},\"id\":\"1350\",\"type\":\"Title\"},{\"attributes\":{\"fill_color\":{\"value\":\"#1f77b4\"},\"line_color\":{\"value\":\"#1f77b4\"},\"x\":{\"field\":\"x\"},\"y\":{\"field\":\"y1\"}},\"id\":\"1345\",\"type\":\"Circle\"},{\"attributes\":{},\"id\":\"1352\",\"type\":\"BasicTickFormatter\"},{\"attributes\":{\"source\":{\"id\":\"1286\",\"type\":\"ColumnDataSource\"}},\"id\":\"1317\",\"type\":\"CDSView\"},{\"attributes\":{\"formatter\":{\"id\":\"1352\",\"type\":\"BasicTickFormatter\"},\"ticker\":{\"id\":\"1297\",\"type\":\"BasicTicker\"}},\"id\":\"1296\",\"type\":\"LinearAxis\"},{\"attributes\":{},\"id\":\"1354\",\"type\":\"BasicTickFormatter\"},{\"attributes\":{\"callback\":null,\"data\":{\"x\":[-20,-19,-18,-17,-16,-15,-14,-13,-12,-11,-10,-9,-8,-7,-6,-5,-4,-3,-2,-1,0,1,2,3,4,5,6,7,8,9,10,11,12,13,14,15,16,17,18,19,20],\"y0\":[20,19,18,17,16,15,14,13,12,11,10,9,8,7,6,5,4,3,2,1,0,1,2,3,4,5,6,7,8,9,10,11,12,13,14,15,16,17,18,19,20],\"y1\":[400,361,324,289,256,225,196,169,144,121,100,81,64,49,36,25,16,9,4,1,0,1,4,9,16,25,36,49,64,81,100,121,144,169,196,225,256,289,324,361,400]},\"selected\":{\"id\":\"1357\",\"type\":\"Selection\"},\"selection_policy\":{\"id\":\"1358\",\"type\":\"UnionRenderers\"}},\"id\":\"1286\",\"type\":\"ColumnDataSource\"},{\"attributes\":{},\"id\":\"1292\",\"type\":\"LinearScale\"},{\"attributes\":{\"bottom_units\":\"screen\",\"fill_alpha\":{\"value\":0.5},\"fill_color\":{\"value\":\"lightgrey\"},\"left_units\":\"screen\",\"level\":\"overlay\",\"line_alpha\":{\"value\":1.0},\"line_color\":{\"value\":\"black\"},\"line_dash\":[4,4],\"line_width\":{\"value\":2},\"render_mode\":\"css\",\"right_units\":\"screen\",\"top_units\":\"screen\"},\"id\":\"1355\",\"type\":\"BoxAnnotation\"},{\"attributes\":{\"fill_alpha\":{\"value\":0.5},\"fill_color\":{\"value\":\"lightgrey\"},\"level\":\"overlay\",\"line_alpha\":{\"value\":1.0},\"line_color\":{\"value\":\"black\"},\"line_dash\":[4,4],\"line_width\":{\"value\":2},\"xs_units\":\"screen\",\"ys_units\":\"screen\"},\"id\":\"1356\",\"type\":\"PolyAnnotation\"},{\"attributes\":{},\"id\":\"1297\",\"type\":\"BasicTicker\"},{\"attributes\":{\"callback\":null},\"id\":\"1319\",\"type\":\"DataRange1d\"},{\"attributes\":{},\"id\":\"1302\",\"type\":\"BasicTicker\"},{\"attributes\":{\"callback\":null},\"id\":\"1321\",\"type\":\"DataRange1d\"},{\"attributes\":{},\"id\":\"1357\",\"type\":\"Selection\"},{\"attributes\":{},\"id\":\"1325\",\"type\":\"LinearScale\"},{\"attributes\":{},\"id\":\"1323\",\"type\":\"LinearScale\"},{\"attributes\":{\"dimension\":1,\"ticker\":{\"id\":\"1302\",\"type\":\"BasicTicker\"}},\"id\":\"1305\",\"type\":\"Grid\"},{\"attributes\":{},\"id\":\"1358\",\"type\":\"UnionRenderers\"},{\"attributes\":{\"text\":\"\"},\"id\":\"1361\",\"type\":\"Title\"},{\"attributes\":{},\"id\":\"1294\",\"type\":\"LinearScale\"},{\"attributes\":{\"formatter\":{\"id\":\"1363\",\"type\":\"BasicTickFormatter\"},\"ticker\":{\"id\":\"1328\",\"type\":\"BasicTicker\"}},\"id\":\"1327\",\"type\":\"LinearAxis\"},{\"attributes\":{\"fill_alpha\":{\"value\":0.1},\"fill_color\":{\"value\":\"#1f77b4\"},\"line_alpha\":{\"value\":0.1},\"line_color\":{\"value\":\"#1f77b4\"},\"x\":{\"field\":\"x\"},\"y\":{\"field\":\"y0\"}},\"id\":\"1315\",\"type\":\"Circle\"},{\"attributes\":{},\"id\":\"1363\",\"type\":\"BasicTickFormatter\"},{\"attributes\":{\"ticker\":{\"id\":\"1328\",\"type\":\"BasicTicker\"}},\"id\":\"1331\",\"type\":\"Grid\"},{\"attributes\":{\"bottom_units\":\"screen\",\"fill_alpha\":{\"value\":0.5},\"fill_color\":{\"value\":\"lightgrey\"},\"left_units\":\"screen\",\"level\":\"overlay\",\"line_alpha\":{\"value\":1.0},\"line_color\":{\"value\":\"black\"},\"line_dash\":[4,4],\"line_width\":{\"value\":2},\"render_mode\":\"css\",\"right_units\":\"screen\",\"top_units\":\"screen\"},\"id\":\"1366\",\"type\":\"BoxAnnotation\"},{\"attributes\":{\"callback\":null,\"overlay\":{\"id\":\"1356\",\"type\":\"PolyAnnotation\"}},\"id\":\"1307\",\"type\":\"LassoSelectTool\"},{\"attributes\":{},\"id\":\"1365\",\"type\":\"BasicTickFormatter\"},{\"attributes\":{\"formatter\":{\"id\":\"1365\",\"type\":\"BasicTickFormatter\"},\"ticker\":{\"id\":\"1333\",\"type\":\"BasicTicker\"}},\"id\":\"1332\",\"type\":\"LinearAxis\"},{\"attributes\":{\"formatter\":{\"id\":\"1354\",\"type\":\"BasicTickFormatter\"},\"ticker\":{\"id\":\"1302\",\"type\":\"BasicTicker\"}},\"id\":\"1301\",\"type\":\"LinearAxis\"},{\"attributes\":{},\"id\":\"1333\",\"type\":\"BasicTicker\"}],\"root_ids\":[\"1374\"]},\"title\":\"Bokeh Application\",\"version\":\"1.3.4\"}};\n",
       "  var render_items = [{\"docid\":\"0fb1ecb8-470c-473a-950d-91bad36740b8\",\"roots\":{\"1374\":\"8829e05a-f618-4c0b-b9ba-b3595a45ea55\"}}];\n",
       "  root.Bokeh.embed.embed_items_notebook(docs_json, render_items);\n",
       "\n",
       "  }\n",
       "  if (root.Bokeh !== undefined) {\n",
       "    embed_document(root);\n",
       "  } else {\n",
       "    var attempts = 0;\n",
       "    var timer = setInterval(function(root) {\n",
       "      if (root.Bokeh !== undefined) {\n",
       "        embed_document(root);\n",
       "        clearInterval(timer);\n",
       "      }\n",
       "      attempts++;\n",
       "      if (attempts > 100) {\n",
       "        console.log(\"Bokeh: ERROR: Unable to run BokehJS code because BokehJS library is missing\");\n",
       "        clearInterval(timer);\n",
       "      }\n",
       "    }, 10, root)\n",
       "  }\n",
       "})(window);"
      ],
      "application/vnd.bokehjs_exec.v0+json": ""
     },
     "metadata": {
      "application/vnd.bokehjs_exec.v0+json": {
       "id": "1374"
      }
     },
     "output_type": "display_data"
    }
   ],
   "source": [
    "from bokeh.models import ColumnDataSource\n",
    "\n",
    "x = list(range(-20, 21))\n",
    "y0, y1 = [abs(xx) for xx in x], [xx**2 for xx in x]\n",
    "\n",
    "# create a column data source for the plots to share\n",
    "source = ColumnDataSource(data=dict(x=x, y0=y0, y1=y1))\n",
    "\n",
    "TOOLS = \"box_select,lasso_select,help\"\n",
    "\n",
    "# create a new plot and add a renderer\n",
    "left = figure(tools=TOOLS, width=300, height=300)\n",
    "left.circle('x', 'y0', source=source)\n",
    "\n",
    "# create another new plot and add a renderer\n",
    "right = figure(tools=TOOLS, width=300, height=300)\n",
    "right.circle('x', 'y1', source=source)\n",
    "\n",
    "p = gridplot([[left, right]])\n",
    "\n",
    "show(p)"
   ]
  },
  {
   "cell_type": "code",
   "execution_count": 5,
   "metadata": {},
   "outputs": [],
   "source": [
    "# EXERCISE: create two plots in a gridplot, and link their data sources\n",
    "\n"
   ]
  },
  {
   "cell_type": "markdown",
   "metadata": {},
   "source": [
    "# Hover Tools\n",
    "\n",
    "Bokeh has a Hover Tool that allows additional information to be displayed in a popup whenever the user hovers over a specific glyph. Basic hover tool configuration amounts to providing a list of ``(name, format)`` tuples. The full details can be found in the User's Guide [here](http://bokeh.pydata.org/en/latest/docs/user_guide/tools.html#hovertool).\n",
    "\n",
    "The example below shows some basic usage of the Hover tool with a circle glyph, using hover information defined in utils.py:"
   ]
  },
  {
   "cell_type": "code",
   "execution_count": 5,
   "metadata": {},
   "outputs": [
    {
     "data": {
      "text/html": [
       "\n",
       "\n",
       "\n",
       "\n",
       "\n",
       "\n",
       "  <div class=\"bk-root\" id=\"d7aaa524-bb47-4606-881e-27adab273311\" data-root-id=\"1529\"></div>\n"
      ]
     },
     "metadata": {},
     "output_type": "display_data"
    },
    {
     "data": {
      "application/javascript": [
       "(function(root) {\n",
       "  function embed_document(root) {\n",
       "    \n",
       "  var docs_json = {\"84331baf-b864-47e3-8460-08ac585b515a\":{\"roots\":{\"references\":[{\"attributes\":{\"below\":[{\"id\":\"1540\",\"type\":\"LinearAxis\"}],\"center\":[{\"id\":\"1544\",\"type\":\"Grid\"},{\"id\":\"1549\",\"type\":\"Grid\"}],\"left\":[{\"id\":\"1545\",\"type\":\"LinearAxis\"}],\"plot_height\":300,\"plot_width\":300,\"renderers\":[{\"id\":\"1555\",\"type\":\"GlyphRenderer\"}],\"title\":{\"id\":\"1530\",\"type\":\"Title\"},\"toolbar\":{\"id\":\"1550\",\"type\":\"Toolbar\"},\"x_range\":{\"id\":\"1532\",\"type\":\"DataRange1d\"},\"x_scale\":{\"id\":\"1536\",\"type\":\"LinearScale\"},\"y_range\":{\"id\":\"1534\",\"type\":\"DataRange1d\"},\"y_scale\":{\"id\":\"1538\",\"type\":\"LinearScale\"}},\"id\":\"1529\",\"subtype\":\"Figure\",\"type\":\"Plot\"},{\"attributes\":{},\"id\":\"1604\",\"type\":\"Selection\"},{\"attributes\":{},\"id\":\"1605\",\"type\":\"UnionRenderers\"},{\"attributes\":{},\"id\":\"1603\",\"type\":\"BasicTickFormatter\"},{\"attributes\":{\"source\":{\"id\":\"1527\",\"type\":\"ColumnDataSource\"}},\"id\":\"1556\",\"type\":\"CDSView\"},{\"attributes\":{\"formatter\":{\"id\":\"1601\",\"type\":\"BasicTickFormatter\"},\"ticker\":{\"id\":\"1541\",\"type\":\"BasicTicker\"}},\"id\":\"1540\",\"type\":\"LinearAxis\"},{\"attributes\":{\"dimension\":1,\"ticker\":{\"id\":\"1546\",\"type\":\"BasicTicker\"}},\"id\":\"1549\",\"type\":\"Grid\"},{\"attributes\":{\"callback\":null},\"id\":\"1534\",\"type\":\"DataRange1d\"},{\"attributes\":{},\"id\":\"1541\",\"type\":\"BasicTicker\"},{\"attributes\":{},\"id\":\"1536\",\"type\":\"LinearScale\"},{\"attributes\":{\"ticker\":{\"id\":\"1541\",\"type\":\"BasicTicker\"}},\"id\":\"1544\",\"type\":\"Grid\"},{\"attributes\":{\"formatter\":{\"id\":\"1603\",\"type\":\"BasicTickFormatter\"},\"ticker\":{\"id\":\"1546\",\"type\":\"BasicTicker\"}},\"id\":\"1545\",\"type\":\"LinearAxis\"},{\"attributes\":{},\"id\":\"1538\",\"type\":\"LinearScale\"},{\"attributes\":{},\"id\":\"1601\",\"type\":\"BasicTickFormatter\"},{\"attributes\":{},\"id\":\"1546\",\"type\":\"BasicTicker\"},{\"attributes\":{\"active_drag\":\"auto\",\"active_inspect\":\"auto\",\"active_multi\":null,\"active_scroll\":\"auto\",\"active_tap\":\"auto\",\"tools\":[{\"id\":\"1528\",\"type\":\"HoverTool\"}]},\"id\":\"1550\",\"type\":\"Toolbar\"},{\"attributes\":{\"callback\":null,\"data\":{\"desc\":[\"A\",\"b\",\"C\",\"d\",\"E\"],\"x\":[1,2,3,4,5],\"y\":[2,5,8,2,7]},\"selected\":{\"id\":\"1604\",\"type\":\"Selection\"},\"selection_policy\":{\"id\":\"1605\",\"type\":\"UnionRenderers\"}},\"id\":\"1527\",\"type\":\"ColumnDataSource\"},{\"attributes\":{\"callback\":null,\"tooltips\":[[\"index\",\"$index\"],[\"(x,y)\",\"($x, $y)\"],[\"desc\",\"@desc\"]]},\"id\":\"1528\",\"type\":\"HoverTool\"},{\"attributes\":{\"callback\":null},\"id\":\"1532\",\"type\":\"DataRange1d\"},{\"attributes\":{\"data_source\":{\"id\":\"1527\",\"type\":\"ColumnDataSource\"},\"glyph\":{\"id\":\"1553\",\"type\":\"Circle\"},\"hover_glyph\":null,\"muted_glyph\":null,\"nonselection_glyph\":{\"id\":\"1554\",\"type\":\"Circle\"},\"selection_glyph\":null,\"view\":{\"id\":\"1556\",\"type\":\"CDSView\"}},\"id\":\"1555\",\"type\":\"GlyphRenderer\"},{\"attributes\":{\"text\":\"Mouse over the dots\"},\"id\":\"1530\",\"type\":\"Title\"},{\"attributes\":{\"fill_alpha\":{\"value\":0.1},\"fill_color\":{\"value\":\"#1f77b4\"},\"line_alpha\":{\"value\":0.1},\"line_color\":{\"value\":\"#1f77b4\"},\"size\":{\"units\":\"screen\",\"value\":20},\"x\":{\"field\":\"x\"},\"y\":{\"field\":\"y\"}},\"id\":\"1554\",\"type\":\"Circle\"},{\"attributes\":{\"fill_color\":{\"value\":\"#1f77b4\"},\"line_color\":{\"value\":\"#1f77b4\"},\"size\":{\"units\":\"screen\",\"value\":20},\"x\":{\"field\":\"x\"},\"y\":{\"field\":\"y\"}},\"id\":\"1553\",\"type\":\"Circle\"}],\"root_ids\":[\"1529\"]},\"title\":\"Bokeh Application\",\"version\":\"1.3.4\"}};\n",
       "  var render_items = [{\"docid\":\"84331baf-b864-47e3-8460-08ac585b515a\",\"roots\":{\"1529\":\"d7aaa524-bb47-4606-881e-27adab273311\"}}];\n",
       "  root.Bokeh.embed.embed_items_notebook(docs_json, render_items);\n",
       "\n",
       "  }\n",
       "  if (root.Bokeh !== undefined) {\n",
       "    embed_document(root);\n",
       "  } else {\n",
       "    var attempts = 0;\n",
       "    var timer = setInterval(function(root) {\n",
       "      if (root.Bokeh !== undefined) {\n",
       "        embed_document(root);\n",
       "        clearInterval(timer);\n",
       "      }\n",
       "      attempts++;\n",
       "      if (attempts > 100) {\n",
       "        console.log(\"Bokeh: ERROR: Unable to run BokehJS code because BokehJS library is missing\");\n",
       "        clearInterval(timer);\n",
       "      }\n",
       "    }, 10, root)\n",
       "  }\n",
       "})(window);"
      ],
      "application/vnd.bokehjs_exec.v0+json": ""
     },
     "metadata": {
      "application/vnd.bokehjs_exec.v0+json": {
       "id": "1529"
      }
     },
     "output_type": "display_data"
    }
   ],
   "source": [
    "from bokeh.models import HoverTool\n",
    "\n",
    "source = ColumnDataSource(\n",
    "        data=dict(\n",
    "            x=[1, 2, 3, 4, 5],\n",
    "            y=[2, 5, 8, 2, 7],\n",
    "            desc=['A', 'b', 'C', 'd', 'E'],\n",
    "        )\n",
    "    )\n",
    "\n",
    "hover = HoverTool(\n",
    "        tooltips=[\n",
    "            (\"index\", \"$index\"),\n",
    "            (\"(x,y)\", \"($x, $y)\"),\n",
    "            (\"desc\", \"@desc\"),\n",
    "        ]\n",
    "    )\n",
    "\n",
    "p = figure(plot_width=300, plot_height=300, tools=[hover], title=\"Mouse over the dots\")\n",
    "\n",
    "p.circle('x', 'y', size=20, source=source)\n",
    "\n",
    "show(p)"
   ]
  },
  {
   "cell_type": "markdown",
   "metadata": {},
   "source": [
    "# Widgets"
   ]
  },
  {
   "cell_type": "markdown",
   "metadata": {},
   "source": [
    "Bokeh supports direct integration with a small basic widget set. Thse can be used in conjunction with a Bokeh Server, or with ``CustomJS`` models to add more interactive capability to your documents. You can see a complete list, with example code in the [Adding Widgets](http://bokeh.pydata.org/en/latest/docs/user_guide/interaction.html#adding-widgets) section of the User's Guide. \n",
    "\n",
    "\n",
    "\n",
    "*NOTE: In this Tutorial chapter, we will focus on using widgets with JavaScript callbacks. The Tutorial chapter on Bokeh server applications covers using Bokeh widgets with real Python callbacks*\n",
    "\n",
    "\n",
    "\n",
    "\n",
    "To use the widgets, include them in a layout like you would a plot object:"
   ]
  },
  {
   "cell_type": "code",
   "execution_count": 6,
   "metadata": {},
   "outputs": [
    {
     "data": {
      "text/html": [
       "\n",
       "\n",
       "\n",
       "\n",
       "\n",
       "\n",
       "  <div class=\"bk-root\" id=\"9a3ebe1c-31f9-4404-8b84-c0c774797de3\" data-root-id=\"1649\"></div>\n"
      ]
     },
     "metadata": {},
     "output_type": "display_data"
    },
    {
     "data": {
      "application/javascript": [
       "(function(root) {\n",
       "  function embed_document(root) {\n",
       "    \n",
       "  var docs_json = {\"63e5a306-ecbc-4f07-9f02-e400c1c5b5bb\":{\"roots\":{\"references\":[{\"attributes\":{\"children\":[{\"id\":\"1648\",\"type\":\"Slider\"}]},\"id\":\"1649\",\"type\":\"WidgetBox\"},{\"attributes\":{\"callback\":null,\"end\":10,\"start\":0,\"step\":0.1,\"title\":\"foo\",\"value\":1},\"id\":\"1648\",\"type\":\"Slider\"}],\"root_ids\":[\"1649\"]},\"title\":\"Bokeh Application\",\"version\":\"1.3.4\"}};\n",
       "  var render_items = [{\"docid\":\"63e5a306-ecbc-4f07-9f02-e400c1c5b5bb\",\"roots\":{\"1649\":\"9a3ebe1c-31f9-4404-8b84-c0c774797de3\"}}];\n",
       "  root.Bokeh.embed.embed_items_notebook(docs_json, render_items);\n",
       "\n",
       "  }\n",
       "  if (root.Bokeh !== undefined) {\n",
       "    embed_document(root);\n",
       "  } else {\n",
       "    var attempts = 0;\n",
       "    var timer = setInterval(function(root) {\n",
       "      if (root.Bokeh !== undefined) {\n",
       "        embed_document(root);\n",
       "        clearInterval(timer);\n",
       "      }\n",
       "      attempts++;\n",
       "      if (attempts > 100) {\n",
       "        console.log(\"Bokeh: ERROR: Unable to run BokehJS code because BokehJS library is missing\");\n",
       "        clearInterval(timer);\n",
       "      }\n",
       "    }, 10, root)\n",
       "  }\n",
       "})(window);"
      ],
      "application/vnd.bokehjs_exec.v0+json": ""
     },
     "metadata": {
      "application/vnd.bokehjs_exec.v0+json": {
       "id": "1649"
      }
     },
     "output_type": "display_data"
    }
   ],
   "source": [
    "from bokeh.layouts import widgetbox\n",
    "from bokeh.models.widgets import Slider\n",
    "\n",
    "\n",
    "slider = Slider(start=0, end=10, value=1, step=.1, title=\"foo\")\n",
    "\n",
    "show(widgetbox(slider))"
   ]
  },
  {
   "cell_type": "code",
   "execution_count": 8,
   "metadata": {},
   "outputs": [],
   "source": [
    "# EXERCISE: create and show a Select widget \n"
   ]
  },
  {
   "cell_type": "markdown",
   "metadata": {},
   "source": [
    "# CustomJS Callbacks\n",
    "\n",
    "In order for a widget to be useful, it needs to be able to perform some action. Using the Bokeh server, it is possible to have widgets trigger real Python code. That possibuility will be explored in the Bokeh server chapter of the turorial. Here, we look at how widgets can be configured with `CustomJS` callbacks that execute snippets of JavaScript code. "
   ]
  },
  {
   "cell_type": "code",
   "execution_count": 7,
   "metadata": {},
   "outputs": [
    {
     "data": {
      "text/html": [
       "\n",
       "\n",
       "\n",
       "\n",
       "\n",
       "\n",
       "  <div class=\"bk-root\" id=\"b9d21ff1-dee2-40c7-9dba-ebdf9befb26a\" data-root-id=\"1701\"></div>\n"
      ]
     },
     "metadata": {},
     "output_type": "display_data"
    },
    {
     "data": {
      "application/javascript": [
       "(function(root) {\n",
       "  function embed_document(root) {\n",
       "    \n",
       "  var docs_json = {\"f3bf8d83-9a67-4d32-9871-e98e21dd30e2\":{\"roots\":{\"references\":[{\"attributes\":{\"below\":[{\"id\":\"1710\",\"type\":\"LinearAxis\"}],\"center\":[{\"id\":\"1714\",\"type\":\"Grid\"},{\"id\":\"1719\",\"type\":\"Grid\"}],\"left\":[{\"id\":\"1715\",\"type\":\"LinearAxis\"}],\"plot_height\":300,\"renderers\":[{\"id\":\"1725\",\"type\":\"GlyphRenderer\"}],\"title\":{\"id\":\"1777\",\"type\":\"Title\"},\"toolbar\":{\"id\":\"1720\",\"type\":\"Toolbar\"},\"x_range\":{\"id\":\"1702\",\"type\":\"DataRange1d\"},\"x_scale\":{\"id\":\"1706\",\"type\":\"LinearScale\"},\"y_range\":{\"id\":\"1704\",\"type\":\"DataRange1d\"},\"y_scale\":{\"id\":\"1708\",\"type\":\"LinearScale\"}},\"id\":\"1701\",\"subtype\":\"Figure\",\"type\":\"Plot\"},{\"attributes\":{},\"id\":\"1711\",\"type\":\"BasicTicker\"},{\"attributes\":{\"ticker\":{\"id\":\"1711\",\"type\":\"BasicTicker\"}},\"id\":\"1714\",\"type\":\"Grid\"},{\"attributes\":{},\"id\":\"1783\",\"type\":\"UnionRenderers\"},{\"attributes\":{\"source\":{\"id\":\"1722\",\"type\":\"ColumnDataSource\"}},\"id\":\"1726\",\"type\":\"CDSView\"},{\"attributes\":{},\"id\":\"1782\",\"type\":\"Selection\"},{\"attributes\":{\"formatter\":{\"id\":\"1781\",\"type\":\"BasicTickFormatter\"},\"ticker\":{\"id\":\"1716\",\"type\":\"BasicTicker\"}},\"id\":\"1715\",\"type\":\"LinearAxis\"},{\"attributes\":{\"callback\":{\"id\":\"1699\",\"type\":\"CustomJS\"}},\"id\":\"1700\",\"type\":\"TapTool\"},{\"attributes\":{},\"id\":\"1781\",\"type\":\"BasicTickFormatter\"},{\"attributes\":{\"text\":\"\"},\"id\":\"1777\",\"type\":\"Title\"},{\"attributes\":{},\"id\":\"1779\",\"type\":\"BasicTickFormatter\"},{\"attributes\":{\"callback\":null,\"data\":{\"x\":[1,2,3,4,5],\"y\":[2,5,8,2,7]},\"selected\":{\"id\":\"1782\",\"type\":\"Selection\"},\"selection_policy\":{\"id\":\"1783\",\"type\":\"UnionRenderers\"}},\"id\":\"1722\",\"type\":\"ColumnDataSource\"},{\"attributes\":{\"formatter\":{\"id\":\"1779\",\"type\":\"BasicTickFormatter\"},\"ticker\":{\"id\":\"1711\",\"type\":\"BasicTicker\"}},\"id\":\"1710\",\"type\":\"LinearAxis\"},{\"attributes\":{\"callback\":null},\"id\":\"1702\",\"type\":\"DataRange1d\"},{\"attributes\":{},\"id\":\"1706\",\"type\":\"LinearScale\"},{\"attributes\":{\"data_source\":{\"id\":\"1722\",\"type\":\"ColumnDataSource\"},\"glyph\":{\"id\":\"1723\",\"type\":\"Circle\"},\"hover_glyph\":null,\"muted_glyph\":null,\"nonselection_glyph\":{\"id\":\"1724\",\"type\":\"Circle\"},\"selection_glyph\":null,\"view\":{\"id\":\"1726\",\"type\":\"CDSView\"}},\"id\":\"1725\",\"type\":\"GlyphRenderer\"},{\"attributes\":{\"code\":\"alert('you tapped a circle!')\"},\"id\":\"1699\",\"type\":\"CustomJS\"},{\"attributes\":{\"fill_alpha\":{\"value\":0.1},\"fill_color\":{\"value\":\"#1f77b4\"},\"line_alpha\":{\"value\":0.1},\"line_color\":{\"value\":\"#1f77b4\"},\"size\":{\"units\":\"screen\",\"value\":20},\"x\":{\"field\":\"x\"},\"y\":{\"field\":\"y\"}},\"id\":\"1724\",\"type\":\"Circle\"},{\"attributes\":{\"active_drag\":\"auto\",\"active_inspect\":\"auto\",\"active_multi\":null,\"active_scroll\":\"auto\",\"active_tap\":\"auto\",\"tools\":[{\"id\":\"1700\",\"type\":\"TapTool\"}]},\"id\":\"1720\",\"type\":\"Toolbar\"},{\"attributes\":{\"fill_color\":{\"value\":\"#1f77b4\"},\"line_color\":{\"value\":\"#1f77b4\"},\"size\":{\"units\":\"screen\",\"value\":20},\"x\":{\"field\":\"x\"},\"y\":{\"field\":\"y\"}},\"id\":\"1723\",\"type\":\"Circle\"},{\"attributes\":{},\"id\":\"1708\",\"type\":\"LinearScale\"},{\"attributes\":{\"callback\":null},\"id\":\"1704\",\"type\":\"DataRange1d\"},{\"attributes\":{\"dimension\":1,\"ticker\":{\"id\":\"1716\",\"type\":\"BasicTicker\"}},\"id\":\"1719\",\"type\":\"Grid\"},{\"attributes\":{},\"id\":\"1716\",\"type\":\"BasicTicker\"}],\"root_ids\":[\"1701\"]},\"title\":\"Bokeh Application\",\"version\":\"1.3.4\"}};\n",
       "  var render_items = [{\"docid\":\"f3bf8d83-9a67-4d32-9871-e98e21dd30e2\",\"roots\":{\"1701\":\"b9d21ff1-dee2-40c7-9dba-ebdf9befb26a\"}}];\n",
       "  root.Bokeh.embed.embed_items_notebook(docs_json, render_items);\n",
       "\n",
       "  }\n",
       "  if (root.Bokeh !== undefined) {\n",
       "    embed_document(root);\n",
       "  } else {\n",
       "    var attempts = 0;\n",
       "    var timer = setInterval(function(root) {\n",
       "      if (root.Bokeh !== undefined) {\n",
       "        embed_document(root);\n",
       "        clearInterval(timer);\n",
       "      }\n",
       "      attempts++;\n",
       "      if (attempts > 100) {\n",
       "        console.log(\"Bokeh: ERROR: Unable to run BokehJS code because BokehJS library is missing\");\n",
       "        clearInterval(timer);\n",
       "      }\n",
       "    }, 10, root)\n",
       "  }\n",
       "})(window);"
      ],
      "application/vnd.bokehjs_exec.v0+json": ""
     },
     "metadata": {
      "application/vnd.bokehjs_exec.v0+json": {
       "id": "1701"
      }
     },
     "output_type": "display_data"
    }
   ],
   "source": [
    "from bokeh.models import TapTool, CustomJS, ColumnDataSource\n",
    "\n",
    "callback = CustomJS(code=\"alert('you tapped a circle!')\")\n",
    "tap = TapTool(callback=callback)\n",
    "\n",
    "p = figure(plot_width=600, plot_height=300, tools=[tap])\n",
    "\n",
    "p.circle(x=[1, 2, 3, 4, 5], y=[2, 5, 8, 2, 7], size=20)\n",
    "\n",
    "show(p)"
   ]
  },
  {
   "cell_type": "markdown",
   "metadata": {},
   "source": [
    "## CustomJS for Property changes\n",
    "\n",
    "Bokeh objects that have values associated can have small JavaScript actions attached to them using the `js_on_change` method. These actions (also referred to as \"callbacks\") are executed whenever the widget's value is changed. In order to make it easier to refer to specific Bokeh models (e.g., a data source, or a glyhph) from JavaScript, the ``CustomJS`` obejct also accepts a dictionary of \"args\" that map names to Python Bokeh models. The corresponding JavaScript models are made available automaticaly to the ``CustomJS`` code:\n",
    "\n",
    "```python\n",
    "CustomJS(args=dict(source=source, slider=slider), code=\"\"\"\n",
    "    // easily refer to BokehJS source and slider objects in this JS code\n",
    "    var data = source.data;\n",
    "    var f = slider.value;\n",
    "\"\"\")\n",
    "```"
   ]
  },
  {
   "cell_type": "markdown",
   "metadata": {},
   "source": [
    "### Slider widget example\n",
    "\n",
    "The example below shows an action attached to a slider that updates a data source whenever the slider is moved.  "
   ]
  },
  {
   "cell_type": "code",
   "execution_count": 8,
   "metadata": {},
   "outputs": [
    {
     "data": {
      "text/html": [
       "\n",
       "\n",
       "\n",
       "\n",
       "\n",
       "\n",
       "  <div class=\"bk-root\" id=\"9e395ad4-0459-4f8e-895c-c4f38d499b75\" data-root-id=\"1872\"></div>\n"
      ]
     },
     "metadata": {},
     "output_type": "display_data"
    },
    {
     "data": {
      "application/javascript": [
       "(function(root) {\n",
       "  function embed_document(root) {\n",
       "    \n",
       "  var docs_json = {\"c085a7f3-90f2-4338-bfd9-0520147eacb8\":{\"roots\":{\"references\":[{\"attributes\":{\"children\":[{\"id\":\"1870\",\"type\":\"Slider\"},{\"id\":\"1833\",\"subtype\":\"Figure\",\"type\":\"Plot\"}]},\"id\":\"1872\",\"type\":\"Column\"},{\"attributes\":{\"active_drag\":\"auto\",\"active_inspect\":\"auto\",\"active_multi\":null,\"active_scroll\":\"auto\",\"active_tap\":\"auto\",\"tools\":[{\"id\":\"1852\",\"type\":\"PanTool\"},{\"id\":\"1853\",\"type\":\"WheelZoomTool\"},{\"id\":\"1854\",\"type\":\"BoxZoomTool\"},{\"id\":\"1855\",\"type\":\"SaveTool\"},{\"id\":\"1856\",\"type\":\"ResetTool\"},{\"id\":\"1857\",\"type\":\"HelpTool\"}]},\"id\":\"1858\",\"type\":\"Toolbar\"},{\"attributes\":{},\"id\":\"1852\",\"type\":\"PanTool\"},{\"attributes\":{},\"id\":\"1853\",\"type\":\"WheelZoomTool\"},{\"attributes\":{\"overlay\":{\"id\":\"1938\",\"type\":\"BoxAnnotation\"}},\"id\":\"1854\",\"type\":\"BoxZoomTool\"},{\"attributes\":{\"below\":[{\"id\":\"1842\",\"type\":\"LinearAxis\"}],\"center\":[{\"id\":\"1846\",\"type\":\"Grid\"},{\"id\":\"1851\",\"type\":\"Grid\"}],\"left\":[{\"id\":\"1847\",\"type\":\"LinearAxis\"}],\"plot_height\":400,\"plot_width\":400,\"renderers\":[{\"id\":\"1868\",\"type\":\"GlyphRenderer\"}],\"title\":{\"id\":\"1931\",\"type\":\"Title\"},\"toolbar\":{\"id\":\"1858\",\"type\":\"Toolbar\"},\"x_range\":{\"id\":\"1834\",\"type\":\"DataRange1d\"},\"x_scale\":{\"id\":\"1838\",\"type\":\"LinearScale\"},\"y_range\":{\"id\":\"1836\",\"type\":\"DataRange1d\"},\"y_scale\":{\"id\":\"1840\",\"type\":\"LinearScale\"}},\"id\":\"1833\",\"subtype\":\"Figure\",\"type\":\"Plot\"},{\"attributes\":{},\"id\":\"1855\",\"type\":\"SaveTool\"},{\"attributes\":{},\"id\":\"1935\",\"type\":\"BasicTickFormatter\"},{\"attributes\":{},\"id\":\"1856\",\"type\":\"ResetTool\"},{\"attributes\":{\"callback\":null,\"data\":{\"x\":[0.0,0.005,0.01,0.015,0.02,0.025,0.03,0.035,0.04,0.045,0.05,0.055,0.06,0.065,0.07,0.075,0.08,0.085,0.09,0.095,0.1,0.105,0.11,0.115,0.12,0.125,0.13,0.135,0.14,0.145,0.15,0.155,0.16,0.165,0.17,0.17500000000000002,0.18,0.185,0.19,0.195,0.2,0.20500000000000002,0.21,0.215,0.22,0.225,0.23,0.23500000000000001,0.24,0.245,0.25,0.255,0.26,0.265,0.27,0.275,0.28,0.28500000000000003,0.29,0.295,0.3,0.305,0.31,0.315,0.32,0.325,0.33,0.335,0.34,0.34500000000000003,0.35000000000000003,0.355,0.36,0.365,0.37,0.375,0.38,0.385,0.39,0.395,0.4,0.405,0.41000000000000003,0.41500000000000004,0.42,0.425,0.43,0.435,0.44,0.445,0.45,0.455,0.46,0.465,0.47000000000000003,0.47500000000000003,0.48,0.485,0.49,0.495,0.5,0.505,0.51,0.515,0.52,0.525,0.53,0.535,0.54,0.545,0.55,0.555,0.56,0.5650000000000001,0.5700000000000001,0.5750000000000001,0.58,0.585,0.59,0.595,0.6,0.605,0.61,0.615,0.62,0.625,0.63,0.635,0.64,0.645,0.65,0.655,0.66,0.665,0.67,0.675,0.68,0.685,0.6900000000000001,0.6950000000000001,0.7000000000000001,0.705,0.71,0.715,0.72,0.725,0.73,0.735,0.74,0.745,0.75,0.755,0.76,0.765,0.77,0.775,0.78,0.785,0.79,0.795,0.8,0.805,0.81,0.8150000000000001,0.8200000000000001,0.8250000000000001,0.8300000000000001,0.835,0.84,0.845,0.85,0.855,0.86,0.865,0.87,0.875,0.88,0.885,0.89,0.895,0.9,0.905,0.91,0.915,0.92,0.925,0.93,0.935,0.9400000000000001,0.9450000000000001,0.9500000000000001,0.9550000000000001,0.96,0.965,0.97,0.975,0.98,0.985,0.99,0.995,1.0],\"y\":[0.0,0.005,0.01,0.015,0.02,0.025,0.03,0.035,0.04,0.045,0.05,0.055,0.06,0.065,0.07,0.075,0.08,0.085,0.09,0.095,0.1,0.105,0.11,0.115,0.12,0.125,0.13,0.135,0.14,0.145,0.15,0.155,0.16,0.165,0.17,0.17500000000000002,0.18,0.185,0.19,0.195,0.2,0.20500000000000002,0.21,0.215,0.22,0.225,0.23,0.23500000000000001,0.24,0.245,0.25,0.255,0.26,0.265,0.27,0.275,0.28,0.28500000000000003,0.29,0.295,0.3,0.305,0.31,0.315,0.32,0.325,0.33,0.335,0.34,0.34500000000000003,0.35000000000000003,0.355,0.36,0.365,0.37,0.375,0.38,0.385,0.39,0.395,0.4,0.405,0.41000000000000003,0.41500000000000004,0.42,0.425,0.43,0.435,0.44,0.445,0.45,0.455,0.46,0.465,0.47000000000000003,0.47500000000000003,0.48,0.485,0.49,0.495,0.5,0.505,0.51,0.515,0.52,0.525,0.53,0.535,0.54,0.545,0.55,0.555,0.56,0.5650000000000001,0.5700000000000001,0.5750000000000001,0.58,0.585,0.59,0.595,0.6,0.605,0.61,0.615,0.62,0.625,0.63,0.635,0.64,0.645,0.65,0.655,0.66,0.665,0.67,0.675,0.68,0.685,0.6900000000000001,0.6950000000000001,0.7000000000000001,0.705,0.71,0.715,0.72,0.725,0.73,0.735,0.74,0.745,0.75,0.755,0.76,0.765,0.77,0.775,0.78,0.785,0.79,0.795,0.8,0.805,0.81,0.8150000000000001,0.8200000000000001,0.8250000000000001,0.8300000000000001,0.835,0.84,0.845,0.85,0.855,0.86,0.865,0.87,0.875,0.88,0.885,0.89,0.895,0.9,0.905,0.91,0.915,0.92,0.925,0.93,0.935,0.9400000000000001,0.9450000000000001,0.9500000000000001,0.9550000000000001,0.96,0.965,0.97,0.975,0.98,0.985,0.99,0.995,1.0]},\"selected\":{\"id\":\"1936\",\"type\":\"Selection\"},\"selection_policy\":{\"id\":\"1937\",\"type\":\"UnionRenderers\"}},\"id\":\"1832\",\"type\":\"ColumnDataSource\"},{\"attributes\":{},\"id\":\"1857\",\"type\":\"HelpTool\"},{\"attributes\":{\"callback\":null},\"id\":\"1834\",\"type\":\"DataRange1d\"},{\"attributes\":{\"data_source\":{\"id\":\"1832\",\"type\":\"ColumnDataSource\"},\"glyph\":{\"id\":\"1866\",\"type\":\"Line\"},\"hover_glyph\":null,\"muted_glyph\":null,\"nonselection_glyph\":{\"id\":\"1867\",\"type\":\"Line\"},\"selection_glyph\":null,\"view\":{\"id\":\"1869\",\"type\":\"CDSView\"}},\"id\":\"1868\",\"type\":\"GlyphRenderer\"},{\"attributes\":{\"callback\":null},\"id\":\"1836\",\"type\":\"DataRange1d\"},{\"attributes\":{\"source\":{\"id\":\"1832\",\"type\":\"ColumnDataSource\"}},\"id\":\"1869\",\"type\":\"CDSView\"},{\"attributes\":{},\"id\":\"1838\",\"type\":\"LinearScale\"},{\"attributes\":{},\"id\":\"1840\",\"type\":\"LinearScale\"},{\"attributes\":{\"args\":{\"slider\":{\"id\":\"1870\",\"type\":\"Slider\"},\"source\":{\"id\":\"1832\",\"type\":\"ColumnDataSource\"}},\"code\":\"\\n    var data = source.data;\\n    var f = slider.value;\\n    x = data['x']\\n    y = data['y']\\n    for (i = 0; i < x.length; i++) {\\n        y[i] = Math.pow(x[i], f)\\n    }\\n    \\n    // necessary becasue we mutated source.data in-place\\n    source.change.emit();\\n\"},\"id\":\"1871\",\"type\":\"CustomJS\"},{\"attributes\":{\"formatter\":{\"id\":\"1933\",\"type\":\"BasicTickFormatter\"},\"ticker\":{\"id\":\"1843\",\"type\":\"BasicTicker\"}},\"id\":\"1842\",\"type\":\"LinearAxis\"},{\"attributes\":{},\"id\":\"1843\",\"type\":\"BasicTicker\"},{\"attributes\":{\"ticker\":{\"id\":\"1843\",\"type\":\"BasicTicker\"}},\"id\":\"1846\",\"type\":\"Grid\"},{\"attributes\":{\"text\":\"\"},\"id\":\"1931\",\"type\":\"Title\"},{\"attributes\":{\"formatter\":{\"id\":\"1935\",\"type\":\"BasicTickFormatter\"},\"ticker\":{\"id\":\"1848\",\"type\":\"BasicTicker\"}},\"id\":\"1847\",\"type\":\"LinearAxis\"},{\"attributes\":{},\"id\":\"1933\",\"type\":\"BasicTickFormatter\"},{\"attributes\":{},\"id\":\"1848\",\"type\":\"BasicTicker\"},{\"attributes\":{},\"id\":\"1936\",\"type\":\"Selection\"},{\"attributes\":{\"dimension\":1,\"ticker\":{\"id\":\"1848\",\"type\":\"BasicTicker\"}},\"id\":\"1851\",\"type\":\"Grid\"},{\"attributes\":{},\"id\":\"1937\",\"type\":\"UnionRenderers\"},{\"attributes\":{\"line_alpha\":0.1,\"line_color\":\"#1f77b4\",\"line_width\":3,\"x\":{\"field\":\"x\"},\"y\":{\"field\":\"y\"}},\"id\":\"1867\",\"type\":\"Line\"},{\"attributes\":{\"bottom_units\":\"screen\",\"fill_alpha\":{\"value\":0.5},\"fill_color\":{\"value\":\"lightgrey\"},\"left_units\":\"screen\",\"level\":\"overlay\",\"line_alpha\":{\"value\":1.0},\"line_color\":{\"value\":\"black\"},\"line_dash\":[4,4],\"line_width\":{\"value\":2},\"render_mode\":\"css\",\"right_units\":\"screen\",\"top_units\":\"screen\"},\"id\":\"1938\",\"type\":\"BoxAnnotation\"},{\"attributes\":{\"line_alpha\":0.6,\"line_color\":\"#1f77b4\",\"line_width\":3,\"x\":{\"field\":\"x\"},\"y\":{\"field\":\"y\"}},\"id\":\"1866\",\"type\":\"Line\"},{\"attributes\":{\"callback\":null,\"end\":6,\"js_property_callbacks\":{\"change:value\":[{\"id\":\"1871\",\"type\":\"CustomJS\"}]},\"start\":0.1,\"step\":0.1,\"title\":\"power\",\"value\":1},\"id\":\"1870\",\"type\":\"Slider\"}],\"root_ids\":[\"1872\"]},\"title\":\"Bokeh Application\",\"version\":\"1.3.4\"}};\n",
       "  var render_items = [{\"docid\":\"c085a7f3-90f2-4338-bfd9-0520147eacb8\",\"roots\":{\"1872\":\"9e395ad4-0459-4f8e-895c-c4f38d499b75\"}}];\n",
       "  root.Bokeh.embed.embed_items_notebook(docs_json, render_items);\n",
       "\n",
       "  }\n",
       "  if (root.Bokeh !== undefined) {\n",
       "    embed_document(root);\n",
       "  } else {\n",
       "    var attempts = 0;\n",
       "    var timer = setInterval(function(root) {\n",
       "      if (root.Bokeh !== undefined) {\n",
       "        embed_document(root);\n",
       "        clearInterval(timer);\n",
       "      }\n",
       "      attempts++;\n",
       "      if (attempts > 100) {\n",
       "        console.log(\"Bokeh: ERROR: Unable to run BokehJS code because BokehJS library is missing\");\n",
       "        clearInterval(timer);\n",
       "      }\n",
       "    }, 10, root)\n",
       "  }\n",
       "})(window);"
      ],
      "application/vnd.bokehjs_exec.v0+json": ""
     },
     "metadata": {
      "application/vnd.bokehjs_exec.v0+json": {
       "id": "1872"
      }
     },
     "output_type": "display_data"
    }
   ],
   "source": [
    "from bokeh.layouts import column\n",
    "from bokeh.models import CustomJS, ColumnDataSource, Slider\n",
    "\n",
    "x = [x*0.005 for x in range(0, 201)]\n",
    "\n",
    "source = ColumnDataSource(data=dict(x=x, y=x))\n",
    "\n",
    "plot = figure(plot_width=400, plot_height=400)\n",
    "plot.line('x', 'y', source=source, line_width=3, line_alpha=0.6)\n",
    "\n",
    "slider = Slider(start=0.1, end=6, value=1, step=.1, title=\"power\")\n",
    "\n",
    "update_curve = CustomJS(args=dict(source=source, slider=slider), code=\"\"\"\n",
    "    var data = source.data;\n",
    "    var f = slider.value;\n",
    "    x = data['x']\n",
    "    y = data['y']\n",
    "    for (i = 0; i < x.length; i++) {\n",
    "        y[i] = Math.pow(x[i], f)\n",
    "    }\n",
    "    \n",
    "    // necessary becasue we mutated source.data in-place\n",
    "    source.change.emit();\n",
    "\"\"\")\n",
    "slider.js_on_change('value', update_curve)\n",
    "\n",
    "\n",
    "show(column(slider, plot))"
   ]
  },
  {
   "cell_type": "code",
   "execution_count": 11,
   "metadata": {},
   "outputs": [],
   "source": [
    "# Exercise: Create a plot that updates based on a Select widget\n",
    "\n"
   ]
  },
  {
   "cell_type": "markdown",
   "metadata": {},
   "source": [
    "### Data selection example\n",
    "\n",
    "It's also possible to make JavaScript actions that execute whenever a user selection (e.g., box, point, lasso) changes. This is done by attaching the same kind of CustomJS object to whatever data source the selection is made on.\n",
    "\n",
    "The example below is a bit more sophisticated, and demonstrates updating one glyph's data source in response to another glyph's selection: "
   ]
  },
  {
   "cell_type": "code",
   "execution_count": 9,
   "metadata": {},
   "outputs": [
    {
     "data": {
      "text/html": [
       "\n",
       "\n",
       "\n",
       "\n",
       "\n",
       "\n",
       "  <div class=\"bk-root\" id=\"d98c93c2-9539-49fc-bbfe-4e38144d5673\" data-root-id=\"1994\"></div>\n"
      ]
     },
     "metadata": {},
     "output_type": "display_data"
    },
    {
     "data": {
      "application/javascript": [
       "(function(root) {\n",
       "  function embed_document(root) {\n",
       "    \n",
       "  var docs_json = {\"df50e91c-4246-41b0-b51a-d521b0888a52\":{\"roots\":{\"references\":[{\"attributes\":{\"below\":[{\"id\":\"2005\",\"type\":\"LinearAxis\"}],\"center\":[{\"id\":\"2009\",\"type\":\"Grid\"},{\"id\":\"2014\",\"type\":\"Grid\"}],\"left\":[{\"id\":\"2010\",\"type\":\"LinearAxis\"}],\"plot_height\":400,\"plot_width\":400,\"renderers\":[{\"id\":\"2022\",\"type\":\"GlyphRenderer\"},{\"id\":\"2028\",\"type\":\"GlyphRenderer\"}],\"title\":{\"id\":\"1995\",\"type\":\"Title\"},\"toolbar\":{\"id\":\"2016\",\"type\":\"Toolbar\"},\"x_range\":{\"id\":\"1997\",\"type\":\"DataRange1d\"},\"x_scale\":{\"id\":\"2001\",\"type\":\"LinearScale\"},\"y_range\":{\"id\":\"1999\",\"type\":\"DataRange1d\"},\"y_scale\":{\"id\":\"2003\",\"type\":\"LinearScale\"}},\"id\":\"1994\",\"subtype\":\"Figure\",\"type\":\"Plot\"},{\"attributes\":{\"line_alpha\":0.1,\"line_color\":\"#1f77b4\",\"line_width\":5,\"x\":{\"field\":\"xm\"},\"y\":{\"field\":\"ym\"}},\"id\":\"2027\",\"type\":\"Line\"},{\"attributes\":{\"fill_alpha\":{\"value\":0.1},\"fill_color\":{\"value\":\"#1f77b4\"},\"line_alpha\":{\"value\":0.1},\"line_color\":{\"value\":\"#1f77b4\"},\"size\":{\"units\":\"screen\",\"value\":8},\"x\":{\"field\":\"x\"},\"y\":{\"field\":\"y\"}},\"id\":\"2020\",\"type\":\"Circle\"},{\"attributes\":{\"ticker\":{\"id\":\"2006\",\"type\":\"BasicTicker\"}},\"id\":\"2009\",\"type\":\"Grid\"},{\"attributes\":{\"callback\":null},\"id\":\"1999\",\"type\":\"DataRange1d\"},{\"attributes\":{\"fill_alpha\":{\"value\":0.4},\"fill_color\":{\"value\":\"firebrick\"},\"line_alpha\":{\"value\":0.4},\"line_color\":{\"value\":\"firebrick\"},\"size\":{\"units\":\"screen\",\"value\":8},\"x\":{\"field\":\"x\"},\"y\":{\"field\":\"y\"}},\"id\":\"2021\",\"type\":\"Circle\"},{\"attributes\":{},\"id\":\"2001\",\"type\":\"LinearScale\"},{\"attributes\":{\"text\":\"Select Here\"},\"id\":\"1995\",\"type\":\"Title\"},{\"attributes\":{\"data_source\":{\"id\":\"1993\",\"type\":\"ColumnDataSource\"},\"glyph\":{\"id\":\"2019\",\"type\":\"Circle\"},\"hover_glyph\":null,\"muted_glyph\":null,\"nonselection_glyph\":{\"id\":\"2020\",\"type\":\"Circle\"},\"selection_glyph\":{\"id\":\"2021\",\"type\":\"Circle\"},\"view\":{\"id\":\"2023\",\"type\":\"CDSView\"}},\"id\":\"2022\",\"type\":\"GlyphRenderer\"},{\"attributes\":{\"line_alpha\":0.6,\"line_color\":\"orange\",\"line_width\":5,\"x\":{\"field\":\"xm\"},\"y\":{\"field\":\"ym\"}},\"id\":\"2026\",\"type\":\"Line\"},{\"attributes\":{\"source\":{\"id\":\"1993\",\"type\":\"ColumnDataSource\"}},\"id\":\"2023\",\"type\":\"CDSView\"},{\"attributes\":{\"active_drag\":\"auto\",\"active_inspect\":\"auto\",\"active_multi\":null,\"active_scroll\":\"auto\",\"active_tap\":\"auto\",\"tools\":[{\"id\":\"2015\",\"type\":\"LassoSelectTool\"}]},\"id\":\"2016\",\"type\":\"Toolbar\"},{\"attributes\":{\"args\":{\"s1\":{\"id\":\"1993\",\"type\":\"ColumnDataSource\"},\"s2\":{\"id\":\"2024\",\"type\":\"ColumnDataSource\"}},\"code\":\"\\n    var inds = s1.selected.indices;\\n    if (inds.length == 0)\\n        return;\\n\\n    var ym = 0\\n    for (var i = 0; i < inds.length; i++) {\\n        ym += s1.data.y[inds[i]]\\n    }\\n    \\n    ym /= inds.length\\n    s2.data.ym = [ym, ym]\\n\\n    // necessary becasue we mutated source.data in-place\\n    s2.change.emit();  \\n\"},\"id\":\"2030\",\"type\":\"CustomJS\"},{\"attributes\":{},\"id\":\"2011\",\"type\":\"BasicTicker\"},{\"attributes\":{},\"id\":\"2106\",\"type\":\"UnionRenderers\"},{\"attributes\":{\"data_source\":{\"id\":\"2024\",\"type\":\"ColumnDataSource\"},\"glyph\":{\"id\":\"2026\",\"type\":\"Line\"},\"hover_glyph\":null,\"muted_glyph\":null,\"nonselection_glyph\":{\"id\":\"2027\",\"type\":\"Line\"},\"selection_glyph\":null,\"view\":{\"id\":\"2029\",\"type\":\"CDSView\"}},\"id\":\"2028\",\"type\":\"GlyphRenderer\"},{\"attributes\":{\"source\":{\"id\":\"2024\",\"type\":\"ColumnDataSource\"}},\"id\":\"2029\",\"type\":\"CDSView\"},{\"attributes\":{\"callback\":{\"id\":\"2030\",\"type\":\"CustomJS\"},\"data\":{\"color\":[\"navy\",\"navy\",\"navy\",\"navy\",\"navy\",\"navy\",\"navy\",\"navy\",\"navy\",\"navy\",\"navy\",\"navy\",\"navy\",\"navy\",\"navy\",\"navy\",\"navy\",\"navy\",\"navy\",\"navy\",\"navy\",\"navy\",\"navy\",\"navy\",\"navy\",\"navy\",\"navy\",\"navy\",\"navy\",\"navy\",\"navy\",\"navy\",\"navy\",\"navy\",\"navy\",\"navy\",\"navy\",\"navy\",\"navy\",\"navy\",\"navy\",\"navy\",\"navy\",\"navy\",\"navy\",\"navy\",\"navy\",\"navy\",\"navy\",\"navy\",\"navy\",\"navy\",\"navy\",\"navy\",\"navy\",\"navy\",\"navy\",\"navy\",\"navy\",\"navy\",\"navy\",\"navy\",\"navy\",\"navy\",\"navy\",\"navy\",\"navy\",\"navy\",\"navy\",\"navy\",\"navy\",\"navy\",\"navy\",\"navy\",\"navy\",\"navy\",\"navy\",\"navy\",\"navy\",\"navy\",\"navy\",\"navy\",\"navy\",\"navy\",\"navy\",\"navy\",\"navy\",\"navy\",\"navy\",\"navy\",\"navy\",\"navy\",\"navy\",\"navy\",\"navy\",\"navy\",\"navy\",\"navy\",\"navy\",\"navy\",\"navy\",\"navy\",\"navy\",\"navy\",\"navy\",\"navy\",\"navy\",\"navy\",\"navy\",\"navy\",\"navy\",\"navy\",\"navy\",\"navy\",\"navy\",\"navy\",\"navy\",\"navy\",\"navy\",\"navy\",\"navy\",\"navy\",\"navy\",\"navy\",\"navy\",\"navy\",\"navy\",\"navy\",\"navy\",\"navy\",\"navy\",\"navy\",\"navy\",\"navy\",\"navy\",\"navy\",\"navy\",\"navy\",\"navy\",\"navy\",\"navy\",\"navy\",\"navy\",\"navy\",\"navy\",\"navy\",\"navy\",\"navy\",\"navy\",\"navy\",\"navy\",\"navy\",\"navy\",\"navy\",\"navy\",\"navy\",\"navy\",\"navy\",\"navy\",\"navy\",\"navy\",\"navy\",\"navy\",\"navy\",\"navy\",\"navy\",\"navy\",\"navy\",\"navy\",\"navy\",\"navy\",\"navy\",\"navy\",\"navy\",\"navy\",\"navy\",\"navy\",\"navy\",\"navy\",\"navy\",\"navy\",\"navy\",\"navy\",\"navy\",\"navy\",\"navy\",\"navy\",\"navy\",\"navy\",\"navy\",\"navy\",\"navy\",\"navy\",\"navy\",\"navy\",\"navy\",\"navy\",\"navy\",\"navy\",\"navy\",\"navy\",\"navy\",\"navy\",\"navy\",\"navy\",\"navy\",\"navy\",\"navy\",\"navy\",\"navy\",\"navy\",\"navy\",\"navy\",\"navy\",\"navy\",\"navy\",\"navy\",\"navy\",\"navy\",\"navy\",\"navy\",\"navy\",\"navy\",\"navy\",\"navy\",\"navy\",\"navy\",\"navy\",\"navy\",\"navy\",\"navy\",\"navy\",\"navy\",\"navy\",\"navy\",\"navy\",\"navy\",\"navy\",\"navy\",\"navy\",\"navy\",\"navy\",\"navy\",\"navy\",\"navy\",\"navy\",\"navy\",\"navy\",\"navy\",\"navy\",\"navy\",\"navy\",\"navy\",\"navy\",\"navy\",\"navy\",\"navy\",\"navy\",\"navy\",\"navy\",\"navy\",\"navy\",\"navy\",\"navy\",\"navy\",\"navy\",\"navy\",\"navy\",\"navy\",\"navy\",\"navy\",\"navy\",\"navy\",\"navy\",\"navy\",\"navy\",\"navy\",\"navy\",\"navy\",\"navy\",\"navy\",\"navy\",\"navy\",\"navy\",\"navy\",\"navy\",\"navy\",\"navy\",\"navy\",\"navy\",\"navy\",\"navy\",\"navy\",\"navy\",\"navy\",\"navy\",\"navy\",\"navy\",\"navy\",\"navy\",\"navy\",\"navy\",\"navy\",\"navy\",\"navy\",\"navy\",\"navy\",\"navy\",\"navy\",\"navy\",\"navy\",\"navy\",\"navy\",\"navy\",\"navy\",\"navy\",\"navy\",\"navy\",\"navy\",\"navy\",\"navy\",\"navy\",\"navy\",\"navy\",\"navy\",\"navy\",\"navy\",\"navy\",\"navy\",\"navy\",\"navy\",\"navy\",\"navy\",\"navy\",\"navy\",\"navy\",\"navy\",\"navy\",\"navy\",\"navy\",\"navy\",\"navy\",\"navy\",\"navy\",\"navy\",\"navy\",\"navy\",\"navy\",\"navy\",\"navy\",\"navy\",\"navy\",\"navy\",\"navy\",\"navy\",\"navy\",\"navy\",\"navy\",\"navy\",\"navy\",\"navy\",\"navy\",\"navy\",\"navy\",\"navy\",\"navy\",\"navy\",\"navy\",\"navy\",\"navy\",\"navy\",\"navy\",\"navy\",\"navy\",\"navy\",\"navy\",\"navy\",\"navy\",\"navy\",\"navy\",\"navy\",\"navy\",\"navy\",\"navy\",\"navy\",\"navy\",\"navy\",\"navy\",\"navy\",\"navy\",\"navy\",\"navy\",\"navy\",\"navy\",\"navy\",\"navy\",\"navy\",\"navy\",\"navy\",\"navy\",\"navy\",\"navy\",\"navy\",\"navy\",\"navy\",\"navy\",\"navy\",\"navy\",\"navy\",\"navy\",\"navy\",\"navy\",\"navy\",\"navy\",\"navy\",\"navy\",\"navy\",\"navy\",\"navy\",\"navy\",\"navy\",\"navy\",\"navy\",\"navy\",\"navy\",\"navy\",\"navy\",\"navy\",\"navy\",\"navy\",\"navy\",\"navy\",\"navy\",\"navy\",\"navy\",\"navy\",\"navy\",\"navy\",\"navy\",\"navy\",\"navy\",\"navy\",\"navy\",\"navy\",\"navy\",\"navy\",\"navy\",\"navy\",\"navy\",\"navy\",\"navy\",\"navy\",\"navy\",\"navy\",\"navy\",\"navy\",\"navy\",\"navy\",\"navy\",\"navy\",\"navy\",\"navy\",\"navy\",\"navy\",\"navy\",\"navy\",\"navy\",\"navy\",\"navy\",\"navy\",\"navy\",\"navy\",\"navy\",\"navy\",\"navy\",\"navy\",\"navy\",\"navy\",\"navy\",\"navy\",\"navy\",\"navy\",\"navy\",\"navy\",\"navy\",\"navy\",\"navy\",\"navy\",\"navy\",\"navy\",\"navy\",\"navy\",\"navy\",\"navy\",\"navy\",\"navy\",\"navy\",\"navy\",\"navy\",\"navy\"],\"x\":[0.9895281852915309,0.4146206764341178,0.2902078282366922,0.1522438850730563,0.381637490166566,0.8873500095419784,0.21807138997875997,0.5641701128133876,0.16595655915527552,0.6941212837908897,0.5039439807580854,0.41307120690742816,0.42075331377855874,0.530714553312254,0.21912213393543534,0.0896778724092746,0.10908031701729226,0.6984664945102282,0.6446936443086991,0.9758203881576516,0.33620441553349634,0.14317045415732632,0.12454804629014105,0.9545210597879986,0.908826610071899,0.6238381727783767,0.06147738399678293,0.38170584744351355,0.6750825236822564,0.7752742793777966,0.486080531080719,0.7377243962916463,0.25062611989666406,0.03131356933186369,0.11943361066641567,0.8860442958268878,0.49634106001373046,0.451228573139107,0.9926309491888372,0.14749239534009206,0.7156352819473619,0.7908508341580733,0.042063150302287244,0.031896593206716894,0.6612436933017958,0.9748253662851306,0.7326918038794842,0.954014461490948,0.9134846794834063,0.793643770950445,0.530764081744297,0.025506212199401412,0.8702158646316528,0.3938246304930698,0.29588197690617246,0.6602986824556804,0.06245686100038317,0.3311209479129973,0.6520977181961651,0.7783781384411285,0.5998489971526846,0.9791451932866803,0.2229217218451136,0.8099411791032263,0.24859239892920293,0.8668895612982399,0.7067915967495411,0.38603721050850914,0.8975344944807904,0.08325306792033504,0.3924617120544066,0.7654343121588087,0.8572255353504814,0.05568005374059504,0.7567124736235026,0.7401384152601148,0.6625722559234638,0.4114791594595826,0.4821809746934661,0.35412154759286163,0.3686776670562616,0.5512372843809601,0.9668481522767327,0.1240977215115715,0.6345170904889766,0.29677921585530476,0.23378353233158555,0.3394377595784045,0.1323208834537949,0.41884605004760234,0.2426114929124843,0.49641860863282616,0.43791726876756687,0.9326197153641694,0.4685647292400632,0.364299490208599,0.5052871257108069,0.22226328442837162,0.0732123192262445,0.2697395461594022,0.7899452134463624,0.36090001800443317,0.8493683389098157,0.8759147103273325,0.9744755366504838,0.5481162250190091,0.2021397485452049,0.47288590227712357,0.8974890019435152,0.059239423984558615,0.7813756833827061,0.8372084563508696,0.0436128858921363,0.410542053627058,0.33140896561383604,0.4214474245813432,0.6366112882503071,0.32945104778584344,0.6509354678851899,0.695134780275876,0.3198632444684437,0.16692708470332474,0.7055557843134277,0.2789767500227175,0.4409928742482492,0.7563580849964516,0.9176379918631058,0.45909968454976946,0.3131947877795005,0.024375521971922054,0.6313322590844684,0.6669724335878089,0.4851926038300739,0.5692561176127201,0.3406897239476846,0.7290245825673195,0.6499197413208277,0.7412113306685267,0.58933127295383,0.18819328907911748,0.6524642251590624,0.44803679472909275,0.6596066155967402,0.3524624682769033,0.4021368450571311,0.8472708968132883,0.0062135477612779155,0.8301996733894468,0.3540519019685848,0.848641887176897,0.421075832549887,0.039096084308938184,0.007834045704799952,0.9618584364218988,0.16137614293589897,0.43155253569328933,0.007491252024855788,0.37432980257827464,0.5958284133235026,0.06120219454233666,0.07821622940399064,0.688304507745587,0.23755834095485873,0.1384780552949202,0.06170438226562591,0.33788211783964195,0.6880572738894908,0.7671117124290148,0.22610535843428647,0.9313949776829632,0.29648474894588117,0.04203629432892553,0.20411891941343285,0.5008526714604623,0.12918684852382112,0.6033963107494925,0.5178631483578442,0.9401280479005047,0.6103031002531647,0.5815984682728236,0.363590763368255,0.318628721706011,0.9168104456007647,0.4111005706128964,0.8497434063474522,0.6579039689994727,0.06239448484852261,0.3384825379717422,0.7989522019330433,0.794968723480506,0.027882612131924778,0.7483898486226109,0.8369500901857249,0.9772476916999094,0.9939144740565324,0.6648142615675999,0.5019573385064273,0.5058605686165034,0.9981369007519169,0.8969478858582749,0.1940799740834539,0.22818536542126922,0.6892678955057905,0.6027322011502976,0.49737910647476935,0.0018324698670028061,0.6465922159696783,0.8371275209945167,0.2340353802195796,0.0677459462805361,0.7297361079144453,0.6347274393609722,0.054581173425670704,0.3098114689149669,0.557113235834128,0.6019733045592941,0.5690844528329073,0.2003571471339476,0.15396192068502312,0.9568098731870193,0.7071010979005986,0.06383581419083029,0.5050547382747776,0.8974155351334497,0.23408551586863613,0.3765511468533328,0.5165969117841537,0.9671458035534046,0.46283593914960175,0.6685163583082452,0.9024174151442823,0.04857957362864396,0.15384018444780223,0.07524947659525161,0.3361389663418356,0.4905149688304251,0.7132558978802633,0.7566390341486952,0.8030761658081444,0.876854460970435,0.3750849138773963,0.5036273297764848,0.3412819369596597,0.6554481466438266,0.9569325943734818,0.005989076005334937,0.0942839643908181,0.21771175277917276,0.6182915039861387,0.531550544615623,0.4660571993548661,0.10350937762662615,0.48568751716656955,0.9976031503745902,0.20827413040819998,0.030910007669115336,0.25710974349310745,0.24377107584834612,0.7590496858711876,0.3189353638197798,0.2930231170423552,0.7680941141751207,0.44988128210091294,0.527694573657876,0.7334781513470789,0.31865915673037126,0.3502659786007837,0.17664245100642462,0.2710873668210614,0.4534521399372129,0.7016154609091622,0.11641384812057176,0.6422377152647583,0.18721426498454485,0.003151708996151359,0.06374710566139075,0.7120265870669543,0.5270586874011614,0.8715305574863084,0.7376827915526257,0.807605364992297,0.6132960856088834,0.3040793180410172,0.7645796381194941,0.7094815276313945,0.6495429845313762,0.5079708545516991,0.31825325028857876,0.18807328223201902,0.38164652959615863,0.22854763683736956,0.7072610339261919,0.09843481276554977,0.33063521239051274,0.890180183243172,0.3438635660624477,0.4185452612424946,0.9019739168881737,0.5982939934447444,0.33361277327666206,0.03744838348363255,0.27294361374706,0.9614334443674316,0.0658779633747274,0.1346289051417553,0.021206716160091954,0.05612358076316193,0.37952421494924715,0.07221078461586417,0.8779899189675704,0.968703255778973,0.6315518597935202,0.4306968798115264,0.22597972284493717,0.9677485970473079,0.7936664130166114,0.36649014457531404,0.600293750593634,0.07257878938659912,0.5315320854022472,0.1562896818664079,0.9563862031400241,0.07227069486195148,0.33855670758637935,0.12344184935958036,0.9557820848698884,0.3909258280704708,0.0254690891076369,0.6526375012031254,0.9284167234499651,0.2291194432453596,0.08248609775966831,0.7757044834705693,0.7241464583596204,0.19699139366570684,0.2666205063770646,0.11448803389943851,0.7049132571477932,0.8605136957602632,0.3835342392075606,0.573116862354554,0.8098671840267305,0.3373960014369276,0.2020264542057475,0.46358291364929394,0.366579437468615,0.2548482311036129,0.07677464756100094,0.734157349529341,0.13497859099475007,0.6412163109455274,0.42495309551139804,0.14230643462288373,0.23829505979212529,0.7521407390275195,0.6761653029793985,0.7920269566747108,0.8397102682290939,0.43478372193725356,0.7579994478709722,0.32708218002424316,0.8136814106803025,0.6556736817542987,0.9864428461562161,0.9456887147560771,0.5161686960821218,0.38945082052669555,0.24736413407728486,0.5210869423148846,0.046821503579351,0.9323289090345179,0.05795676463309396,0.23876889546477742,0.4797381720242436,0.17329754180475698,0.3883727586505682,0.6977612307009688,0.3363689102320838,0.9706036226527135,0.2994632781253631,0.9815257262210668,0.3110430442824764,0.10694404667666901,0.35455717379889373,0.4118328723870379,0.9457859344097821,0.28819639643858774,0.25450227578219475,0.0200262414424367,0.15076184634603484,0.09748327155388137,0.9539371486394859,0.37702349849943595,0.656133915480166,0.3653853229400009,0.039272770762741604,0.1986821236136198,0.9236334464541335,0.2775790866867751,0.7603772625162415,0.6408222853712826,0.686225212046638,0.7779724537987747,0.8872228452085625,0.5881936295946322,0.7347768222724638,0.8542236057451245,0.03502495044274423,0.1726004014754159,0.6471037702988415,0.8326728936849869,0.10380616109607654,0.9652210427189537,0.7795572857502483,0.8743446233546186,0.9582811015389936,0.30287219611426286,0.4784155563354877,0.18771107746598126,0.8044708988142806,0.22386817532698977,0.3198145170609352,0.5873055444191382,0.8292629254112897,0.10644161597494906,0.46319787412636715,0.41623211893374923,0.0548843344752894,0.9260614246207796,0.1040070512015161,0.2215644584375791,0.013489792426323532,0.497542956936314,0.47630680697922745,0.2502532701710296,0.30917965774131384,0.23097799628543436,0.41412898649285645,0.15714736431044785,0.504906968107011,0.7568910141113411,0.25184271184849016,0.019571988014168484,0.7251947150152175,0.3776770397052245,0.74196103541034,0.4704926463799499,0.25239479918971697,0.6306493989117709,0.6752254340856712,0.9468771211901662,0.42900797906778465,0.7324200535943183,0.2581867065924661,0.8819583166014203,0.9309404544827837,0.47108963190843656,0.09625614963851004,0.05402116186189965,0.6526558832494245,0.2146396985665311,0.8654027278854065,0.9282884983020123,0.5775405487225049,0.6306282890950384,0.24658122278820405,0.38408674184192626,0.08779513617980061,0.28566569038615774,0.8704056609393698,0.747082721476615,0.40415546451669127,0.1120310979961775,0.4613252694692842,0.6545461181992732,0.25069329942949936,0.6265310625562851,0.06646280803689375,0.45388930767270297,0.1264789042141069,0.4931690594993101,0.8591265968354692,0.504522360235146,0.6226094601379042,0.7870967728007573,0.7891479895623997,0.5093795896031016,0.6563258874387397,0.7435057029723773,0.5565589359011096,0.3555890436351278,0.08510333638890744,0.39506357146823734,0.6020757589656899,0.9858605709400566,0.733827681940956,0.8076387630645027,0.36385334814263204,0.12489497531782245,0.7107323147398518],\"y\":[0.4400349013423116,0.5814272557812964,0.08297178641600744,0.6138629355522085,0.5800903515341785,0.15175647479613574,0.5663602553989828,0.8272845906383561,0.837824148591963,0.819086081052158,0.7467968438708564,0.3356096694463221,0.7309562253284002,0.3471209799194994,0.4493776275418241,0.6345044147552287,0.372540809400714,0.5963775817220139,0.6565946506930695,0.23463552255377595,0.8828727043993937,0.6271756806387925,0.5691466837304623,0.7076167562153199,0.6052111423573413,0.10034134841760167,0.22098114368639243,0.024494138008750443,0.42888425296824884,0.8158806396325762,0.38133439703723193,0.9203089777750295,0.3815795541734919,0.2367918431754038,0.4191796850884031,0.34814587477190617,0.9529511704665674,0.6112046727471576,0.9667697860144355,0.09890787856254213,0.7760215475671397,0.31788308169029045,0.5933650814495014,0.5033530576004146,0.0964662911352604,0.5428914681612197,0.546289846134631,0.7816802091498649,0.09016547145506082,0.9642320529744869,0.8717994638764874,0.24619906551843773,0.017648139178000788,0.8616416152039149,0.4700434303790041,0.620676291129049,0.3162297677847722,0.4486547056104828,0.7930126420739276,0.25515720845321366,0.9521495852441415,0.8452098835796835,0.9708593692042494,0.5399412739499312,0.7886788499171357,0.5933212861646266,0.6447114988865553,0.49993936491734803,0.8533547931093652,0.4336109069387024,0.32194924824663396,0.8783865964891684,0.23604801035490508,0.280401592283791,0.3381260431172438,0.5994068241338372,0.4767071415939179,0.47395383958916415,0.9265093464099831,0.8676957427907811,0.05422577708638199,0.3103906681605857,0.27950307013472775,0.6653741932529501,0.4326180967243912,0.9946023592643264,0.6787762549053544,0.9314684738842591,0.03619666903127339,0.5519644824426833,0.11799460330677336,0.42976979416468264,0.8140930610797895,0.2125140885461,0.2686702293564651,0.6807959293124347,0.7113677311308687,0.13094044957335127,0.04823281277939806,0.0011297494275557263,0.820818969162789,0.35152220402166934,0.6117527590249547,0.5001767974562713,0.9598574810936916,0.6344682957310338,0.6709816417198383,0.16083754742947576,0.42551816870283954,0.23045168546684003,0.5528037904746569,0.7758165007208702,0.7735464508304659,0.15922328915064088,0.27646720077153786,0.46807085327519604,0.07350980326873024,0.4622917149320229,0.7191464401823882,0.5956722496052499,0.6327187043568814,0.024376331519541106,0.24087512750937767,0.27852114881700707,0.3998434642065115,0.6437159739065323,0.7438217644735203,0.40638225732151956,0.33758596726556367,0.4534872154716062,0.9488503832414793,0.31983517491227287,0.37739989862679457,0.7084502703788131,0.07310411283443041,0.8459810646393217,0.1023298569383776,0.8381462218272763,0.2996680779341333,0.58082667901898,0.35622082727180504,0.37111026538497793,0.1388528680834643,0.40477152132275984,0.22907340083329963,0.6121512360826251,0.6734358547349789,0.5960457189357095,0.7897458899371468,0.23254271902676538,0.20393986654240148,0.8052775256551615,0.1706536212949219,0.5941959525356012,0.40158587141972446,0.4319260595039035,0.5568632178739288,0.27005581378665555,0.43207507948044677,0.9539507223653672,0.5971326571740194,0.8613005423540275,0.15806484786697317,0.02012195658597571,0.07901811681248738,0.10152659034438849,0.09466386069347721,0.3653782022189007,0.034168399137412764,0.7131608977465537,0.2434330775541963,0.900788999978441,0.05946776978094381,0.7725616707023982,0.03430602037475694,0.08535137335867848,0.7384290892341174,0.6977677162349974,0.8754823373477102,0.11947273434937578,0.012478281589658358,0.8881335443006566,0.3771909603905401,0.3791065911081658,0.38039262206110314,0.7601268170862664,0.030204883344270295,0.10182273639785766,0.5478937041890121,0.11859065166503024,0.771006846427276,0.3960010269208383,0.07330611130551601,0.9115548587829327,0.6602614375221036,0.5160912635124146,0.5384970225935263,0.2669998873720033,0.22242542994232473,0.2642221174356876,0.7716403014528381,0.8766747666592438,0.5300052920062928,0.9993166400084426,0.6504819445045502,0.0074507014672996474,0.3046695307297186,0.48614320843957914,0.36971909801743064,0.0808188486323379,0.38851051540725334,0.5810525776558614,0.19679238402334787,0.4284165225835106,0.7179488991974452,0.46662276197365893,0.8067168429412851,0.912437270409941,0.8523457724248238,0.26683301394190373,0.7632283797835498,0.03977950118886642,0.13967754382742137,0.21419406088965942,0.4799894482882725,0.030969343050728626,0.8911841988899487,0.1578130329312044,0.8437181223304736,0.3617958367018578,0.4374427773243694,0.9752071944052877,0.44034584885323935,0.042171517741272146,0.4802902263670339,0.7055001722480536,0.2453208573021297,0.46932092709541506,0.16553343104506002,0.7704698101842141,0.4629382259473155,0.9180022605820294,0.6705656528677356,0.31464375965624125,0.7526751196644581,0.7698555764333812,0.9267408044212416,0.8925606574262969,0.8999971506615683,0.45129366925747005,0.20548788397052697,0.07274789379086333,0.42890429659915574,0.18372415310452672,0.9388528942297212,0.2459369852184644,0.7563094154993549,0.004794530664927299,0.667638617401769,0.7486196217154378,0.2882633594915476,0.9457471857211858,0.5156766634707647,0.9920638643550356,0.7094698806808731,0.2445319308113476,0.8829090883746081,0.41813121257755925,0.6397031948902779,0.8679551244357724,0.16866541409161162,0.22493839482358813,0.6062064082338009,0.9311618100452881,0.3213159818460496,0.1680184573606116,0.7205296163061622,0.05015886095130406,0.03354161622465601,0.34105207930762793,0.7081571761671974,0.5879742122497595,0.6477860441905241,0.2737290716941363,0.5151791403482443,0.2594322037321666,0.6863985680382053,0.1528568252265734,0.7942186592075077,0.7205165643581506,0.561906404185498,0.016719721910315788,0.5027478315137353,0.4546535364964013,0.6249325018011154,0.622290577363512,0.9096920906183606,0.002762948811959376,0.3575102230360574,0.6563866181248373,0.7678385569220539,0.859324674219024,0.05639898512808339,0.42921435347529435,0.9034997791816222,0.997817296769707,0.40239745909469526,0.07757602260941465,0.10910515036238655,0.9769502716996405,0.9197164709899676,0.24238690061814394,0.9502948967781615,0.9002082917098835,0.8293859069715529,0.9273728735135018,0.8020344798188587,0.7084026213272265,0.5574078055241366,0.32680230265967414,0.364071522943045,0.843952933702652,0.2052588166001288,0.19545791089247044,0.6212684643340876,0.49812736187497575,0.9260447946196103,0.0730105744751064,0.056091842816848536,0.5218370156580342,0.01969323533372369,0.021700200318089724,0.7643608662872193,0.25313178399436354,0.30155181338032067,0.3589401647064311,0.6643126206742608,0.8703290492892751,0.7461666967468296,0.5461594816420223,0.6266496380348869,0.6182919400178937,0.7613151781490378,0.25934461156676714,0.3993619465484116,0.6920033889545991,0.3876887019499674,0.7958504161942219,0.8800334596669575,0.0987513355031151,0.2552158370302289,0.483267482372732,0.6487981789308218,0.28450125295616935,0.14838799380013423,0.3344399195289878,0.46123998661331356,0.8701073870319885,0.5572406458655726,0.3218344630068227,0.38033797242134326,0.6099025498955372,0.07300434579975446,0.3933979926178979,0.24572789308526144,0.3456241959316655,0.07086848293358383,0.584229713682605,0.23213458159624956,0.3069219430338903,0.0016539797946363288,0.7122444957972047,0.7150578582368876,0.16454333554522838,0.5994231737216947,0.20663062446757774,0.8509315130152086,0.27400063857868917,0.10016863984288793,0.21416269676404265,0.17107766207598463,0.639209500341849,0.6820406850171304,0.2699336894788804,0.7836491197906275,0.9378065324338097,0.15509978137774016,0.700933605711226,0.2145957383505327,0.9130751269427039,0.6695449700349833,0.9060823280864286,0.07606501957321843,0.4312586282475467,0.30287482053434434,0.7490885566597469,0.11123356803982787,0.020679659850096455,0.5686255742984156,0.6861634713956547,0.7085190920168438,0.42011582992472296,0.987248789808963,0.899855701228674,0.7735687608770345,0.8497027613674973,0.3278668369396107,0.9659203518540582,0.9673639363391027,0.730235826478139,0.9749616129359086,0.987918090002492,0.15201550381697426,0.502573417096367,0.8265063868555813,0.8368531322528149,0.9807801490230665,0.07598762449868124,0.014835980584783748,0.3322953436010354,0.05682348941185422,0.14873495073555454,0.00428927791897582,0.5054649952065643,0.4274512016173857,0.005854109048084144,0.31033711182870705,0.7902813320646151,0.6924652253565038,0.26174927964591455,0.8940300698371428,0.39994052744128705,0.8628700861331778,0.39820687448380676,0.11497785922291681,0.6162079864241966,0.405764697917223,0.47732535639868745,0.3386892331342368,0.812581874026478,0.2155931468949236,0.9895069686468194,0.6212026272985534,0.9616242120942576,0.8425641276566863,0.41140957121831734,0.883363757639956,0.42905687178578145,0.34140288367748917,0.6981003235012264,0.8575062031778489,0.40963855492272916,0.5425695609795198,0.48992466490947895,0.5017123487756427,0.019312692423966826,0.7128280100778651,0.8008118737234566,0.1792111662758028,0.6671128430940023,0.7312125321157572,0.12805924663785684,0.9473438735493447,0.47959899339638956,0.41766223454902107,0.2265981046126878,0.26475485878223115,0.5829908189475917,0.4118433793335563,0.8347285821159185,0.709548759097577,0.7138441475626472,0.17430150828347502,0.46807343864403084,0.3804325663679202,0.33098241681983154,0.6464184594106857,0.15642561265282462,0.516249286889733,0.48164301059340475,0.9418790317876808,0.9556445190983056,0.01325467274200165,0.7514118842790489,0.6887292090124982,0.46110350255963994,0.5088652284910116,0.036987435807826485,0.2053816291174163,0.20884353158165703,0.863024157133074,0.5105726884079022,0.5781839600507349,0.8711360962251384,0.6414844724989656,0.9948119706295728,0.35603649323832376,0.6234676579675691,0.8659433883484006,0.11143433910808809]},\"selected\":{\"id\":\"2103\",\"type\":\"Selection\"},\"selection_policy\":{\"id\":\"2104\",\"type\":\"UnionRenderers\"}},\"id\":\"1993\",\"type\":\"ColumnDataSource\"},{\"attributes\":{\"fill_alpha\":{\"value\":0.4},\"fill_color\":{\"field\":\"color\"},\"line_alpha\":{\"value\":0.4},\"line_color\":{\"field\":\"color\"},\"size\":{\"units\":\"screen\",\"value\":8},\"x\":{\"field\":\"x\"},\"y\":{\"field\":\"y\"}},\"id\":\"2019\",\"type\":\"Circle\"},{\"attributes\":{},\"id\":\"2099\",\"type\":\"BasicTickFormatter\"},{\"attributes\":{\"callback\":null,\"overlay\":{\"id\":\"2102\",\"type\":\"PolyAnnotation\"}},\"id\":\"2015\",\"type\":\"LassoSelectTool\"},{\"attributes\":{\"callback\":null},\"id\":\"1997\",\"type\":\"DataRange1d\"},{\"attributes\":{},\"id\":\"2101\",\"type\":\"BasicTickFormatter\"},{\"attributes\":{\"fill_alpha\":{\"value\":0.5},\"fill_color\":{\"value\":\"lightgrey\"},\"level\":\"overlay\",\"line_alpha\":{\"value\":1.0},\"line_color\":{\"value\":\"black\"},\"line_dash\":[4,4],\"line_width\":{\"value\":2},\"xs_units\":\"screen\",\"ys_units\":\"screen\"},\"id\":\"2102\",\"type\":\"PolyAnnotation\"},{\"attributes\":{\"formatter\":{\"id\":\"2101\",\"type\":\"BasicTickFormatter\"},\"ticker\":{\"id\":\"2011\",\"type\":\"BasicTicker\"}},\"id\":\"2010\",\"type\":\"LinearAxis\"},{\"attributes\":{},\"id\":\"2103\",\"type\":\"Selection\"},{\"attributes\":{},\"id\":\"2003\",\"type\":\"LinearScale\"},{\"attributes\":{},\"id\":\"2104\",\"type\":\"UnionRenderers\"},{\"attributes\":{\"formatter\":{\"id\":\"2099\",\"type\":\"BasicTickFormatter\"},\"ticker\":{\"id\":\"2006\",\"type\":\"BasicTicker\"}},\"id\":\"2005\",\"type\":\"LinearAxis\"},{\"attributes\":{},\"id\":\"2105\",\"type\":\"Selection\"},{\"attributes\":{\"callback\":null,\"data\":{\"xm\":[0,1],\"ym\":[0.5,0.5]},\"selected\":{\"id\":\"2105\",\"type\":\"Selection\"},\"selection_policy\":{\"id\":\"2106\",\"type\":\"UnionRenderers\"}},\"id\":\"2024\",\"type\":\"ColumnDataSource\"},{\"attributes\":{\"dimension\":1,\"ticker\":{\"id\":\"2011\",\"type\":\"BasicTicker\"}},\"id\":\"2014\",\"type\":\"Grid\"},{\"attributes\":{},\"id\":\"2006\",\"type\":\"BasicTicker\"}],\"root_ids\":[\"1994\"]},\"title\":\"Bokeh Application\",\"version\":\"1.3.4\"}};\n",
       "  var render_items = [{\"docid\":\"df50e91c-4246-41b0-b51a-d521b0888a52\",\"roots\":{\"1994\":\"d98c93c2-9539-49fc-bbfe-4e38144d5673\"}}];\n",
       "  root.Bokeh.embed.embed_items_notebook(docs_json, render_items);\n",
       "\n",
       "  }\n",
       "  if (root.Bokeh !== undefined) {\n",
       "    embed_document(root);\n",
       "  } else {\n",
       "    var attempts = 0;\n",
       "    var timer = setInterval(function(root) {\n",
       "      if (root.Bokeh !== undefined) {\n",
       "        embed_document(root);\n",
       "        clearInterval(timer);\n",
       "      }\n",
       "      attempts++;\n",
       "      if (attempts > 100) {\n",
       "        console.log(\"Bokeh: ERROR: Unable to run BokehJS code because BokehJS library is missing\");\n",
       "        clearInterval(timer);\n",
       "      }\n",
       "    }, 10, root)\n",
       "  }\n",
       "})(window);"
      ],
      "application/vnd.bokehjs_exec.v0+json": ""
     },
     "metadata": {
      "application/vnd.bokehjs_exec.v0+json": {
       "id": "1994"
      }
     },
     "output_type": "display_data"
    }
   ],
   "source": [
    "from random import random\n",
    "\n",
    "x = [random() for x in range(500)]\n",
    "y = [random() for y in range(500)]\n",
    "color = [\"navy\"] * len(x)\n",
    "\n",
    "s1 = ColumnDataSource(data=dict(x=x, y=y, color=color))\n",
    "p = figure(plot_width=400, plot_height=400, tools=\"lasso_select\", title=\"Select Here\")\n",
    "p.circle('x', 'y', color='color', size=8, alpha=0.4, source=s1, \n",
    "         selection_color=\"firebrick\", selection_alpha=0.4)\n",
    "\n",
    "s2 = ColumnDataSource(data=dict(xm=[0,1],ym=[0.5, 0.5]))\n",
    "p.line(x='xm', y='ym', color=\"orange\", line_width=5, alpha=0.6, source=s2)\n",
    "\n",
    "s1.callback = CustomJS(args=dict(s1=s1, s2=s2), code=\"\"\"\n",
    "    var inds = s1.selected.indices;\n",
    "    if (inds.length == 0)\n",
    "        return;\n",
    "\n",
    "    var ym = 0\n",
    "    for (var i = 0; i < inds.length; i++) {\n",
    "        ym += s1.data.y[inds[i]]\n",
    "    }\n",
    "    \n",
    "    ym /= inds.length\n",
    "    s2.data.ym = [ym, ym]\n",
    "\n",
    "    // necessary becasue we mutated source.data in-place\n",
    "    s2.change.emit();  \n",
    "\"\"\")\n",
    "\n",
    "show(p)"
   ]
  },
  {
   "cell_type": "code",
   "execution_count": 13,
   "metadata": {},
   "outputs": [],
   "source": [
    "# Exercise: Experiment with selection callbacks\n",
    "\n"
   ]
  },
  {
   "cell_type": "markdown",
   "metadata": {},
   "source": [
    "## CustomJS for UI Events\n",
    "\n",
    "Bokeh also has a general events system\n",
    "\n",
    "All of the available UI events, and their properties, are listed in the Reference Guide section for [bokeh.events](https://bokeh.pydata.org/en/latest/docs/reference/events.html)"
   ]
  },
  {
   "cell_type": "code",
   "execution_count": 11,
   "metadata": {},
   "outputs": [
    {
     "data": {
      "text/html": [
       "\n",
       "\n",
       "\n",
       "\n",
       "\n",
       "\n",
       "  <div class=\"bk-root\" id=\"e44d74cf-2b72-40bf-b191-c0cf3d5d57c9\" data-root-id=\"2369\"></div>\n"
      ]
     },
     "metadata": {},
     "output_type": "display_data"
    },
    {
     "data": {
      "application/javascript": [
       "(function(root) {\n",
       "  function embed_document(root) {\n",
       "    \n",
       "  var docs_json = {\"995eb2ca-a35c-4fb4-8634-c2fe81969a55\":{\"roots\":{\"references\":[{\"attributes\":{\"children\":[{\"id\":\"2367\",\"type\":\"Button\"},{\"id\":\"2368\",\"type\":\"Row\"}]},\"id\":\"2369\",\"type\":\"Column\"},{\"attributes\":{\"ticker\":{\"id\":\"2349\",\"type\":\"BasicTicker\"}},\"id\":\"2352\",\"type\":\"Grid\"},{\"attributes\":{},\"id\":\"2465\",\"type\":\"UnionRenderers\"},{\"attributes\":{},\"id\":\"2346\",\"type\":\"LinearScale\"},{\"attributes\":{\"callback\":null,\"overlay\":{\"id\":\"2463\",\"type\":\"BoxAnnotation\"}},\"id\":\"2358\",\"type\":\"BoxSelectTool\"},{\"attributes\":{\"active_drag\":\"auto\",\"active_inspect\":\"auto\",\"active_multi\":null,\"active_scroll\":\"auto\",\"active_tap\":\"auto\",\"tools\":[{\"id\":\"2358\",\"type\":\"BoxSelectTool\"}]},\"id\":\"2359\",\"type\":\"Toolbar\"},{\"attributes\":{\"dimension\":1,\"ticker\":{\"id\":\"2354\",\"type\":\"BasicTicker\"}},\"id\":\"2357\",\"type\":\"Grid\"},{\"attributes\":{},\"id\":\"2354\",\"type\":\"BasicTicker\"},{\"attributes\":{\"bottom_units\":\"screen\",\"fill_alpha\":{\"value\":0.5},\"fill_color\":{\"value\":\"lightgrey\"},\"left_units\":\"screen\",\"level\":\"overlay\",\"line_alpha\":{\"value\":1.0},\"line_color\":{\"value\":\"black\"},\"line_dash\":[4,4],\"line_width\":{\"value\":2},\"render_mode\":\"css\",\"right_units\":\"screen\",\"top_units\":\"screen\"},\"id\":\"2463\",\"type\":\"BoxAnnotation\"},{\"attributes\":{\"formatter\":{\"id\":\"2462\",\"type\":\"BasicTickFormatter\"},\"ticker\":{\"id\":\"2354\",\"type\":\"BasicTicker\"}},\"id\":\"2353\",\"type\":\"LinearAxis\"},{\"attributes\":{\"fill_alpha\":{\"value\":0.6},\"fill_color\":{\"value\":\"#1f77b4\"},\"line_color\":{\"value\":null},\"radius\":{\"units\":\"data\",\"value\":1},\"x\":{\"field\":\"x\"},\"y\":{\"field\":\"y\"}},\"id\":\"2362\",\"type\":\"Circle\"},{\"attributes\":{\"fill_alpha\":{\"value\":0.1},\"fill_color\":{\"value\":\"#1f77b4\"},\"line_alpha\":{\"value\":0.1},\"line_color\":{\"value\":\"#1f77b4\"},\"radius\":{\"units\":\"data\",\"value\":1},\"x\":{\"field\":\"x\"},\"y\":{\"field\":\"y\"}},\"id\":\"2363\",\"type\":\"Circle\"},{\"attributes\":{\"text\":\"\"},\"id\":\"2458\",\"type\":\"Title\"},{\"attributes\":{\"callback\":null,\"icon\":null,\"js_event_callbacks\":{\"button_click\":[{\"id\":\"2370\",\"type\":\"CustomJS\"}]},\"width\":300},\"id\":\"2367\",\"type\":\"Button\"},{\"attributes\":{\"callback\":null},\"id\":\"2342\",\"type\":\"DataRange1d\"},{\"attributes\":{},\"id\":\"2464\",\"type\":\"Selection\"},{\"attributes\":{\"width\":400},\"id\":\"2366\",\"type\":\"Div\"},{\"attributes\":{\"callback\":null,\"data\":{\"x\":{\"__ndarray__\":\"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\",\"dtype\":\"float64\",\"shape\":[2000]},\"y\":{\"__ndarray__\":\"xDKQ+Xn4SkDVh0QlDhlYQLQtniskLEhAvy+OrEdLTUDlZOj95MBUQPSU8ryFH1hAbyuAdQIYS0DxsDPf3sBLQJ7NSBzr7FFAEJ1f99mpNkAENNwlIXZUQM2fbde2lDZARFeuSn3ZP0AS2YvTktlTQMCOFq7FoD9APU7zU3q3U0Dk9MQ0P8hXQLTy12fTwlZAkEhkZOFIQUCEEgNo5UBVQAu1fLClHElAYNKauFLZPkDb5lahxNFXQOgOBQYP5zxA6mCsV7D0VkDMuge694o/QCKCmlkK2iBApwmBXkrOVEAFlJYO+HJXQGagkDnOLUVABut39cxeV0BAVWqXihQ1QGkEmpF2dlZAE0kt+sg+UUAza7TQWr9YQGQL6V/7YiRAdOOy/aAqJUBQv6nFqJpXQNpy5kLG5CVAmiol77CXQUDo/OJPr0Q1QALgdjsirkhAVHKFh3zpVUD7BAdlgFhDQCFpeCihh1RAHD8B5e6ORkB3wHb8vjFTQLOETG6gSk1AA4CfZgF5SUDZE9MkjzNGQIRvpEWXJU9AOknx0CuhVkBNvQPc8spSQC5+4UPOESNARdbFRsqFTECMD2CY4ZM3QJRmYBcY/jNAfDDGDXE+REDsJcvM/EksQG/ALVyb5URAp3IzpFnqVEDVJMVs7zFYQNPdleiDH1ZAhaWmGUhjVkAenVtahIQ0QCqqLasYJlFAhpwbH+34RkCeYevKGwUgQCM6wmVfEVZAhle49FHvM0ACWEjFhXFDQEnIb9kdi1VATmhCS3oDNUCACwothrZHQLbWfWKGpCZAChaeFTikJ0BQzAC4YgNPQF5Il8d0VzlAsHm8dNisSUCLYvj4US5DQDewQ2ThNVhAaHBa/SYNU0BYQ6pZqg9VQBxsW2LXCDhAhN4bPq/tTkDSmAUdHQEtQALcbKu6bzxAg3JdZ5u4OkBCKRXqu/ciQBh8YBTYFTxAtJjRfAprSkBdOHhj7DZTQNAhOuBFsTFA92nrDc5PQ0DTg2rTTddRQGlWMEkrEixAhupWXbNdVUDYDFEhREYiQFODH9QRlUhAtBy2AKXUVECxu4bViF5IQM/ygdLG3UdAX/EIwOleU0BrOVJyniVMQBMUbuyMwUVA36P4InigU0C0/HyV+QJWQJU53wRoGVRAYkNj/zImWEDQa1L0fJouQGS0VEEPbCFAOwZxvixwVECtBI9a+ctOQEiGe+oXKyZAzCgB5TE6TkC9Z8PhnXJKQOK3AxbROD1AUy5+h9mVREBFsY+r9EJEQHuGodvNYlVAs4/dyTQ+UEBEkRri7MVRQGDoYnZpBVJAROaEaFMuV0AWHVKWEsE6QC/C5pKHyldA8h7dlnvBR0AjHp8oo0tAQLPTC5mRhlhAkJIvPhMgQEBfZ5idDuIyQFkMyYJTE0FATBUASqgAUEDiuRt70zBPQJpL/prhNUJA+EIy7ayrSkDGIrVPo+0CQAmLBUHtqlhA0/IthuhTU0BEKRnr7Fg3QPiJwK6XIFhAsXgvG3TxMUCcM9fIzZBBQB9sOfDZo1VANe0SrJDJUUCrRSWfPl1TQLhovGiyOUVA6sldTwqgUUCLtzCHL0lUQN6QqF5n6UZA0IuQk2lEH0Bm1iXoAWtFQCLaHT3MehhAWJdYGXOaUEAHd9OPf0k9QAbyuWD2rBJAwNm/rAbIM0BqWdvTBcZEQP4h8XwtNElApm8JqMWDJUCfs7bGHS1EQKjlObJtw0ZA0QHFwj0SREDYWrzrwzw0QKH9cVuAI0dAlokKoqsGV0AhtyUhEwhBQK5v4NrmODhADXaDILsuVkBB2K7/z31UQBwhaXXzTz1Ap/lSO9qbWEB5WEq6QaxNQCci5STqZlJAdWQnqDI8U0CKT0XnUx9XQGpl1WBaKlRAq5E7HiF/SEBanHrDKE8cQMDrqy7UE1FA6SNUSAPcU0CuYlwPUCANQEY7NW+WphdAHc48eYqtVEARsNtoxT9TQDqui3TyO0FAhivOkIdvNUCtsOs8cVZDQOvnceEOAVBAFrLLMShgFEAAjn856j9QQFymXMQ+XUhA3uZD6Xl8UUA5Cpt7NNVCQB4Zzjfp2VBAx3XbPKfuWEDmOikOJL5TQKCvOmpVAug/W35bQVusNUCNEAqU9C1RQDoHkbGkqlBAPuXlMpDpVUCIitLtNPdKQFj+NpMwFUhA/SWlh5f8IUCgvurtlAc5QJFKexkLe1VApfBshN7NVkBESrRBsz9CQL8oC+FWC0tAZTOGo7Z1U0Ca3cK4L6ZOQJXoLHCh5kRA4kYHwvIFVkBrKNpGgY8hQM+/wLawS1ZAUfIgmgmGRUDyLJdHlEpNQHIfmOb/FThAS47iHmhZTEABe+o/hI5UQFmfiGyM4ElAQs7rsQ+vQkB8S/7hKT9BQJ4djrURkVBAvRM56e5NV0CNdDnszL08QFSIHSof/EpAm5ZR6uLbM0BiVLAhDn9AQA77hUTh0lNAGu2WD/aiEECHNSxdNFBVQEE8zVhtk0xA7JSEZlnXUUBm3896Yp1BQJ8wIimiXFRAXuQxtCXGKkCOnqGXUKBJQPwZzyjRT1FAPlwD9b5KUkAa5a4HdfFVQCpkR6hXuSNA0QVrAfinQEA8wJgBzwJYQPr/RoG8ETtA6hqlAzjxUkDlGNLRYMVMQDidN9swLURAIsKgMMfxVEDYC0fl1CJNQPw8kT5YLjZAQouBn8ePVECSFGZRiUo7QHtzwgoNFVBAe6VCM1b6A0CvRWcb6u5UQF2HKU0b11RAtCaEblgbP0B8nKdkILs4QFpLGf/CWFNAT+RBZrZoVEAGDenfYn1XQHoQfAQ9EjxAyBR3af4PREBYZ99e8/NOQESya5qxRTpAYDmw996vUECWFtlHsJdDQOopD215IVNAPbZ6sYuLV0DAK+VZFXNMQM/vzEmGcBBA09JN90ziUEAPQ9oayzdXQHU1/wvfd0ZAzJW2jcC/RkCE2eEIr8I5QOuvcOP/qUBAXA+a8VPgREAM2LyWijZSQIVFPF6iLlhAD+n/80JwEED5lxkY39xPQHE1e0z5ASNA3tXy8ko0TkBZzROEbcVBQHeyPC4NwTRAzROFnZxOUUDepLwvdqE1QNMC+5F4gU5ANlPVqH7rT0AEVHzZ5I8XQFbxWVuKzEVAjoqLLixiHkDw7UHzrQo/QNbJ4QYPSk9AWkN5q0taJUBgHT7IaZBIQKRh47HWBD9AGCOXdJhKVECUjPLxGtpMQDD8alVEyzBAgXXXKCQLVUD6yZpcMiH0P4MsxhpGs1BADfUKtLSXTkCGiikHAj9CQIBvVVOJNi1AcuDML/Y4U0DEgoQExNIoQCvb/69imiRAFgpaXiK9PUA/s3worgMwQBf8vvQr+VhAmZHV8DXwR0ALwjSPIVUqQEzQcKDZHEFApF5s8SjmTkA+Szk4x6RUQAwvz6bYQ1NA3E25meTHS0AA8BdmnRNUQB8JIWkmhFhAX7hKTBG9SUBANI6AZABDQJAQ/9kRNM0/3ijIOtzjQkDKAdC87iEwQDdOtUo5BkdAtWGo26SIMkB1bIftITU7QBqJMN+9QjFA3IpaO4YLTUCozKZKHNZIQEIdNjbtPkdAEuogZFNjUEBerm4u8ShLQHBDUiE4YlJAz9Y5FMgGVkCSbA//Px40QLfTafappFdAh9opscHBT0Dk1VGqGBBRQKTpISC+clRAU1QDoYhjRkCFiHXz65ExQNJlzwd/F09AqHubEMWCRkBec1kETHxVQHGlx+wwSFJAvasC5RCdOkA8VVb1IXY4QHphJWhPrUtA1RCz2fqdRkCvorVNYSlJQE2zgBsJuU1AD3G7TsQXJkAj+klYyTM3QIJTEasL5UlApJWP8tRATEBZ6amwVoZWQCwbF9vk4StAlbNjx+F8PkAUXUJWWTIFQFnwNeM1kFhAi+v04BVnVUA25My0ndZMQDBgPIS6yiFAn65BwrGCUUBEwcqe3L1MQEcmh7FnByJAzXT3uxRsOkB2IKp/1FpOQDEtZBLmMUNAXaVZIBNkU0CUHhfwb2dYQAtDqLGpglRA0XLLsu8zUkCdldYUv5Q4QCmoYGCEo1dAwHOICMV9R0DqsicUr0RPQNngdwocrUpAtIi9EZgYVEBEjIsfhghPQKqhuTyY1kFAzIKhQBDdA0DFeHiiWCVPQJ872jVLC0hAZ2WjJwMcQkA4e1QQC0BRQGQROQZ9oDtAKLr1Ms02VUB2Z7pMhhkVQIuObOVr7FBA+Oo8QRw/QkA8aIU2fpZOQC/JdlNOelVALiseLP/uN0COBm+xktFCQF9TaCmqYldAPFskeuxlEUC60dfqbR41QN6/18Bk9CVAAPPKVdfjUECGRx3bKUZWQKYxCEkRoldAhjD5C50iNUADLdQTG1xLQP14DN/nJztAcI7Qj32gWEDhRDlkD/dXQA4sUDplxfA/jtKpwvQ3VUBLLo2uRj5GQGiPtkEKt1JAJNVBMAhdLkDiX6YveoA0QE3qa1ZszBhA7ysOuAzFV0A4+Z1cjPdVQKIBUiWCFSpAY/4hDb/nQkC08McuwfcsQKJRkK/C/EJANFsY26aWNUCyDc1kVactQMLlSwRU6xhApT7SYt5UIkDRxgmhdAdGQFzx+Ey6DSxAnCYFLs4vSEDE+zbYkxBSQKJD7TqkYhBAY4SzE7wVVEDY8iQ+1Mc7QOfrpzmEi05AoMpY/O+aVED4UWb1WlFVQO1p6VjoIVBAO7Hw1yWNVkAOLRCSJkkQQMjBVLV8r0pACqqkY19yUED49QHM/WFYQESkA+RCGFZAy+Zf/VaTV0AJinEUDhhGQLgpsAzHnzZAFuw1pASXU0Bm0GOAEWJAQD7kTN78o0xAJwHbZRguU0ChpCfpjXZTQMz2T3WnFlhALkiVRTxkSUBACaCYSRlYQIfTMuUuVkhAFjkHgljyQ0DTuw8nfgY2QO2mU2UXTEtAilCmE9+IV0Aj8IVbRxBXQC4XnzTxllFA1Lcdq9jNTkBEocippshUQGYGYAOWbStA24zw6a3NWECNEPhG5Gc9QHq+062+cFZA048Od3ftMEC8zrmspX5TQKaKMWKpKVZAeAiFu+yjU0BVv+dpRNFCQIIYNjFDnjRAtuYPe1G4NkAGwHho4087QF71Jm/5GSVAx7tUeqm3R0AADV2S8KhTQOyMhD3ptFhAlZfCqs/7MECwM+zbd6pNQKMKpcaKeFBAVQPObq4DTkBQFtXxVwVOQCNC6V/T0FRAQQZNSZ9pVEA+RWY/pZxPQEA4dZw5T1NAAfzFxxQ6V0DnkXM8nfdYQB+2/yoF3jVAhxx9WLJmMUA5UfF9UntHQEjxR0y9XkpApLfG1aWBQEBwckcwMGdUQAH7Y79kb1BAbqmVt4tUK0AsooqEWsQ6QFS/tLulv1ZArTC6tdjqMkBXb54iGRojQJKqKBvUNjpA6Iffxte7VUDU4srstdYIQJOQOhFkRVdAJKdLLzs/I0Bc6biRk5RUQDoT3fYtXFFA0+brLpSyV0DkRQeNGXg8QGRn1ZOzg01AxwNz9GDBQEAu1DIcqflNQKRJD+lBfDlAzLgEe8GhU0BPSFP8Z3s/QCHKtIZhy0hAjQguHqh2RUB6/7wUXU5TQGokXXK3/zJAmcXwztZrSEB3/KxAL+oWQKqvZD8G9y1AMPTtDVaDQ0D9McXd8lxMQKUlOcjPxVdATY9u5vA6U0CofEldof/vP9SPBIYXbQlAEZABQvhHNkDqxWAomHlRQCaYsVD2k0JAFr0UXhqBNkD+tjeMJTBDQCZwrDmRbkJA3Gr+8hSrU0Bn85vfW8NQQMzw370CDEtAZKJZfXhWPED6kFEFncZPQPUQoUzBUw9ATuhyCJ4wVECm9JSXpK5CQO9SptpibVNA0ODyLqO4K0Bw7PegEFUrQC1TF/S2KkFAYh44OFdrUEAHvV4P/dg6QHZ+MzXOECdAXJFarIieQEBAZxJb5WpSQCDaRHQpD1RAUNglqutGSkAYoAKy78IxQOuUXmgN81VAyhDXKMZ7VkBZbGSVmD5JQKfx0IqY/zdA+AU+YhxVLkBB/6t8YJ9AQJAb8JS0FFBA5S37HsLgUkDccgYHznJWQH9x9+kzERtArfcLtnkMV0CqPdgSWHQ+QESJYggLeT9AcRYQ9LvvVEDdeWNTqblHQCVUrNpZGA9A4RUyoJGEPEBV7CPBbNxRQFDHhEni/lVA61yD9ebUUkArq6Hnh9xGQOJx3t51aFNAsEaos5n7T0CBXcf1XMtSQKFkKwlAxVJAFgcixLiyOkB0bXx2tGc2QAgWJxu8+1ZAaD2FLpQpUkDEFpUil2tVQGYC3c2uhThAR5hgrpZJRED9vEz7rgRLQGbq3T8bm1BAsje9GDgGTkCjRQTFoANUQLVBB9dJR09AJJpPG+1VU0DqT3Izu8U/QLyyawtSdxlAm1ByvMPCP0AmvKvzVIkhQBdyEpRD4lRAADFq0e1qVUB8ekqEea9OQIPe9SLNbU9AO1n+ff1vSEAcnJfW/g1FQFjHJap6X1hAfXI8TwX2TUAX8Ytt+b1RQBTE4sJZoj9AEsdkByAOV0BPTg0gRqFLQHn6gmtlMCtArNArHrJDQ0A/vfRK22VFQBjU6ls1SDJAvWdtYYo8VkA6/Ru/uNNRQN9P46KIM1VANzDwF+j/QkAs/zO21aZSQGHdsRgc21ZAEQXEN7vXKEARpEP9CGZJQFSZimwwz1BARgNzH1e8PkAO03fbuhFKQB248TbeWFZA568lKDMDRECGC/OvPSFBQLZuiNY9AkBAAjy4wf1dVUCR00JfIhwmQISxPA6QJktAbwTBF/G5VUBBI3Idb2xFQDikpRuGUURAZDYmdwknUkDqOi4DgLFAQAR3qfRhqw9A/pSSgk7kVECQGF3CPktIQO439qHg70tAqEV0/4NjQECIC01l3rFYQE3lVp8ct1dAyOtBvNq5UkAaDmMkEURWQK4nR9x1Y0BAB82LzGiQUEBq+doNuSBPQP6c6xMdvEJAdaqg71eWUECZ32/y6Y1YQG/hKKIPyjxA3WxVVu7fTED7O0FoNak8QJl9+9RqTFhA7DTQUen8S0DyeGL1ZX9TQPlq26mHk0NADcwIUUrSRUB4vdxOFbE4QFgFZAdZBVNAbnghb31IRUDk96waUURSQJ+tH04eyFZAdiw1uwDkRkDzB0zsZsRGQAJPkTWrWSdA02pOvbDTE0BRwzUBmRhHQKm7EMwoAkxAOjtMlAJiTkATwJoAhyQkQKaj6n+R5kJAZmi5H51OSkBLbEfVlScUQFNUjsu3jVBATZ28DMznVECP+d933cJHQKGVT27s/CNARONK/ok8WEDsKl7A2/oUQA80kLqZFDJAzoAk0TDfQEA+zurREhZKQMnbPzsTJ0dAeef0tVJhJ0DO9oDm5EoeQELDzkcivkNAQ2aQnLhOUkCq9s3wOXVQQCgcxkM5w1RAaLi/gSayVEAE7NEzq5MxQJFQaUEnh1ZAaVCUUo6rVEBDCcMvhUdGQGKoriDk00hAbnM9kDxNUUBohcDGeTk/QFTDfTPAvydAdKKE4TAAUkDXQ2bev9BUQJHPEcwCsFRAP+gUEi1nTkAk/UAqOgw8QAOehwGTm0tAbC/M0hwZUUDBnOkhXMxOQOl/dZKodFBAAHxOPnl7TkDRs6RuQ9FAQPBM8zSz5VVA1RRGk3/PUUASwPGEr183QPbDgJYgMztAahIZ2ZnKU0AFPwaiSuQ8QAIpx8EfpiNAb8cv3KGdS0BoKXnob7hLQLs5wjpJN1BAu+fv8w0aMkBUpDuZIzRFQGq+Cf7+tCJAFhD0v5SjVkCoZTbJixlSQLMaC3sS81NAklJqJ6vROUBmU6flCilDQKYJsGSpkjtAtO5iDXnQS0ClecSQAxFSQKGoitaaKkdAnqPYizfxOkCOQvtkFplJQPFQSjr8IE5A+t/s/MaIVEB++gyEGyJUQOuJdaDSfVRAifjGywyIQkBpEnCud4VEQJnEYBGMpFVAE7qwx2LcVECMLBxZokNSQGK4TJb/E0dAlTZI9/reSUBA2R+xsYJBQJWZM6cUOUVAwrttrD4iTUAVfDdIzB09QN14SiOy+UxANElnc2MsNUDnhU/aI8c9QJypnXnYrEBAyozC4X85VUCV8wNusyVWQGWVcmrLIVJAOgYIw/hFUkCGMcE9KMdQQGR2WC4XzkdAk/hjOrvEU0AKpQD7xpxGQD7UIeed3zBAonsg1YXQSEC8RojmPK4WQPEda02GXDVAYuhTPaf6VEAGgI2oJFQ3QLT6wHflwFhAPa6JW5cMVUAtN8H7ZmQIQA+TmPXwkE5A2MqjJkOgVEA0kNSM9DHjP+x+2zQP+jNAJypGE+ejMEABbq4vPoVWQFZLdYEIG1hAACQ8lMxtOEB0HpMGqVNTQJ8JFloif1BAWh7j6vZ1VUA/c8L3QOZMQImU8T+AuFJAiyVeSrjiRUCvLlgv5BQ8QI58tbTD+klA4ozkpDWYHUBWKGtsPAMYQPpV/fml0EdAU2OctG8IWEDpwjpUHlNNQH4jX9KPcT5AYUNzmPVZI0AFjUQfTTMrQEcfsF7YIFNAwI+OIDfyNkDfkviMIhFCQL4VezHX/DFAn6j84tb3V0B5EST7LwlAQB2gA0T4DVNAd+k6khe3VkBPpjX9FBFSQOAbFlxjllhA7GA8Wd8FVUBnDDA9uoFEQNi7DCG7gVNAjXTspN5wKECcleQqNpQmQBZClL8dmDpABQP9CXiAVUDOkpRzRl07QMqk7FuGsDlANdkDEjMBUkAU6lHyAFxMQHr9OaFELTlAiGyPi+nn9D9h+2waJmhUQDAPcj36GSdAvo/nuOAFMED47jQI5v9PQJtCy+18y1NAq1yOk8ZWTUC0GWuneEMQQMcsL/FW/VJA1upbmsyxKEADK6ZAjuYyQP62tunjikJAUgi/xGQ2RkAzieuAD2JKQO9GXf4Xv1NAYwIZP6bSUUC5iZPZAT9EQDeNsvAyki9Ay9wc2kYwUUDbBG1Z+BJKQH/ja7OTT0BARDidicKLVkDVgeLNRs9YQJ0QDW0rqElAtr2vOtNLR0BsgE3EL+9KQNsjd6ud2lFAXjWHgJotF0ArKHSqL71DQN1ZXBKBJ1dAh6tto9RKUkBOyHGp+7lXQBTLM0WzIztApy/a7CMFVkBWo0aUvXdWQJIlBH4tF0BAh/5pS7iiR0CheiuaF5tTQP0+0u0SKFNAH3NHaYtmTkAtU1LxkvQkQM+mAXjivFJAVHeGpuhmVUCc1HnnqaonQP0CmX61XlFAUv9+cZsmUEAIjRTZ0StCQNbnRI0K5khAAjS72JmpSEB153HpLTgqQFpdTNT9YlNAqVrFYhq3RkCP1pRc18VWQDH1bJd9pCdAVgWoeA7bV0Alov38s8FFQJd4kg9huExA+gUctCiyPkBmG/bVu7YXQJdEFJCqBFRA5zuf+jPpOkDnXncFUZElQDRQWErUL0RA3DpIwP1HIEBCmH6xuvAQQCAu+9DtoEhAEAx+cW/HQEBdq23KZGdHQKt4lkc8jVRA27zkJyZTQECaOpUWBxlYQHS/qNGnuElAP01+yWEzSECMScuIfi9PQGIq5xQLu1FApMVhC5xFTkCGnhKSYuMfQFyonUnaZk5AqATEjjS6VUB4knOVg6dWQEWQo9I2AEdAHRuFYgmgV0C4nHRCRxtRQOfmYi2bpyhAVNF25p0/UkCA/8ZpvDuhP+ArcbAgoSVA5GkS6Wl7UkDLuEC2UOw/QPEWrDQcbU9AVKeNCc4gPUBVbFtgLNQ3QK6mUJsJ7i5AG3YvORAwAUD5m2lSEiJQQBjrvsUDizdAQ9uw2IsaTUAx7DNjmH5PQN6wG48fbFFADZ/w5lleOkDLqdViHVtDQOZ4Ua1bOlBAHce44ihZVUDc+FCsf0IjQIiHnGSJ/kBA6SG4s0tGVkDyFCa00dsYQGR2fI96m0BAUdHa/MUmRUDah/l8oQc0QHDtZh+VcjNAxgb+pNaMMkAxoAKBvdY6QOAs1oww51NArb/cv3RdTUDUio0QvRhSQKshJBSWXVdAJf60J8bIU0CRH4KTij05QPqoLUA1skxAz+j8N60hMkDhScXWnnc7QNbnXoILSFJAmWbPAM9jU0A+ggxhzpdXQGkuvOr88FFAalm87OzdSUDpwCll/ClNQBh9FQ1jSFJAgL2DzWOiNUAIpXbvI+nrPx7OxnkW1D5AlATKimDg8j/Gp8S1/jNGQE3Gh92PTldAmygsjFf0UkD2MDsEkEhUQG7xGyV5BkNAaoVBsgRfRUAauOk7nNxSQNb3e8XTbVZAMnsaTGbgQkDsx0KFu+QfQNWnGV6YsEJAiXHPVSIbBkA7A2iCg/9XQEcNc+lg/kZAYalkEQA3UEAwKRjPJapAQLqtB++l9kFAZR/MxqA1TEByOm8+Mv5SQBkv89nr/wJA8X5ZOFC8RkALrXtYET1TQNIqZzcQpStAUIrrZrgaTECpAJb0A9UkQGUaAWNugFBAGFzgYpynRUDd0NyQ7sNTQD+x02/jo1dAynav+rrJVEDSzcHo9IRWQG7Wh4Culk5AWEXSHlyIMECoyzNpMn9GQAVjkSw+p0pAeb1U7Q52UkDkzQ6s4M5WQGWhWHcpjTxA7OsulLoqQUCJAFPlJ4VTQM4TBu3I11FAQVMSzmxBVUDX4DogJd5YQE84Pe2M30xAe9pZ/MddV0AD7xDhXoVRQPwxU0WVOEJALGXDj81bIkBawAbOWMJRQHibs72vQFFAEGAMWOeaUEDj8lhJdahYQGIOm92YoldAI8C48mP3VkBWC9NKjUJTQDqwpc2MoUxAm1Xk3QSxVUB536QmQpVRQJkHpJBKaw9A4UZTyOIkS0A4w19GAqZTQAyXuQYx0FVAb+aWO97fQECqupBt5kI9QN66JkilKUlAPf0kSMgNV0D2Qhx9FoM4QC0PHtQeBkFA6IrTcf72WEBGG+WF5FNWQBnHa/k4R1RAr6Z7qAoNQEDOX4mmBd9OQPCKMIZqEEpADiuunfUfVUCFEVlQkAdJQAb92hKls0FAzcHvBBmRQkA4IZp+J15RQMxVYRUS81dAofqy6LUuOkCido99rPoiQHq6ON4A+VVA67PlilttTkCnpcp7Z1pJQEcM2D48WlZAEZ+Aa0pjGkBBuNyk761EQDj67M3YYC5AWGR/Kt/GOUCMTj3D/NErQOeQ863RK0VAdB91KAssUUAYmf7wuCZDQNLtIPpvuVdA9AGZKnKNVUDhjtDSgUtDQANyyXg2Rk9AVFgMVx6FE0DiKzqKQPxXQAe2YmR1EkxAQsAzvfzXV0DfSQ+m0wVUQNJCtFjnwCVADcSw0unQWEC5dh6K3ntDQPTe1rz5pFNAYzYmAzZ8OUB3rwb5MGJKQNuwFvWiE0JA7O12u9dKJ0AvBu2Ie3hLQDNNdM88CFJAEs0sJM5NQkAHawA0AyFFQC2KPEPQjFBA1MbDPPdRVUA+aCRybu9WQMWpwXlHtUpA3MFpqdooV0CVL3u5zElNQJIifqplbEpAHqhKOXdBV0DdQQ+DzCtUQKYrmHtUPztAeEvzNJxxL0ArcGNKuFNMQDZk7LcVUzRAQoL8pJ9NSkAoTKQTy/9LQMVn4afqplVA/YSoF4MJVUBwNHhUvI0vQBy02TSHfElAQTPWvoItVEDWDSLs6wNCQF21u1MYwhdAjiGXxU/0CEC+7X3TKxskQCJ9BeDj0x9AxbR6Fkf+SUC5c0kWUfI9QF0Bh5sprkVAHhAut/7mJEDjDPSJAew7QMI3fpEXd0FAkftJSEKJUECO5QqZbRRYQCDYeOQ591hAauv8kCglVEA0WCo1KhA9QI/qH8Mg51hADyiGXsiXQEDLMzL3X3pRQLgNz7LL5U5AEPhbkuoeUUCy+xgG1C4yQKOtMNxAS1RAg5KuSajpKkBjbBypCkVWQFwro5+XSixAdLv1zNYsMUCkj+xLvPJYQEf1U0XNmFZAwaTYOeAhUEDainpmUzP/P81b15Qnik9AAxcWtg1+T0CPQxvCXCxTQCYRk3i/RFFAWYGqLDcLUEAM6/XoruxYQGTXvmOULzxAkn9sQTcRSkCf45hpWahKQJXVM/YRyCdAVWf8RIzVUkBFzxsLTYJRQIRa84ORPhNAWmwkM1CxOkA69Gpt9dNLQKk14tGaZkRAAjO6N47KJUAeOW/2pmgaQFh8tDMGPVhAui+Qcd9RTEAKfsp2pzE7QKc7GATI9jFAgC284x736T+zWhn2k+NYQPYAi/ElrDNAa0MoyXUoSEC1n0eYfScoQOeuad38KkpAVCn2pfH5MUAqBQdO8mVDQCtsOknCu1VANhuFp5Z4RUB2kxlVkNEoQLCksl2A91RA/k45VDHXSECF3fxJoZVXQKHXq/wPVVVAVSX2uD2jTUD10TixFeBOQB1gSYjSoDFAbgHKzK5HU0ADYyQbmIFSQDgwEwzzWy1AtB2TS9iSSUCkvT5shns/QKkWN5L3nlBAQGH9YdW9NUDDilUJkrNOQNBywL9soUlACsCdgvpeOUDQqzCOqKtCQMibUXiUhFZA0smKc8xWUUDKNeMD6SVXQFbNAlQguCxA2kS/hgzzREAY7Urxv5ZAQPggIC7I5S5A9K9j9ln/VEBTVF6Z9qdXQBtbdEhDaVRAm6cT+DM9UkBbnsJ7UUwGQENDDDhX/0hA8AOHh5NPO0BsVlVMHVtUQKTt6aPDHipAvDemFbAPUUDfKCGgbu5UQOoKmupx+DpAhovNDQYdSUAtiGbLCJdTQJaFvn0JhlZA3+vJaBQ8Q0AZlZUU3dhUQOqFoDeMEUtA3i6pzuZ/R0DSGmqP1vckQDrxgWPfBEtArXi2zCuJV0CzGJyErTNEQASuh6PWPkpA4mjWp0mHPEB86rNQdhA1QEA+RWQASto/ODIFDAkpVUCtyyyIl9FHQFfyqUEVi1hAYunQuWHfEkCvSwiYxElAQMyf97xBOEdAgN3+5qQAVUCpIxaTemhDQFzIKmkQLiBAbSwYes0rVkDKN+oqRUQ9QFSoDN3XdlNAnE6WA3puGEBZv7ZYM+ZXQI6H/urG4iRACvltWHMtSkADV6x+1cVUQJCr9vzcsxxAAn2n2R3aC0Davts18mFYQKbmCDuKvD9A5X0a6U6CWEAqgTwXncpFQJZ06zC6B1BAktNsW3oLU0DyY8f+MNEqQE9cYGV+rVRA2HHYLuDYV0DlWsnT/C9VQJlo89wGGlBA+JbefLfoJECdjSZFMOs1QPSOKGm+nEhAy8/T6CzdTkDYWFZQjVlXQKZ0kGnTnERATkAz+phpMkC5eaKW8j5OQAGwGW9kLlBA4GZd0TgWRUA/ADS6+mxJQB5Rnc90cklAfCGEfkzQO0B6MFn+NDwEQOyHo2QwvVdAn89boIsAR0B5Hc+FYypXQNnLwWEszVBAwhyAr0/mU0DSxJy2KFVXQJ8PF80LmEZAagNrx8obVkCO+0mNAgguQIzRfbGI51FAhR9oTg3HWEAWzZCH3iJRQAatqJ9ChCJA7DnGY1OkUEDwxuDr0H9WQOno+oiPEFNAhUhcTYg8Q0Drkw6tVMZOQJWQq7eIvVFAaMxBM8h1QEDblU6vlPRSQJUtmfrRoldADUtRez6bVUDLgWZoEmpCQOI9Vy4f0FNAOJIREZr06j+GFGMNDj0mQDTFjDZL/UpAOyaU+vFwC0CYj08gRlVUQDytNh6IfjxA8TTwMGg7WEDPig8DaVJYQM24D866+UpAy0fHNHnLVEDOTYR2coBKQJhhBzDY2lJA/pybL5CgVEDgia2CD8ZYQNdeZRlmCkJAH8wWJ3QbU0BAHQro99K8P9s5QVHMuFVA724Ra2tpU0CXZcSgZ6JPQC5PEvHa01FAl26OG+6CP0DfOLk8LsVTQKZ58ydBzVRAK65JKposVUAm2We6aCxFQAxJvWNxLlRAuT5J+NlAUkDql8jRDL5XQPlVaPnbLUFAyzW+4c2LUUDQoEM/vvtSQPbF23fLdjlA4aav2C8UUECNoGWcp61XQELi3Gj5gS1A6ZYX1MdFMUDEfFeJBrMsQEgmS4rOtlFAVymqDi6iP0BfQ693FlNNQKiYvt9eokdAHlePGElFI0Dfw9p2yB9UQCvzcYM3i1NAcbhKyOcEWEBOEEfquLRQQA0btYJEAU5A7pIqEFfrOkBYYh60a4VRQH98ujXu5T9AxuyAuoacUUDyEjAqA542QOhEGiZqDiRA2bgILPl8VUCD8B4eMChLQE9y2cJphVBA5bBTME/3O0C6knHKXGdVQEqyLE9gFE1A7Leb4O4wUkCeToFgqG9WQHd1OhJ2PFBAIFpCzA9hQ0AZSEVSx3JUQGITtedbZD1AOAWkJd7cTUA5W7qRfXU0QMzo0G04AxxA1tWIc0/YQUCjHxG0G6o6QGefUnk/gkxAJslQ5VbIVUB24g2ltPdHQOy3eGra4UNACJUNojThTUACGNDoPqUqQL5Birn2pldAJsOthVe++D8A1WeWJVlAQA6zA5uK5FZAkHiZJ4VcVkDrqXtlvd9RQCtbi+ZyWCNAfISEsiKiEkDDcUcyjN1TQPyAaO7rwFBAMIs9YdoFQ0CPGKYk1eYyQDAfk2TpwFBA2v5wqbsUU0B7402F2wJRQC8784E9WFNA3HMc67Mn/T8OA7KArHUkQAzOBSuUoUVAXB1e+g7FSUCmTm30i5dBQKaJ6s8qllZAr0TtD6KpQEBdxFRdt7dYQMxb8UD33BxAQBqzM32JU0AQOkaJeMFTQELd7GrAWSZACzAegmgePUA4z4m+HwVGQPWhGEeDqktAMT7pxoHkWECqkaFCMqVAQPvDPIFLpjNA13aNuO3RUUB2QAr+vdBYQBVHRw/rZ1ZAlj7MxrX2SEDiP9JaLd1SQBE0azuK0U1A2hoPQXF1VEBwpkaAKs4fQBKUSv+XxDJAeVAu6VuaOkAQ7ncwwh8xQA5E23y8UBZABLR++ihaUUCir/sAhXVJQKzN6qnI8FBA8u2MarahQkCqgTVJDZYUQCFUPk39AE5AoeDDQ+18VUBL/2b797dTQJCAaVc0XUpAWWdx2GqYSEAosM8Jk9dYQDNAIbAwklVAkyaO7IJYOECda/GQ2U5EQBPYpvkdRkhAIuzEXoJvMUDGppcGvY4lQIFOJJ250RVAhQkPUZ9ERUDC/KwA96o2QFoDag2NyUNAMDfXZ2zDMkC/QMf9BBJQQJqhXfZcHFRA/QE5QI/zTUCnonaFV18oQCyBGSpdt0hAfHA4wHvwMEAiUEpUqPIjQCIWtZGlflBA7Y+VnCjdT0DlK6+YVu1UQMhWH8yEskdAig65Z5BfUkBCKCY0JSdFQJp/fS827lJAXVEyaFLSQkDVZQBBf4NAQLD6CC+eA9c/Ow7mSyx0TEB8JvEFrRJMQN0v8vEvjVFAJIejO7ziGkCNbLRo0DdQQFeXNhXbPUlAqtYjnZsxV0CgPeUgBMhVQD0Z2JEAqkRAbX3pDZv3VECmJy9U4TJUQCVb3bUENj1A6NiLk0mzUUBgWJsCMoRHQDFnYATb/kZABp/uFxZWUkBIG7psMoBDQFNL6MF9y0xA37uvuECsI0AgH6ySXhEZQHhbmH0j9FZAHPaSIUtYTUAMiYS2FqtVQIpmxPYCelZADyD0I7LwIUDYUxot4/VXQBy5NFR0QVJASsG4jduLOUC3Xl0lXWZIQGjh35FMwVRAAC32YTl4UEBbOZVX82xOQJHcsx4bcE5ABvVYtFSzU0D+yjDp/KxIQOhU9R5nSkNAwT9BkXzCIUAcQlgT6FkxQI6Cl1d9d1VAwwhiN3mcVkChJRExsr1AQB4of6OoKzVAIECBH8k5QEDnx7exg4tFQBPNSaJlE1ZA8TMN5oHXVUD+fJ7/IQY3QP2VmLY7vFVAADhohR3UoD/zko3nwnNEQAEyd63PbldA5VGkbYgEV0D85uFdY5xKQK/n3Mdv6SFAMcpaDT/oV0Bk7y2HVLhSQDeT93BZFEdAO/ejRqkEK0DMJ2uEKnsMQKwPEzumqExApf1f4xMyOUCB6hFCcntYQGA2p731wU9AoU1eL/BFV0BkU87JVbVHQH/weCxBt1VAK5SKJwQzWEAmlwaNk0E0QJg9WXnJNFRAuuGSyjoRQ0AAw8kIxbFTQG1r9E3W105A9rp7eaVqWEA5WaY7efpWQJZNgcjaCBJAucaNSbg0M0BjvESbUWFKQBabRWGPl0dA7bhwNxpgMUD2ai2P1SRTQFla3MSsXFJAqUlAfX2mV0C8sBS5HAcpQFD274k3bkRAdlvFRM+HQUBkbH6Rd0VJQNGHjZ1ygUVAX5rvIIumHkB4MEAOYANXQENzOCvGfVNAyvk2bKMJ+T/66cEpRBIBQMK/88ZvdhRAiJB0KqpuOUAyrm6TyK/4P+KuGZJVgCxA5Kumo1sYIkB+z9keeYJUQK42+cuY0EVAWtrqXZ/3V0BN+axoIbQZQGBwgwNpmlVAiFYInehlO0BJ+XY/qoZKQETXdMkHdyBAqIuLbtFHLUCBoYqSU2VYQIH7UscwbVVANfVyRSh4VkCFIozqJiVOQAIVXqmXsE1AFUBk1L32SEDtfYtypDtRQJziaiCxVElAehtUzS8oU0BOmzBRDPJCQHW6hhCFEDlAIM2PdWejQ0BaJtIgm/lLQMJFNl56YyJA7IOxiqagVkC6AsliE2lBQGPbFpBMqU1AxYXc5VVfQ0Dq8kCovb9UQD+Q7fVcfVVApAOT9zjRS0At3DnNvaZSQC0J/5OKUiNAF8dzSoEHR0A9K7djuNJGQAD3p8mgwSlAGCODgnP4SEDgzfw2ImENQFf7y/xwQVJATtz7MfSwJ0DwW1EkLkxSQLluT4BU3VFAeuS/1rQ+/D+WTyG81ApXQIX4pjJ+vTBAmvrxOG32MUAXJRYVKXxUQLF2pYBRNFVAtY3Utc/2IEBBDM+zCpZWQNTwxBZufjZAuKoaf4vQUUCH1xqLdwJTQEmeE5dSIkpASkGqFtHaGEBBctqpDfhCQCLjiAgVGEtAhM4R1kcNVUC7+ZKxN8tEQCc4AyVan1NA9bgk9jrqVUCiziII8msuQGLlw04dZTtAEDEdYstuLEAW/I8Huz5RQGuXDar2FlRAEhN0ma8nR0D+JvzP5I9YQC8XMnLhKShAtnrILM5fUUDpGVTErS89QGROBntBHB5A8QllV1TORUDxnuGZoZIyQP02oMyab1BAkh6OUqBXQ0C/ytYxyC9WQNzQF/y/nU1A/Et1lgsrC0DaLi1oRO8zQMotBh7RT0hABi/3PbN0KEDFxZaOyPRWQO82acLXHFVAhkdfAgnwSUBhFTCRPEpQQDnRb31OhFZAcOXo/BKQIkCZZqq/nIlSQFruidMwXTRAcfL13OOJQkDL17uIiScxQA7hdm1u+kNA0v1yIXPNSkDU9gHAbaMiQEXpD4r9sD5AYjpOvp2wT0CMNMUh+4BTQBrtDczmMDJAh6UH7d8bSECNwKaQTdpJQCydqEIOyTpAJEvgeXFiTkC+vrlDxQMvQIfIKIGuBkBAaBZXh2q7PEDuuHkVJQJMQIfWvjljUShAKL63h6ruUUBGJRgrZpIaQGynKm2O5kJAPRDVkm2lTECLU/LRSc9VQChU8qT3D05AiwRXO3AoVEA7IY+OS21RQCpHQXXVAjNAMA6w9i2hPUD1rmXdQrZIQJIH9APJMjBAAsLMCkl/FkC4U2ts+IRLQD5k/E08wE5ADCcRfEe2WEAHGh3+FrFFQCPUvIZwVFdAABRH9Cw3VkBar3AaQCxUQHmqdpoJaExAcjZ94qnaRkBmzYXtaIdQQCsFJxiF4lJAwPpvPCkTOUB3hAxSIM1FQNmpiZj4bz5AUISOnNI+NkDpryCNwkpHQIyTLVDtOSlAbYuzffgqT0BR/Hh3GDBXQJTgl9QRjldANy51jRB8TEA1nAHQCRNKQPXnDUZ8sFFAAFXhyFeuWEAMb7Yg6t/gP4wFiIB+xew/0KHHf9XyTEBwON5lmRJTQCL50+nydlZAr7r5GlCfS0B4uinYYCNMQDTLDjnegO0/s6F5xVQZUEB9GljZ1wdUQBqDBI4RdFVA/ayEvvIFV0Bs1UJoiWRIQJqcd5Ic6CJA8Z+GyTD2WEAFkQ+k7rwoQDoxblfFnTBAMVki+IN1NkBuEZrR6K1UQN1ZrmlD7FNA3RjoQsb/WED6Oz61S+oQQEyijyovAi1A9auuupZnVUAJjDS4QbdWQNT7C2euNlNAeA78zSD9TkDfS2kANS0kQLkbLfX97DJAtsEA1oizN0AvuYo3rSJWQCUJe+PRy01A0qhNVJG4SkB++JnQVwhNQAf8SPtL6kpAPbyOn7e/PkBXmLSXs4JHQHjz25pfQ0BA8B6HK3eyTEDLsnC5HoNWQAQ3EGIw9jpA5kEK963eUED7nyCbAtxLQKAhEHwHmVFAPvFONP/1RkAc6SQw2vrmP/p6zA8FehhAi06tNqhkUEBk0AI3I2JRQL9W2qDi2k5AyPHaGp3EOUBB03vhW4tUQHohKHsuQElAMda/3n0hV0DDjgtjfBFCQNTnJQVZcjZAGvXxXzINM0AvO37WRnJDQDFaaVyvpkRAmdaLHRa8UkCvOR49uacJQEXNmZOP+jdAnEEUoTFiCkD8FaP6UCFVQCHxNBu6p1JA+Bl+jQdgRUAmLJuAJW1FQOvsT3kwb1ZAGMdWLikFTED65ZT0vQgzQPxP2JKSZEBAQurfzGUqN0A6WTyavu5RQLsMX+M8lk1A/7lAzy8ITkAaV6TM0AsxQAkDZ587mC9A4hbq5sKwTEBj+2mf90lYQFDaLr8RSBBAz7NC4hlnMUAk5BSmnxc0QBs2O8nssilANxG5z3jEUEBcodrtk6ngP5zftKZRJEhAEtrsTuXgVkCOkIA8fpdHQAdC/OFxm0pAfnCHxZgVSUA3sZoXYbwQQEAXUjD0LkpA1azJ7HomUUBM9g6npSpRQMStwc1hLu4/8I5QaISfwj9Sh/JpaUUeQPY5Qx8MhDZABxzf0k0UT0AeoPv94XlGQEBSVuOyrVdAoSjUr4u9UkDCmr2ql1lEQNjL23gdITRAdEISVegISkCpW6dUje5QQIFrI4eK5zBAjfEJLiY/VEAGRUupPJpVQPlQbtxP5lZA0yaCHZ8UVUD/IqoG+/5YQNd/8M0S3VFA97f0RSx5VEDt5nfbV+o6QMn9oUb3+VdAoBSgKxtjSUCD/zi6J8xWQINiDhiOPkhAWiUqD+mWLkCp58renohSQOez5Yps8zZAfNWmQ6XALEA7TmIJIqdXQPDCkg1psh1AHjsp5hAaVkBaeigCCGc2QCvzbifTB0hAZzLG3o2QU0AbgGTBN7lWQPZ4yoT9hjtAh/rAP1PARUDyT4QifEtMQPMCaETSaldASnhylk2mOUDVzQzpEi1NQPC6kHcEFCBA8NuastEaFUBau/NDydhJQDxAAES4WExAJ32yP5LYT0DIXVpdQzhQQDYE7TUsF/Q/kRlYgfMdR0B08TE7wEtAQEDoVyNfUztA2yQh25F+MEBUc1m2yAtPQNAMjaGMk0RAJ6dwmQdwVEAfFEp5+PkyQCZmcLl+ejpAgDNqKzxdOkCBfRsqvvsyQKgpBTMthStA4Kl91IwQsz8snQg1w9QAQJ6BccFqn1ZAhPDg3JeYWEDn4MzwqdRNQC7nyWCVBi9AYRDI/aqZMkCqcXAz5rJTQH75kSBOjRpA9WBMUlTyVECFtjPHEP5TQP6SWVqy1DVACdXiwXdORUAuJ36rcLlXQCq5rqJVKDVA/SaTejc7V0AOI8aOd9tVQEGC9jpxcFRALM4Id9tmP0D6DpB2gl0wQHZ4oA0ap1NATy8PORxoT0Cd9JsFw0dSQAAYiD6uqUpA9jYYtJjRVUDcJUmG0XJSQH+qYu9JRkBAeNHCAmMhTEAHs6meD9dYQFO28RiWi0ZAmDNEJXlZOEDXxkHMmshWQKOePntQjlhAMaPr/2i+RkBwivOyHgJTQNrijWutRzlAo/XOpglXCEAtGFM0FUJSQPGhsZkp9jdA0PhXBDcTUUDt5gS2Yj4WQAuZRyJF8lhAt5+0rIfsUkCRnReqbqlWQGbyjo6SKApA8+BCuU6PWEAh0mk8QEY5QMiD4VhZrVVAwxoGm48aVEAGLwfa1K4xQGRQjJitsFFAl4QL/1yiMEDYq8Tumuk8QK4jD83VkzdAJQKwVAcJQEDxt+au6TJXQA0vVu12yD9AGO//85JaUUBnmCsTfDZEQE5vFdAz+VFAlvF6gpXWSUB30kNZqJJBQMBktl+n5i9Az8MFB1zvVkC4hoDghvZVQKfY0qB8l1NAd5Stb54BNUCfvAL4Zd81QCL841oIIC9AeGVzZWemVkCw7ohjnkorQPrpnLjUMUFAS+dx+ZMZWEA3jpOE/SgyQCXOMdGgulNAiQXu39kDVkCO9oM8cddFQFmseWvUNlJAC1A9y8iZG0Bw+wWntR81QJmq0ix/zlZAVBhjPUQNRkCwjGQJ0hktQLL7rzeLb0JAzNHSrqwpVEDcxGDJLy4sQK8jm2hDjUVAzH5nM2lbSUCOoj78dcpAQAY1xGWcf1RADeUdS2mTVUA4w4qWuesxQDPemSmf8FNAdHtopGRATkDFoY/VLMZWQHCHffQTNFNA1B0doPIfUkBpqr+xLgdCQK0hT9iEaVdALPwG+WFpUkBg/eeEEM0yQAql+Va9zkZAmTSagntXQUCKCcf9hiZNQLg2bHbzu0xAqP6i4wUcD0DUYFg7vn9CQCbkM5TcKkNAt/owDdpMTEBAsYKBmGZYQKbWbi3xK0JACNt3UguiJEBCLgR8OgJTQNuW2Y0xJFdA0ankskKrSUDUvRfTWglQQB6o3hsWLlhA8S0UfvXWSUCPmXjK1JlRQL1kwfcjH1dADzIgww/jWEDhYN6si6cpQKKkysri7CpAfdKVjtD0WECxrEn3AQM7QPyHeLW491VAIVi2aEViUECu77oDwZYEQJDSANFe3lVATlPMzDuDWEAmSHpZnM8KQMDPnE6eHVBAFht/dv8VMECv97ZcCfY5QFuU7/I7Fz9AQnZ01D32WEBQbCA2mldTQJzZOc7D+09A8uXunk4yQUAbXv+yGSNNQCKxs7k7jBJAU4W9JouoP0C+wQB8HUtRQKO2My8UzElApPPdQE6uMkATeKjmDdIpQLTJKDOjIkxArhoec5TtLED090m21BlUQIZT4jWsKSxAn/JqtFbhS0B0s0P1zvvlP+q+Dsb12ERAtx1zciZqQUA45ShaPUJTQL4eXrpqGCNAZjCawNmFU0AfcJ/Cx4VUQI5avfVxrkFAg+45F8goREALmgvq2L5YQPy3uY5rDk1AsD2xIATRKUDBIoobVHZMQCU3b+RxiC9AHp9oT/btLEDwSEgNS3lUQA==\",\"dtype\":\"float64\",\"shape\":[2000]}},\"selected\":{\"id\":\"2464\",\"type\":\"Selection\"},\"selection_policy\":{\"id\":\"2465\",\"type\":\"UnionRenderers\"}},\"id\":\"2361\",\"type\":\"ColumnDataSource\"},{\"attributes\":{\"source\":{\"id\":\"2361\",\"type\":\"ColumnDataSource\"}},\"id\":\"2365\",\"type\":\"CDSView\"},{\"attributes\":{\"data_source\":{\"id\":\"2361\",\"type\":\"ColumnDataSource\"},\"glyph\":{\"id\":\"2362\",\"type\":\"Circle\"},\"hover_glyph\":null,\"muted_glyph\":null,\"nonselection_glyph\":{\"id\":\"2363\",\"type\":\"Circle\"},\"selection_glyph\":null,\"view\":{\"id\":\"2365\",\"type\":\"CDSView\"}},\"id\":\"2364\",\"type\":\"GlyphRenderer\"},{\"attributes\":{},\"id\":\"2344\",\"type\":\"LinearScale\"},{\"attributes\":{\"children\":[{\"id\":\"2339\",\"subtype\":\"Figure\",\"type\":\"Plot\"},{\"id\":\"2366\",\"type\":\"Div\"}]},\"id\":\"2368\",\"type\":\"Row\"},{\"attributes\":{\"below\":[{\"id\":\"2348\",\"type\":\"LinearAxis\"}],\"center\":[{\"id\":\"2352\",\"type\":\"Grid\"},{\"id\":\"2357\",\"type\":\"Grid\"}],\"js_event_callbacks\":{\"selectiongeometry\":[{\"id\":\"2371\",\"type\":\"CustomJS\"}]},\"left\":[{\"id\":\"2353\",\"type\":\"LinearAxis\"}],\"renderers\":[{\"id\":\"2364\",\"type\":\"GlyphRenderer\"}],\"title\":{\"id\":\"2458\",\"type\":\"Title\"},\"toolbar\":{\"id\":\"2359\",\"type\":\"Toolbar\"},\"x_range\":{\"id\":\"2340\",\"type\":\"DataRange1d\"},\"x_scale\":{\"id\":\"2344\",\"type\":\"LinearScale\"},\"y_range\":{\"id\":\"2342\",\"type\":\"DataRange1d\"},\"y_scale\":{\"id\":\"2346\",\"type\":\"LinearScale\"}},\"id\":\"2339\",\"subtype\":\"Figure\",\"type\":\"Plot\"},{\"attributes\":{\"callback\":null},\"id\":\"2340\",\"type\":\"DataRange1d\"},{\"attributes\":{\"args\":{\"div\":{\"id\":\"2366\",\"type\":\"Div\"}},\"code\":\"\\ndiv.text = \\\"Button!\\\";\\n\"},\"id\":\"2370\",\"type\":\"CustomJS\"},{\"attributes\":{},\"id\":\"2349\",\"type\":\"BasicTicker\"},{\"attributes\":{\"args\":{\"div\":{\"id\":\"2366\",\"type\":\"Div\"}},\"code\":\"\\ndiv.text = \\\"Selection! <p> <p>\\\" + JSON.stringify(cb_obj.geometry, undefined, 2);\\n\"},\"id\":\"2371\",\"type\":\"CustomJS\"},{\"attributes\":{},\"id\":\"2460\",\"type\":\"BasicTickFormatter\"},{\"attributes\":{\"formatter\":{\"id\":\"2460\",\"type\":\"BasicTickFormatter\"},\"ticker\":{\"id\":\"2349\",\"type\":\"BasicTicker\"}},\"id\":\"2348\",\"type\":\"LinearAxis\"},{\"attributes\":{},\"id\":\"2462\",\"type\":\"BasicTickFormatter\"}],\"root_ids\":[\"2369\"]},\"title\":\"Bokeh Application\",\"version\":\"1.3.4\"}};\n",
       "  var render_items = [{\"docid\":\"995eb2ca-a35c-4fb4-8634-c2fe81969a55\",\"roots\":{\"2369\":\"e44d74cf-2b72-40bf-b191-c0cf3d5d57c9\"}}];\n",
       "  root.Bokeh.embed.embed_items_notebook(docs_json, render_items);\n",
       "\n",
       "  }\n",
       "  if (root.Bokeh !== undefined) {\n",
       "    embed_document(root);\n",
       "  } else {\n",
       "    var attempts = 0;\n",
       "    var timer = setInterval(function(root) {\n",
       "      if (root.Bokeh !== undefined) {\n",
       "        embed_document(root);\n",
       "        clearInterval(timer);\n",
       "      }\n",
       "      attempts++;\n",
       "      if (attempts > 100) {\n",
       "        console.log(\"Bokeh: ERROR: Unable to run BokehJS code because BokehJS library is missing\");\n",
       "        clearInterval(timer);\n",
       "      }\n",
       "    }, 10, root)\n",
       "  }\n",
       "})(window);"
      ],
      "application/vnd.bokehjs_exec.v0+json": ""
     },
     "metadata": {
      "application/vnd.bokehjs_exec.v0+json": {
       "id": "2369"
      }
     },
     "output_type": "display_data"
    }
   ],
   "source": [
    "from bokeh.plotting import figure\n",
    "from bokeh import events\n",
    "from bokeh.models import CustomJS, Div, Button\n",
    "from bokeh.layouts import column, row\n",
    "\n",
    "import numpy as np\n",
    "x = np.random.random(size=2000) * 100\n",
    "y = np.random.random(size=2000) * 100\n",
    "\n",
    "p = figure(tools=\"box_select\")\n",
    "p.scatter(x, y, radius=1, fill_alpha=0.6, line_color=None)\n",
    "\n",
    "div = Div(width=400)\n",
    "button = Button(label=\"Button\", width=300)\n",
    "layout = column(button, row(p, div))\n",
    "\n",
    "# Events with no attributes\n",
    "button.js_on_event(events.ButtonClick,  CustomJS(args=dict(div=div), code=\"\"\"\n",
    "div.text = \"Button!\";\n",
    "\"\"\")) \n",
    "\n",
    "p.js_on_event(events.SelectionGeometry, CustomJS(args=dict(div=div), code=\"\"\"\n",
    "div.text = \"Selection! <p> <p>\" + JSON.stringify(cb_obj.geometry, undefined, 2);\n",
    "\"\"\"))\n",
    "\n",
    "show(layout)"
   ]
  },
  {
   "cell_type": "code",
   "execution_count": 15,
   "metadata": {},
   "outputs": [],
   "source": [
    "# Exercise: Create a plot that responds to different events from bokeh.events\n",
    "\n"
   ]
  },
  {
   "cell_type": "markdown",
   "metadata": {},
   "source": [
    "## Additional Information\n",
    "\n",
    "There are many kinds of interactions and events that can be connected to `CustomJS` callbacks. \n",
    "\n",
    "\n",
    "* Widgets - Button, Toggle, Dropdown, TextInput, AutocompleteInput, Select, Multiselect, Slider, (DateRangeSlider), DatePicker,\n",
    "* Tools - TapTool, BoxSelectTool, HoverTool,\n",
    "* Selection - ColumnDataSource, AjaxDataSource, BlazeDataSource, ServerDataSource\n",
    "* Ranges - Range1d, DataRange1d, FactorRange\n",
    "\n",
    "\n",
    "For more complete examples the User Guide section on [JavaScript Interactions](http://bokeh.pydata.org/en/latest/docs/user_guide/interaction.html)"
   ]
  },
  {
   "cell_type": "code",
   "execution_count": null,
   "metadata": {},
   "outputs": [],
   "source": []
  }
 ],
 "metadata": {
  "anaconda-cloud": {},
  "kernelspec": {
   "display_name": "py3.6_meteorology_env",
   "language": "python",
   "name": "py3.6_meteorology_env"
  },
  "language_info": {
   "codemirror_mode": {
    "name": "ipython",
    "version": 3
   },
   "file_extension": ".py",
   "mimetype": "text/x-python",
   "name": "python",
   "nbconvert_exporter": "python",
   "pygments_lexer": "ipython3",
   "version": "3.6.8"
  }
 },
 "nbformat": 4,
 "nbformat_minor": 2
}
