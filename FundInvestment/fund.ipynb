{
 "cells": [
  {
   "cell_type": "code",
   "execution_count": 9,
   "metadata": {},
   "outputs": [],
   "source": [
    "import matplotlib.pyplot as plt"
   ]
  },
  {
   "cell_type": "code",
   "execution_count": 1,
   "metadata": {},
   "outputs": [
    {
     "name": "stderr",
     "output_type": "stream",
     "text": [
      "/home/zhuf/.pyenv/versions/data_sci_env_py3.6.10/lib/python3.6/site-packages/pandas/compat/__init__.py:85: UserWarning: Could not import the lzma module. Your installed Python is incomplete. Attempting to use lzma compression will result in a RuntimeError.\n",
      "  warnings.warn(msg)\n",
      "/home/zhuf/.pyenv/versions/data_sci_env_py3.6.10/lib/python3.6/site-packages/pandas/compat/__init__.py:85: UserWarning: Could not import the lzma module. Your installed Python is incomplete. Attempting to use lzma compression will result in a RuntimeError.\n",
      "  warnings.warn(msg)\n"
     ]
    },
    {
     "name": "stdout",
     "output_type": "stream",
     "text": [
      "提示：当前环境pandas版本为0.25，get_price与get_fundamentals_continuously接口panel参数将固定为False\n",
      "注意：0.25以上版本pandas不支持panel，如使用该数据结构和相关函数请注意修改\n",
      "auth success \n"
     ]
    }
   ],
   "source": [
    "from jqdatasdk import *\n",
    "auth('15201358389','358389') "
   ]
  },
  {
   "cell_type": "code",
   "execution_count": 187,
   "metadata": {},
   "outputs": [
    {
     "data": {
      "text/plain": [
       "{'total': 10000000, 'spare': 8996581}"
      ]
     },
     "execution_count": 187,
     "metadata": {},
     "output_type": "execute_result"
    }
   ],
   "source": [
    "get_query_count()"
   ]
  },
  {
   "cell_type": "code",
   "execution_count": 26,
   "metadata": {},
   "outputs": [],
   "source": [
    "from jqdatasdk import finance"
   ]
  },
  {
   "cell_type": "code",
   "execution_count": 27,
   "metadata": {},
   "outputs": [
    {
     "name": "stdout",
     "output_type": "stream",
     "text": [
      "     id main_code        name     advisor       trustee  operate_mode_id  \\\n",
      "0  2908    004666  长城久嘉创新成长混合  长城基金管理有限公司  中国农业银行股份有限公司           401001   \n",
      "\n",
      "  operate_mode  underlying_asset_type_id underlying_asset_type  start_date  \\\n",
      "0        开放式基金                    402004                   混合型  2017-07-05   \n",
      "\n",
      "  end_date  \n",
      "0     None  \n"
     ]
    }
   ],
   "source": [
    "q = query(finance.FUND_MAIN_INFO).filter(finance.FUND_MAIN_INFO.main_code=='004666')\n",
    "df = finance.run_query(q)\n",
    "print(df)"
   ]
  },
  {
   "cell_type": "code",
   "execution_count": 16,
   "metadata": {},
   "outputs": [
    {
     "name": "stdout",
     "output_type": "stream",
     "text": [
      "           id    code         day  net_value  sum_value  factor  acc_factor  \\\n",
      "0    22516749  004666  2020-04-30     1.2549     1.2549     1.0     0.96769   \n",
      "1    22507797  004666  2020-04-29     1.1739     1.1739     1.0     0.96769   \n",
      "2    22498110  004666  2020-04-28     1.1808     1.1808     1.0     0.96769   \n",
      "3    22491447  004666  2020-04-27     1.1341     1.1341     1.0     0.96769   \n",
      "4    22476833  004666  2020-04-24     1.1423     1.1423     1.0     0.96769   \n",
      "..        ...     ...         ...        ...        ...     ...         ...   \n",
      "688   2607661  004666  2017-07-11     0.9854     0.9854     1.0     1.00000   \n",
      "689   2607660  004666  2017-07-10     0.9882     0.9882     1.0     1.00000   \n",
      "690   2607659  004666  2017-07-07     1.0014     1.0014     1.0     1.00000   \n",
      "691   2607658  004666  2017-07-06     1.0062     1.0062     1.0     1.00000   \n",
      "692   2607657  004666  2017-07-05     1.0008     1.0008     1.0     1.00000   \n",
      "\n",
      "     refactor_net_value  \n",
      "0              1.214354  \n",
      "1              1.135971  \n",
      "2              1.142648  \n",
      "3              1.097457  \n",
      "4              1.105392  \n",
      "..                  ...  \n",
      "688            0.985400  \n",
      "689            0.988200  \n",
      "690            1.001400  \n",
      "691            1.006200  \n",
      "692            1.000800  \n",
      "\n",
      "[693 rows x 8 columns]\n"
     ]
    }
   ],
   "source": [
    "q=query(finance.FUND_NET_VALUE).filter(finance.FUND_NET_VALUE.code==\"004666\").order_by(finance.FUND_NET_VALUE.day.desc())\n",
    "df=finance.run_query(q)\n",
    "print(df)"
   ]
  },
  {
   "cell_type": "code",
   "execution_count": 10,
   "metadata": {},
   "outputs": [
    {
     "data": {
      "text/plain": [
       "[<matplotlib.lines.Line2D at 0x7fcb04bec9b0>]"
      ]
     },
     "execution_count": 10,
     "metadata": {},
     "output_type": "execute_result"
    },
    {
     "data": {
      "image/png": "[encoded data removed]",
      "text/plain": [
       "<Figure size 432x288 with 1 Axes>"
      ]
     },
     "metadata": {
      "needs_background": "light"
     },
     "output_type": "display_data"
    }
   ],
   "source": [
    "plt.plot(df['day'], df['net_value'])"
   ]
  },
  {
   "cell_type": "code",
   "execution_count": 11,
   "metadata": {},
   "outputs": [],
   "source": [
    "from bokeh.plotting import figure \n",
    "from bokeh.io import output_notebook, show"
   ]
  },
  {
   "cell_type": "code",
   "execution_count": 12,
   "metadata": {},
   "outputs": [
    {
     "data": {
      "text/html": [
       "\n",
       "    <div class=\"bk-root\">\n",
       "        <a href=\"https://bokeh.org\" target=\"_blank\" class=\"bk-logo bk-logo-small bk-logo-notebook\"></a>\n",
       "        <span id=\"1001\">Loading BokehJS ...</span>\n",
       "    </div>"
      ]
     },
     "metadata": {},
     "output_type": "display_data"
    },
    {
     "data": {
      "application/javascript": [
       "\n",
       "(function(root) {\n",
       "  function now() {\n",
       "    return new Date();\n",
       "  }\n",
       "\n",
       "  var force = true;\n",
       "\n",
       "  if (typeof root._bokeh_onload_callbacks === \"undefined\" || force === true) {\n",
       "    root._bokeh_onload_callbacks = [];\n",
       "    root._bokeh_is_loading = undefined;\n",
       "  }\n",
       "\n",
       "  var JS_MIME_TYPE = 'application/javascript';\n",
       "  var HTML_MIME_TYPE = 'text/html';\n",
       "  var EXEC_MIME_TYPE = 'application/vnd.bokehjs_exec.v0+json';\n",
       "  var CLASS_NAME = 'output_bokeh rendered_html';\n",
       "\n",
       "  /**\n",
       "   * Render data to the DOM node\n",
       "   */\n",
       "  function render(props, node) {\n",
       "    var script = document.createElement(\"script\");\n",
       "    node.appendChild(script);\n",
       "  }\n",
       "\n",
       "  /**\n",
       "   * Handle when an output is cleared or removed\n",
       "   */\n",
       "  function handleClearOutput(event, handle) {\n",
       "    var cell = handle.cell;\n",
       "\n",
       "    var id = cell.output_area._bokeh_element_id;\n",
       "    var server_id = cell.output_area._bokeh_server_id;\n",
       "    // Clean up Bokeh references\n",
       "    if (id != null && id in Bokeh.index) {\n",
       "      Bokeh.index[id].model.document.clear();\n",
       "      delete Bokeh.index[id];\n",
       "    }\n",
       "\n",
       "    if (server_id !== undefined) {\n",
       "      // Clean up Bokeh references\n",
       "      var cmd = \"from bokeh.io.state import curstate; print(curstate().uuid_to_server['\" + server_id + \"'].get_sessions()[0].document.roots[0]._id)\";\n",
       "      cell.notebook.kernel.execute(cmd, {\n",
       "        iopub: {\n",
       "          output: function(msg) {\n",
       "            var id = msg.content.text.trim();\n",
       "            if (id in Bokeh.index) {\n",
       "              Bokeh.index[id].model.document.clear();\n",
       "              delete Bokeh.index[id];\n",
       "            }\n",
       "          }\n",
       "        }\n",
       "      });\n",
       "      // Destroy server and session\n",
       "      var cmd = \"import bokeh.io.notebook as ion; ion.destroy_server('\" + server_id + \"')\";\n",
       "      cell.notebook.kernel.execute(cmd);\n",
       "    }\n",
       "  }\n",
       "\n",
       "  /**\n",
       "   * Handle when a new output is added\n",
       "   */\n",
       "  function handleAddOutput(event, handle) {\n",
       "    var output_area = handle.output_area;\n",
       "    var output = handle.output;\n",
       "\n",
       "    // limit handleAddOutput to display_data with EXEC_MIME_TYPE content only\n",
       "    if ((output.output_type != \"display_data\") || (!output.data.hasOwnProperty(EXEC_MIME_TYPE))) {\n",
       "      return\n",
       "    }\n",
       "\n",
       "    var toinsert = output_area.element.find(\".\" + CLASS_NAME.split(' ')[0]);\n",
       "\n",
       "    if (output.metadata[EXEC_MIME_TYPE][\"id\"] !== undefined) {\n",
       "      toinsert[toinsert.length - 1].firstChild.textContent = output.data[JS_MIME_TYPE];\n",
       "      // store reference to embed id on output_area\n",
       "      output_area._bokeh_element_id = output.metadata[EXEC_MIME_TYPE][\"id\"];\n",
       "    }\n",
       "    if (output.metadata[EXEC_MIME_TYPE][\"server_id\"] !== undefined) {\n",
       "      var bk_div = document.createElement(\"div\");\n",
       "      bk_div.innerHTML = output.data[HTML_MIME_TYPE];\n",
       "      var script_attrs = bk_div.children[0].attributes;\n",
       "      for (var i = 0; i < script_attrs.length; i++) {\n",
       "        toinsert[toinsert.length - 1].firstChild.setAttribute(script_attrs[i].name, script_attrs[i].value);\n",
       "      }\n",
       "      // store reference to server id on output_area\n",
       "      output_area._bokeh_server_id = output.metadata[EXEC_MIME_TYPE][\"server_id\"];\n",
       "    }\n",
       "  }\n",
       "\n",
       "  function register_renderer(events, OutputArea) {\n",
       "\n",
       "    function append_mime(data, metadata, element) {\n",
       "      // create a DOM node to render to\n",
       "      var toinsert = this.create_output_subarea(\n",
       "        metadata,\n",
       "        CLASS_NAME,\n",
       "        EXEC_MIME_TYPE\n",
       "      );\n",
       "      this.keyboard_manager.register_events(toinsert);\n",
       "      // Render to node\n",
       "      var props = {data: data, metadata: metadata[EXEC_MIME_TYPE]};\n",
       "      render(props, toinsert[toinsert.length - 1]);\n",
       "      element.append(toinsert);\n",
       "      return toinsert\n",
       "    }\n",
       "\n",
       "    /* Handle when an output is cleared or removed */\n",
       "    events.on('clear_output.CodeCell', handleClearOutput);\n",
       "    events.on('delete.Cell', handleClearOutput);\n",
       "\n",
       "    /* Handle when a new output is added */\n",
       "    events.on('output_added.OutputArea', handleAddOutput);\n",
       "\n",
       "    /**\n",
       "     * Register the mime type and append_mime function with output_area\n",
       "     */\n",
       "    OutputArea.prototype.register_mime_type(EXEC_MIME_TYPE, append_mime, {\n",
       "      /* Is output safe? */\n",
       "      safe: true,\n",
       "      /* Index of renderer in `output_area.display_order` */\n",
       "      index: 0\n",
       "    });\n",
       "  }\n",
       "\n",
       "  // register the mime type if in Jupyter Notebook environment and previously unregistered\n",
       "  if (root.Jupyter !== undefined) {\n",
       "    var events = require('base/js/events');\n",
       "    var OutputArea = require('notebook/js/outputarea').OutputArea;\n",
       "\n",
       "    if (OutputArea.prototype.mime_types().indexOf(EXEC_MIME_TYPE) == -1) {\n",
       "      register_renderer(events, OutputArea);\n",
       "    }\n",
       "  }\n",
       "\n",
       "  \n",
       "  if (typeof (root._bokeh_timeout) === \"undefined\" || force === true) {\n",
       "    root._bokeh_timeout = Date.now() + 5000;\n",
       "    root._bokeh_failed_load = false;\n",
       "  }\n",
       "\n",
       "  var NB_LOAD_WARNING = {'data': {'text/html':\n",
       "     \"<div style='background-color: #fdd'>\\n\"+\n",
       "     \"<p>\\n\"+\n",
       "     \"BokehJS does not appear to have successfully loaded. If loading BokehJS from CDN, this \\n\"+\n",
       "     \"may be due to a slow or bad network connection. Possible fixes:\\n\"+\n",
       "     \"</p>\\n\"+\n",
       "     \"<ul>\\n\"+\n",
       "     \"<li>re-rerun `output_notebook()` to attempt to load from CDN again, or</li>\\n\"+\n",
       "     \"<li>use INLINE resources instead, as so:</li>\\n\"+\n",
       "     \"</ul>\\n\"+\n",
       "     \"<code>\\n\"+\n",
       "     \"from bokeh.resources import INLINE\\n\"+\n",
       "     \"output_notebook(resources=INLINE)\\n\"+\n",
       "     \"</code>\\n\"+\n",
       "     \"</div>\"}};\n",
       "\n",
       "  function display_loaded() {\n",
       "    var el = document.getElementById(\"1001\");\n",
       "    if (el != null) {\n",
       "      el.textContent = \"BokehJS is loading...\";\n",
       "    }\n",
       "    if (root.Bokeh !== undefined) {\n",
       "      if (el != null) {\n",
       "        el.textContent = \"BokehJS \" + root.Bokeh.version + \" successfully loaded.\";\n",
       "      }\n",
       "    } else if (Date.now() < root._bokeh_timeout) {\n",
       "      setTimeout(display_loaded, 100)\n",
       "    }\n",
       "  }\n",
       "\n",
       "\n",
       "  function run_callbacks() {\n",
       "    try {\n",
       "      root._bokeh_onload_callbacks.forEach(function(callback) {\n",
       "        if (callback != null)\n",
       "          callback();\n",
       "      });\n",
       "    } finally {\n",
       "      delete root._bokeh_onload_callbacks\n",
       "    }\n",
       "    console.debug(\"Bokeh: all callbacks have finished\");\n",
       "  }\n",
       "\n",
       "  function load_libs(css_urls, js_urls, callback) {\n",
       "    if (css_urls == null) css_urls = [];\n",
       "    if (js_urls == null) js_urls = [];\n",
       "\n",
       "    root._bokeh_onload_callbacks.push(callback);\n",
       "    if (root._bokeh_is_loading > 0) {\n",
       "      console.debug(\"Bokeh: BokehJS is being loaded, scheduling callback at\", now());\n",
       "      return null;\n",
       "    }\n",
       "    if (js_urls == null || js_urls.length === 0) {\n",
       "      run_callbacks();\n",
       "      return null;\n",
       "    }\n",
       "    console.debug(\"Bokeh: BokehJS not loaded, scheduling load and callback at\", now());\n",
       "    root._bokeh_is_loading = css_urls.length + js_urls.length;\n",
       "\n",
       "    function on_load() {\n",
       "      root._bokeh_is_loading--;\n",
       "      if (root._bokeh_is_loading === 0) {\n",
       "        console.debug(\"Bokeh: all BokehJS libraries/stylesheets loaded\");\n",
       "        run_callbacks()\n",
       "      }\n",
       "    }\n",
       "\n",
       "    function on_error() {\n",
       "      console.error(\"failed to load \" + url);\n",
       "    }\n",
       "\n",
       "    for (var i = 0; i < css_urls.length; i++) {\n",
       "      var url = css_urls[i];\n",
       "      const element = document.createElement(\"link\");\n",
       "      element.onload = on_load;\n",
       "      element.onerror = on_error;\n",
       "      element.rel = \"stylesheet\";\n",
       "      element.type = \"text/css\";\n",
       "      element.href = url;\n",
       "      console.debug(\"Bokeh: injecting link tag for BokehJS stylesheet: \", url);\n",
       "      document.body.appendChild(element);\n",
       "    }\n",
       "\n",
       "    for (var i = 0; i < js_urls.length; i++) {\n",
       "      var url = js_urls[i];\n",
       "      var element = document.createElement('script');\n",
       "      element.onload = on_load;\n",
       "      element.onerror = on_error;\n",
       "      element.async = false;\n",
       "      element.src = url;\n",
       "      console.debug(\"Bokeh: injecting script tag for BokehJS library: \", url);\n",
       "      document.head.appendChild(element);\n",
       "    }\n",
       "  };var element = document.getElementById(\"1001\");\n",
       "  if (element == null) {\n",
       "    console.error(\"Bokeh: ERROR: autoload.js configured with elementid '1001' but no matching script tag was found. \")\n",
       "    return false;\n",
       "  }\n",
       "\n",
       "  function inject_raw_css(css) {\n",
       "    const element = document.createElement(\"style\");\n",
       "    element.appendChild(document.createTextNode(css));\n",
       "    document.body.appendChild(element);\n",
       "  }\n",
       "\n",
       "  \n",
       "  var js_urls = [\"https://cdn.pydata.org/bokeh/release/bokeh-1.4.0.min.js\", \"https://cdn.pydata.org/bokeh/release/bokeh-widgets-1.4.0.min.js\", \"https://cdn.pydata.org/bokeh/release/bokeh-tables-1.4.0.min.js\", \"https://cdn.pydata.org/bokeh/release/bokeh-gl-1.4.0.min.js\"];\n",
       "  var css_urls = [];\n",
       "  \n",
       "\n",
       "  var inline_js = [\n",
       "    function(Bokeh) {\n",
       "      Bokeh.set_log_level(\"info\");\n",
       "    },\n",
       "    function(Bokeh) {\n",
       "    \n",
       "    \n",
       "    }\n",
       "  ];\n",
       "\n",
       "  function run_inline_js() {\n",
       "    \n",
       "    if (root.Bokeh !== undefined || force === true) {\n",
       "      \n",
       "    for (var i = 0; i < inline_js.length; i++) {\n",
       "      inline_js[i].call(root, root.Bokeh);\n",
       "    }\n",
       "    if (force === true) {\n",
       "        display_loaded();\n",
       "      }} else if (Date.now() < root._bokeh_timeout) {\n",
       "      setTimeout(run_inline_js, 100);\n",
       "    } else if (!root._bokeh_failed_load) {\n",
       "      console.log(\"Bokeh: BokehJS failed to load within specified timeout.\");\n",
       "      root._bokeh_failed_load = true;\n",
       "    } else if (force !== true) {\n",
       "      var cell = $(document.getElementById(\"1001\")).parents('.cell').data().cell;\n",
       "      cell.output_area.append_execute_result(NB_LOAD_WARNING)\n",
       "    }\n",
       "\n",
       "  }\n",
       "\n",
       "  if (root._bokeh_is_loading === 0) {\n",
       "    console.debug(\"Bokeh: BokehJS loaded, going straight to plotting\");\n",
       "    run_inline_js();\n",
       "  } else {\n",
       "    load_libs(css_urls, js_urls, function() {\n",
       "      console.debug(\"Bokeh: BokehJS plotting callback run at\", now());\n",
       "      run_inline_js();\n",
       "    });\n",
       "  }\n",
       "}(window));"
      ],
      "application/vnd.bokehjs_load.v0+json": "\n(function(root) {\n  function now() {\n    return new Date();\n  }\n\n  var force = true;\n\n  if (typeof root._bokeh_onload_callbacks === \"undefined\" || force === true) {\n    root._bokeh_onload_callbacks = [];\n    root._bokeh_is_loading = undefined;\n  }\n\n  \n\n  \n  if (typeof (root._bokeh_timeout) === \"undefined\" || force === true) {\n    root._bokeh_timeout = Date.now() + 5000;\n    root._bokeh_failed_load = false;\n  }\n\n  var NB_LOAD_WARNING = {'data': {'text/html':\n     \"<div style='background-color: #fdd'>\\n\"+\n     \"<p>\\n\"+\n     \"BokehJS does not appear to have successfully loaded. If loading BokehJS from CDN, this \\n\"+\n     \"may be due to a slow or bad network connection. Possible fixes:\\n\"+\n     \"</p>\\n\"+\n     \"<ul>\\n\"+\n     \"<li>re-rerun `output_notebook()` to attempt to load from CDN again, or</li>\\n\"+\n     \"<li>use INLINE resources instead, as so:</li>\\n\"+\n     \"</ul>\\n\"+\n     \"<code>\\n\"+\n     \"from bokeh.resources import INLINE\\n\"+\n     \"output_notebook(resources=INLINE)\\n\"+\n     \"</code>\\n\"+\n     \"</div>\"}};\n\n  function display_loaded() {\n    var el = document.getElementById(\"1001\");\n    if (el != null) {\n      el.textContent = \"BokehJS is loading...\";\n    }\n    if (root.Bokeh !== undefined) {\n      if (el != null) {\n        el.textContent = \"BokehJS \" + root.Bokeh.version + \" successfully loaded.\";\n      }\n    } else if (Date.now() < root._bokeh_timeout) {\n      setTimeout(display_loaded, 100)\n    }\n  }\n\n\n  function run_callbacks() {\n    try {\n      root._bokeh_onload_callbacks.forEach(function(callback) {\n        if (callback != null)\n          callback();\n      });\n    } finally {\n      delete root._bokeh_onload_callbacks\n    }\n    console.debug(\"Bokeh: all callbacks have finished\");\n  }\n\n  function load_libs(css_urls, js_urls, callback) {\n    if (css_urls == null) css_urls = [];\n    if (js_urls == null) js_urls = [];\n\n    root._bokeh_onload_callbacks.push(callback);\n    if (root._bokeh_is_loading > 0) {\n      console.debug(\"Bokeh: BokehJS is being loaded, scheduling callback at\", now());\n      return null;\n    }\n    if (js_urls == null || js_urls.length === 0) {\n      run_callbacks();\n      return null;\n    }\n    console.debug(\"Bokeh: BokehJS not loaded, scheduling load and callback at\", now());\n    root._bokeh_is_loading = css_urls.length + js_urls.length;\n\n    function on_load() {\n      root._bokeh_is_loading--;\n      if (root._bokeh_is_loading === 0) {\n        console.debug(\"Bokeh: all BokehJS libraries/stylesheets loaded\");\n        run_callbacks()\n      }\n    }\n\n    function on_error() {\n      console.error(\"failed to load \" + url);\n    }\n\n    for (var i = 0; i < css_urls.length; i++) {\n      var url = css_urls[i];\n      const element = document.createElement(\"link\");\n      element.onload = on_load;\n      element.onerror = on_error;\n      element.rel = \"stylesheet\";\n      element.type = \"text/css\";\n      element.href = url;\n      console.debug(\"Bokeh: injecting link tag for BokehJS stylesheet: \", url);\n      document.body.appendChild(element);\n    }\n\n    for (var i = 0; i < js_urls.length; i++) {\n      var url = js_urls[i];\n      var element = document.createElement('script');\n      element.onload = on_load;\n      element.onerror = on_error;\n      element.async = false;\n      element.src = url;\n      console.debug(\"Bokeh: injecting script tag for BokehJS library: \", url);\n      document.head.appendChild(element);\n    }\n  };var element = document.getElementById(\"1001\");\n  if (element == null) {\n    console.error(\"Bokeh: ERROR: autoload.js configured with elementid '1001' but no matching script tag was found. \")\n    return false;\n  }\n\n  function inject_raw_css(css) {\n    const element = document.createElement(\"style\");\n    element.appendChild(document.createTextNode(css));\n    document.body.appendChild(element);\n  }\n\n  \n  var js_urls = [\"https://cdn.pydata.org/bokeh/release/bokeh-1.4.0.min.js\", \"https://cdn.pydata.org/bokeh/release/bokeh-widgets-1.4.0.min.js\", \"https://cdn.pydata.org/bokeh/release/bokeh-tables-1.4.0.min.js\", \"https://cdn.pydata.org/bokeh/release/bokeh-gl-1.4.0.min.js\"];\n  var css_urls = [];\n  \n\n  var inline_js = [\n    function(Bokeh) {\n      Bokeh.set_log_level(\"info\");\n    },\n    function(Bokeh) {\n    \n    \n    }\n  ];\n\n  function run_inline_js() {\n    \n    if (root.Bokeh !== undefined || force === true) {\n      \n    for (var i = 0; i < inline_js.length; i++) {\n      inline_js[i].call(root, root.Bokeh);\n    }\n    if (force === true) {\n        display_loaded();\n      }} else if (Date.now() < root._bokeh_timeout) {\n      setTimeout(run_inline_js, 100);\n    } else if (!root._bokeh_failed_load) {\n      console.log(\"Bokeh: BokehJS failed to load within specified timeout.\");\n      root._bokeh_failed_load = true;\n    } else if (force !== true) {\n      var cell = $(document.getElementById(\"1001\")).parents('.cell').data().cell;\n      cell.output_area.append_execute_result(NB_LOAD_WARNING)\n    }\n\n  }\n\n  if (root._bokeh_is_loading === 0) {\n    console.debug(\"Bokeh: BokehJS loaded, going straight to plotting\");\n    run_inline_js();\n  } else {\n    load_libs(css_urls, js_urls, function() {\n      console.debug(\"Bokeh: BokehJS plotting callback run at\", now());\n      run_inline_js();\n    });\n  }\n}(window));"
     },
     "metadata": {},
     "output_type": "display_data"
    }
   ],
   "source": [
    "output_notebook()"
   ]
  },
  {
   "cell_type": "code",
   "execution_count": 14,
   "metadata": {},
   "outputs": [
    {
     "data": {
      "text/html": [
       "\n",
       "\n",
       "\n",
       "\n",
       "\n",
       "\n",
       "  <div class=\"bk-root\" id=\"5ccbfec8-44f9-4a3e-b702-52753e7c9779\" data-root-id=\"1102\"></div>\n"
      ]
     },
     "metadata": {},
     "output_type": "display_data"
    },
    {
     "data": {
      "application/javascript": [
       "(function(root) {\n",
       "  function embed_document(root) {\n",
       "    \n",
       "  var docs_json = {\"32fc3076-da69-45d1-bbf1-13df9f94661b\":{\"roots\":{\"references\":[{\"attributes\":{\"below\":[{\"id\":\"1111\",\"type\":\"DatetimeAxis\"}],\"center\":[{\"id\":\"1115\",\"type\":\"Grid\"},{\"id\":\"1120\",\"type\":\"Grid\"}],\"left\":[{\"id\":\"1116\",\"type\":\"LinearAxis\"}],\"plot_height\":500,\"plot_width\":1000,\"renderers\":[{\"id\":\"1137\",\"type\":\"GlyphRenderer\"}],\"title\":{\"id\":\"1148\",\"type\":\"Title\"},\"toolbar\":{\"id\":\"1127\",\"type\":\"Toolbar\"},\"x_range\":{\"id\":\"1103\",\"type\":\"DataRange1d\"},\"x_scale\":{\"id\":\"1107\",\"type\":\"LinearScale\"},\"y_range\":{\"id\":\"1105\",\"type\":\"DataRange1d\"},\"y_scale\":{\"id\":\"1109\",\"type\":\"LinearScale\"}},\"id\":\"1102\",\"subtype\":\"Figure\",\"type\":\"Plot\"},{\"attributes\":{},\"id\":\"1125\",\"type\":\"ResetTool\"},{\"attributes\":{},\"id\":\"1122\",\"type\":\"WheelZoomTool\"},{\"attributes\":{\"base\":24,\"mantissas\":[1,2,4,6,8,12],\"max_interval\":43200000.0,\"min_interval\":3600000.0,\"num_minor_ticks\":0},\"id\":\"1156\",\"type\":\"AdaptiveTicker\"},{\"attributes\":{\"base\":60,\"mantissas\":[1,2,5,10,15,20,30],\"max_interval\":1800000.0,\"min_interval\":1000.0,\"num_minor_ticks\":0},\"id\":\"1155\",\"type\":\"AdaptiveTicker\"},{\"attributes\":{},\"id\":\"1124\",\"type\":\"SaveTool\"},{\"attributes\":{\"callback\":null},\"id\":\"1105\",\"type\":\"DataRange1d\"},{\"attributes\":{\"days\":[1,4,7,10,13,16,19,22,25,28]},\"id\":\"1158\",\"type\":\"DaysTicker\"},{\"attributes\":{},\"id\":\"1121\",\"type\":\"PanTool\"},{\"attributes\":{},\"id\":\"1126\",\"type\":\"HelpTool\"},{\"attributes\":{\"active_drag\":\"auto\",\"active_inspect\":\"auto\",\"active_multi\":null,\"active_scroll\":\"auto\",\"active_tap\":\"auto\",\"tools\":[{\"id\":\"1121\",\"type\":\"PanTool\"},{\"id\":\"1122\",\"type\":\"WheelZoomTool\"},{\"id\":\"1123\",\"type\":\"BoxZoomTool\"},{\"id\":\"1124\",\"type\":\"SaveTool\"},{\"id\":\"1125\",\"type\":\"ResetTool\"},{\"id\":\"1126\",\"type\":\"HelpTool\"}]},\"id\":\"1127\",\"type\":\"Toolbar\"},{\"attributes\":{\"days\":[1,15]},\"id\":\"1160\",\"type\":\"DaysTicker\"},{\"attributes\":{\"formatter\":{\"id\":\"1153\",\"type\":\"BasicTickFormatter\"},\"ticker\":{\"id\":\"1117\",\"type\":\"BasicTicker\"}},\"id\":\"1116\",\"type\":\"LinearAxis\"},{\"attributes\":{\"source\":{\"id\":\"1134\",\"type\":\"ColumnDataSource\"}},\"id\":\"1138\",\"type\":\"CDSView\"},{\"attributes\":{\"callback\":null},\"id\":\"1103\",\"type\":\"DataRange1d\"},{\"attributes\":{\"data_source\":{\"id\":\"1134\",\"type\":\"ColumnDataSource\"},\"glyph\":{\"id\":\"1135\",\"type\":\"Line\"},\"hover_glyph\":null,\"muted_glyph\":null,\"nonselection_glyph\":{\"id\":\"1136\",\"type\":\"Line\"},\"selection_glyph\":null,\"view\":{\"id\":\"1138\",\"type\":\"CDSView\"}},\"id\":\"1137\",\"type\":\"GlyphRenderer\"},{\"attributes\":{\"months\":[0,1,2,3,4,5,6,7,8,9,10,11]},\"id\":\"1161\",\"type\":\"MonthsTicker\"},{\"attributes\":{\"overlay\":{\"id\":\"1168\",\"type\":\"BoxAnnotation\"}},\"id\":\"1123\",\"type\":\"BoxZoomTool\"},{\"attributes\":{\"days\":[1,8,15,22]},\"id\":\"1159\",\"type\":\"DaysTicker\"},{\"attributes\":{\"line_color\":\"#1f77b4\",\"x\":{\"field\":\"x\"},\"y\":{\"field\":\"y\"}},\"id\":\"1135\",\"type\":\"Line\"},{\"attributes\":{\"months\":[0,2,4,6,8,10]},\"id\":\"1162\",\"type\":\"MonthsTicker\"},{\"attributes\":{},\"id\":\"1153\",\"type\":\"BasicTickFormatter\"},{\"attributes\":{\"dimension\":1,\"ticker\":{\"id\":\"1117\",\"type\":\"BasicTicker\"}},\"id\":\"1120\",\"type\":\"Grid\"},{\"attributes\":{\"months\":[0,4,8]},\"id\":\"1163\",\"type\":\"MonthsTicker\"},{\"attributes\":{},\"id\":\"1117\",\"type\":\"BasicTicker\"},{\"attributes\":{\"months\":[0,6]},\"id\":\"1164\",\"type\":\"MonthsTicker\"},{\"attributes\":{\"line_alpha\":0.1,\"line_color\":\"#1f77b4\",\"x\":{\"field\":\"x\"},\"y\":{\"field\":\"y\"}},\"id\":\"1136\",\"type\":\"Line\"},{\"attributes\":{},\"id\":\"1165\",\"type\":\"YearsTicker\"},{\"attributes\":{\"num_minor_ticks\":5,\"tickers\":[{\"id\":\"1154\",\"type\":\"AdaptiveTicker\"},{\"id\":\"1155\",\"type\":\"AdaptiveTicker\"},{\"id\":\"1156\",\"type\":\"AdaptiveTicker\"},{\"id\":\"1157\",\"type\":\"DaysTicker\"},{\"id\":\"1158\",\"type\":\"DaysTicker\"},{\"id\":\"1159\",\"type\":\"DaysTicker\"},{\"id\":\"1160\",\"type\":\"DaysTicker\"},{\"id\":\"1161\",\"type\":\"MonthsTicker\"},{\"id\":\"1162\",\"type\":\"MonthsTicker\"},{\"id\":\"1163\",\"type\":\"MonthsTicker\"},{\"id\":\"1164\",\"type\":\"MonthsTicker\"},{\"id\":\"1165\",\"type\":\"YearsTicker\"}]},\"id\":\"1112\",\"type\":\"DatetimeTicker\"},{\"attributes\":{\"callback\":null,\"data\":{\"x\":[1588204800000.0,1588118400000.0,1588032000000.0,1587945600000.0,1587686400000.0,1587600000000.0,1587513600000.0,1587427200000.0,1587340800000.0,1587081600000.0,1586995200000.0,1586908800000.0,1586822400000.0,1586736000000.0,1586476800000.0,1586390400000.0,1586304000000.0,1586217600000.0,1585872000000.0,1585785600000.0,1585699200000.0,1585612800000.0,1585526400000.0,1585267200000.0,1585180800000.0,1585094400000.0,1585008000000.0,1584921600000.0,1584662400000.0,1584576000000.0,1584489600000.0,1584403200000.0,1584316800000.0,1584057600000.0,1583971200000.0,1583884800000.0,1583798400000.0,1583712000000.0,1583452800000.0,1583366400000.0,1583280000000.0,1583193600000.0,1583107200000.0,1582848000000.0,1582761600000.0,1582675200000.0,1582588800000.0,1582502400000.0,1582243200000.0,1582156800000.0,1582070400000.0,1581984000000.0,1581897600000.0,1581638400000.0,1581552000000.0,1581465600000.0,1581379200000.0,1581292800000.0,1581033600000.0,1580947200000.0,1580860800000.0,1580774400000.0,1580688000000.0,1579737600000.0,1579651200000.0,1579564800000.0,1579478400000.0,1579219200000.0,1579132800000.0,1579046400000.0,1578960000000.0,1578873600000.0,1578614400000.0,1578528000000.0,1578441600000.0,1578355200000.0,1578268800000.0,1578009600000.0,1577923200000.0,1577750400000.0,1577664000000.0,1577404800000.0,1577318400000.0,1577232000000.0,1577145600000.0,1577059200000.0,1576800000000.0,1576713600000.0,1576627200000.0,1576540800000.0,1576454400000.0,1576195200000.0,1576108800000.0,1576022400000.0,1575936000000.0,1575849600000.0,1575590400000.0,1575504000000.0,1575417600000.0,1575331200000.0,1575244800000.0,1574985600000.0,1574899200000.0,1574812800000.0,1574726400000.0,1574640000000.0,1574380800000.0,1574294400000.0,1574208000000.0,1574121600000.0,1574035200000.0,1573776000000.0,1573689600000.0,1573603200000.0,1573516800000.0,1573430400000.0,1573171200000.0,1573084800000.0,1572998400000.0,1572912000000.0,1572825600000.0,1572566400000.0,1572480000000.0,1572393600000.0,1572307200000.0,1572220800000.0,1571961600000.0,1571875200000.0,1571788800000.0,1571702400000.0,1571616000000.0,1571356800000.0,1571270400000.0,1571184000000.0,1571097600000.0,1571011200000.0,1570752000000.0,1570665600000.0,1570579200000.0,1570492800000.0,1569801600000.0,1569542400000.0,1569456000000.0,1569369600000.0,1569283200000.0,1569196800000.0,1568937600000.0,1568851200000.0,1568764800000.0,1568678400000.0,1568592000000.0,1568246400000.0,1568160000000.0,1568073600000.0,1567987200000.0,1567728000000.0,1567641600000.0,1567555200000.0,1567468800000.0,1567382400000.0,1567123200000.0,1567036800000.0,1566950400000.0,1566864000000.0,1566777600000.0,1566518400000.0,1566432000000.0,1566345600000.0,1566259200000.0,1566172800000.0,1565913600000.0,1565827200000.0,1565740800000.0,1565654400000.0,1565568000000.0,1565308800000.0,1565222400000.0,1565136000000.0,1565049600000.0,1564963200000.0,1564704000000.0,1564617600000.0,1564531200000.0,1564444800000.0,1564358400000.0,1564099200000.0,1564012800000.0,1563926400000.0,1563840000000.0,1563753600000.0,1563494400000.0,1563408000000.0,1563321600000.0,1563235200000.0,1563148800000.0,1562889600000.0,1562803200000.0,1562716800000.0,1562630400000.0,1562544000000.0,1562284800000.0,1562198400000.0,1562112000000.0,1562025600000.0,1561939200000.0,1561852800000.0,1561680000000.0,1561593600000.0,1561507200000.0,1561420800000.0,1561334400000.0,1561075200000.0,1560988800000.0,1560902400000.0,1560816000000.0,1560729600000.0,1560470400000.0,1560384000000.0,1560297600000.0,1560211200000.0,1560124800000.0,1559779200000.0,1559692800000.0,1559606400000.0,1559520000000.0,1559260800000.0,1559174400000.0,1559088000000.0,1559001600000.0,1558915200000.0,1558656000000.0,1558569600000.0,1558483200000.0,1558396800000.0,1558310400000.0,1558051200000.0,1557964800000.0,1557878400000.0,1557792000000.0,1557705600000.0,1557446400000.0,1557360000000.0,1557273600000.0,1557187200000.0,1557100800000.0,1556582400000.0,1556496000000.0,1556236800000.0,1556150400000.0,1556064000000.0,1555977600000.0,1555891200000.0,1555632000000.0,1555545600000.0,1555459200000.0,1555372800000.0,1555286400000.0,1555027200000.0,1554940800000.0,1554854400000.0,1554768000000.0,1554681600000.0,1554336000000.0,1554249600000.0,1554163200000.0,1554076800000.0,1553817600000.0,1553731200000.0,1553644800000.0,1553558400000.0,1553472000000.0,1553212800000.0,1553126400000.0,1553040000000.0,1552953600000.0,1552867200000.0,1552608000000.0,1552521600000.0,1552435200000.0,1552348800000.0,1552262400000.0,1552003200000.0,1551916800000.0,1551830400000.0,1551744000000.0,1551657600000.0,1551398400000.0,1551312000000.0,1551225600000.0,1551139200000.0,1551052800000.0,1550793600000.0,1550707200000.0,1550620800000.0,1550534400000.0,1550448000000.0,1550188800000.0,1550102400000.0,1550016000000.0,1549929600000.0,1549843200000.0,1548979200000.0,1548892800000.0,1548806400000.0,1548720000000.0,1548633600000.0,1548374400000.0,1548288000000.0,1548201600000.0,1548115200000.0,1548028800000.0,1547769600000.0,1547683200000.0,1547596800000.0,1547510400000.0,1547424000000.0,1547164800000.0,1547078400000.0,1546992000000.0,1546905600000.0,1546819200000.0,1546560000000.0,1546473600000.0,1546387200000.0,1546214400000.0,1545955200000.0,1545868800000.0,1545782400000.0,1545696000000.0,1545609600000.0,1545350400000.0,1545264000000.0,1545177600000.0,1545091200000.0,1545004800000.0,1544745600000.0,1544659200000.0,1544572800000.0,1544486400000.0,1544400000000.0,1544140800000.0,1544054400000.0,1543968000000.0,1543881600000.0,1543795200000.0,1543536000000.0,1543449600000.0,1543363200000.0,1543276800000.0,1543190400000.0,1542931200000.0,1542844800000.0,1542758400000.0,1542672000000.0,1542585600000.0,1542326400000.0,1542240000000.0,1542153600000.0,1542067200000.0,1541980800000.0,1541721600000.0,1541635200000.0,1541548800000.0,1541462400000.0,1541376000000.0,1541116800000.0,1541030400000.0,1540944000000.0,1540857600000.0,1540771200000.0,1540512000000.0,1540425600000.0,1540339200000.0,1540252800000.0,1540166400000.0,1539907200000.0,1539820800000.0,1539734400000.0,1539648000000.0,1539561600000.0,1539302400000.0,1539216000000.0,1539129600000.0,1539043200000.0,1538956800000.0,1538092800000.0,1538006400000.0,1537920000000.0,1537833600000.0,1537488000000.0,1537401600000.0,1537315200000.0,1537228800000.0,1537142400000.0,1536883200000.0,1536796800000.0,1536710400000.0,1536624000000.0,1536537600000.0,1536278400000.0,1536192000000.0,1536105600000.0,1536019200000.0,1535932800000.0,1535673600000.0,1535587200000.0,1535500800000.0,1535414400000.0,1535328000000.0,1535068800000.0,1534982400000.0,1534896000000.0,1534809600000.0,1534723200000.0,1534464000000.0,1534377600000.0,1534291200000.0,1534204800000.0,1534118400000.0,1533859200000.0,1533772800000.0,1533686400000.0,1533600000000.0,1533513600000.0,1533254400000.0,1533168000000.0,1533081600000.0,1532995200000.0,1532908800000.0,1532649600000.0,1532563200000.0,1532476800000.0,1532390400000.0,1532304000000.0,1532044800000.0,1531958400000.0,1531872000000.0,1531785600000.0,1531699200000.0,1531440000000.0,1531353600000.0,1531267200000.0,1531180800000.0,1531094400000.0,1530835200000.0,1530748800000.0,1530662400000.0,1530576000000.0,1530489600000.0,1530316800000.0,1530230400000.0,1530144000000.0,1530057600000.0,1529971200000.0,1529884800000.0,1529625600000.0,1529539200000.0,1529452800000.0,1529366400000.0,1529020800000.0,1528934400000.0,1528848000000.0,1528761600000.0,1528675200000.0,1528416000000.0,1528329600000.0,1528243200000.0,1528156800000.0,1528070400000.0,1527811200000.0,1527724800000.0,1527638400000.0,1527552000000.0,1527465600000.0,1527206400000.0,1527120000000.0,1527033600000.0,1526947200000.0,1526860800000.0,1526601600000.0,1526515200000.0,1526428800000.0,1526342400000.0,1526256000000.0,1525996800000.0,1525910400000.0,1525824000000.0,1525737600000.0,1525651200000.0,1525392000000.0,1525305600000.0,1525219200000.0,1524787200000.0,1524700800000.0,1524614400000.0,1524528000000.0,1524441600000.0,1524182400000.0,1524096000000.0,1524009600000.0,1523923200000.0,1523836800000.0,1523577600000.0,1523491200000.0,1523404800000.0,1523318400000.0,1523232000000.0,1522800000000.0,1522713600000.0,1522627200000.0,1522368000000.0,1522281600000.0,1522195200000.0,1522108800000.0,1522022400000.0,1521763200000.0,1521676800000.0,1521590400000.0,1521504000000.0,1521417600000.0,1521158400000.0,1521072000000.0,1520985600000.0,1520899200000.0,1520812800000.0,1520553600000.0,1520467200000.0,1520380800000.0,1520294400000.0,1520208000000.0,1519948800000.0,1519862400000.0,1519776000000.0,1519689600000.0,1519603200000.0,1519344000000.0,1519257600000.0,1518566400000.0,1518480000000.0,1518393600000.0,1518134400000.0,1518048000000.0,1517961600000.0,1517875200000.0,1517788800000.0,1517529600000.0,1517443200000.0,1517356800000.0,1517270400000.0,1517184000000.0,1516924800000.0,1516838400000.0,1516752000000.0,1516665600000.0,1516579200000.0,1516320000000.0,1516233600000.0,1516147200000.0,1516060800000.0,1515974400000.0,1515715200000.0,1515628800000.0,1515542400000.0,1515456000000.0,1515369600000.0,1515110400000.0,1515024000000.0,1514937600000.0,1514851200000.0,1514678400000.0,1514505600000.0,1514419200000.0,1514332800000.0,1514246400000.0,1514160000000.0,1513900800000.0,1513814400000.0,1513728000000.0,1513641600000.0,1513555200000.0,1513296000000.0,1513209600000.0,1513123200000.0,1513036800000.0,1512950400000.0,1512691200000.0,1512604800000.0,1512518400000.0,1512432000000.0,1512345600000.0,1512086400000.0,1512000000000.0,1511913600000.0,1511827200000.0,1511740800000.0,1511481600000.0,1511395200000.0,1511308800000.0,1511222400000.0,1511136000000.0,1510876800000.0,1510790400000.0,1510704000000.0,1510617600000.0,1510531200000.0,1510272000000.0,1510185600000.0,1510099200000.0,1510012800000.0,1509926400000.0,1509667200000.0,1509580800000.0,1509494400000.0,1509408000000.0,1509321600000.0,1509062400000.0,1508976000000.0,1508889600000.0,1508803200000.0,1508716800000.0,1508457600000.0,1508371200000.0,1508284800000.0,1508198400000.0,1508112000000.0,1507852800000.0,1507766400000.0,1507680000000.0,1507593600000.0,1507507200000.0,1506643200000.0,1506556800000.0,1506470400000.0,1506384000000.0,1506297600000.0,1506038400000.0,1505952000000.0,1505865600000.0,1505779200000.0,1505692800000.0,1505433600000.0,1505347200000.0,1505260800000.0,1505174400000.0,1505088000000.0,1504828800000.0,1504742400000.0,1504656000000.0,1504569600000.0,1504483200000.0,1504224000000.0,1504137600000.0,1504051200000.0,1503964800000.0,1503878400000.0,1503619200000.0,1503532800000.0,1503446400000.0,1503360000000.0,1503273600000.0,1503014400000.0,1502928000000.0,1502841600000.0,1502755200000.0,1502668800000.0,1502409600000.0,1502323200000.0,1502236800000.0,1502150400000.0,1502064000000.0,1501804800000.0,1501718400000.0,1501632000000.0,1501545600000.0,1501459200000.0,1501200000000.0,1501113600000.0,1501027200000.0,1500940800000.0,1500854400000.0,1500595200000.0,1500508800000.0,1500422400000.0,1500336000000.0,1500249600000.0,1499990400000.0,1499904000000.0,1499817600000.0,1499731200000.0,1499644800000.0,1499385600000.0,1499299200000.0,1499212800000.0],\"y\":{\"__ndarray__\":\"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\",\"dtype\":\"float64\",\"shape\":[693]}},\"selected\":{\"id\":\"1167\",\"type\":\"Selection\"},\"selection_policy\":{\"id\":\"1166\",\"type\":\"UnionRenderers\"}},\"id\":\"1134\",\"type\":\"ColumnDataSource\"},{\"attributes\":{\"mantissas\":[1,2,5],\"max_interval\":500.0,\"num_minor_ticks\":0},\"id\":\"1154\",\"type\":\"AdaptiveTicker\"},{\"attributes\":{},\"id\":\"1166\",\"type\":\"UnionRenderers\"},{\"attributes\":{\"text\":\"\"},\"id\":\"1148\",\"type\":\"Title\"},{\"attributes\":{\"ticker\":{\"id\":\"1112\",\"type\":\"DatetimeTicker\"}},\"id\":\"1115\",\"type\":\"Grid\"},{\"attributes\":{},\"id\":\"1167\",\"type\":\"Selection\"},{\"attributes\":{\"days\":[1,2,3,4,5,6,7,8,9,10,11,12,13,14,15,16,17,18,19,20,21,22,23,24,25,26,27,28,29,30,31]},\"id\":\"1157\",\"type\":\"DaysTicker\"},{\"attributes\":{\"bottom_units\":\"screen\",\"fill_alpha\":{\"value\":0.5},\"fill_color\":{\"value\":\"lightgrey\"},\"left_units\":\"screen\",\"level\":\"overlay\",\"line_alpha\":{\"value\":1.0},\"line_color\":{\"value\":\"black\"},\"line_dash\":[4,4],\"line_width\":{\"value\":2},\"render_mode\":\"css\",\"right_units\":\"screen\",\"top_units\":\"screen\"},\"id\":\"1168\",\"type\":\"BoxAnnotation\"},{\"attributes\":{\"formatter\":{\"id\":\"1151\",\"type\":\"DatetimeTickFormatter\"},\"ticker\":{\"id\":\"1112\",\"type\":\"DatetimeTicker\"}},\"id\":\"1111\",\"type\":\"DatetimeAxis\"},{\"attributes\":{},\"id\":\"1151\",\"type\":\"DatetimeTickFormatter\"},{\"attributes\":{},\"id\":\"1109\",\"type\":\"LinearScale\"},{\"attributes\":{},\"id\":\"1107\",\"type\":\"LinearScale\"}],\"root_ids\":[\"1102\"]},\"title\":\"Bokeh Application\",\"version\":\"1.4.0\"}};\n",
       "  var render_items = [{\"docid\":\"32fc3076-da69-45d1-bbf1-13df9f94661b\",\"roots\":{\"1102\":\"5ccbfec8-44f9-4a3e-b702-52753e7c9779\"}}];\n",
       "  root.Bokeh.embed.embed_items_notebook(docs_json, render_items);\n",
       "\n",
       "  }\n",
       "  if (root.Bokeh !== undefined) {\n",
       "    embed_document(root);\n",
       "  } else {\n",
       "    var attempts = 0;\n",
       "    var timer = setInterval(function(root) {\n",
       "      if (root.Bokeh !== undefined) {\n",
       "        clearInterval(timer);\n",
       "        embed_document(root);\n",
       "      } else {\n",
       "        attempts++;\n",
       "        if (attempts > 100) {\n",
       "          clearInterval(timer);\n",
       "          console.log(\"Bokeh: ERROR: Unable to run BokehJS code because BokehJS library is missing\");\n",
       "        }\n",
       "      }\n",
       "    }, 10, root)\n",
       "  }\n",
       "})(window);"
      ],
      "application/vnd.bokehjs_exec.v0+json": ""
     },
     "metadata": {
      "application/vnd.bokehjs_exec.v0+json": {
       "id": "1102"
      }
     },
     "output_type": "display_data"
    }
   ],
   "source": [
    "p = figure(width=1000, height=500, x_axis_type=\"datetime\")\n",
    "p.line(df['day'], df['net_value'])\n",
    "show(p)"
   ]
  },
  {
   "cell_type": "code",
   "execution_count": 33,
   "metadata": {},
   "outputs": [],
   "source": [
    "q = query(finance.FUND_NET_VALUE).filter(finance.FUND_NET_VALUE.code==\"519674\").order_by(finance.FUND_NET_VALUE.day.desc())\n",
    "df_all = finance.run_query(q)"
   ]
  },
  {
   "cell_type": "code",
   "execution_count": 35,
   "metadata": {},
   "outputs": [
    {
     "data": {
      "text/html": [
       "\n",
       "\n",
       "\n",
       "\n",
       "\n",
       "\n",
       "  <div class=\"bk-root\" id=\"c3359e11-36c7-4e05-924c-b924d5da38d8\" data-root-id=\"3370\"></div>\n"
      ]
     },
     "metadata": {},
     "output_type": "display_data"
    },
    {
     "data": {
      "application/javascript": [
       "(function(root) {\n",
       "  function embed_document(root) {\n",
       "    \n",
       "  var docs_json = {\"8aea09ef-9b0a-41dc-80da-92e33384d521\":{\"roots\":{\"references\":[{\"attributes\":{\"below\":[{\"id\":\"3379\",\"type\":\"DatetimeAxis\"}],\"center\":[{\"id\":\"3383\",\"type\":\"Grid\"},{\"id\":\"3388\",\"type\":\"Grid\"}],\"left\":[{\"id\":\"3384\",\"type\":\"LinearAxis\"}],\"plot_height\":500,\"plot_width\":1000,\"renderers\":[{\"id\":\"3405\",\"type\":\"GlyphRenderer\"}],\"title\":{\"id\":\"3588\",\"type\":\"Title\"},\"toolbar\":{\"id\":\"3395\",\"type\":\"Toolbar\"},\"x_range\":{\"id\":\"3371\",\"type\":\"DataRange1d\"},\"x_scale\":{\"id\":\"3375\",\"type\":\"LinearScale\"},\"y_range\":{\"id\":\"3373\",\"type\":\"DataRange1d\"},\"y_scale\":{\"id\":\"3377\",\"type\":\"LinearScale\"}},\"id\":\"3370\",\"subtype\":\"Figure\",\"type\":\"Plot\"},{\"attributes\":{},\"id\":\"3377\",\"type\":\"LinearScale\"},{\"attributes\":{\"data_source\":{\"id\":\"3402\",\"type\":\"ColumnDataSource\"},\"glyph\":{\"id\":\"3403\",\"type\":\"Line\"},\"hover_glyph\":null,\"muted_glyph\":null,\"nonselection_glyph\":{\"id\":\"3404\",\"type\":\"Line\"},\"selection_glyph\":null,\"view\":{\"id\":\"3406\",\"type\":\"CDSView\"}},\"id\":\"3405\",\"type\":\"GlyphRenderer\"},{\"attributes\":{},\"id\":\"3605\",\"type\":\"YearsTicker\"},{\"attributes\":{},\"id\":\"3375\",\"type\":\"LinearScale\"},{\"attributes\":{\"source\":{\"id\":\"3402\",\"type\":\"ColumnDataSource\"}},\"id\":\"3406\",\"type\":\"CDSView\"},{\"attributes\":{},\"id\":\"3606\",\"type\":\"UnionRenderers\"},{\"attributes\":{\"formatter\":{\"id\":\"3591\",\"type\":\"DatetimeTickFormatter\"},\"ticker\":{\"id\":\"3380\",\"type\":\"DatetimeTicker\"}},\"id\":\"3379\",\"type\":\"DatetimeAxis\"},{\"attributes\":{\"num_minor_ticks\":5,\"tickers\":[{\"id\":\"3594\",\"type\":\"AdaptiveTicker\"},{\"id\":\"3595\",\"type\":\"AdaptiveTicker\"},{\"id\":\"3596\",\"type\":\"AdaptiveTicker\"},{\"id\":\"3597\",\"type\":\"DaysTicker\"},{\"id\":\"3598\",\"type\":\"DaysTicker\"},{\"id\":\"3599\",\"type\":\"DaysTicker\"},{\"id\":\"3600\",\"type\":\"DaysTicker\"},{\"id\":\"3601\",\"type\":\"MonthsTicker\"},{\"id\":\"3602\",\"type\":\"MonthsTicker\"},{\"id\":\"3603\",\"type\":\"MonthsTicker\"},{\"id\":\"3604\",\"type\":\"MonthsTicker\"},{\"id\":\"3605\",\"type\":\"YearsTicker\"}]},\"id\":\"3380\",\"type\":\"DatetimeTicker\"},{\"attributes\":{},\"id\":\"3607\",\"type\":\"Selection\"},{\"attributes\":{\"bottom_units\":\"screen\",\"fill_alpha\":{\"value\":0.5},\"fill_color\":{\"value\":\"lightgrey\"},\"left_units\":\"screen\",\"level\":\"overlay\",\"line_alpha\":{\"value\":1.0},\"line_color\":{\"value\":\"black\"},\"line_dash\":[4,4],\"line_width\":{\"value\":2},\"render_mode\":\"css\",\"right_units\":\"screen\",\"top_units\":\"screen\"},\"id\":\"3608\",\"type\":\"BoxAnnotation\"},{\"attributes\":{\"ticker\":{\"id\":\"3380\",\"type\":\"DatetimeTicker\"}},\"id\":\"3383\",\"type\":\"Grid\"},{\"attributes\":{},\"id\":\"3591\",\"type\":\"DatetimeTickFormatter\"},{\"attributes\":{\"callback\":null},\"id\":\"3371\",\"type\":\"DataRange1d\"},{\"attributes\":{\"formatter\":{\"id\":\"3593\",\"type\":\"BasicTickFormatter\"},\"ticker\":{\"id\":\"3385\",\"type\":\"BasicTicker\"}},\"id\":\"3384\",\"type\":\"LinearAxis\"},{\"attributes\":{\"text\":\"\"},\"id\":\"3588\",\"type\":\"Title\"},{\"attributes\":{},\"id\":\"3593\",\"type\":\"BasicTickFormatter\"},{\"attributes\":{\"callback\":null},\"id\":\"3373\",\"type\":\"DataRange1d\"},{\"attributes\":{\"line_alpha\":0.1,\"line_color\":\"#1f77b4\",\"x\":{\"field\":\"x\"},\"y\":{\"field\":\"y\"}},\"id\":\"3404\",\"type\":\"Line\"},{\"attributes\":{\"mantissas\":[1,2,5],\"max_interval\":500.0,\"num_minor_ticks\":0},\"id\":\"3594\",\"type\":\"AdaptiveTicker\"},{\"attributes\":{},\"id\":\"3385\",\"type\":\"BasicTicker\"},{\"attributes\":{\"base\":60,\"mantissas\":[1,2,5,10,15,20,30],\"max_interval\":1800000.0,\"min_interval\":1000.0,\"num_minor_ticks\":0},\"id\":\"3595\",\"type\":\"AdaptiveTicker\"},{\"attributes\":{},\"id\":\"3394\",\"type\":\"HelpTool\"},{\"attributes\":{\"base\":24,\"mantissas\":[1,2,4,6,8,12],\"max_interval\":43200000.0,\"min_interval\":3600000.0,\"num_minor_ticks\":0},\"id\":\"3596\",\"type\":\"AdaptiveTicker\"},{\"attributes\":{},\"id\":\"3392\",\"type\":\"SaveTool\"},{\"attributes\":{\"days\":[1,2,3,4,5,6,7,8,9,10,11,12,13,14,15,16,17,18,19,20,21,22,23,24,25,26,27,28,29,30,31]},\"id\":\"3597\",\"type\":\"DaysTicker\"},{\"attributes\":{},\"id\":\"3393\",\"type\":\"ResetTool\"},{\"attributes\":{\"days\":[1,4,7,10,13,16,19,22,25,28]},\"id\":\"3598\",\"type\":\"DaysTicker\"},{\"attributes\":{},\"id\":\"3390\",\"type\":\"WheelZoomTool\"},{\"attributes\":{\"days\":[1,8,15,22]},\"id\":\"3599\",\"type\":\"DaysTicker\"},{\"attributes\":{\"months\":[0,4,8]},\"id\":\"3603\",\"type\":\"MonthsTicker\"},{\"attributes\":{\"days\":[1,15]},\"id\":\"3600\",\"type\":\"DaysTicker\"},{\"attributes\":{},\"id\":\"3389\",\"type\":\"PanTool\"},{\"attributes\":{\"dimension\":1,\"ticker\":{\"id\":\"3385\",\"type\":\"BasicTicker\"}},\"id\":\"3388\",\"type\":\"Grid\"},{\"attributes\":{\"months\":[0,1,2,3,4,5,6,7,8,9,10,11]},\"id\":\"3601\",\"type\":\"MonthsTicker\"},{\"attributes\":{\"active_drag\":\"auto\",\"active_inspect\":\"auto\",\"active_multi\":null,\"active_scroll\":\"auto\",\"active_tap\":\"auto\",\"tools\":[{\"id\":\"3389\",\"type\":\"PanTool\"},{\"id\":\"3390\",\"type\":\"WheelZoomTool\"},{\"id\":\"3391\",\"type\":\"BoxZoomTool\"},{\"id\":\"3392\",\"type\":\"SaveTool\"},{\"id\":\"3393\",\"type\":\"ResetTool\"},{\"id\":\"3394\",\"type\":\"HelpTool\"}]},\"id\":\"3395\",\"type\":\"Toolbar\"},{\"attributes\":{\"callback\":null,\"data\":{\"x\":[1588204800000.0,1588118400000.0,1588032000000.0,1587945600000.0,1587686400000.0,1587600000000.0,1587513600000.0,1587427200000.0,1587340800000.0,1587081600000.0,1586995200000.0,1586908800000.0,1586822400000.0,1586736000000.0,1586476800000.0,1586390400000.0,1586304000000.0,1586217600000.0,1585872000000.0,1585785600000.0,1585699200000.0,1585612800000.0,1585526400000.0,1585267200000.0,1585180800000.0,1585094400000.0,1585008000000.0,1584921600000.0,1584662400000.0,1584576000000.0,1584489600000.0,1584403200000.0,1584316800000.0,1584057600000.0,1583971200000.0,1583884800000.0,1583798400000.0,1583712000000.0,1583452800000.0,1583366400000.0,1583280000000.0,1583193600000.0,1583107200000.0,1582848000000.0,1582761600000.0,1582675200000.0,1582588800000.0,1582502400000.0,1582243200000.0,1582156800000.0,1582070400000.0,1581984000000.0,1581897600000.0,1581638400000.0,1581552000000.0,1581465600000.0,1581379200000.0,1581292800000.0,1581033600000.0,1580947200000.0,1580860800000.0,1580774400000.0,1580688000000.0,1579737600000.0,1579651200000.0,1579564800000.0,1579478400000.0,1579219200000.0,1579132800000.0,1579046400000.0,1578960000000.0,1578873600000.0,1578614400000.0,1578528000000.0,1578441600000.0,1578355200000.0,1578268800000.0,1578009600000.0,1577923200000.0,1577750400000.0,1577664000000.0,1577404800000.0,1577318400000.0,1577232000000.0,1577145600000.0,1577059200000.0,1576800000000.0,1576713600000.0,1576627200000.0,1576540800000.0,1576454400000.0,1576195200000.0,1576108800000.0,1576022400000.0,1575936000000.0,1575849600000.0,1575590400000.0,1575504000000.0,1575417600000.0,1575331200000.0,1575244800000.0,1574985600000.0,1574899200000.0,1574812800000.0,1574726400000.0,1574640000000.0,1574380800000.0,1574294400000.0,1574208000000.0,1574121600000.0,1574035200000.0,1573776000000.0,1573689600000.0,1573603200000.0,1573516800000.0,1573430400000.0,1573171200000.0,1573084800000.0,1572998400000.0,1572912000000.0,1572825600000.0,1572566400000.0,1572480000000.0,1572393600000.0,1572307200000.0,1572220800000.0,1571961600000.0,1571875200000.0,1571788800000.0,1571702400000.0,1571616000000.0,1571356800000.0,1571270400000.0,1571184000000.0,1571097600000.0,1571011200000.0,1570752000000.0,1570665600000.0,1570579200000.0,1570492800000.0,1569801600000.0,1569542400000.0,1569456000000.0,1569369600000.0,1569283200000.0,1569196800000.0,1568937600000.0,1568851200000.0,1568764800000.0,1568678400000.0,1568592000000.0,1568246400000.0,1568160000000.0,1568073600000.0,1567987200000.0,1567728000000.0,1567641600000.0,1567555200000.0,1567468800000.0,1567382400000.0,1567123200000.0,1567036800000.0,1566950400000.0,1566864000000.0,1566777600000.0,1566518400000.0,1566432000000.0,1566345600000.0,1566259200000.0,1566172800000.0,1565913600000.0,1565827200000.0,1565740800000.0,1565654400000.0,1565568000000.0,1565308800000.0,1565222400000.0,1565136000000.0,1565049600000.0,1564963200000.0,1564704000000.0,1564617600000.0,1564531200000.0,1564444800000.0,1564358400000.0,1564099200000.0,1564012800000.0,1563926400000.0,1563840000000.0,1563753600000.0,1563494400000.0,1563408000000.0,1563321600000.0,1563235200000.0,1563148800000.0,1562889600000.0,1562803200000.0,1562716800000.0,1562630400000.0,1562544000000.0,1562284800000.0,1562198400000.0,1562112000000.0,1562025600000.0,1561939200000.0,1561852800000.0,1561680000000.0,1561593600000.0,1561507200000.0,1561420800000.0,1561334400000.0,1561075200000.0,1560988800000.0,1560902400000.0,1560816000000.0,1560729600000.0,1560470400000.0,1560384000000.0,1560297600000.0,1560211200000.0,1560124800000.0,1559779200000.0,1559692800000.0,1559606400000.0,1559520000000.0,1559260800000.0,1559174400000.0,1559088000000.0,1559001600000.0,1558915200000.0,1558656000000.0,1558569600000.0,1558483200000.0,1558396800000.0,1558310400000.0,1558051200000.0,1557964800000.0,1557878400000.0,1557792000000.0,1557705600000.0,1557446400000.0,1557360000000.0,1557273600000.0,1557187200000.0,1557100800000.0,1556582400000.0,1556496000000.0,1556236800000.0,1556150400000.0,1556064000000.0,1555977600000.0,1555891200000.0,1555632000000.0,1555545600000.0,1555459200000.0,1555372800000.0,1555286400000.0,1555027200000.0,1554940800000.0,1554854400000.0,1554768000000.0,1554681600000.0,1554336000000.0,1554249600000.0,1554163200000.0,1554076800000.0,1553817600000.0,1553731200000.0,1553644800000.0,1553558400000.0,1553472000000.0,1553212800000.0,1553126400000.0,1553040000000.0,1552953600000.0,1552867200000.0,1552608000000.0,1552521600000.0,1552435200000.0,1552348800000.0,1552262400000.0,1552003200000.0,1551916800000.0,1551830400000.0,1551744000000.0,1551657600000.0,1551398400000.0,1551312000000.0,1551225600000.0,1551139200000.0,1551052800000.0,1550793600000.0,1550707200000.0,1550620800000.0,1550534400000.0,1550448000000.0,1550188800000.0,1550102400000.0,1550016000000.0,1549929600000.0,1549843200000.0,1548979200000.0,1548892800000.0,1548806400000.0,1548720000000.0,1548633600000.0,1548374400000.0,1548288000000.0,1548201600000.0,1548115200000.0,1548028800000.0,1547769600000.0,1547683200000.0,1547596800000.0,1547510400000.0,1547424000000.0,1547164800000.0,1547078400000.0,1546992000000.0,1546905600000.0,1546819200000.0,1546560000000.0,1546473600000.0,1546387200000.0,1546214400000.0,1545955200000.0,1545868800000.0,1545782400000.0,1545696000000.0,1545609600000.0,1545350400000.0,1545264000000.0,1545177600000.0,1545091200000.0,1545004800000.0,1544745600000.0,1544659200000.0,1544572800000.0,1544486400000.0,1544400000000.0,1544140800000.0,1544054400000.0,1543968000000.0,1543881600000.0,1543795200000.0,1543536000000.0,1543449600000.0,1543363200000.0,1543276800000.0,1543190400000.0,1542931200000.0,1542844800000.0,1542758400000.0,1542672000000.0,1542585600000.0,1542326400000.0,1542240000000.0,1542153600000.0,1542067200000.0,1541980800000.0,1541721600000.0,1541635200000.0,1541548800000.0,1541462400000.0,1541376000000.0,1541116800000.0],\"y\":{\"__ndarray__\":\"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\",\"dtype\":\"float64\",\"shape\":[366]}},\"selected\":{\"id\":\"3607\",\"type\":\"Selection\"},\"selection_policy\":{\"id\":\"3606\",\"type\":\"UnionRenderers\"}},\"id\":\"3402\",\"type\":\"ColumnDataSource\"},{\"attributes\":{\"months\":[0,2,4,6,8,10]},\"id\":\"3602\",\"type\":\"MonthsTicker\"},{\"attributes\":{\"line_color\":\"#1f77b4\",\"x\":{\"field\":\"x\"},\"y\":{\"field\":\"y\"}},\"id\":\"3403\",\"type\":\"Line\"},{\"attributes\":{\"overlay\":{\"id\":\"3608\",\"type\":\"BoxAnnotation\"}},\"id\":\"3391\",\"type\":\"BoxZoomTool\"},{\"attributes\":{\"months\":[0,6]},\"id\":\"3604\",\"type\":\"MonthsTicker\"}],\"root_ids\":[\"3370\"]},\"title\":\"Bokeh Application\",\"version\":\"1.4.0\"}};\n",
       "  var render_items = [{\"docid\":\"8aea09ef-9b0a-41dc-80da-92e33384d521\",\"roots\":{\"3370\":\"c3359e11-36c7-4e05-924c-b924d5da38d8\"}}];\n",
       "  root.Bokeh.embed.embed_items_notebook(docs_json, render_items);\n",
       "\n",
       "  }\n",
       "  if (root.Bokeh !== undefined) {\n",
       "    embed_document(root);\n",
       "  } else {\n",
       "    var attempts = 0;\n",
       "    var timer = setInterval(function(root) {\n",
       "      if (root.Bokeh !== undefined) {\n",
       "        clearInterval(timer);\n",
       "        embed_document(root);\n",
       "      } else {\n",
       "        attempts++;\n",
       "        if (attempts > 100) {\n",
       "          clearInterval(timer);\n",
       "          console.log(\"Bokeh: ERROR: Unable to run BokehJS code because BokehJS library is missing\");\n",
       "        }\n",
       "      }\n",
       "    }, 10, root)\n",
       "  }\n",
       "})(window);"
      ],
      "application/vnd.bokehjs_exec.v0+json": ""
     },
     "metadata": {
      "application/vnd.bokehjs_exec.v0+json": {
       "id": "3370"
      }
     },
     "output_type": "display_data"
    }
   ],
   "source": [
    "df = df_all.loc[:365]\n",
    "p = figure(width=1000, height=500, x_axis_type=\"datetime\")\n",
    "#p.circle(df['day'], df['net_value'])\n",
    "p.line(df['day'], df['net_value'])\n",
    "show(p)"
   ]
  },
  {
   "cell_type": "code",
   "execution_count": 149,
   "metadata": {},
   "outputs": [],
   "source": [
    "from sqlalchemy import extract\n",
    "\n",
    "funds = {}\n",
    "for year in range(2001,2021):\n",
    "    funds[year] = finance.run_query(query(finance.FUND_MAIN_INFO).filter(finance.FUND_MAIN_INFO.end_date==None,finance.FUND_MAIN_INFO.operate_mode!='封闭式基金',extract('year', finance.FUND_MAIN_INFO.start_date) == year))"
   ]
  },
  {
   "cell_type": "code",
   "execution_count": 186,
   "metadata": {},
   "outputs": [
    {
     "name": "stdout",
     "output_type": "stream",
     "text": [
      "2001 :  3\n",
      "2002 :  14\n",
      "2003 :  39\n",
      "2004 :  49\n",
      "2005 :  62\n",
      "2006 :  96\n",
      "2007 :  63\n",
      "2008 :  110\n",
      "2009 :  144\n",
      "2010 :  156\n",
      "2011 :  230\n",
      "2012 :  312\n",
      "2013 :  411\n",
      "2014 :  450\n",
      "2015 :  974\n",
      "2016 :  1351\n",
      "2017 :  1146\n",
      "2018 :  1215\n",
      "2019 :  1583\n",
      "2020 :  576\n",
      "sum:  8984\n",
      "records： 11541250\n"
     ]
    }
   ],
   "source": [
    "sum = 0\n",
    "records = 0\n",
    "for year in range(2001,2021):\n",
    "    sum += len(funds[year])\n",
    "    print(year, ': ', len(funds[year]))\n",
    "    records += (2020- year +1)*250*len(funds[year])\n",
    "print('sum: ' , sum)\n",
    "print('records：', records)"
   ]
  },
  {
   "cell_type": "code",
   "execution_count": 155,
   "metadata": {},
   "outputs": [],
   "source": [
    "df_list = [funds[i] for i in funds]"
   ]
  },
  {
   "cell_type": "code",
   "execution_count": 157,
   "metadata": {},
   "outputs": [],
   "source": [
    "import pandas as pd\n",
    "funds_info = pd.concat(df_list)"
   ]
  },
  {
   "cell_type": "code",
   "execution_count": 158,
   "metadata": {},
   "outputs": [
    {
     "data": {
      "text/html": [
       "<div>\n",
       "<style scoped>\n",
       "    .dataframe tbody tr th:only-of-type {\n",
       "        vertical-align: middle;\n",
       "    }\n",
       "\n",
       "    .dataframe tbody tr th {\n",
       "        vertical-align: top;\n",
       "    }\n",
       "\n",
       "    .dataframe thead th {\n",
       "        text-align: right;\n",
       "    }\n",
       "</style>\n",
       "<table border=\"1\" class=\"dataframe\">\n",
       "  <thead>\n",
       "    <tr style=\"text-align: right;\">\n",
       "      <th></th>\n",
       "      <th>id</th>\n",
       "      <th>main_code</th>\n",
       "      <th>name</th>\n",
       "      <th>advisor</th>\n",
       "      <th>trustee</th>\n",
       "      <th>operate_mode_id</th>\n",
       "      <th>operate_mode</th>\n",
       "      <th>underlying_asset_type_id</th>\n",
       "      <th>underlying_asset_type</th>\n",
       "      <th>start_date</th>\n",
       "      <th>end_date</th>\n",
       "    </tr>\n",
       "  </thead>\n",
       "  <tbody>\n",
       "    <tr>\n",
       "      <th>0</th>\n",
       "      <td>1</td>\n",
       "      <td>000001</td>\n",
       "      <td>华夏成长</td>\n",
       "      <td>华夏基金管理有限公司</td>\n",
       "      <td>中国建设银行股份有限公司</td>\n",
       "      <td>401001</td>\n",
       "      <td>开放式基金</td>\n",
       "      <td>402004</td>\n",
       "      <td>混合型</td>\n",
       "      <td>2001-12-18</td>\n",
       "      <td>None</td>\n",
       "    </tr>\n",
       "    <tr>\n",
       "      <th>1</th>\n",
       "      <td>3347</td>\n",
       "      <td>040001</td>\n",
       "      <td>华安创新</td>\n",
       "      <td>华安基金管理有限公司</td>\n",
       "      <td>交通银行股份有限公司</td>\n",
       "      <td>401001</td>\n",
       "      <td>开放式基金</td>\n",
       "      <td>402004</td>\n",
       "      <td>混合型</td>\n",
       "      <td>2001-09-21</td>\n",
       "      <td>None</td>\n",
       "    </tr>\n",
       "    <tr>\n",
       "      <th>2</th>\n",
       "      <td>3916</td>\n",
       "      <td>202001</td>\n",
       "      <td>南方稳健</td>\n",
       "      <td>南方基金管理股份有限公司</td>\n",
       "      <td>中国工商银行股份有限公司</td>\n",
       "      <td>401001</td>\n",
       "      <td>开放式基金</td>\n",
       "      <td>402004</td>\n",
       "      <td>混合型</td>\n",
       "      <td>2001-09-28</td>\n",
       "      <td>None</td>\n",
       "    </tr>\n",
       "    <tr>\n",
       "      <th>0</th>\n",
       "      <td>604</td>\n",
       "      <td>001001</td>\n",
       "      <td>华夏债券</td>\n",
       "      <td>华夏基金管理有限公司</td>\n",
       "      <td>交通银行股份有限公司</td>\n",
       "      <td>401001</td>\n",
       "      <td>开放式基金</td>\n",
       "      <td>402003</td>\n",
       "      <td>债券型</td>\n",
       "      <td>2002-10-23</td>\n",
       "      <td>None</td>\n",
       "    </tr>\n",
       "    <tr>\n",
       "      <th>1</th>\n",
       "      <td>1162</td>\n",
       "      <td>206001</td>\n",
       "      <td>鹏华弘泰混合</td>\n",
       "      <td>鹏华基金管理有限公司</td>\n",
       "      <td>中国工商银行股份有限公司</td>\n",
       "      <td>401001</td>\n",
       "      <td>开放式基金</td>\n",
       "      <td>402004</td>\n",
       "      <td>混合型</td>\n",
       "      <td>2002-05-24</td>\n",
       "      <td>None</td>\n",
       "    </tr>\n",
       "    <tr>\n",
       "      <th>...</th>\n",
       "      <td>...</td>\n",
       "      <td>...</td>\n",
       "      <td>...</td>\n",
       "      <td>...</td>\n",
       "      <td>...</td>\n",
       "      <td>...</td>\n",
       "      <td>...</td>\n",
       "      <td>...</td>\n",
       "      <td>...</td>\n",
       "      <td>...</td>\n",
       "      <td>...</td>\n",
       "    </tr>\n",
       "    <tr>\n",
       "      <th>571</th>\n",
       "      <td>15838</td>\n",
       "      <td>008483</td>\n",
       "      <td>广发央企80债券指数C</td>\n",
       "      <td>广发基金管理有限公司</td>\n",
       "      <td>交通银行股份有限公司</td>\n",
       "      <td>401001</td>\n",
       "      <td>开放式基金</td>\n",
       "      <td>402003</td>\n",
       "      <td>债券型</td>\n",
       "      <td>2020-04-29</td>\n",
       "      <td>None</td>\n",
       "    </tr>\n",
       "    <tr>\n",
       "      <th>572</th>\n",
       "      <td>15860</td>\n",
       "      <td>009404</td>\n",
       "      <td>平安惠享纯债C</td>\n",
       "      <td>平安基金管理有限公司</td>\n",
       "      <td>平安银行股份有限公司</td>\n",
       "      <td>401001</td>\n",
       "      <td>开放式基金</td>\n",
       "      <td>402003</td>\n",
       "      <td>债券型</td>\n",
       "      <td>2020-04-23</td>\n",
       "      <td>None</td>\n",
       "    </tr>\n",
       "    <tr>\n",
       "      <th>573</th>\n",
       "      <td>15865</td>\n",
       "      <td>007865</td>\n",
       "      <td>东方红货币D</td>\n",
       "      <td>上海东方证券资产管理有限公司</td>\n",
       "      <td>中国工商银行股份有限公司</td>\n",
       "      <td>401001</td>\n",
       "      <td>开放式基金</td>\n",
       "      <td>402002</td>\n",
       "      <td>货币型</td>\n",
       "      <td>2020-04-27</td>\n",
       "      <td>None</td>\n",
       "    </tr>\n",
       "    <tr>\n",
       "      <th>574</th>\n",
       "      <td>15956</td>\n",
       "      <td>009208</td>\n",
       "      <td>建信沪深300指数增强C</td>\n",
       "      <td>建信基金管理有限责任公司</td>\n",
       "      <td>招商银行股份有限公司</td>\n",
       "      <td>401001</td>\n",
       "      <td>开放式基金</td>\n",
       "      <td>402001</td>\n",
       "      <td>股票型</td>\n",
       "      <td>2020-05-07</td>\n",
       "      <td>None</td>\n",
       "    </tr>\n",
       "    <tr>\n",
       "      <th>575</th>\n",
       "      <td>15963</td>\n",
       "      <td>009322</td>\n",
       "      <td>广发锐意进取3个月持有混合(FOF)C</td>\n",
       "      <td>广发基金管理有限公司</td>\n",
       "      <td>中国银行股份有限公司</td>\n",
       "      <td>401004</td>\n",
       "      <td>FOF</td>\n",
       "      <td>402004</td>\n",
       "      <td>混合型</td>\n",
       "      <td>2020-04-28</td>\n",
       "      <td>None</td>\n",
       "    </tr>\n",
       "  </tbody>\n",
       "</table>\n",
       "<p>8984 rows × 11 columns</p>\n",
       "</div>"
      ],
      "text/plain": [
       "        id main_code                 name         advisor       trustee  \\\n",
       "0        1    000001                 华夏成长      华夏基金管理有限公司  中国建设银行股份有限公司   \n",
       "1     3347    040001                 华安创新      华安基金管理有限公司    交通银行股份有限公司   \n",
       "2     3916    202001                 南方稳健    南方基金管理股份有限公司  中国工商银行股份有限公司   \n",
       "0      604    001001                 华夏债券      华夏基金管理有限公司    交通银行股份有限公司   \n",
       "1     1162    206001               鹏华弘泰混合      鹏华基金管理有限公司  中国工商银行股份有限公司   \n",
       "..     ...       ...                  ...             ...           ...   \n",
       "571  15838    008483          广发央企80债券指数C      广发基金管理有限公司    交通银行股份有限公司   \n",
       "572  15860    009404              平安惠享纯债C      平安基金管理有限公司    平安银行股份有限公司   \n",
       "573  15865    007865               东方红货币D  上海东方证券资产管理有限公司  中国工商银行股份有限公司   \n",
       "574  15956    009208         建信沪深300指数增强C    建信基金管理有限责任公司    招商银行股份有限公司   \n",
       "575  15963    009322  广发锐意进取3个月持有混合(FOF)C      广发基金管理有限公司    中国银行股份有限公司   \n",
       "\n",
       "     operate_mode_id operate_mode  underlying_asset_type_id  \\\n",
       "0             401001        开放式基金                    402004   \n",
       "1             401001        开放式基金                    402004   \n",
       "2             401001        开放式基金                    402004   \n",
       "0             401001        开放式基金                    402003   \n",
       "1             401001        开放式基金                    402004   \n",
       "..               ...          ...                       ...   \n",
       "571           401001        开放式基金                    402003   \n",
       "572           401001        开放式基金                    402003   \n",
       "573           401001        开放式基金                    402002   \n",
       "574           401001        开放式基金                    402001   \n",
       "575           401004          FOF                    402004   \n",
       "\n",
       "    underlying_asset_type  start_date end_date  \n",
       "0                     混合型  2001-12-18     None  \n",
       "1                     混合型  2001-09-21     None  \n",
       "2                     混合型  2001-09-28     None  \n",
       "0                     债券型  2002-10-23     None  \n",
       "1                     混合型  2002-05-24     None  \n",
       "..                    ...         ...      ...  \n",
       "571                   债券型  2020-04-29     None  \n",
       "572                   债券型  2020-04-23     None  \n",
       "573                   货币型  2020-04-27     None  \n",
       "574                   股票型  2020-05-07     None  \n",
       "575                   混合型  2020-04-28     None  \n",
       "\n",
       "[8984 rows x 11 columns]"
      ]
     },
     "execution_count": 158,
     "metadata": {},
     "output_type": "execute_result"
    }
   ],
   "source": [
    "funds_info"
   ]
  },
  {
   "cell_type": "code",
   "execution_count": 169,
   "metadata": {},
   "outputs": [
    {
     "ename": "Exception",
     "evalue": "您的查询条数超过了当日最大查询限制：100万条；系统已为您自动提升到1000万条/天，体验期15天，再次登录即可生效。如需更多调用额度请联系JQData管理员，微信号：JQData02",
     "output_type": "error",
     "traceback": [
      "\u001b[0;31m---------------------------------------------------------------------------\u001b[0m",
      "\u001b[0;31mException\u001b[0m                                 Traceback (most recent call last)",
      "\u001b[0;32m<ipython-input-169-7bafb91e890b>\u001b[0m in \u001b[0;36m<module>\u001b[0;34m\u001b[0m\n\u001b[1;32m      3\u001b[0m \u001b[0;32mfor\u001b[0m \u001b[0mcode\u001b[0m \u001b[0;32min\u001b[0m \u001b[0mfunds_info\u001b[0m\u001b[0;34m[\u001b[0m\u001b[0;34m'main_code'\u001b[0m\u001b[0;34m]\u001b[0m\u001b[0;34m:\u001b[0m\u001b[0;34m\u001b[0m\u001b[0;34m\u001b[0m\u001b[0m\n\u001b[1;32m      4\u001b[0m     \u001b[0mq\u001b[0m\u001b[0;34m=\u001b[0m\u001b[0mquery\u001b[0m\u001b[0;34m(\u001b[0m\u001b[0mfinance\u001b[0m\u001b[0;34m.\u001b[0m\u001b[0mFUND_NET_VALUE\u001b[0m\u001b[0;34m)\u001b[0m\u001b[0;34m.\u001b[0m\u001b[0mfilter\u001b[0m\u001b[0;34m(\u001b[0m\u001b[0mfinance\u001b[0m\u001b[0;34m.\u001b[0m\u001b[0mFUND_NET_VALUE\u001b[0m\u001b[0;34m.\u001b[0m\u001b[0mcode\u001b[0m\u001b[0;34m==\u001b[0m\u001b[0mcode\u001b[0m\u001b[0;34m)\u001b[0m\u001b[0;34m.\u001b[0m\u001b[0morder_by\u001b[0m\u001b[0;34m(\u001b[0m\u001b[0mfinance\u001b[0m\u001b[0;34m.\u001b[0m\u001b[0mFUND_NET_VALUE\u001b[0m\u001b[0;34m.\u001b[0m\u001b[0mday\u001b[0m\u001b[0;34m.\u001b[0m\u001b[0mdesc\u001b[0m\u001b[0;34m(\u001b[0m\u001b[0;34m)\u001b[0m\u001b[0;34m)\u001b[0m\u001b[0;34m\u001b[0m\u001b[0;34m\u001b[0m\u001b[0m\n\u001b[0;32m----> 5\u001b[0;31m     \u001b[0mfunds_values_history\u001b[0m\u001b[0;34m[\u001b[0m\u001b[0mcode\u001b[0m\u001b[0;34m]\u001b[0m \u001b[0;34m=\u001b[0m \u001b[0mfinance\u001b[0m\u001b[0;34m.\u001b[0m\u001b[0mrun_query\u001b[0m\u001b[0;34m(\u001b[0m\u001b[0mq\u001b[0m\u001b[0;34m)\u001b[0m\u001b[0;34m\u001b[0m\u001b[0;34m\u001b[0m\u001b[0m\n\u001b[0m",
      "\u001b[0;32m~/.pyenv/versions/data_sci_env_py3.6.10/lib/python3.6/site-packages/jqdatasdk/utils.py\u001b[0m in \u001b[0;36m_wrapper\u001b[0;34m(*args, **kwargs)\u001b[0m\n\u001b[1;32m    228\u001b[0m             \u001b[0mprint\u001b[0m\u001b[0;34m(\u001b[0m\u001b[0;34m\"run jqdatasdk.auth first\"\u001b[0m\u001b[0;34m)\u001b[0m\u001b[0;34m\u001b[0m\u001b[0;34m\u001b[0m\u001b[0m\n\u001b[1;32m    229\u001b[0m         \u001b[0;32melse\u001b[0m\u001b[0;34m:\u001b[0m\u001b[0;34m\u001b[0m\u001b[0;34m\u001b[0m\u001b[0m\n\u001b[0;32m--> 230\u001b[0;31m             \u001b[0;32mreturn\u001b[0m \u001b[0mfunc\u001b[0m\u001b[0;34m(\u001b[0m\u001b[0;34m*\u001b[0m\u001b[0margs\u001b[0m\u001b[0;34m,\u001b[0m \u001b[0;34m**\u001b[0m\u001b[0mkwargs\u001b[0m\u001b[0;34m)\u001b[0m\u001b[0;34m\u001b[0m\u001b[0;34m\u001b[0m\u001b[0m\n\u001b[0m\u001b[1;32m    231\u001b[0m     \u001b[0;32mreturn\u001b[0m \u001b[0m_wrapper\u001b[0m\u001b[0;34m\u001b[0m\u001b[0;34m\u001b[0m\u001b[0m\n\u001b[1;32m    232\u001b[0m \u001b[0;34m\u001b[0m\u001b[0m\n",
      "\u001b[0;32m~/.pyenv/versions/data_sci_env_py3.6.10/lib/python3.6/site-packages/jqdatasdk/table.py\u001b[0m in \u001b[0;36mrun_query\u001b[0;34m(self, query_object)\u001b[0m\n\u001b[1;32m     52\u001b[0m \u001b[0;34m\u001b[0m\u001b[0m\n\u001b[1;32m     53\u001b[0m         \u001b[0msql\u001b[0m \u001b[0;34m=\u001b[0m \u001b[0mcompile_query\u001b[0m\u001b[0;34m(\u001b[0m\u001b[0mquery_object\u001b[0m\u001b[0;34m)\u001b[0m\u001b[0;34m\u001b[0m\u001b[0;34m\u001b[0m\u001b[0m\n\u001b[0;32m---> 54\u001b[0;31m         \u001b[0mdf\u001b[0m \u001b[0;34m=\u001b[0m \u001b[0mJQDataClient\u001b[0m\u001b[0;34m.\u001b[0m\u001b[0minstance\u001b[0m\u001b[0;34m(\u001b[0m\u001b[0;34m)\u001b[0m\u001b[0;34m.\u001b[0m\u001b[0mdb_query\u001b[0m\u001b[0;34m(\u001b[0m\u001b[0mdb\u001b[0m\u001b[0;34m=\u001b[0m\u001b[0mself\u001b[0m\u001b[0;34m.\u001b[0m\u001b[0mdb_name\u001b[0m\u001b[0;34m,\u001b[0m \u001b[0msql\u001b[0m\u001b[0;34m=\u001b[0m\u001b[0msql\u001b[0m\u001b[0;34m)\u001b[0m\u001b[0;34m\u001b[0m\u001b[0;34m\u001b[0m\u001b[0m\n\u001b[0m\u001b[1;32m     55\u001b[0m         \u001b[0;32mreturn\u001b[0m \u001b[0mdf\u001b[0m\u001b[0;34m\u001b[0m\u001b[0;34m\u001b[0m\u001b[0m\n\u001b[1;32m     56\u001b[0m \u001b[0;34m\u001b[0m\u001b[0m\n",
      "\u001b[0;32m~/.pyenv/versions/data_sci_env_py3.6.10/lib/python3.6/site-packages/jqdatasdk/client.py\u001b[0m in \u001b[0;36m<lambda>\u001b[0;34m(**kwargs)\u001b[0m\n\u001b[1;32m    167\u001b[0m \u001b[0;34m\u001b[0m\u001b[0m\n\u001b[1;32m    168\u001b[0m     \u001b[0;32mdef\u001b[0m \u001b[0m__getattr__\u001b[0m\u001b[0;34m(\u001b[0m\u001b[0mself\u001b[0m\u001b[0;34m,\u001b[0m \u001b[0mmethod\u001b[0m\u001b[0;34m)\u001b[0m\u001b[0;34m:\u001b[0m\u001b[0;34m\u001b[0m\u001b[0;34m\u001b[0m\u001b[0m\n\u001b[0;32m--> 169\u001b[0;31m         \u001b[0;32mreturn\u001b[0m \u001b[0;32mlambda\u001b[0m \u001b[0;34m**\u001b[0m\u001b[0mkwargs\u001b[0m\u001b[0;34m:\u001b[0m \u001b[0mself\u001b[0m\u001b[0;34m(\u001b[0m\u001b[0mmethod\u001b[0m\u001b[0;34m,\u001b[0m \u001b[0;34m**\u001b[0m\u001b[0mkwargs\u001b[0m\u001b[0;34m)\u001b[0m\u001b[0;34m\u001b[0m\u001b[0;34m\u001b[0m\u001b[0m\n\u001b[0m\u001b[1;32m    170\u001b[0m \u001b[0;34m\u001b[0m\u001b[0m\n\u001b[1;32m    171\u001b[0m     \u001b[0;32mdef\u001b[0m \u001b[0mget_data_api_url\u001b[0m\u001b[0;34m(\u001b[0m\u001b[0mself\u001b[0m\u001b[0;34m)\u001b[0m\u001b[0;34m:\u001b[0m\u001b[0;34m\u001b[0m\u001b[0;34m\u001b[0m\u001b[0m\n",
      "\u001b[0;32m~/.pyenv/versions/data_sci_env_py3.6.10/lib/python3.6/site-packages/jqdatasdk/client.py\u001b[0m in \u001b[0;36m__call__\u001b[0;34m(self, method, **kwargs)\u001b[0m\n\u001b[1;32m    162\u001b[0m         \u001b[0;32mif\u001b[0m \u001b[0mresult\u001b[0m \u001b[0;32mis\u001b[0m \u001b[0;32mNone\u001b[0m\u001b[0;34m:\u001b[0m\u001b[0;34m\u001b[0m\u001b[0;34m\u001b[0m\u001b[0m\n\u001b[1;32m    163\u001b[0m             \u001b[0;32mif\u001b[0m \u001b[0misinstance\u001b[0m\u001b[0;34m(\u001b[0m\u001b[0merr\u001b[0m\u001b[0;34m,\u001b[0m \u001b[0mException\u001b[0m\u001b[0;34m)\u001b[0m\u001b[0;34m:\u001b[0m\u001b[0;34m\u001b[0m\u001b[0;34m\u001b[0m\u001b[0m\n\u001b[0;32m--> 164\u001b[0;31m                 \u001b[0;32mraise\u001b[0m \u001b[0merr\u001b[0m\u001b[0;34m\u001b[0m\u001b[0;34m\u001b[0m\u001b[0m\n\u001b[0m\u001b[1;32m    165\u001b[0m \u001b[0;34m\u001b[0m\u001b[0m\n\u001b[1;32m    166\u001b[0m         \u001b[0;32mreturn\u001b[0m \u001b[0mresult\u001b[0m\u001b[0;34m\u001b[0m\u001b[0;34m\u001b[0m\u001b[0m\n",
      "\u001b[0;31mException\u001b[0m: 您的查询条数超过了当日最大查询限制：100万条；系统已为您自动提升到1000万条/天，体验期15天，再次登录即可生效。如需更多调用额度请联系JQData管理员，微信号：JQData02"
     ]
    }
   ],
   "source": [
    "funds_values_history = {}\n",
    "\n",
    "for code in funds_info['main_code']:\n",
    "    q=query(finance.FUND_NET_VALUE).filter(finance.FUND_NET_VALUE.code==code).order_by(finance.FUND_NET_VALUE.day.desc())\n",
    "    funds_values_history[code] = finance.run_query(q)"
   ]
  },
  {
   "cell_type": "code",
   "execution_count": 171,
   "metadata": {},
   "outputs": [
    {
     "data": {
      "text/plain": [
       "244"
      ]
     },
     "execution_count": 171,
     "metadata": {},
     "output_type": "execute_result"
    }
   ],
   "source": [
    "len(funds_values_history)"
   ]
  },
  {
   "cell_type": "code",
   "execution_count": 173,
   "metadata": {},
   "outputs": [
    {
     "data": {
      "text/plain": [
       "'519995'"
      ]
     },
     "execution_count": 173,
     "metadata": {},
     "output_type": "execute_result"
    }
   ],
   "source": [
    "funds_info['main_code'].iat[243]"
   ]
  },
  {
   "cell_type": "code",
   "execution_count": 178,
   "metadata": {},
   "outputs": [],
   "source": [
    "finished = [code for code in funds_values_history]"
   ]
  },
  {
   "cell_type": "code",
   "execution_count": 176,
   "metadata": {},
   "outputs": [
    {
     "data": {
      "text/plain": [
       "'519995'"
      ]
     },
     "execution_count": 176,
     "metadata": {},
     "output_type": "execute_result"
    }
   ],
   "source": [
    "funds_info['main_code'].iat[243]"
   ]
  },
  {
   "cell_type": "code",
   "execution_count": 180,
   "metadata": {},
   "outputs": [
    {
     "data": {
      "text/plain": [
       "76     519995\n",
       "77     530003\n",
       "78     540001\n",
       "79     540002\n",
       "80     550001\n",
       "        ...  \n",
       "571    008483\n",
       "572    009404\n",
       "573    007865\n",
       "574    009208\n",
       "575    009322\n",
       "Name: main_code, Length: 8741, dtype: object"
      ]
     },
     "execution_count": 180,
     "metadata": {},
     "output_type": "execute_result"
    }
   ],
   "source": [
    "funds_info['main_code'].iloc[243:]"
   ]
  },
  {
   "cell_type": "code",
   "execution_count": 181,
   "metadata": {},
   "outputs": [
    {
     "data": {
      "text/html": [
       "<div>\n",
       "<style scoped>\n",
       "    .dataframe tbody tr th:only-of-type {\n",
       "        vertical-align: middle;\n",
       "    }\n",
       "\n",
       "    .dataframe tbody tr th {\n",
       "        vertical-align: top;\n",
       "    }\n",
       "\n",
       "    .dataframe thead th {\n",
       "        text-align: right;\n",
       "    }\n",
       "</style>\n",
       "<table border=\"1\" class=\"dataframe\">\n",
       "  <thead>\n",
       "    <tr style=\"text-align: right;\">\n",
       "      <th></th>\n",
       "      <th>id</th>\n",
       "      <th>code</th>\n",
       "      <th>day</th>\n",
       "      <th>net_value</th>\n",
       "      <th>sum_value</th>\n",
       "      <th>factor</th>\n",
       "      <th>acc_factor</th>\n",
       "      <th>refactor_net_value</th>\n",
       "    </tr>\n",
       "  </thead>\n",
       "  <tbody>\n",
       "    <tr>\n",
       "      <th>0</th>\n",
       "      <td>22525881</td>\n",
       "      <td>519995</td>\n",
       "      <td>2020-04-30</td>\n",
       "      <td>0.6149</td>\n",
       "      <td>3.0570</td>\n",
       "      <td>1.0</td>\n",
       "      <td>5.944494</td>\n",
       "      <td>3.655269</td>\n",
       "    </tr>\n",
       "    <tr>\n",
       "      <th>1</th>\n",
       "      <td>22515499</td>\n",
       "      <td>519995</td>\n",
       "      <td>2020-04-29</td>\n",
       "      <td>0.6104</td>\n",
       "      <td>3.0461</td>\n",
       "      <td>1.0</td>\n",
       "      <td>5.944494</td>\n",
       "      <td>3.628519</td>\n",
       "    </tr>\n",
       "    <tr>\n",
       "      <th>2</th>\n",
       "      <td>22499845</td>\n",
       "      <td>519995</td>\n",
       "      <td>2020-04-28</td>\n",
       "      <td>0.6122</td>\n",
       "      <td>3.0505</td>\n",
       "      <td>1.0</td>\n",
       "      <td>5.944494</td>\n",
       "      <td>3.639219</td>\n",
       "    </tr>\n",
       "    <tr>\n",
       "      <th>3</th>\n",
       "      <td>22496083</td>\n",
       "      <td>519995</td>\n",
       "      <td>2020-04-27</td>\n",
       "      <td>0.6065</td>\n",
       "      <td>3.0367</td>\n",
       "      <td>1.0</td>\n",
       "      <td>5.944494</td>\n",
       "      <td>3.605336</td>\n",
       "    </tr>\n",
       "    <tr>\n",
       "      <th>4</th>\n",
       "      <td>22485303</td>\n",
       "      <td>519995</td>\n",
       "      <td>2020-04-24</td>\n",
       "      <td>0.6020</td>\n",
       "      <td>3.0258</td>\n",
       "      <td>1.0</td>\n",
       "      <td>5.944494</td>\n",
       "      <td>3.578585</td>\n",
       "    </tr>\n",
       "    <tr>\n",
       "      <th>...</th>\n",
       "      <td>...</td>\n",
       "      <td>...</td>\n",
       "      <td>...</td>\n",
       "      <td>...</td>\n",
       "      <td>...</td>\n",
       "      <td>...</td>\n",
       "      <td>...</td>\n",
       "      <td>...</td>\n",
       "    </tr>\n",
       "    <tr>\n",
       "      <th>3414</th>\n",
       "      <td>2372029</td>\n",
       "      <td>519995</td>\n",
       "      <td>2006-05-17</td>\n",
       "      <td>0.9833</td>\n",
       "      <td>0.9833</td>\n",
       "      <td>1.0</td>\n",
       "      <td>1.000000</td>\n",
       "      <td>0.983300</td>\n",
       "    </tr>\n",
       "    <tr>\n",
       "      <th>3415</th>\n",
       "      <td>2372028</td>\n",
       "      <td>519995</td>\n",
       "      <td>2006-05-16</td>\n",
       "      <td>0.9876</td>\n",
       "      <td>0.9876</td>\n",
       "      <td>1.0</td>\n",
       "      <td>1.000000</td>\n",
       "      <td>0.987600</td>\n",
       "    </tr>\n",
       "    <tr>\n",
       "      <th>3416</th>\n",
       "      <td>2372027</td>\n",
       "      <td>519995</td>\n",
       "      <td>2006-05-15</td>\n",
       "      <td>1.0036</td>\n",
       "      <td>1.0036</td>\n",
       "      <td>1.0</td>\n",
       "      <td>1.000000</td>\n",
       "      <td>1.003600</td>\n",
       "    </tr>\n",
       "    <tr>\n",
       "      <th>3417</th>\n",
       "      <td>2372026</td>\n",
       "      <td>519995</td>\n",
       "      <td>2006-05-12</td>\n",
       "      <td>1.0000</td>\n",
       "      <td>1.0000</td>\n",
       "      <td>1.0</td>\n",
       "      <td>1.000000</td>\n",
       "      <td>1.000000</td>\n",
       "    </tr>\n",
       "    <tr>\n",
       "      <th>3418</th>\n",
       "      <td>5119121</td>\n",
       "      <td>519995</td>\n",
       "      <td>2006-04-30</td>\n",
       "      <td>1.0000</td>\n",
       "      <td>1.0000</td>\n",
       "      <td>1.0</td>\n",
       "      <td>1.000000</td>\n",
       "      <td>1.000000</td>\n",
       "    </tr>\n",
       "  </tbody>\n",
       "</table>\n",
       "<p>3419 rows × 8 columns</p>\n",
       "</div>"
      ],
      "text/plain": [
       "            id    code         day  net_value  sum_value  factor  acc_factor  \\\n",
       "0     22525881  519995  2020-04-30     0.6149     3.0570     1.0    5.944494   \n",
       "1     22515499  519995  2020-04-29     0.6104     3.0461     1.0    5.944494   \n",
       "2     22499845  519995  2020-04-28     0.6122     3.0505     1.0    5.944494   \n",
       "3     22496083  519995  2020-04-27     0.6065     3.0367     1.0    5.944494   \n",
       "4     22485303  519995  2020-04-24     0.6020     3.0258     1.0    5.944494   \n",
       "...        ...     ...         ...        ...        ...     ...         ...   \n",
       "3414   2372029  519995  2006-05-17     0.9833     0.9833     1.0    1.000000   \n",
       "3415   2372028  519995  2006-05-16     0.9876     0.9876     1.0    1.000000   \n",
       "3416   2372027  519995  2006-05-15     1.0036     1.0036     1.0    1.000000   \n",
       "3417   2372026  519995  2006-05-12     1.0000     1.0000     1.0    1.000000   \n",
       "3418   5119121  519995  2006-04-30     1.0000     1.0000     1.0    1.000000   \n",
       "\n",
       "      refactor_net_value  \n",
       "0               3.655269  \n",
       "1               3.628519  \n",
       "2               3.639219  \n",
       "3               3.605336  \n",
       "4               3.578585  \n",
       "...                  ...  \n",
       "3414            0.983300  \n",
       "3415            0.987600  \n",
       "3416            1.003600  \n",
       "3417            1.000000  \n",
       "3418            1.000000  \n",
       "\n",
       "[3419 rows x 8 columns]"
      ]
     },
     "execution_count": 181,
     "metadata": {},
     "output_type": "execute_result"
    }
   ],
   "source": [
    "funds_values_history['519995']"
   ]
  },
  {
   "cell_type": "code",
   "execution_count": 183,
   "metadata": {},
   "outputs": [
    {
     "data": {
      "text/html": [
       "<div>\n",
       "<style scoped>\n",
       "    .dataframe tbody tr th:only-of-type {\n",
       "        vertical-align: middle;\n",
       "    }\n",
       "\n",
       "    .dataframe tbody tr th {\n",
       "        vertical-align: top;\n",
       "    }\n",
       "\n",
       "    .dataframe thead th {\n",
       "        text-align: right;\n",
       "    }\n",
       "</style>\n",
       "<table border=\"1\" class=\"dataframe\">\n",
       "  <thead>\n",
       "    <tr style=\"text-align: right;\">\n",
       "      <th></th>\n",
       "      <th>id</th>\n",
       "      <th>main_code</th>\n",
       "      <th>name</th>\n",
       "      <th>advisor</th>\n",
       "      <th>trustee</th>\n",
       "      <th>operate_mode_id</th>\n",
       "      <th>operate_mode</th>\n",
       "      <th>underlying_asset_type_id</th>\n",
       "      <th>underlying_asset_type</th>\n",
       "      <th>start_date</th>\n",
       "      <th>end_date</th>\n",
       "    </tr>\n",
       "  </thead>\n",
       "  <tbody>\n",
       "    <tr>\n",
       "      <th>76</th>\n",
       "      <td>4687</td>\n",
       "      <td>519995</td>\n",
       "      <td>长信金利趋势混合</td>\n",
       "      <td>长信基金管理有限责任公司</td>\n",
       "      <td>上海浦东发展银行股份有限公司</td>\n",
       "      <td>401001</td>\n",
       "      <td>开放式基金</td>\n",
       "      <td>402004</td>\n",
       "      <td>混合型</td>\n",
       "      <td>2006-04-30</td>\n",
       "      <td>None</td>\n",
       "    </tr>\n",
       "  </tbody>\n",
       "</table>\n",
       "</div>"
      ],
      "text/plain": [
       "      id main_code      name       advisor         trustee  operate_mode_id  \\\n",
       "76  4687    519995  长信金利趋势混合  长信基金管理有限责任公司  上海浦东发展银行股份有限公司           401001   \n",
       "\n",
       "   operate_mode  underlying_asset_type_id underlying_asset_type  start_date  \\\n",
       "76        开放式基金                    402004                   混合型  2006-04-30   \n",
       "\n",
       "   end_date  \n",
       "76     None  "
      ]
     },
     "execution_count": 183,
     "metadata": {},
     "output_type": "execute_result"
    }
   ],
   "source": [
    "funds_info[funds_info['main_code'] =='519995']"
   ]
  },
  {
   "cell_type": "code",
   "execution_count": 184,
   "metadata": {},
   "outputs": [
    {
     "name": "stdout",
     "output_type": "stream",
     "text": [
      "            id    code         day  net_value  sum_value  factor  acc_factor  \\\n",
      "0     22525881  519995  2020-04-30     0.6149     3.0570     1.0    5.944494   \n",
      "1     22515499  519995  2020-04-29     0.6104     3.0461     1.0    5.944494   \n",
      "2     22499845  519995  2020-04-28     0.6122     3.0505     1.0    5.944494   \n",
      "3     22496083  519995  2020-04-27     0.6065     3.0367     1.0    5.944494   \n",
      "4     22485303  519995  2020-04-24     0.6020     3.0258     1.0    5.944494   \n",
      "...        ...     ...         ...        ...        ...     ...         ...   \n",
      "3414   2372029  519995  2006-05-17     0.9833     0.9833     1.0    1.000000   \n",
      "3415   2372028  519995  2006-05-16     0.9876     0.9876     1.0    1.000000   \n",
      "3416   2372027  519995  2006-05-15     1.0036     1.0036     1.0    1.000000   \n",
      "3417   2372026  519995  2006-05-12     1.0000     1.0000     1.0    1.000000   \n",
      "3418   5119121  519995  2006-04-30     1.0000     1.0000     1.0    1.000000   \n",
      "\n",
      "      refactor_net_value  \n",
      "0               3.655269  \n",
      "1               3.628519  \n",
      "2               3.639219  \n",
      "3               3.605336  \n",
      "4               3.578585  \n",
      "...                  ...  \n",
      "3414            0.983300  \n",
      "3415            0.987600  \n",
      "3416            1.003600  \n",
      "3417            1.000000  \n",
      "3418            1.000000  \n",
      "\n",
      "[3419 rows x 8 columns]\n"
     ]
    }
   ],
   "source": [
    "q=query(finance.FUND_NET_VALUE).filter(finance.FUND_NET_VALUE.code=='519995').order_by(finance.FUND_NET_VALUE.day.desc())\n",
    "print(finance.run_query(q))"
   ]
  },
  {
   "cell_type": "code",
   "execution_count": 188,
   "metadata": {},
   "outputs": [],
   "source": [
    "for code in funds_info['main_code'].iloc[244:]:\n",
    "    q=query(finance.FUND_NET_VALUE).filter(finance.FUND_NET_VALUE.code==code).order_by(finance.FUND_NET_VALUE.day.desc())\n",
    "    funds_values_history[code] = finance.run_query(q)"
   ]
  },
  {
   "cell_type": "code",
   "execution_count": 190,
   "metadata": {},
   "outputs": [
    {
     "data": {
      "text/plain": [
       "8984"
      ]
     },
     "execution_count": 190,
     "metadata": {},
     "output_type": "execute_result"
    }
   ],
   "source": [
    "len(funds_values_history)"
   ]
  },
  {
   "cell_type": "code",
   "execution_count": 191,
   "metadata": {},
   "outputs": [
    {
     "data": {
      "text/plain": [
       "8984"
      ]
     },
     "execution_count": 191,
     "metadata": {},
     "output_type": "execute_result"
    }
   ],
   "source": [
    "len(funds_info)"
   ]
  },
  {
   "cell_type": "code",
   "execution_count": 194,
   "metadata": {},
   "outputs": [
    {
     "data": {
      "text/html": [
       "\n",
       "\n",
       "\n",
       "\n",
       "\n",
       "\n",
       "  <div class=\"bk-root\" id=\"74513c25-b1b1-4719-b274-420c15cdebb0\" data-root-id=\"12490\"></div>\n"
      ]
     },
     "metadata": {},
     "output_type": "display_data"
    },
    {
     "data": {
      "application/javascript": [
       "(function(root) {\n",
       "  function embed_document(root) {\n",
       "    \n",
       "  var docs_json = {\"933cc967-9e9b-4cd6-b517-40bf3ddd8af8\":{\"roots\":{\"references\":[{\"attributes\":{\"below\":[{\"id\":\"12499\",\"type\":\"DatetimeAxis\"}],\"center\":[{\"id\":\"12503\",\"type\":\"Grid\"},{\"id\":\"12508\",\"type\":\"Grid\"}],\"left\":[{\"id\":\"12504\",\"type\":\"LinearAxis\"}],\"plot_height\":500,\"plot_width\":1000,\"renderers\":[{\"id\":\"12525\",\"type\":\"GlyphRenderer\"},{\"id\":\"12530\",\"type\":\"GlyphRenderer\"}],\"title\":{\"id\":\"13072\",\"type\":\"Title\"},\"toolbar\":{\"id\":\"12515\",\"type\":\"Toolbar\"},\"x_range\":{\"id\":\"12491\",\"type\":\"DataRange1d\"},\"x_scale\":{\"id\":\"12495\",\"type\":\"LinearScale\"},\"y_range\":{\"id\":\"12493\",\"type\":\"DataRange1d\"},\"y_scale\":{\"id\":\"12497\",\"type\":\"LinearScale\"}},\"id\":\"12490\",\"subtype\":\"Figure\",\"type\":\"Plot\"},{\"attributes\":{},\"id\":\"13090\",\"type\":\"UnionRenderers\"},{\"attributes\":{\"base\":60,\"mantissas\":[1,2,5,10,15,20,30],\"max_interval\":1800000.0,\"min_interval\":1000.0,\"num_minor_ticks\":0},\"id\":\"13079\",\"type\":\"AdaptiveTicker\"},{\"attributes\":{\"line_alpha\":0.1,\"line_color\":\"#1f77b4\",\"x\":{\"field\":\"x\"},\"y\":{\"field\":\"y\"}},\"id\":\"12524\",\"type\":\"Line\"},{\"attributes\":{\"months\":[0,2,4,6,8,10]},\"id\":\"13086\",\"type\":\"MonthsTicker\"},{\"attributes\":{\"source\":{\"id\":\"12522\",\"type\":\"ColumnDataSource\"}},\"id\":\"12526\",\"type\":\"CDSView\"},{\"attributes\":{\"months\":[0,1,2,3,4,5,6,7,8,9,10,11]},\"id\":\"13085\",\"type\":\"MonthsTicker\"},{\"attributes\":{},\"id\":\"13077\",\"type\":\"BasicTickFormatter\"},{\"attributes\":{\"num_minor_ticks\":5,\"tickers\":[{\"id\":\"13078\",\"type\":\"AdaptiveTicker\"},{\"id\":\"13079\",\"type\":\"AdaptiveTicker\"},{\"id\":\"13080\",\"type\":\"AdaptiveTicker\"},{\"id\":\"13081\",\"type\":\"DaysTicker\"},{\"id\":\"13082\",\"type\":\"DaysTicker\"},{\"id\":\"13083\",\"type\":\"DaysTicker\"},{\"id\":\"13084\",\"type\":\"DaysTicker\"},{\"id\":\"13085\",\"type\":\"MonthsTicker\"},{\"id\":\"13086\",\"type\":\"MonthsTicker\"},{\"id\":\"13087\",\"type\":\"MonthsTicker\"},{\"id\":\"13088\",\"type\":\"MonthsTicker\"},{\"id\":\"13089\",\"type\":\"YearsTicker\"}]},\"id\":\"12500\",\"type\":\"DatetimeTicker\"},{\"attributes\":{\"callback\":null,\"data\":{\"x\":[1588118400000.0,1588032000000.0,1587945600000.0,1587686400000.0,1587600000000.0,1587513600000.0,1587427200000.0,1587340800000.0,1587081600000.0,1586995200000.0,1586908800000.0,1586822400000.0,1586736000000.0,1586476800000.0,1586390400000.0,1586304000000.0,1586217600000.0,1585872000000.0,1585785600000.0,1585699200000.0,1585612800000.0,1585526400000.0,1585267200000.0,1585180800000.0,1585094400000.0,1585008000000.0,1584921600000.0,1584662400000.0,1584576000000.0,1584489600000.0,1584403200000.0,1584316800000.0,1584057600000.0,1583971200000.0,1583884800000.0,1583798400000.0,1583712000000.0,1583452800000.0,1583366400000.0,1583280000000.0,1583193600000.0,1583107200000.0,1582848000000.0,1582761600000.0,1582675200000.0,1582588800000.0,1582502400000.0,1582243200000.0,1582156800000.0,1582070400000.0,1581984000000.0,1581897600000.0,1581638400000.0,1581552000000.0,1581465600000.0,1581379200000.0,1581292800000.0,1581033600000.0,1580947200000.0,1580860800000.0,1580774400000.0,1580688000000.0,1579737600000.0,1579651200000.0,1579564800000.0,1579478400000.0,1579219200000.0,1579132800000.0,1579046400000.0,1578960000000.0,1578873600000.0,1578614400000.0,1578528000000.0,1578441600000.0,1578355200000.0,1578268800000.0,1578009600000.0,1577923200000.0,1577750400000.0,1577664000000.0,1577404800000.0],\"y\":{\"__ndarray__\":\"Qs9m1edqBkBHA3gLJKgFQLRZ9bnaCgZAhXzQs1n1BUDmriXkg54FQD2bVZ+rrQVAF7fRAN4CBUCKH2PuWsIFQM6I0t7gCwZAHcnlP6TfBUCppE5AE2EFQBsN4C2QoAVAbAn5oGezBEBCPujZrHoEQA5Pr5RliARAP8bctYR8BECTGARWDi0EQEymCkYl9QJAjSjtDb4wA0Bv8IXJVMECQGsr9pfdkwNAMEymCkalA0ANcayL2+gCQNDVVuwvuwNAFYxK6gS0AkBCPujZrPoCQN9PjZdukgFAp3nHKTqSAUCKsOHplTICQKUsQxzr4gFAeAskKH6MAkBPr5RliGMBQG3F/rJ78gNAU5YhjnXxAUD/If32deADQBzr4jYawARAdQKaCBueA0D+ZffkYSEFQG40gLdAggVAGXPXEvJBBkA+6Nms+lwFQDarPldbMQZAFYxK6gQ0BUCQoPgx5i4FQHPXEvJBTwZAqz5XW7E/BkAdyeU/pN8GQJT2Bl+YzAdA3bWEfNAzCECsi9toAG8IQDBMpgpGJQhA4zYawFsgCEC+nxov3SQIQBueXinLEAhARpT2Bl8YCEBgdk8eFuoHQCegibDh6QdAYcPTK2WZB0BLWYY41sUHQIXrUbgehQdAldQJaCJsB0A9CtejcL0GQB3J5T+k3wZAWKg1zTvOBkBR2ht8YbIGQLIubqMBvAZAescpOpLLBkCaCBueXqkGQJ+rrdhfdgZAy6FFtvN9BkBeukkMAqsGQMe6uI0GcAZAYVRSJ6CJBkBm9+RhoVYGQCBj7lpCPgZANxrAWyBBBkBb07zjFB0GQF+YTBWMSgZAXW3F/rL7BUA4Z0Rpb/AFQCV1ApoIGwZA\",\"dtype\":\"float64\",\"shape\":[81]}},\"selected\":{\"id\":\"13091\",\"type\":\"Selection\"},\"selection_policy\":{\"id\":\"13090\",\"type\":\"UnionRenderers\"}},\"id\":\"12522\",\"type\":\"ColumnDataSource\"},{\"attributes\":{\"active_drag\":\"auto\",\"active_inspect\":\"auto\",\"active_multi\":null,\"active_scroll\":\"auto\",\"active_tap\":\"auto\",\"tools\":[{\"id\":\"12509\",\"type\":\"PanTool\"},{\"id\":\"12510\",\"type\":\"WheelZoomTool\"},{\"id\":\"12511\",\"type\":\"BoxZoomTool\"},{\"id\":\"12512\",\"type\":\"SaveTool\"},{\"id\":\"12513\",\"type\":\"ResetTool\"},{\"id\":\"12514\",\"type\":\"HelpTool\"}]},\"id\":\"12515\",\"type\":\"Toolbar\"},{\"attributes\":{\"months\":[0,4,8]},\"id\":\"13087\",\"type\":\"MonthsTicker\"},{\"attributes\":{\"line_color\":\"red\",\"x\":{\"field\":\"x\"},\"y\":{\"field\":\"y\"}},\"id\":\"12523\",\"type\":\"Line\"},{\"attributes\":{},\"id\":\"12513\",\"type\":\"ResetTool\"},{\"attributes\":{},\"id\":\"13089\",\"type\":\"YearsTicker\"},{\"attributes\":{\"text\":\"\"},\"id\":\"13072\",\"type\":\"Title\"},{\"attributes\":{\"formatter\":{\"id\":\"13077\",\"type\":\"BasicTickFormatter\"},\"ticker\":{\"id\":\"12505\",\"type\":\"BasicTicker\"}},\"id\":\"12504\",\"type\":\"LinearAxis\"},{\"attributes\":{},\"id\":\"12505\",\"type\":\"BasicTicker\"},{\"attributes\":{\"days\":[1,8,15,22]},\"id\":\"13083\",\"type\":\"DaysTicker\"},{\"attributes\":{\"data_source\":{\"id\":\"12522\",\"type\":\"ColumnDataSource\"},\"glyph\":{\"id\":\"12523\",\"type\":\"Line\"},\"hover_glyph\":null,\"muted_glyph\":null,\"nonselection_glyph\":{\"id\":\"12524\",\"type\":\"Line\"},\"selection_glyph\":null,\"view\":{\"id\":\"12526\",\"type\":\"CDSView\"}},\"id\":\"12525\",\"type\":\"GlyphRenderer\"},{\"attributes\":{},\"id\":\"12497\",\"type\":\"LinearScale\"},{\"attributes\":{},\"id\":\"12512\",\"type\":\"SaveTool\"},{\"attributes\":{\"days\":[1,4,7,10,13,16,19,22,25,28]},\"id\":\"13082\",\"type\":\"DaysTicker\"},{\"attributes\":{\"callback\":null},\"id\":\"12493\",\"type\":\"DataRange1d\"},{\"attributes\":{},\"id\":\"13092\",\"type\":\"UnionRenderers\"},{\"attributes\":{},\"id\":\"12510\",\"type\":\"WheelZoomTool\"},{\"attributes\":{},\"id\":\"13093\",\"type\":\"Selection\"},{\"attributes\":{\"bottom_units\":\"screen\",\"fill_alpha\":{\"value\":0.5},\"fill_color\":{\"value\":\"lightgrey\"},\"left_units\":\"screen\",\"level\":\"overlay\",\"line_alpha\":{\"value\":1.0},\"line_color\":{\"value\":\"black\"},\"line_dash\":[4,4],\"line_width\":{\"value\":2},\"render_mode\":\"css\",\"right_units\":\"screen\",\"top_units\":\"screen\"},\"id\":\"13094\",\"type\":\"BoxAnnotation\"},{\"attributes\":{\"formatter\":{\"id\":\"13075\",\"type\":\"DatetimeTickFormatter\"},\"ticker\":{\"id\":\"12500\",\"type\":\"DatetimeTicker\"}},\"id\":\"12499\",\"type\":\"DatetimeAxis\"},{\"attributes\":{\"months\":[0,6]},\"id\":\"13088\",\"type\":\"MonthsTicker\"},{\"attributes\":{\"line_alpha\":0.1,\"line_color\":\"#1f77b4\",\"x\":{\"field\":\"x\"},\"y\":{\"field\":\"y\"}},\"id\":\"12529\",\"type\":\"Line\"},{\"attributes\":{},\"id\":\"13091\",\"type\":\"Selection\"},{\"attributes\":{\"callback\":null},\"id\":\"12491\",\"type\":\"DataRange1d\"},{\"attributes\":{},\"id\":\"12509\",\"type\":\"PanTool\"},{\"attributes\":{\"dimension\":1,\"ticker\":{\"id\":\"12505\",\"type\":\"BasicTicker\"}},\"id\":\"12508\",\"type\":\"Grid\"},{\"attributes\":{},\"id\":\"12495\",\"type\":\"LinearScale\"},{\"attributes\":{\"base\":24,\"mantissas\":[1,2,4,6,8,12],\"max_interval\":43200000.0,\"min_interval\":3600000.0,\"num_minor_ticks\":0},\"id\":\"13080\",\"type\":\"AdaptiveTicker\"},{\"attributes\":{},\"id\":\"13075\",\"type\":\"DatetimeTickFormatter\"},{\"attributes\":{\"days\":[1,15]},\"id\":\"13084\",\"type\":\"DaysTicker\"},{\"attributes\":{\"ticker\":{\"id\":\"12500\",\"type\":\"DatetimeTicker\"}},\"id\":\"12503\",\"type\":\"Grid\"},{\"attributes\":{\"source\":{\"id\":\"12527\",\"type\":\"ColumnDataSource\"}},\"id\":\"12531\",\"type\":\"CDSView\"},{\"attributes\":{\"callback\":null,\"data\":{\"x\":[1588118400000.0,1588032000000.0,1587945600000.0,1587686400000.0,1587600000000.0,1587513600000.0,1587427200000.0,1587340800000.0,1587081600000.0,1586995200000.0,1586908800000.0,1586822400000.0,1586736000000.0,1586390400000.0,1586304000000.0,1586217600000.0,1585872000000.0,1585785600000.0,1585699200000.0,1585612800000.0,1585526400000.0,1585267200000.0,1585180800000.0,1585094400000.0,1585008000000.0,1584921600000.0,1584662400000.0,1584576000000.0,1584489600000.0,1584403200000.0,1584316800000.0,1584057600000.0,1583971200000.0,1583884800000.0,1583798400000.0,1583712000000.0,1583452800000.0,1583366400000.0,1583280000000.0,1583193600000.0,1583107200000.0,1582848000000.0,1582761600000.0,1582675200000.0,1582588800000.0,1582502400000.0,1582243200000.0,1582156800000.0,1582070400000.0,1581984000000.0,1581638400000.0,1581552000000.0,1581465600000.0,1581379200000.0,1581292800000.0,1581033600000.0,1580947200000.0,1580860800000.0,1580774400000.0,1580688000000.0,1579737600000.0,1579651200000.0,1579564800000.0,1579219200000.0,1579132800000.0,1579046400000.0,1578960000000.0,1578873600000.0,1578614400000.0,1578528000000.0,1578441600000.0,1578355200000.0,1578268800000.0,1578009600000.0,1577923200000.0,1577750400000.0,1577664000000.0,1577404800000.0,1577318400000.0,1577145600000.0,1577059200000.0],\"y\":{\"__ndarray__\":\"RUdy+Q/pAkD8GHPXEnICQJyiI7n8hwJAdk8eFmpNAkAUrkfhehQCQH9qvHSTGAJAImx4eqWsAUDM7snDQi0CQGq8dJMYhAJAseHplbIMAkDl8h/Sb98BQDSitDf4QgJA9GxWfa62AUBTliGOdfEBQD2bVZ+rrQFARPrt68A5AUChZ7PqczUAQELPZtXnagBA/Yf029cBAECUh4Va07wAQL3jFB3J5QBA0LNZ9blaAECz6nO1FfsAQMsQx7q4DQBANV66SQwCAECL/WX35GH9P4lBYOXQIv4/Dr4wmSoY/z/biv1l9+T+P3ZxGw3gLQBAKe0NvjCZ/j+V1AloImwBQF3cRgN4CwBA3GgAb4GEAUAj2/l+ajwCQHctIR/0bAFA0ETY8PTKAkDmriXkgx4DQJvmHafoyANA3GgAb4EEA0Av3SQGgZUDQCnLEMe6uAJAJCh+jLnrAkDMXUvIB70DQIEmwoan1wNAVg4tsp1vBEDSb18HzhkFQL99HThnRAVAKqkT0ERYBUBR2ht8YTIFQKVOQBNhQwVAoWez6nM1BUDWxW00gDcFQMIXJlMFIwVADr4wmSoYBUAJ+aBns+oEQNlfdk8eFgVA1QloImz4BEBbsb/snrwEQEHxY8xdSwRA3EYDeAukBEB4eqUsQ5wEQH/7OnDOiARAfGEyVTCqBECneccpOpIEQD9XW7G/bARAJCh+jLlrBEAOT6+UZYgEQM6qz9VWbARAhetRuB6FBEDHSzeJQWAEQPLSTWIQWARASL99HThnBEDA7J48LFQEQMRCrWnecQRA+zpwzohSBEAPC7WmeUcEQJzEILByaARAT6+UZYhjBED/If32dWAEQKmkTkATYQRA\",\"dtype\":\"float64\",\"shape\":[81]}},\"selected\":{\"id\":\"13093\",\"type\":\"Selection\"},\"selection_policy\":{\"id\":\"13092\",\"type\":\"UnionRenderers\"}},\"id\":\"12527\",\"type\":\"ColumnDataSource\"},{\"attributes\":{\"data_source\":{\"id\":\"12527\",\"type\":\"ColumnDataSource\"},\"glyph\":{\"id\":\"12528\",\"type\":\"Line\"},\"hover_glyph\":null,\"muted_glyph\":null,\"nonselection_glyph\":{\"id\":\"12529\",\"type\":\"Line\"},\"selection_glyph\":null,\"view\":{\"id\":\"12531\",\"type\":\"CDSView\"}},\"id\":\"12530\",\"type\":\"GlyphRenderer\"},{\"attributes\":{\"overlay\":{\"id\":\"13094\",\"type\":\"BoxAnnotation\"}},\"id\":\"12511\",\"type\":\"BoxZoomTool\"},{\"attributes\":{\"line_color\":\"#1f77b4\",\"x\":{\"field\":\"x\"},\"y\":{\"field\":\"y\"}},\"id\":\"12528\",\"type\":\"Line\"},{\"attributes\":{\"days\":[1,2,3,4,5,6,7,8,9,10,11,12,13,14,15,16,17,18,19,20,21,22,23,24,25,26,27,28,29,30,31]},\"id\":\"13081\",\"type\":\"DaysTicker\"},{\"attributes\":{\"mantissas\":[1,2,5],\"max_interval\":500.0,\"num_minor_ticks\":0},\"id\":\"13078\",\"type\":\"AdaptiveTicker\"},{\"attributes\":{},\"id\":\"12514\",\"type\":\"HelpTool\"}],\"root_ids\":[\"12490\"]},\"title\":\"Bokeh Application\",\"version\":\"1.4.0\"}};\n",
       "  var render_items = [{\"docid\":\"933cc967-9e9b-4cd6-b517-40bf3ddd8af8\",\"roots\":{\"12490\":\"74513c25-b1b1-4719-b274-420c15cdebb0\"}}];\n",
       "  root.Bokeh.embed.embed_items_notebook(docs_json, render_items);\n",
       "\n",
       "  }\n",
       "  if (root.Bokeh !== undefined) {\n",
       "    embed_document(root);\n",
       "  } else {\n",
       "    var attempts = 0;\n",
       "    var timer = setInterval(function(root) {\n",
       "      if (root.Bokeh !== undefined) {\n",
       "        clearInterval(timer);\n",
       "        embed_document(root);\n",
       "      } else {\n",
       "        attempts++;\n",
       "        if (attempts > 100) {\n",
       "          clearInterval(timer);\n",
       "          console.log(\"Bokeh: ERROR: Unable to run BokehJS code because BokehJS library is missing\");\n",
       "        }\n",
       "      }\n",
       "    }, 10, root)\n",
       "  }\n",
       "})(window);"
      ],
      "application/vnd.bokehjs_exec.v0+json": ""
     },
     "metadata": {
      "application/vnd.bokehjs_exec.v0+json": {
       "id": "12490"
      }
     },
     "output_type": "display_data"
    }
   ],
   "source": [
    "df1 = funds_values_history['270042'].loc[:80]\n",
    "df2 = funds_values_history['050025'].loc[:80]\n",
    "p = figure(width=1000, height=500, x_axis_type=\"datetime\")\n",
    "#p.circle(df['day'], df['net_value'])\n",
    "p.line(df1['day'], df1['net_value'], color='red')\n",
    "p.line(df2['day'], df2['net_value'])\n",
    "show(p)"
   ]
  },
  {
   "cell_type": "code",
   "execution_count": 195,
   "metadata": {},
   "outputs": [
    {
     "data": {
      "text/plain": [
       "295008"
      ]
     },
     "execution_count": 195,
     "metadata": {},
     "output_type": "execute_result"
    }
   ],
   "source": [
    "import sys\n",
    "sys.getsizeof(funds_values_history)"
   ]
  },
  {
   "cell_type": "code",
   "execution_count": 196,
   "metadata": {},
   "outputs": [
    {
     "data": {
      "text/plain": [
       "288.09375"
      ]
     },
     "execution_count": 196,
     "metadata": {},
     "output_type": "execute_result"
    }
   ],
   "source": [
    "295008/1024"
   ]
  },
  {
   "cell_type": "code",
   "execution_count": 198,
   "metadata": {},
   "outputs": [
    {
     "name": "stdout",
     "output_type": "stream",
     "text": [
      "fund.ipynb  Quant.ipynb  Untitled.ipynb\n"
     ]
    }
   ],
   "source": [
    "!ls"
   ]
  },
  {
   "cell_type": "code",
   "execution_count": 200,
   "metadata": {},
   "outputs": [],
   "source": [
    "funds_info.to_pickle('funds_info.gzip')"
   ]
  },
  {
   "cell_type": "code",
   "execution_count": 204,
   "metadata": {},
   "outputs": [],
   "source": [
    "for code, fund in funds_values_history.items():\n",
    "    fund.to_pickle('funds_value/' + code + '.gzip')"
   ]
  },
  {
   "cell_type": "code",
   "execution_count": 205,
   "metadata": {},
   "outputs": [
    {
     "name": "stdout",
     "output_type": "stream",
     "text": [
      "/bin/sh: 1: ll: not found\n"
     ]
    }
   ],
   "source": [
    "!ll"
   ]
  },
  {
   "cell_type": "code",
   "execution_count": 206,
   "metadata": {},
   "outputs": [
    {
     "name": "stdout",
     "output_type": "stream",
     "text": [
      "fund.ipynb  funds_info.gzip  funds_value  Quant.ipynb  Untitled.ipynb\n"
     ]
    }
   ],
   "source": [
    "!ls"
   ]
  },
  {
   "cell_type": "code",
   "execution_count": 207,
   "metadata": {},
   "outputs": [
    {
     "name": "stdout",
     "output_type": "stream",
     "text": [
      "/bin/sh: 1: ll: not found\n"
     ]
    }
   ],
   "source": [
    "!ll"
   ]
  },
  {
   "cell_type": "code",
   "execution_count": 208,
   "metadata": {},
   "outputs": [
    {
     "name": "stdout",
     "output_type": "stream",
     "text": [
      "fund.ipynb  funds_info.gzip  funds_value  Quant.ipynb  Untitled.ipynb\n"
     ]
    }
   ],
   "source": [
    "!ls -h"
   ]
  },
  {
   "cell_type": "code",
   "execution_count": 209,
   "metadata": {},
   "outputs": [
    {
     "name": "stdout",
     "output_type": "stream",
     "text": [
      "total 3.1M\n",
      "-rw-rw-r-- 1 zhuf zhuf 137K May  2 08:06 fund.ipynb\n",
      "-rw-rw-r-- 1 zhuf zhuf 1.6M May  2 07:55 funds_info.gzip\n",
      "drwxrwxr-x 3 zhuf zhuf 260K May  2 08:05 funds_value\n",
      "-rw-rw-r-- 1 zhuf zhuf 1.1M May  2 08:00 Quant.ipynb\n",
      "-rw-rw-r-- 1 zhuf zhuf  26K Apr 22 08:22 Untitled.ipynb\n"
     ]
    }
   ],
   "source": [
    "!ls -hl"
   ]
  },
  {
   "cell_type": "code",
   "execution_count": 211,
   "metadata": {},
   "outputs": [],
   "source": [
    "df = funds_values_history['004666']"
   ]
  },
  {
   "cell_type": "code",
   "execution_count": 220,
   "metadata": {},
   "outputs": [],
   "source": [
    "compare = df.net_value[1:] #+ df.net_value.iloc[-1]"
   ]
  },
  {
   "cell_type": "code",
   "execution_count": 238,
   "metadata": {},
   "outputs": [],
   "source": [
    "compare = pd.concat([df.net_value.iloc[1:], pd.Series(df.net_value.iloc[-1])])\n",
    "c = compare.to_numpy()"
   ]
  },
  {
   "cell_type": "code",
   "execution_count": 239,
   "metadata": {},
   "outputs": [],
   "source": [
    "d = df.net_value.to_numpy()"
   ]
  },
  {
   "cell_type": "code",
   "execution_count": 247,
   "metadata": {},
   "outputs": [],
   "source": [
    "change_pct = pd.Series((d-c)/c*100, name='change_pct')"
   ]
  },
  {
   "cell_type": "code",
   "execution_count": 251,
   "metadata": {},
   "outputs": [],
   "source": [
    "df_new = pd.concat([df, change_pct],axis=1)"
   ]
  },
  {
   "cell_type": "code",
   "execution_count": 304,
   "metadata": {},
   "outputs": [],
   "source": [
    "cal = df_new[:22].change_pct"
   ]
  },
  {
   "cell_type": "code",
   "execution_count": 305,
   "metadata": {},
   "outputs": [],
   "source": [
    "cal = cal.iloc[::-1]"
   ]
  },
  {
   "cell_type": "code",
   "execution_count": 265,
   "metadata": {},
   "outputs": [
    {
     "data": {
      "text/plain": [
       "0    1\n",
       "1    2\n",
       "2    3\n",
       "3    4\n",
       "4    5\n",
       "5    6\n",
       "dtype: int64"
      ]
     },
     "execution_count": 265,
     "metadata": {},
     "output_type": "execute_result"
    }
   ],
   "source": [
    "t = pd.Series(range(1,7))\n",
    "t"
   ]
  },
  {
   "cell_type": "code",
   "execution_count": 266,
   "metadata": {},
   "outputs": [
    {
     "data": {
      "text/plain": [
       "0      1\n",
       "1      2\n",
       "2      6\n",
       "3     24\n",
       "4    120\n",
       "5    720\n",
       "dtype: int64"
      ]
     },
     "execution_count": 266,
     "metadata": {},
     "output_type": "execute_result"
    }
   ],
   "source": [
    "t.cumprod()"
   ]
  },
  {
   "cell_type": "code",
   "execution_count": 271,
   "metadata": {},
   "outputs": [
    {
     "data": {
      "text/plain": [
       "array([1, 2, 3, 4, 5, 6])"
      ]
     },
     "execution_count": 271,
     "metadata": {},
     "output_type": "execute_result"
    }
   ],
   "source": [
    "import numpy as  np\n",
    "n = np.arange(1,7)\n",
    "n"
   ]
  },
  {
   "cell_type": "code",
   "execution_count": 272,
   "metadata": {},
   "outputs": [
    {
     "data": {
      "text/plain": [
       "array([ 1,  3,  6, 10, 15, 21])"
      ]
     },
     "execution_count": 272,
     "metadata": {},
     "output_type": "execute_result"
    }
   ],
   "source": [
    "n.cumsum()"
   ]
  },
  {
   "cell_type": "code",
   "execution_count": 273,
   "metadata": {},
   "outputs": [
    {
     "data": {
      "text/plain": [
       "array([  1,   2,   6,  24, 120, 720])"
      ]
     },
     "execution_count": 273,
     "metadata": {},
     "output_type": "execute_result"
    }
   ],
   "source": [
    "n.cumprod()"
   ]
  },
  {
   "cell_type": "code",
   "execution_count": 281,
   "metadata": {},
   "outputs": [],
   "source": [
    "def trend(x):\n",
    "    x[0] = 0\n",
    "    total =1\n",
    "    for i in x:\n",
    "        total = total*(1+i/100)\n",
    "    return total"
   ]
  },
  {
   "cell_type": "code",
   "execution_count": 306,
   "metadata": {},
   "outputs": [
    {
     "data": {
      "text/plain": [
       "21   -0.919561\n",
       "20    1.135340\n",
       "19    7.127584\n",
       "18   -1.338989\n",
       "17    2.216977\n",
       "16    0.008247\n",
       "15   -1.360600\n",
       "14   -4.999164\n",
       "13   -3.379092\n",
       "12    3.615665\n",
       "11    1.450294\n",
       "10    0.961705\n",
       "9     2.411396\n",
       "8     0.930116\n",
       "7    -2.183479\n",
       "6     0.594127\n",
       "5    -1.611542\n",
       "4    -2.040991\n",
       "3    -0.717850\n",
       "2     4.117803\n",
       "1    -0.584350\n",
       "0     6.900077\n",
       "Name: change_pct, dtype: float64"
      ]
     },
     "execution_count": 306,
     "metadata": {},
     "output_type": "execute_result"
    }
   ],
   "source": [
    "cal"
   ]
  },
  {
   "cell_type": "code",
   "execution_count": 307,
   "metadata": {},
   "outputs": [
    {
     "data": {
      "text/plain": [
       "21    0.990804\n",
       "20    1.011353\n",
       "19    1.071276\n",
       "18    0.986610\n",
       "17    1.022170\n",
       "16    1.000082\n",
       "15    0.986394\n",
       "14    0.950008\n",
       "13    0.966209\n",
       "12    1.036157\n",
       "11    1.014503\n",
       "10    1.009617\n",
       "9     1.024114\n",
       "8     1.009301\n",
       "7     0.978165\n",
       "6     1.005941\n",
       "5     0.983885\n",
       "4     0.979590\n",
       "3     0.992822\n",
       "2     1.041178\n",
       "1     0.994157\n",
       "0     1.069001\n",
       "Name: change_pct, dtype: float64"
      ]
     },
     "execution_count": 307,
     "metadata": {},
     "output_type": "execute_result"
    }
   ],
   "source": [
    "new_cal = (1+cal/100)\n",
    "new_cal"
   ]
  },
  {
   "cell_type": "code",
   "execution_count": 308,
   "metadata": {},
   "outputs": [],
   "source": [
    "new_cal.iloc[0] = 1"
   ]
  },
  {
   "cell_type": "code",
   "execution_count": 310,
   "metadata": {},
   "outputs": [],
   "source": [
    "trend = new_cal.cumprod()"
   ]
  },
  {
   "cell_type": "code",
   "execution_count": 313,
   "metadata": {},
   "outputs": [],
   "source": [
    "trend= (trend-1)*100"
   ]
  },
  {
   "cell_type": "code",
   "execution_count": 316,
   "metadata": {},
   "outputs": [],
   "source": [
    "trend.index = range(22)"
   ]
  },
  {
   "cell_type": "code",
   "execution_count": 318,
   "metadata": {},
   "outputs": [
    {
     "data": {
      "text/plain": [
       "<matplotlib.axes._subplots.AxesSubplot at 0x7fcac74066d8>"
      ]
     },
     "execution_count": 318,
     "metadata": {},
     "output_type": "execute_result"
    },
    {
     "data": {
      "image/png": "[encoded data removed]",
      "text/plain": [
       "<Figure size 432x288 with 1 Axes>"
      ]
     },
     "metadata": {
      "needs_background": "light"
     },
     "output_type": "display_data"
    }
   ],
   "source": [
    "trend.plot()"
   ]
  },
  {
   "cell_type": "markdown",
   "metadata": {},
   "source": [
    "## 计算每日涨跌幅"
   ]
  },
  {
   "cell_type": "code",
   "execution_count": 319,
   "metadata": {},
   "outputs": [],
   "source": [
    "def change_cal(code):\n",
    "    df = funds_values_history[code]\n",
    "    compare = pd.concat([df.net_value.iloc[1:], pd.Series(df.net_value.iloc[-1])])\n",
    "    c = compare.to_numpy()\n",
    "    d = df.net_value.to_numpy()\n",
    "    change_pct = pd.Series((d-c)/c*100, name='change_pct')\n",
    "    df_new = pd.concat([df, change_pct],axis=1)\n",
    "    return df_new"
   ]
  },
  {
   "cell_type": "markdown",
   "metadata": {},
   "source": [
    "## 计算任意时间段内的收益"
   ]
  },
  {
   "cell_type": "code",
   "execution_count": 320,
   "metadata": {},
   "outputs": [],
   "source": [
    "def earning(df,n, start= None , end=None):\n",
    "    # df = funds_values_history[code]\n",
    "    cal = df[:n].change_pct.iloc[::-1]\n",
    "    new_cal = (1+cal/100)\n",
    "    new_cal.iloc[0] = 1\n",
    "    trend = new_cal.cumprod()\n",
    "    trend= (trend-1)*100\n",
    "    trend.index = range(n)\n",
    "    return earning_trend"
   ]
  }
 ],
 "metadata": {
  "kernelspec": {
   "display_name": "data_sci_env_py3.6.10",
   "language": "python",
   "name": "data_sci_env_py3.6.10"
  },
  "language_info": {
   "codemirror_mode": {
    "name": "ipython",
    "version": 3
   },
   "file_extension": ".py",
   "mimetype": "text/x-python",
   "name": "python",
   "nbconvert_exporter": "python",
   "pygments_lexer": "ipython3",
   "version": "3.6.10"
  }
 },
 "nbformat": 4,
 "nbformat_minor": 4
}
