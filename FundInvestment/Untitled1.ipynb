{
 "cells": [
  {
   "cell_type": "code",
   "execution_count": 1,
   "metadata": {},
   "outputs": [],
   "source": [
    "import os, sys, django\n",
    "\n",
    "# 必须先项目目录放到python可搜索路径中，也可以用os.chdir(), 但最优雅的方式还是使用sys.path.apend\n",
    "sys.path.append('/home/zhuf/CodingSpace/FundInvestment')\n",
    "# 在项目外的路径下必须再添加Django的配置变量环境\n",
    "os.environ['DJANGO_SETTINGS_MODULE'] = 'FundInvestment.settings'\n",
    "django.setup()"
   ]
  },
  {
   "cell_type": "code",
   "execution_count": 2,
   "metadata": {},
   "outputs": [],
   "source": [
    "import pandas as pd"
   ]
  },
  {
   "cell_type": "code",
   "execution_count": 3,
   "metadata": {},
   "outputs": [],
   "source": [
    "from funds_info.models import FundMainInfo, FundNetValue"
   ]
  },
  {
   "cell_type": "code",
   "execution_count": 6,
   "metadata": {},
   "outputs": [
    {
     "data": {
      "text/plain": [
       "<QuerySet [<FundMainInfo: 长城久嘉创新成长混合>]>"
      ]
     },
     "execution_count": 6,
     "metadata": {},
     "output_type": "execute_result"
    }
   ],
   "source": [
    "FundMainInfo.objects.filter(code='004666')"
   ]
  },
  {
   "cell_type": "code",
   "execution_count": 12,
   "metadata": {},
   "outputs": [
    {
     "data": {
      "text/plain": [
       "<QuerySet [<FundNetValue: 2020-04-30 000001>, <FundNetValue: 2020-04-29 000001>, <FundNetValue: 2020-04-28 000001>, <FundNetValue: 2020-04-27 000001>, <FundNetValue: 2020-04-24 000001>, <FundNetValue: 2020-04-23 000001>, <FundNetValue: 2020-04-22 000001>, <FundNetValue: 2020-04-21 000001>, <FundNetValue: 2020-04-20 000001>, <FundNetValue: 2020-04-17 000001>, <FundNetValue: 2020-04-16 000001>, <FundNetValue: 2020-04-15 000001>, <FundNetValue: 2020-04-14 000001>, <FundNetValue: 2020-04-13 000001>, <FundNetValue: 2020-04-10 000001>, <FundNetValue: 2020-04-09 000001>, <FundNetValue: 2020-04-08 000001>, <FundNetValue: 2020-04-07 000001>, <FundNetValue: 2020-04-03 000001>, <FundNetValue: 2020-04-02 000001>, '...(remaining elements truncated)...']>"
      ]
     },
     "execution_count": 12,
     "metadata": {},
     "output_type": "execute_result"
    }
   ],
   "source": [
    "FundNetValue.objects.filter(code='000001')"
   ]
  },
  {
   "cell_type": "code",
   "execution_count": null,
   "metadata": {},
   "outputs": [],
   "source": []
  }
 ],
 "metadata": {
  "kernelspec": {
   "display_name": "fund_investment",
   "language": "python",
   "name": "fund_investment"
  },
  "language_info": {
   "codemirror_mode": {
    "name": "ipython",
    "version": 3
   },
   "file_extension": ".py",
   "mimetype": "text/x-python",
   "name": "python",
   "nbconvert_exporter": "python",
   "pygments_lexer": "ipython3",
   "version": "3.6.10"
  }
 },
 "nbformat": 4,
 "nbformat_minor": 4
}
