{
 "cells": [
  {
   "cell_type": "code",
   "execution_count": 1,
   "metadata": {},
   "outputs": [],
   "source": [
    "import numpy as np\n",
    "import matplotlib.pyplot as plt\n",
    "import matplotlib"
   ]
  },
  {
   "cell_type": "markdown",
   "metadata": {},
   "source": [
    "# 向量的基础知识"
   ]
  },
  {
   "cell_type": "markdown",
   "metadata": {},
   "source": [
    "## 向量的运算"
   ]
  },
  {
   "cell_type": "markdown",
   "metadata": {},
   "source": [
    "### 加法运算\n",
    "    代数：各个分量对应相加减\n",
    "    几何：平行四边形法则、三角形法则"
   ]
  },
  {
   "cell_type": "markdown",
   "metadata": {},
   "source": [
    "### 数乘运算\n",
    "    代数：数字与各个分量分别相乘\n",
    "    几何：对量大小进行伸缩，方向不变"
   ]
  },
  {
   "cell_type": "markdown",
   "metadata": {},
   "source": [
    "### 数量积（内积、点乘）\n",
    "    代数：两个向量点乘以后的结果是一个数字，各个分量分别相乘，然后把各个相乘的结果再相加\n",
    "    几何：投影的大小"
   ]
  },
  {
   "cell_type": "markdown",
   "metadata": {},
   "source": [
    "### 向量积（外积、叉乘）\n",
    "    代数：两个向量叉乘的结果仍然是一个向量\n",
    "    几何：右手法则"
   ]
  },
  {
   "cell_type": "markdown",
   "metadata": {},
   "source": [
    "# 一个基本数学技巧—求和公式向量化计算"
   ]
  },
  {
   "cell_type": "markdown",
   "metadata": {},
   "source": [
    "设有两个列向量$X,Y, X = (x_1, x_2, …, x_n)^T,Y = (y_1, y_2, …, y_n)^T $\n",
    "\n",
    "$X和Y$的数量积（内积，点乘）为：\n",
    "$$\\begin{aligned} \n",
    "X^TY = Y^TX &= x_1y_1 + x_2y_2 + … + x_ny_n \\\\\n",
    "&= \\sum_{i=1}^n{x_iy_i}\n",
    "\\end{aligned}$$\n",
    "\n",
    "注意要熟悉从求和公式逆向推到向量的数量积\n",
    "\n",
    "$x_i是向量X的分量，y_i是向量Y的分量$，两个向量的分量个数必须是相同的\n",
    "\n",
    "看到求和形式就要想到向量点乘形式，即$\\sum_{i=1}^n{x_iy_i} = X^TY $"
   ]
  },
  {
   "cell_type": "code",
   "execution_count": 2,
   "metadata": {},
   "outputs": [],
   "source": [
    "x = np.array([1., 2., 3., 4., 5.])\n",
    "y = np.array([1., 3., 2., 3., 5.])"
   ]
  },
  {
   "cell_type": "code",
   "execution_count": 3,
   "metadata": {},
   "outputs": [],
   "source": [
    "import sys\n",
    "sys.path.append('/home/zhuf/CodingSpace/JupyterNotebook/machine_learning')\n",
    "from playML.SimpleLinearRegression import SimpleLinearRegression1, SimpleLinearRegression2, SimpleLinearRegression3"
   ]
  },
  {
   "cell_type": "code",
   "execution_count": 4,
   "metadata": {},
   "outputs": [],
   "source": [
    "simple_linear_reg2 = SimpleLinearRegression2()"
   ]
  },
  {
   "cell_type": "code",
   "execution_count": 5,
   "metadata": {},
   "outputs": [
    {
     "data": {
      "text/plain": [
       "LinearRegression2(a = 0.8, b = 0.39999999999999947)"
      ]
     },
     "execution_count": 5,
     "metadata": {},
     "output_type": "execute_result"
    }
   ],
   "source": [
    "simple_linear_reg2.fit(x,y)"
   ]
  },
  {
   "cell_type": "code",
   "execution_count": 6,
   "metadata": {},
   "outputs": [],
   "source": [
    "y_hat = simple_linear_reg2.predict(x)"
   ]
  },
  {
   "cell_type": "code",
   "execution_count": 7,
   "metadata": {},
   "outputs": [
    {
     "data": {
      "image/png": "[encoded data removed]",
      "text/plain": [
       "<Figure size 432x288 with 1 Axes>"
      ]
     },
     "metadata": {
      "needs_background": "light"
     },
     "output_type": "display_data"
    }
   ],
   "source": [
    "plt.scatter(x,y)\n",
    "plt.plot(x, y_hat, color='r')\n",
    "plt.axis([0,6,0,6])\n",
    "plt.show()"
   ]
  },
  {
   "cell_type": "markdown",
   "metadata": {
    "toc-hr-collapsed": true
   },
   "source": [
    "# 性能测试"
   ]
  },
  {
   "cell_type": "code",
   "execution_count": 8,
   "metadata": {},
   "outputs": [],
   "source": [
    "m = 1000000\n",
    "big_x = np.random.random(size=m)\n",
    "big_y = big_x * 2 + 3 + np.random.normal(size=m)"
   ]
  },
  {
   "cell_type": "code",
   "execution_count": 9,
   "metadata": {},
   "outputs": [
    {
     "data": {
      "text/plain": [
       "(array([2.000e+00, 1.900e+01, 1.760e+02, 8.560e+02, 2.159e+03, 3.061e+03,\n",
       "        2.473e+03, 1.030e+03, 2.060e+02, 1.800e+01]),\n",
       " array([-4.51213912, -3.70324086, -2.89434259, -2.08544432, -1.27654606,\n",
       "        -0.46764779,  0.34125047,  1.15014874,  1.95904701,  2.76794527,\n",
       "         3.57684354]),\n",
       " <a list of 10 Patch objects>)"
      ]
     },
     "execution_count": 9,
     "metadata": {},
     "output_type": "execute_result"
    },
    {
     "data": {
      "image/png": "[encoded data removed]",
      "text/plain": [
       "<Figure size 432x288 with 1 Axes>"
      ]
     },
     "metadata": {
      "needs_background": "light"
     },
     "output_type": "display_data"
    }
   ],
   "source": [
    "# np.random.normal和np.random.randn是类似的\n",
    "np.random.seed = 10\n",
    "y = np.random.normal(size=10000)\n",
    "plt.hist(y)"
   ]
  },
  {
   "cell_type": "code",
   "execution_count": 10,
   "metadata": {},
   "outputs": [
    {
     "data": {
      "text/plain": [
       "(array([1.300e+01, 1.360e+02, 8.200e+02, 2.271e+03, 3.208e+03, 2.467e+03,\n",
       "        9.000e+02, 1.680e+02, 1.500e+01, 2.000e+00]),\n",
       " array([-3.86976289, -3.02053559, -2.17130829, -1.32208098, -0.47285368,\n",
       "         0.37637362,  1.22560093,  2.07482823,  2.92405553,  3.77328284,\n",
       "         4.62251014]),\n",
       " <a list of 10 Patch objects>)"
      ]
     },
     "execution_count": 10,
     "metadata": {},
     "output_type": "execute_result"
    },
    {
     "data": {
      "image/png": "[encoded data removed]",
      "text/plain": [
       "<Figure size 432x288 with 1 Axes>"
      ]
     },
     "metadata": {
      "needs_background": "light"
     },
     "output_type": "display_data"
    }
   ],
   "source": [
    "np.random.seed = 10\n",
    "y = np.random.randn(10000)\n",
    "plt.hist(y)"
   ]
  },
  {
   "cell_type": "code",
   "execution_count": 11,
   "metadata": {},
   "outputs": [],
   "source": [
    "reg1 = SimpleLinearRegression1()\n",
    "reg2 = SimpleLinearRegression2()\n",
    "reg3 = SimpleLinearRegression3()"
   ]
  },
  {
   "cell_type": "code",
   "execution_count": 12,
   "metadata": {},
   "outputs": [
    {
     "name": "stdout",
     "output_type": "stream",
     "text": [
      "613 ms ± 14.1 ms per loop (mean ± std. dev. of 7 runs, 1 loop each)\n",
      "20.6 ms ± 1.2 ms per loop (mean ± std. dev. of 7 runs, 100 loops each)\n",
      "20.3 ms ± 3.07 ms per loop (mean ± std. dev. of 7 runs, 10 loops each)\n"
     ]
    }
   ],
   "source": [
    "%timeit reg1.fit(big_x, big_y)\n",
    "%timeit reg2.fit(big_x, big_y)\n",
    "%timeit reg3.fit(big_x, big_y)"
   ]
  },
  {
   "cell_type": "code",
   "execution_count": 13,
   "metadata": {},
   "outputs": [
    {
     "data": {
      "text/plain": [
       "LinearRegression1(a = 2.0048168035308676, b = 2.998483528656873)"
      ]
     },
     "execution_count": 13,
     "metadata": {},
     "output_type": "execute_result"
    }
   ],
   "source": [
    "reg1"
   ]
  },
  {
   "cell_type": "code",
   "execution_count": 14,
   "metadata": {},
   "outputs": [
    {
     "data": {
      "text/plain": [
       "LinearRegression2(a = 2.004816803530729, b = 2.9984835286569425)"
      ]
     },
     "execution_count": 14,
     "metadata": {},
     "output_type": "execute_result"
    }
   ],
   "source": [
    "reg2"
   ]
  },
  {
   "cell_type": "code",
   "execution_count": 15,
   "metadata": {},
   "outputs": [
    {
     "data": {
      "text/plain": [
       "LinearRegression3(a = 2.004816803530729, b = 2.9984835286569425)"
      ]
     },
     "execution_count": 15,
     "metadata": {},
     "output_type": "execute_result"
    }
   ],
   "source": [
    "reg3"
   ]
  }
 ],
 "metadata": {
  "kernelspec": {
   "display_name": "Python 3",
   "language": "python",
   "name": "python3"
  },
  "language_info": {
   "codemirror_mode": {
    "name": "ipython",
    "version": 3
   },
   "file_extension": ".py",
   "mimetype": "text/x-python",
   "name": "python",
   "nbconvert_exporter": "python",
   "pygments_lexer": "ipython3",
   "version": "3.7.4"
  }
 },
 "nbformat": 4,
 "nbformat_minor": 4
}
