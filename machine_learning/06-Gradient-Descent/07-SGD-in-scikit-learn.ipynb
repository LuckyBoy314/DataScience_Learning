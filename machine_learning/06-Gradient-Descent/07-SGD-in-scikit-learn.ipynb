{
 "cells": [
  {
   "cell_type": "markdown",
   "metadata": {},
   "source": [
    "## 封装我们自己的SGD"
   ]
  },
  {
   "cell_type": "code",
   "execution_count": 1,
   "metadata": {},
   "outputs": [],
   "source": [
    "import numpy as np\n",
    "import matplotlib.pyplot as plt"
   ]
  },
  {
   "cell_type": "code",
   "execution_count": 2,
   "metadata": {},
   "outputs": [],
   "source": [
    "m = 100000\n",
    "\n",
    "x = np.random.normal(size=m)\n",
    "X = x.reshape(-1,1)\n",
    "y = 4.*x + 3. + np.random.normal(0, 3, size=m)"
   ]
  },
  {
   "cell_type": "code",
   "execution_count": 3,
   "metadata": {},
   "outputs": [],
   "source": [
    "import sys\n",
    "sys.path.append('/home/zhuf/CodingSpace/JupyterNotebook/machine_learning')\n",
    "from playML.LinearRegression import LinearRegression"
   ]
  },
  {
   "cell_type": "code",
   "execution_count": 4,
   "metadata": {},
   "outputs": [
    {
     "name": "stdout",
     "output_type": "stream",
     "text": [
      "2.9917502867365426 [3.99702522]\n"
     ]
    }
   ],
   "source": [
    "lin_reg = LinearRegression()\n",
    "lin_reg.fit_bgd(X, y)\n",
    "print(lin_reg.intercept_, lin_reg.coef_)"
   ]
  },
  {
   "cell_type": "markdown",
   "metadata": {},
   "source": [
    "## 真实使用我们自己的SGD"
   ]
  },
  {
   "cell_type": "code",
   "execution_count": 5,
   "metadata": {},
   "outputs": [],
   "source": [
    "from sklearn import datasets\n",
    "\n",
    "boston = datasets.load_boston()\n",
    "X = boston.data\n",
    "y = boston.target\n",
    "\n",
    "X = X[y < 50.0]\n",
    "y = y[y < 50.0]"
   ]
  },
  {
   "cell_type": "code",
   "execution_count": 6,
   "metadata": {},
   "outputs": [],
   "source": [
    "from playML.model_selection import train_test_split\n",
    "\n",
    "X_train, X_test, y_train, y_test = train_test_split(X, y, random_state=666)"
   ]
  },
  {
   "cell_type": "code",
   "execution_count": 7,
   "metadata": {},
   "outputs": [],
   "source": [
    "from sklearn.preprocessing import StandardScaler\n",
    "\n",
    "standardScaler = StandardScaler()\n",
    "standardScaler.fit(X_train)\n",
    "X_train_standard = standardScaler.transform(X_train)\n",
    "X_test_standard = standardScaler.transform(X_test)"
   ]
  },
  {
   "cell_type": "code",
   "execution_count": 8,
   "metadata": {},
   "outputs": [
    {
     "name": "stdout",
     "output_type": "stream",
     "text": [
      "CPU times: user 6.07 ms, sys: 213 µs, total: 6.28 ms\n",
      "Wall time: 10.6 ms\n"
     ]
    },
    {
     "data": {
      "text/plain": [
       "0.7857275413602651"
      ]
     },
     "execution_count": 8,
     "metadata": {},
     "output_type": "execute_result"
    }
   ],
   "source": [
    "from playML.LinearRegression import LinearRegression\n",
    "\n",
    "lin_reg = LinearRegression()\n",
    "%time lin_reg.fit_sgd(X_train_standard, y_train, n_iters=2)\n",
    "lin_reg.score(X_test_standard, y_test)"
   ]
  },
  {
   "cell_type": "code",
   "execution_count": 9,
   "metadata": {},
   "outputs": [
    {
     "name": "stdout",
     "output_type": "stream",
     "text": [
      "CPU times: user 96.1 ms, sys: 1.17 ms, total: 97.3 ms\n",
      "Wall time: 106 ms\n"
     ]
    },
    {
     "data": {
      "text/plain": [
       "0.808560757055621"
      ]
     },
     "execution_count": 9,
     "metadata": {},
     "output_type": "execute_result"
    }
   ],
   "source": [
    "%time lin_reg.fit_sgd(X_train_standard, y_train, n_iters=50)\n",
    "lin_reg.score(X_test_standard, y_test)"
   ]
  },
  {
   "cell_type": "code",
   "execution_count": 10,
   "metadata": {},
   "outputs": [
    {
     "name": "stdout",
     "output_type": "stream",
     "text": [
      "CPU times: user 201 ms, sys: 4.03 ms, total: 205 ms\n",
      "Wall time: 254 ms\n"
     ]
    },
    {
     "data": {
      "text/plain": [
       "0.8129434245278827"
      ]
     },
     "execution_count": 10,
     "metadata": {},
     "output_type": "execute_result"
    }
   ],
   "source": [
    "%time lin_reg.fit_sgd(X_train_standard, y_train, n_iters=100)\n",
    "lin_reg.score(X_test_standard, y_test)"
   ]
  },
  {
   "cell_type": "markdown",
   "metadata": {},
   "source": [
    "## scikit-learn中的SGD"
   ]
  },
  {
   "cell_type": "code",
   "execution_count": 11,
   "metadata": {},
   "outputs": [
    {
     "name": "stdout",
     "output_type": "stream",
     "text": [
      "CPU times: user 1.68 ms, sys: 41 µs, total: 1.72 ms\n",
      "Wall time: 1.73 ms\n"
     ]
    },
    {
     "data": {
      "text/plain": [
       "0.8122443512755939"
      ]
     },
     "execution_count": 11,
     "metadata": {},
     "output_type": "execute_result"
    }
   ],
   "source": [
    "from sklearn.linear_model import SGDRegressor\n",
    "\n",
    "sgd_reg = SGDRegressor()\n",
    "%time sgd_reg.fit(X_train_standard, y_train)\n",
    "sgd_reg.score(X_test_standard, y_test)"
   ]
  },
  {
   "cell_type": "code",
   "execution_count": 12,
   "metadata": {},
   "outputs": [
    {
     "name": "stdout",
     "output_type": "stream",
     "text": [
      "CPU times: user 7.69 ms, sys: 0 ns, total: 7.69 ms\n",
      "Wall time: 7.98 ms\n"
     ]
    },
    {
     "data": {
      "text/plain": [
       "0.8130943725246901"
      ]
     },
     "execution_count": 12,
     "metadata": {},
     "output_type": "execute_result"
    }
   ],
   "source": [
    "sgd_reg = SGDRegressor(n_iter_no_change=50)\n",
    "%time sgd_reg.fit(X_train_standard, y_train)\n",
    "sgd_reg.score(X_test_standard, y_test)"
   ]
  },
  {
   "cell_type": "code",
   "execution_count": 13,
   "metadata": {},
   "outputs": [
    {
     "data": {
      "text/plain": [
       "\u001b[0;31mInit signature:\u001b[0m\n",
       "\u001b[0mSGDRegressor\u001b[0m\u001b[0;34m(\u001b[0m\u001b[0;34m\u001b[0m\n",
       "\u001b[0;34m\u001b[0m    \u001b[0mloss\u001b[0m\u001b[0;34m=\u001b[0m\u001b[0;34m'squared_loss'\u001b[0m\u001b[0;34m,\u001b[0m\u001b[0;34m\u001b[0m\n",
       "\u001b[0;34m\u001b[0m    \u001b[0mpenalty\u001b[0m\u001b[0;34m=\u001b[0m\u001b[0;34m'l2'\u001b[0m\u001b[0;34m,\u001b[0m\u001b[0;34m\u001b[0m\n",
       "\u001b[0;34m\u001b[0m    \u001b[0malpha\u001b[0m\u001b[0;34m=\u001b[0m\u001b[0;36m0.0001\u001b[0m\u001b[0;34m,\u001b[0m\u001b[0;34m\u001b[0m\n",
       "\u001b[0;34m\u001b[0m    \u001b[0ml1_ratio\u001b[0m\u001b[0;34m=\u001b[0m\u001b[0;36m0.15\u001b[0m\u001b[0;34m,\u001b[0m\u001b[0;34m\u001b[0m\n",
       "\u001b[0;34m\u001b[0m    \u001b[0mfit_intercept\u001b[0m\u001b[0;34m=\u001b[0m\u001b[0;32mTrue\u001b[0m\u001b[0;34m,\u001b[0m\u001b[0;34m\u001b[0m\n",
       "\u001b[0;34m\u001b[0m    \u001b[0mmax_iter\u001b[0m\u001b[0;34m=\u001b[0m\u001b[0;36m1000\u001b[0m\u001b[0;34m,\u001b[0m\u001b[0;34m\u001b[0m\n",
       "\u001b[0;34m\u001b[0m    \u001b[0mtol\u001b[0m\u001b[0;34m=\u001b[0m\u001b[0;36m0.001\u001b[0m\u001b[0;34m,\u001b[0m\u001b[0;34m\u001b[0m\n",
       "\u001b[0;34m\u001b[0m    \u001b[0mshuffle\u001b[0m\u001b[0;34m=\u001b[0m\u001b[0;32mTrue\u001b[0m\u001b[0;34m,\u001b[0m\u001b[0;34m\u001b[0m\n",
       "\u001b[0;34m\u001b[0m    \u001b[0mverbose\u001b[0m\u001b[0;34m=\u001b[0m\u001b[0;36m0\u001b[0m\u001b[0;34m,\u001b[0m\u001b[0;34m\u001b[0m\n",
       "\u001b[0;34m\u001b[0m    \u001b[0mepsilon\u001b[0m\u001b[0;34m=\u001b[0m\u001b[0;36m0.1\u001b[0m\u001b[0;34m,\u001b[0m\u001b[0;34m\u001b[0m\n",
       "\u001b[0;34m\u001b[0m    \u001b[0mrandom_state\u001b[0m\u001b[0;34m=\u001b[0m\u001b[0;32mNone\u001b[0m\u001b[0;34m,\u001b[0m\u001b[0;34m\u001b[0m\n",
       "\u001b[0;34m\u001b[0m    \u001b[0mlearning_rate\u001b[0m\u001b[0;34m=\u001b[0m\u001b[0;34m'invscaling'\u001b[0m\u001b[0;34m,\u001b[0m\u001b[0;34m\u001b[0m\n",
       "\u001b[0;34m\u001b[0m    \u001b[0meta0\u001b[0m\u001b[0;34m=\u001b[0m\u001b[0;36m0.01\u001b[0m\u001b[0;34m,\u001b[0m\u001b[0;34m\u001b[0m\n",
       "\u001b[0;34m\u001b[0m    \u001b[0mpower_t\u001b[0m\u001b[0;34m=\u001b[0m\u001b[0;36m0.25\u001b[0m\u001b[0;34m,\u001b[0m\u001b[0;34m\u001b[0m\n",
       "\u001b[0;34m\u001b[0m    \u001b[0mearly_stopping\u001b[0m\u001b[0;34m=\u001b[0m\u001b[0;32mFalse\u001b[0m\u001b[0;34m,\u001b[0m\u001b[0;34m\u001b[0m\n",
       "\u001b[0;34m\u001b[0m    \u001b[0mvalidation_fraction\u001b[0m\u001b[0;34m=\u001b[0m\u001b[0;36m0.1\u001b[0m\u001b[0;34m,\u001b[0m\u001b[0;34m\u001b[0m\n",
       "\u001b[0;34m\u001b[0m    \u001b[0mn_iter_no_change\u001b[0m\u001b[0;34m=\u001b[0m\u001b[0;36m5\u001b[0m\u001b[0;34m,\u001b[0m\u001b[0;34m\u001b[0m\n",
       "\u001b[0;34m\u001b[0m    \u001b[0mwarm_start\u001b[0m\u001b[0;34m=\u001b[0m\u001b[0;32mFalse\u001b[0m\u001b[0;34m,\u001b[0m\u001b[0;34m\u001b[0m\n",
       "\u001b[0;34m\u001b[0m    \u001b[0maverage\u001b[0m\u001b[0;34m=\u001b[0m\u001b[0;32mFalse\u001b[0m\u001b[0;34m,\u001b[0m\u001b[0;34m\u001b[0m\n",
       "\u001b[0;34m\u001b[0m\u001b[0;34m)\u001b[0m\u001b[0;34m\u001b[0m\u001b[0;34m\u001b[0m\u001b[0m\n",
       "\u001b[0;31mDocstring:\u001b[0m     \n",
       "Linear model fitted by minimizing a regularized empirical loss with SGD\n",
       "\n",
       "SGD stands for Stochastic Gradient Descent: the gradient of the loss is\n",
       "estimated each sample at a time and the model is updated along the way with\n",
       "a decreasing strength schedule (aka learning rate).\n",
       "\n",
       "The regularizer is a penalty added to the loss function that shrinks model\n",
       "parameters towards the zero vector using either the squared euclidean norm\n",
       "L2 or the absolute norm L1 or a combination of both (Elastic Net). If the\n",
       "parameter update crosses the 0.0 value because of the regularizer, the\n",
       "update is truncated to 0.0 to allow for learning sparse models and achieve\n",
       "online feature selection.\n",
       "\n",
       "This implementation works with data represented as dense numpy arrays of\n",
       "floating point values for the features.\n",
       "\n",
       "Read more in the :ref:`User Guide <sgd>`.\n",
       "\n",
       "Parameters\n",
       "----------\n",
       "loss : str, default: 'squared_loss'\n",
       "    The loss function to be used. The possible values are 'squared_loss',\n",
       "    'huber', 'epsilon_insensitive', or 'squared_epsilon_insensitive'\n",
       "\n",
       "    The 'squared_loss' refers to the ordinary least squares fit.\n",
       "    'huber' modifies 'squared_loss' to focus less on getting outliers\n",
       "    correct by switching from squared to linear loss past a distance of\n",
       "    epsilon. 'epsilon_insensitive' ignores errors less than epsilon and is\n",
       "    linear past that; this is the loss function used in SVR.\n",
       "    'squared_epsilon_insensitive' is the same but becomes squared loss past\n",
       "    a tolerance of epsilon.\n",
       "\n",
       "penalty : str, 'none', 'l2', 'l1', or 'elasticnet'\n",
       "    The penalty (aka regularization term) to be used. Defaults to 'l2'\n",
       "    which is the standard regularizer for linear SVM models. 'l1' and\n",
       "    'elasticnet' might bring sparsity to the model (feature selection)\n",
       "    not achievable with 'l2'.\n",
       "\n",
       "alpha : float\n",
       "    Constant that multiplies the regularization term. Defaults to 0.0001\n",
       "    Also used to compute learning_rate when set to 'optimal'.\n",
       "\n",
       "l1_ratio : float\n",
       "    The Elastic Net mixing parameter, with 0 <= l1_ratio <= 1.\n",
       "    l1_ratio=0 corresponds to L2 penalty, l1_ratio=1 to L1.\n",
       "    Defaults to 0.15.\n",
       "\n",
       "fit_intercept : bool\n",
       "    Whether the intercept should be estimated or not. If False, the\n",
       "    data is assumed to be already centered. Defaults to True.\n",
       "\n",
       "max_iter : int, optional (default=1000)\n",
       "    The maximum number of passes over the training data (aka epochs).\n",
       "    It only impacts the behavior in the ``fit`` method, and not the\n",
       "    `partial_fit`.\n",
       "\n",
       "    .. versionadded:: 0.19\n",
       "\n",
       "tol : float or None, optional (default=1e-3)\n",
       "    The stopping criterion. If it is not None, the iterations will stop\n",
       "    when (loss > best_loss - tol) for ``n_iter_no_change`` consecutive\n",
       "    epochs.\n",
       "\n",
       "    .. versionadded:: 0.19\n",
       "\n",
       "shuffle : bool, optional\n",
       "    Whether or not the training data should be shuffled after each epoch.\n",
       "    Defaults to True.\n",
       "\n",
       "verbose : integer, optional\n",
       "    The verbosity level.\n",
       "\n",
       "epsilon : float\n",
       "    Epsilon in the epsilon-insensitive loss functions; only if `loss` is\n",
       "    'huber', 'epsilon_insensitive', or 'squared_epsilon_insensitive'.\n",
       "    For 'huber', determines the threshold at which it becomes less\n",
       "    important to get the prediction exactly right.\n",
       "    For epsilon-insensitive, any differences between the current prediction\n",
       "    and the correct label are ignored if they are less than this threshold.\n",
       "\n",
       "random_state : int, RandomState instance or None, optional (default=None)\n",
       "    The seed of the pseudo random number generator to use when shuffling\n",
       "    the data.  If int, random_state is the seed used by the random number\n",
       "    generator; If RandomState instance, random_state is the random number\n",
       "    generator; If None, the random number generator is the RandomState\n",
       "    instance used by `np.random`.\n",
       "\n",
       "learning_rate : string, optional\n",
       "    The learning rate schedule:\n",
       "\n",
       "    'constant':\n",
       "        eta = eta0\n",
       "    'optimal':\n",
       "        eta = 1.0 / (alpha * (t + t0))\n",
       "        where t0 is chosen by a heuristic proposed by Leon Bottou.\n",
       "    'invscaling': [default]\n",
       "        eta = eta0 / pow(t, power_t)\n",
       "    'adaptive':\n",
       "        eta = eta0, as long as the training keeps decreasing.\n",
       "        Each time n_iter_no_change consecutive epochs fail to decrease the\n",
       "        training loss by tol or fail to increase validation score by tol if\n",
       "        early_stopping is True, the current learning rate is divided by 5.\n",
       "\n",
       "eta0 : double\n",
       "    The initial learning rate for the 'constant', 'invscaling' or\n",
       "    'adaptive' schedules. The default value is 0.01.\n",
       "\n",
       "power_t : double\n",
       "    The exponent for inverse scaling learning rate [default 0.5].\n",
       "\n",
       "early_stopping : bool, default=False\n",
       "    Whether to use early stopping to terminate training when validation\n",
       "    score is not improving. If set to True, it will automatically set aside\n",
       "    a fraction of training data as validation and terminate\n",
       "    training when validation score is not improving by at least tol for\n",
       "    n_iter_no_change consecutive epochs.\n",
       "\n",
       "    .. versionadded:: 0.20\n",
       "\n",
       "validation_fraction : float, default=0.1\n",
       "    The proportion of training data to set aside as validation set for\n",
       "    early stopping. Must be between 0 and 1.\n",
       "    Only used if early_stopping is True.\n",
       "\n",
       "    .. versionadded:: 0.20\n",
       "\n",
       "n_iter_no_change : int, default=5\n",
       "    Number of iterations with no improvement to wait before early stopping.\n",
       "\n",
       "    .. versionadded:: 0.20\n",
       "\n",
       "warm_start : bool, optional\n",
       "    When set to True, reuse the solution of the previous call to fit as\n",
       "    initialization, otherwise, just erase the previous solution.\n",
       "    See :term:`the Glossary <warm_start>`.\n",
       "\n",
       "    Repeatedly calling fit or partial_fit when warm_start is True can\n",
       "    result in a different solution than when calling fit a single time\n",
       "    because of the way the data is shuffled.\n",
       "    If a dynamic learning rate is used, the learning rate is adapted\n",
       "    depending on the number of samples already seen. Calling ``fit`` resets\n",
       "    this counter, while ``partial_fit``  will result in increasing the\n",
       "    existing counter.\n",
       "\n",
       "average : bool or int, optional\n",
       "    When set to True, computes the averaged SGD weights and stores the\n",
       "    result in the ``coef_`` attribute. If set to an int greater than 1,\n",
       "    averaging will begin once the total number of samples seen reaches\n",
       "    average. So ``average=10`` will begin averaging after seeing 10\n",
       "    samples.\n",
       "\n",
       "Attributes\n",
       "----------\n",
       "coef_ : array, shape (n_features,)\n",
       "    Weights assigned to the features.\n",
       "\n",
       "intercept_ : array, shape (1,)\n",
       "    The intercept term.\n",
       "\n",
       "average_coef_ : array, shape (n_features,)\n",
       "    Averaged weights assigned to the features.\n",
       "\n",
       "average_intercept_ : array, shape (1,)\n",
       "    The averaged intercept term.\n",
       "\n",
       "n_iter_ : int\n",
       "    The actual number of iterations to reach the stopping criterion.\n",
       "\n",
       "Examples\n",
       "--------\n",
       ">>> import numpy as np\n",
       ">>> from sklearn import linear_model\n",
       ">>> n_samples, n_features = 10, 5\n",
       ">>> rng = np.random.RandomState(0)\n",
       ">>> y = rng.randn(n_samples)\n",
       ">>> X = rng.randn(n_samples, n_features)\n",
       ">>> clf = linear_model.SGDRegressor(max_iter=1000, tol=1e-3)\n",
       ">>> clf.fit(X, y)\n",
       "... #doctest: +NORMALIZE_WHITESPACE\n",
       "SGDRegressor(alpha=0.0001, average=False, early_stopping=False,\n",
       "       epsilon=0.1, eta0=0.01, fit_intercept=True, l1_ratio=0.15,\n",
       "       learning_rate='invscaling', loss='squared_loss', max_iter=1000,\n",
       "       n_iter_no_change=5, penalty='l2', power_t=0.25, random_state=None,\n",
       "       shuffle=True, tol=0.001, validation_fraction=0.1, verbose=0,\n",
       "       warm_start=False)\n",
       "\n",
       "See also\n",
       "--------\n",
       "Ridge, ElasticNet, Lasso, sklearn.svm.SVR\n",
       "\u001b[0;31mFile:\u001b[0m           ~/.pyenv/versions/miniconda3-latest/envs/XXLocalPlatform_env/lib/python3.6/site-packages/sklearn/linear_model/stochastic_gradient.py\n",
       "\u001b[0;31mType:\u001b[0m           ABCMeta\n",
       "\u001b[0;31mSubclasses:\u001b[0m     \n"
      ]
     },
     "metadata": {},
     "output_type": "display_data"
    }
   ],
   "source": [
    "SGDRegressor?"
   ]
  },
  {
   "cell_type": "code",
   "execution_count": null,
   "metadata": {},
   "outputs": [],
   "source": []
  }
 ],
 "metadata": {
  "kernelspec": {
   "display_name": "py3.6_XXLocalPlatform_env",
   "language": "python",
   "name": "py3.6_xxlocalplatform_env"
  },
  "language_info": {
   "codemirror_mode": {
    "name": "ipython",
    "version": 3
   },
   "file_extension": ".py",
   "mimetype": "text/x-python",
   "name": "python",
   "nbconvert_exporter": "python",
   "pygments_lexer": "ipython3",
   "version": "3.6.9"
  },
  "toc-autonumbering": false
 },
 "nbformat": 4,
 "nbformat_minor": 4
}
