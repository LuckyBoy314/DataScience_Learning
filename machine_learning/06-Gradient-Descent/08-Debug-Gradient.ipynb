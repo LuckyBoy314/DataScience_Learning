{
 "cells": [
  {
   "cell_type": "code",
   "execution_count": 1,
   "metadata": {},
   "outputs": [],
   "source": [
    "import numpy as np\n",
    "import matplotlib.pyplot as plt"
   ]
  },
  {
   "cell_type": "code",
   "execution_count": 2,
   "metadata": {},
   "outputs": [],
   "source": [
    "np.random.seed(666)\n",
    "X = np.random.random(size=(1000, 10))\n",
    "\n",
    "true_theta = np.arange(1, 12, dtype=float)\n",
    "Xb = np.hstack([np.ones((len(X), 1)), X])\n",
    "y = Xb.dot(true_theta) + np.random.normal(size=1000)"
   ]
  },
  {
   "cell_type": "code",
   "execution_count": 3,
   "metadata": {},
   "outputs": [
    {
     "data": {
      "text/plain": [
       "array([ 1.,  2.,  3.,  4.,  5.,  6.,  7.,  8.,  9., 10., 11.])"
      ]
     },
     "execution_count": 3,
     "metadata": {},
     "output_type": "execute_result"
    }
   ],
   "source": [
    "true_theta"
   ]
  },
  {
   "cell_type": "code",
   "execution_count": 4,
   "metadata": {},
   "outputs": [],
   "source": [
    "# 目标函数（损失函数），theta为待求解参数，Xb，y为目标函数的系数\n",
    "def J(theta, Xb, y):\n",
    "    try:\n",
    "        # return np.sum((y - Xb@theta)**2)/len(Xb)\n",
    "        # 使用完全向量化计算更快一点\n",
    "        tmp = y - Xb@theta\n",
    "        return (tmp@tmp)/len(Xb)\n",
    "    except:\n",
    "        return float('inf')"
   ]
  },
  {
   "cell_type": "code",
   "execution_count": 5,
   "metadata": {},
   "outputs": [],
   "source": [
    "def dJ_math(theta, Xb, y):\n",
    "    return Xb.T@(Xb@theta - y)*2/len(y)"
   ]
  },
  {
   "cell_type": "code",
   "execution_count": 6,
   "metadata": {},
   "outputs": [],
   "source": [
    "def dJ_debug(theta, Xb, y, epsilon=0.01):\n",
    "    res = np.empty(len(theta))\n",
    "    for i in range(len(theta)):\n",
    "        theta_1 = theta.copy()\n",
    "        theta_1[i] += epsilon\n",
    "        theta_2 = theta.copy()\n",
    "        theta_2[i] -= epsilon\n",
    "        res[i] = (J(theta_1, Xb, y) - J(theta_2, Xb, y)) / (2 * epsilon)\n",
    "    return res"
   ]
  },
  {
   "cell_type": "code",
   "execution_count": 7,
   "metadata": {},
   "outputs": [],
   "source": [
    " def gradient_descent(dJ, Xb, y, initial_theta, eta, n_iters = 1e4, epsilon=1e-8):\n",
    "    \n",
    "    theta = initial_theta\n",
    "    i_iter = 0\n",
    "\n",
    "    while i_iter < n_iters:\n",
    "        gradient = dJ(theta, Xb, y)\n",
    "        last_theta = theta\n",
    "\n",
    "        theta = theta - eta * gradient\n",
    "\n",
    "        if(abs(J(theta, Xb, y) - J(last_theta, Xb, y)) < epsilon):\n",
    "            break\n",
    "\n",
    "        i_iter += 1\n",
    "\n",
    "    return theta"
   ]
  },
  {
   "cell_type": "code",
   "execution_count": 8,
   "metadata": {},
   "outputs": [
    {
     "name": "stdout",
     "output_type": "stream",
     "text": [
      "CPU times: user 1.91 s, sys: 0 ns, total: 1.91 s\n",
      "Wall time: 2.06 s\n"
     ]
    },
    {
     "data": {
      "text/plain": [
       "array([ 1.1251597 ,  2.05312521,  2.91522497,  4.11895968,  5.05002117,\n",
       "        5.90494046,  6.97383745,  8.00088367,  8.86213468,  9.98608331,\n",
       "       10.90529198])"
      ]
     },
     "execution_count": 8,
     "metadata": {},
     "output_type": "execute_result"
    }
   ],
   "source": [
    "X_b = np.hstack([np.ones((len(X), 1)), X])\n",
    "initial_theta = np.zeros(X_b.shape[1])\n",
    "eta = 0.01\n",
    "\n",
    "%time theta = gradient_descent(dJ_debug, X_b, y, initial_theta, eta)\n",
    "theta"
   ]
  },
  {
   "cell_type": "code",
   "execution_count": 9,
   "metadata": {},
   "outputs": [
    {
     "name": "stdout",
     "output_type": "stream",
     "text": [
      "CPU times: user 281 ms, sys: 0 ns, total: 281 ms\n",
      "Wall time: 326 ms\n"
     ]
    },
    {
     "data": {
      "text/plain": [
       "array([ 1.1251597 ,  2.05312521,  2.91522497,  4.11895968,  5.05002117,\n",
       "        5.90494046,  6.97383745,  8.00088367,  8.86213468,  9.98608331,\n",
       "       10.90529198])"
      ]
     },
     "execution_count": 9,
     "metadata": {},
     "output_type": "execute_result"
    }
   ],
   "source": [
    "%time theta = gradient_descent(dJ_math, X_b, y, initial_theta, eta)\n",
    "theta"
   ]
  },
  {
   "cell_type": "code",
   "execution_count": null,
   "metadata": {},
   "outputs": [],
   "source": []
  }
 ],
 "metadata": {
  "kernelspec": {
   "display_name": "py3.6_meteorology_env",
   "language": "python",
   "name": "py3.6_meteorology_env"
  },
  "language_info": {
   "codemirror_mode": {
    "name": "ipython",
    "version": 3
   },
   "file_extension": ".py",
   "mimetype": "text/x-python",
   "name": "python",
   "nbconvert_exporter": "python",
   "pygments_lexer": "ipython3",
   "version": "3.6.8"
  }
 },
 "nbformat": 4,
 "nbformat_minor": 4
}
